{
 "cells": [
  {
   "cell_type": "markdown",
   "metadata": {},
   "source": [
    "# Estimations des paramètres GEV pour une même cellule\n",
    "\n",
    "Ce notebook analyse les paramètres GEV calculés pour des stations dans une même cellule. Chargeons d'abord les packages essentiels pour cette étude."
   ]
  },
  {
   "cell_type": "code",
   "execution_count": 1,
   "metadata": {},
   "outputs": [],
   "source": [
    "using CSV, DataFrames, Distributions, Random, StatsBase\n",
    "using Extremes, Dates, Gadfly\n",
    "using Optim\n",
    "\n",
    "using IDF\n",
    "\n",
    "import Plots #pour faire des graphiques"
   ]
  },
  {
   "cell_type": "code",
   "execution_count": 2,
   "metadata": {},
   "outputs": [
    {
     "data": {
      "text/plain": [
       "\"24 h\""
      ]
     },
     "execution_count": 2,
     "metadata": {},
     "output_type": "execute_result"
    }
   ],
   "source": [
    "PROVINCES = [\"NB\", \"NL\", \"NS\", \"ON\", \"PE\", \"QC\"]#provinces considerees\n",
    "\n",
    "DURATION = \"24 h\""
   ]
  },
  {
   "cell_type": "code",
   "execution_count": 3,
   "metadata": {},
   "outputs": [
    {
     "data": {
      "text/html": [
       "<table class=\"data-frame\"><thead><tr><th></th><th>Name</th><th>Province</th><th>ID</th><th>Lat</th><th>Lon</th><th>Elevation</th><th>GridCell</th></tr><tr><th></th><th>String</th><th>String</th><th>String</th><th>Float64</th><th>Float64</th><th>Int64</th><th>Int64</th></tr></thead><tbody><p>10 rows × 7 columns</p><tr><th>1</th><td>ROYAL ROAD</td><td>NB</td><td>8104480</td><td>46.05</td><td>-66.72</td><td>115</td><td>33632</td></tr><tr><th>2</th><td>ROYAL ROAD WEST</td><td>NB</td><td>8104482</td><td>46.08</td><td>-66.73</td><td>160</td><td>33632</td></tr><tr><th>3</th><td>PORT WELLER (AUT)</td><td>ON</td><td>6136699</td><td>43.25</td><td>-79.22</td><td>79</td><td>20197</td></tr><tr><th>4</th><td>ST CATHARINES A</td><td>ON</td><td>6137287</td><td>43.2</td><td>-79.17</td><td>97</td><td>20197</td></tr><tr><th>5</th><td>CAMBRIDGE GALT MOE</td><td>ON</td><td>6141095</td><td>43.33</td><td>-80.32</td><td>268</td><td>18645</td></tr><tr><th>6</th><td>PRESTON WPCP</td><td>ON</td><td>6146714</td><td>43.38</td><td>-80.35</td><td>272</td><td>18645</td></tr><tr><th>7</th><td>WATERLOO WELLINGTON A</td><td>ON</td><td>6149387</td><td>43.45</td><td>-80.38</td><td>317</td><td>18645</td></tr><tr><th>8</th><td>MAPLE</td><td>ON</td><td>6154950</td><td>43.87</td><td>-79.48</td><td>244</td><td>19620</td></tr><tr><th>9</th><td>TORONTO YORK MILLS</td><td>ON</td><td>615HHDF</td><td>43.75</td><td>-79.38</td><td>153</td><td>19620</td></tr><tr><th>10</th><td>TORONTO NORTH YORK</td><td>ON</td><td>615S001</td><td>43.78</td><td>-79.47</td><td>187</td><td>19620</td></tr></tbody></table>"
      ],
      "text/latex": [
       "\\begin{tabular}{r|ccccccc}\n",
       "\t& Name & Province & ID & Lat & Lon & Elevation & GridCell\\\\\n",
       "\t\\hline\n",
       "\t& String & String & String & Float64 & Float64 & Int64 & Int64\\\\\n",
       "\t\\hline\n",
       "\t1 & ROYAL ROAD & NB & 8104480 & 46.05 & -66.72 & 115 & 33632 \\\\\n",
       "\t2 & ROYAL ROAD WEST & NB & 8104482 & 46.08 & -66.73 & 160 & 33632 \\\\\n",
       "\t3 & PORT WELLER (AUT) & ON & 6136699 & 43.25 & -79.22 & 79 & 20197 \\\\\n",
       "\t4 & ST CATHARINES A & ON & 6137287 & 43.2 & -79.17 & 97 & 20197 \\\\\n",
       "\t5 & CAMBRIDGE GALT MOE & ON & 6141095 & 43.33 & -80.32 & 268 & 18645 \\\\\n",
       "\t6 & PRESTON WPCP & ON & 6146714 & 43.38 & -80.35 & 272 & 18645 \\\\\n",
       "\t7 & WATERLOO WELLINGTON A & ON & 6149387 & 43.45 & -80.38 & 317 & 18645 \\\\\n",
       "\t8 & MAPLE & ON & 6154950 & 43.87 & -79.48 & 244 & 19620 \\\\\n",
       "\t9 & TORONTO YORK MILLS & ON & 615HHDF & 43.75 & -79.38 & 153 & 19620 \\\\\n",
       "\t10 & TORONTO NORTH YORK & ON & 615S001 & 43.78 & -79.47 & 187 & 19620 \\\\\n",
       "\\end{tabular}\n"
      ],
      "text/plain": [
       "10×7 DataFrame. Omitted printing of 2 columns\n",
       "│ Row │ Name                  │ Province │ ID      │ Lat     │ Lon     │\n",
       "│     │ \u001b[90mString\u001b[39m                │ \u001b[90mString\u001b[39m   │ \u001b[90mString\u001b[39m  │ \u001b[90mFloat64\u001b[39m │ \u001b[90mFloat64\u001b[39m │\n",
       "├─────┼───────────────────────┼──────────┼─────────┼─────────┼─────────┤\n",
       "│ 1   │ ROYAL ROAD            │ NB       │ 8104480 │ 46.05   │ -66.72  │\n",
       "│ 2   │ ROYAL ROAD WEST       │ NB       │ 8104482 │ 46.08   │ -66.73  │\n",
       "│ 3   │ PORT WELLER (AUT)     │ ON       │ 6136699 │ 43.25   │ -79.22  │\n",
       "│ 4   │ ST CATHARINES A       │ ON       │ 6137287 │ 43.2    │ -79.17  │\n",
       "│ 5   │ CAMBRIDGE GALT MOE    │ ON       │ 6141095 │ 43.33   │ -80.32  │\n",
       "│ 6   │ PRESTON WPCP          │ ON       │ 6146714 │ 43.38   │ -80.35  │\n",
       "│ 7   │ WATERLOO WELLINGTON A │ ON       │ 6149387 │ 43.45   │ -80.38  │\n",
       "│ 8   │ MAPLE                 │ ON       │ 6154950 │ 43.87   │ -79.48  │\n",
       "│ 9   │ TORONTO YORK MILLS    │ ON       │ 615HHDF │ 43.75   │ -79.38  │\n",
       "│ 10  │ TORONTO NORTH YORK    │ ON       │ 615S001 │ 43.78   │ -79.47  │"
      ]
     },
     "execution_count": 3,
     "metadata": {},
     "output_type": "execute_result"
    }
   ],
   "source": [
    "same_cell = IDF.load_data(\"same_cell\")\n",
    "\n",
    "first(same_cell, 10)"
   ]
  },
  {
   "cell_type": "markdown",
   "metadata": {},
   "source": [
    "Créons la liste des numéros de cellules :"
   ]
  },
  {
   "cell_type": "code",
   "execution_count": 24,
   "metadata": {},
   "outputs": [
    {
     "data": {
      "text/plain": [
       "14-element Vector{Int64}:\n",
       " 33632\n",
       " 20197\n",
       " 18645\n",
       " 19620\n",
       " 19619\n",
       " 19813\n",
       " 19814\n",
       " 19621\n",
       " 28003\n",
       " 28002\n",
       " 25464\n",
       " 28572\n",
       " 26047\n",
       " 27434"
      ]
     },
     "execution_count": 24,
     "metadata": {},
     "output_type": "execute_result"
    }
   ],
   "source": [
    "cells = unique(same_cell[:, :GridCell])"
   ]
  },
  {
   "cell_type": "code",
   "execution_count": 19,
   "metadata": {},
   "outputs": [
    {
     "data": {
      "text/html": [
       "<table class=\"data-frame\"><thead><tr><th></th><th>Name</th><th>Province</th><th>ID</th><th>Lat</th><th>Lon</th><th>Elevation</th><th>GridCell</th></tr><tr><th></th><th>String</th><th>String</th><th>String</th><th>Float64</th><th>Float64</th><th>Int64</th><th>Int64</th></tr></thead><tbody><p>10 rows × 11 columns (omitted printing of 4 columns)</p><tr><th>1</th><td>ROYAL ROAD</td><td>NB</td><td>8104480</td><td>46.05</td><td>-66.72</td><td>115</td><td>33632</td></tr><tr><th>2</th><td>ROYAL ROAD WEST</td><td>NB</td><td>8104482</td><td>46.08</td><td>-66.73</td><td>160</td><td>33632</td></tr><tr><th>3</th><td>PORT WELLER (AUT)</td><td>ON</td><td>6136699</td><td>43.25</td><td>-79.22</td><td>79</td><td>20197</td></tr><tr><th>4</th><td>ST CATHARINES A</td><td>ON</td><td>6137287</td><td>43.2</td><td>-79.17</td><td>97</td><td>20197</td></tr><tr><th>5</th><td>CAMBRIDGE GALT MOE</td><td>ON</td><td>6141095</td><td>43.33</td><td>-80.32</td><td>268</td><td>18645</td></tr><tr><th>6</th><td>PRESTON WPCP</td><td>ON</td><td>6146714</td><td>43.38</td><td>-80.35</td><td>272</td><td>18645</td></tr><tr><th>7</th><td>WATERLOO WELLINGTON A</td><td>ON</td><td>6149387</td><td>43.45</td><td>-80.38</td><td>317</td><td>18645</td></tr><tr><th>8</th><td>MAPLE</td><td>ON</td><td>6154950</td><td>43.87</td><td>-79.48</td><td>244</td><td>19620</td></tr><tr><th>9</th><td>TORONTO YORK MILLS</td><td>ON</td><td>615HHDF</td><td>43.75</td><td>-79.38</td><td>153</td><td>19620</td></tr><tr><th>10</th><td>TORONTO NORTH YORK</td><td>ON</td><td>615S001</td><td>43.78</td><td>-79.47</td><td>187</td><td>19620</td></tr></tbody></table>"
      ],
      "text/latex": [
       "\\begin{tabular}{r|cccccccc}\n",
       "\t& Name & Province & ID & Lat & Lon & Elevation & GridCell & \\\\\n",
       "\t\\hline\n",
       "\t& String & String & String & Float64 & Float64 & Int64 & Int64 & \\\\\n",
       "\t\\hline\n",
       "\t1 & ROYAL ROAD & NB & 8104480 & 46.05 & -66.72 & 115 & 33632 & $\\dots$ \\\\\n",
       "\t2 & ROYAL ROAD WEST & NB & 8104482 & 46.08 & -66.73 & 160 & 33632 & $\\dots$ \\\\\n",
       "\t3 & PORT WELLER (AUT) & ON & 6136699 & 43.25 & -79.22 & 79 & 20197 & $\\dots$ \\\\\n",
       "\t4 & ST CATHARINES A & ON & 6137287 & 43.2 & -79.17 & 97 & 20197 & $\\dots$ \\\\\n",
       "\t5 & CAMBRIDGE GALT MOE & ON & 6141095 & 43.33 & -80.32 & 268 & 18645 & $\\dots$ \\\\\n",
       "\t6 & PRESTON WPCP & ON & 6146714 & 43.38 & -80.35 & 272 & 18645 & $\\dots$ \\\\\n",
       "\t7 & WATERLOO WELLINGTON A & ON & 6149387 & 43.45 & -80.38 & 317 & 18645 & $\\dots$ \\\\\n",
       "\t8 & MAPLE & ON & 6154950 & 43.87 & -79.48 & 244 & 19620 & $\\dots$ \\\\\n",
       "\t9 & TORONTO YORK MILLS & ON & 615HHDF & 43.75 & -79.38 & 153 & 19620 & $\\dots$ \\\\\n",
       "\t10 & TORONTO NORTH YORK & ON & 615S001 & 43.78 & -79.47 & 187 & 19620 & $\\dots$ \\\\\n",
       "\\end{tabular}\n"
      ],
      "text/plain": [
       "10×11 DataFrame. Omitted printing of 6 columns\n",
       "│ Row │ Name                  │ Province │ ID      │ Lat     │ Lon     │\n",
       "│     │ \u001b[90mString\u001b[39m                │ \u001b[90mString\u001b[39m   │ \u001b[90mString\u001b[39m  │ \u001b[90mFloat64\u001b[39m │ \u001b[90mFloat64\u001b[39m │\n",
       "├─────┼───────────────────────┼──────────┼─────────┼─────────┼─────────┤\n",
       "│ 1   │ ROYAL ROAD            │ NB       │ 8104480 │ 46.05   │ -66.72  │\n",
       "│ 2   │ ROYAL ROAD WEST       │ NB       │ 8104482 │ 46.08   │ -66.73  │\n",
       "│ 3   │ PORT WELLER (AUT)     │ ON       │ 6136699 │ 43.25   │ -79.22  │\n",
       "│ 4   │ ST CATHARINES A       │ ON       │ 6137287 │ 43.2    │ -79.17  │\n",
       "│ 5   │ CAMBRIDGE GALT MOE    │ ON       │ 6141095 │ 43.33   │ -80.32  │\n",
       "│ 6   │ PRESTON WPCP          │ ON       │ 6146714 │ 43.38   │ -80.35  │\n",
       "│ 7   │ WATERLOO WELLINGTON A │ ON       │ 6149387 │ 43.45   │ -80.38  │\n",
       "│ 8   │ MAPLE                 │ ON       │ 6154950 │ 43.87   │ -79.48  │\n",
       "│ 9   │ TORONTO YORK MILLS    │ ON       │ 615HHDF │ 43.75   │ -79.38  │\n",
       "│ 10  │ TORONTO NORTH YORK    │ ON       │ 615S001 │ 43.78   │ -79.47  │"
      ]
     },
     "execution_count": 19,
     "metadata": {},
     "output_type": "execute_result"
    }
   ],
   "source": [
    "parameters = CSV.read(\"C:/Users/leogu/Dropbox/Stage/Perso/Codes/Julia/results/parameters_ex_\"*DURATION*\".csv\", DataFrame)\n",
    "\n",
    "filter!(row -> row[:StationID] ∈ same_cell[:,:ID], parameters)\n",
    "\n",
    "same_cell[:μ] = parameters[:μₑ]\n",
    "same_cell[:ϕ] = parameters[:ϕₑ]\n",
    "same_cell[:ξ] = parameters[:ξₑ]\n",
    "same_cell[:BIC] = parameters[:BIC]\n",
    "\n",
    "\n",
    "first(same_cell, 10)"
   ]
  },
  {
   "cell_type": "code",
   "execution_count": null,
   "metadata": {},
   "outputs": [],
   "source": []
  },
  {
   "cell_type": "markdown",
   "metadata": {},
   "source": [
    "On a les données déjà obtenues pour les stations séparément, maintenant essayons de voir ce que l'on obtient en considérant toutes les données simultanées pour une même cellule. Commençons par extraire les données adéquates :"
   ]
  },
  {
   "cell_type": "code",
   "execution_count": 26,
   "metadata": {},
   "outputs": [
    {
     "data": {
      "text/html": [
       "<table class=\"data-frame\"><thead><tr><th></th><th>StationName</th><th>StationID</th><th>GridCell</th><th>Year</th><th>Duration</th><th>Pcp</th></tr><tr><th></th><th>String</th><th>String</th><th>Int64</th><th>Int64</th><th>String</th><th>Float64</th></tr></thead><tbody><p>10 rows × 6 columns</p><tr><th>1</th><td>ROYAL ROAD</td><td>8104480</td><td>33632</td><td>1966</td><td>24 h</td><td>49.0</td></tr><tr><th>2</th><td>ROYAL ROAD</td><td>8104480</td><td>33632</td><td>1967</td><td>24 h</td><td>51.8</td></tr><tr><th>3</th><td>ROYAL ROAD</td><td>8104480</td><td>33632</td><td>1968</td><td>24 h</td><td>57.1</td></tr><tr><th>4</th><td>ROYAL ROAD</td><td>8104480</td><td>33632</td><td>1969</td><td>24 h</td><td>84.6</td></tr><tr><th>5</th><td>ROYAL ROAD</td><td>8104480</td><td>33632</td><td>1970</td><td>24 h</td><td>79.5</td></tr><tr><th>6</th><td>ROYAL ROAD</td><td>8104480</td><td>33632</td><td>1971</td><td>24 h</td><td>49.8</td></tr><tr><th>7</th><td>ROYAL ROAD</td><td>8104480</td><td>33632</td><td>1972</td><td>24 h</td><td>49.5</td></tr><tr><th>8</th><td>ROYAL ROAD</td><td>8104480</td><td>33632</td><td>1973</td><td>24 h</td><td>68.8</td></tr><tr><th>9</th><td>ROYAL ROAD</td><td>8104480</td><td>33632</td><td>1974</td><td>24 h</td><td>38.6</td></tr><tr><th>10</th><td>ROYAL ROAD</td><td>8104480</td><td>33632</td><td>1975</td><td>24 h</td><td>39.1</td></tr></tbody></table>"
      ],
      "text/latex": [
       "\\begin{tabular}{r|cccccc}\n",
       "\t& StationName & StationID & GridCell & Year & Duration & Pcp\\\\\n",
       "\t\\hline\n",
       "\t& String & String & Int64 & Int64 & String & Float64\\\\\n",
       "\t\\hline\n",
       "\t1 & ROYAL ROAD & 8104480 & 33632 & 1966 & 24 h & 49.0 \\\\\n",
       "\t2 & ROYAL ROAD & 8104480 & 33632 & 1967 & 24 h & 51.8 \\\\\n",
       "\t3 & ROYAL ROAD & 8104480 & 33632 & 1968 & 24 h & 57.1 \\\\\n",
       "\t4 & ROYAL ROAD & 8104480 & 33632 & 1969 & 24 h & 84.6 \\\\\n",
       "\t5 & ROYAL ROAD & 8104480 & 33632 & 1970 & 24 h & 79.5 \\\\\n",
       "\t6 & ROYAL ROAD & 8104480 & 33632 & 1971 & 24 h & 49.8 \\\\\n",
       "\t7 & ROYAL ROAD & 8104480 & 33632 & 1972 & 24 h & 49.5 \\\\\n",
       "\t8 & ROYAL ROAD & 8104480 & 33632 & 1973 & 24 h & 68.8 \\\\\n",
       "\t9 & ROYAL ROAD & 8104480 & 33632 & 1974 & 24 h & 38.6 \\\\\n",
       "\t10 & ROYAL ROAD & 8104480 & 33632 & 1975 & 24 h & 39.1 \\\\\n",
       "\\end{tabular}\n"
      ],
      "text/plain": [
       "10×6 DataFrame\n",
       "│ Row │ StationName │ StationID │ GridCell │ Year  │ Duration │ Pcp     │\n",
       "│     │ \u001b[90mString\u001b[39m      │ \u001b[90mString\u001b[39m    │ \u001b[90mInt64\u001b[39m    │ \u001b[90mInt64\u001b[39m │ \u001b[90mString\u001b[39m   │ \u001b[90mFloat64\u001b[39m │\n",
       "├─────┼─────────────┼───────────┼──────────┼───────┼──────────┼─────────┤\n",
       "│ 1   │ ROYAL ROAD  │ 8104480   │ 33632    │ 1966  │ 24 h     │ 49.0    │\n",
       "│ 2   │ ROYAL ROAD  │ 8104480   │ 33632    │ 1967  │ 24 h     │ 51.8    │\n",
       "│ 3   │ ROYAL ROAD  │ 8104480   │ 33632    │ 1968  │ 24 h     │ 57.1    │\n",
       "│ 4   │ ROYAL ROAD  │ 8104480   │ 33632    │ 1969  │ 24 h     │ 84.6    │\n",
       "│ 5   │ ROYAL ROAD  │ 8104480   │ 33632    │ 1970  │ 24 h     │ 79.5    │\n",
       "│ 6   │ ROYAL ROAD  │ 8104480   │ 33632    │ 1971  │ 24 h     │ 49.8    │\n",
       "│ 7   │ ROYAL ROAD  │ 8104480   │ 33632    │ 1972  │ 24 h     │ 49.5    │\n",
       "│ 8   │ ROYAL ROAD  │ 8104480   │ 33632    │ 1973  │ 24 h     │ 68.8    │\n",
       "│ 9   │ ROYAL ROAD  │ 8104480   │ 33632    │ 1974  │ 24 h     │ 38.6    │\n",
       "│ 10  │ ROYAL ROAD  │ 8104480   │ 33632    │ 1975  │ 24 h     │ 39.1    │"
      ]
     },
     "execution_count": 26,
     "metadata": {},
     "output_type": "execute_result"
    }
   ],
   "source": [
    "dat = DataFrame(StationName = String[],\n",
    "                StationID = String[],\n",
    "                GridCell = Int64[],\n",
    "                Year = Int64[],\n",
    "                Duration = String[],\n",
    "                Pcp = Float64[])\n",
    "\n",
    "for i in 1:(nrow(same_cell))\n",
    "    df = load_station(same_cell[i,:ID])\n",
    "    df[!, :StationName] .= same_cell[i,:Name]\n",
    "    df[!, :StationID] .= same_cell[i, :ID]\n",
    "    df[!, :GridCell] .= same_cell[i, :GridCell]\n",
    "    append!(dat, df)\n",
    "end\n",
    "\n",
    "filter!(row -> row[:Duration] == DURATION, dat)\n",
    "\n",
    "first(dat, 10)"
   ]
  },
  {
   "cell_type": "markdown",
   "metadata": {},
   "source": [
    "Ensuite, rentrons les paramètres GEV pour chaque cellule :"
   ]
  },
  {
   "cell_type": "code",
   "execution_count": 27,
   "metadata": {},
   "outputs": [
    {
     "data": {
      "text/html": [
       "<table class=\"data-frame\"><thead><tr><th></th><th>GridCell</th><th>μ</th><th>ϕ</th><th>ξ</th><th>BIC</th></tr><tr><th></th><th>Int64</th><th>Float64</th><th>Float64</th><th>Float64</th><th>Float64</th></tr></thead><tbody><p>14 rows × 5 columns</p><tr><th>1</th><td>33632</td><td>49.3909</td><td>2.4936</td><td>0.128704</td><td>326.133</td></tr><tr><th>2</th><td>20197</td><td>43.8642</td><td>2.43295</td><td>-0.0370084</td><td>403.442</td></tr><tr><th>3</th><td>18645</td><td>47.5664</td><td>2.52282</td><td>0.0529783</td><td>608.506</td></tr><tr><th>4</th><td>19620</td><td>38.6082</td><td>2.5676</td><td>0.0597505</td><td>470.269</td></tr><tr><th>5</th><td>19619</td><td>40.2431</td><td>2.31697</td><td>0.162691</td><td>763.872</td></tr><tr><th>6</th><td>19813</td><td>38.4133</td><td>2.2714</td><td>0.119748</td><td>435.511</td></tr><tr><th>7</th><td>19814</td><td>39.1403</td><td>2.04699</td><td>0.0727439</td><td>281.94</td></tr><tr><th>8</th><td>19621</td><td>39.6257</td><td>2.39101</td><td>0.122522</td><td>260.868</td></tr><tr><th>9</th><td>28003</td><td>52.7117</td><td>2.71039</td><td>0.0473589</td><td>660.297</td></tr><tr><th>10</th><td>28002</td><td>54.8539</td><td>2.67298</td><td>-0.432372</td><td>461.107</td></tr><tr><th>11</th><td>25464</td><td>44.806</td><td>2.52096</td><td>-0.0607703</td><td>377.146</td></tr><tr><th>12</th><td>28572</td><td>42.4067</td><td>2.19789</td><td>0.0878301</td><td>254.981</td></tr><tr><th>13</th><td>26047</td><td>45.3859</td><td>2.46828</td><td>0.071592</td><td>527.818</td></tr><tr><th>14</th><td>27434</td><td>39.8447</td><td>2.42668</td><td>0.0303629</td><td>495.045</td></tr></tbody></table>"
      ],
      "text/latex": [
       "\\begin{tabular}{r|ccccc}\n",
       "\t& GridCell & μ & ϕ & ξ & BIC\\\\\n",
       "\t\\hline\n",
       "\t& Int64 & Float64 & Float64 & Float64 & Float64\\\\\n",
       "\t\\hline\n",
       "\t1 & 33632 & 49.3909 & 2.4936 & 0.128704 & 326.133 \\\\\n",
       "\t2 & 20197 & 43.8642 & 2.43295 & -0.0370084 & 403.442 \\\\\n",
       "\t3 & 18645 & 47.5664 & 2.52282 & 0.0529783 & 608.506 \\\\\n",
       "\t4 & 19620 & 38.6082 & 2.5676 & 0.0597505 & 470.269 \\\\\n",
       "\t5 & 19619 & 40.2431 & 2.31697 & 0.162691 & 763.872 \\\\\n",
       "\t6 & 19813 & 38.4133 & 2.2714 & 0.119748 & 435.511 \\\\\n",
       "\t7 & 19814 & 39.1403 & 2.04699 & 0.0727439 & 281.94 \\\\\n",
       "\t8 & 19621 & 39.6257 & 2.39101 & 0.122522 & 260.868 \\\\\n",
       "\t9 & 28003 & 52.7117 & 2.71039 & 0.0473589 & 660.297 \\\\\n",
       "\t10 & 28002 & 54.8539 & 2.67298 & -0.432372 & 461.107 \\\\\n",
       "\t11 & 25464 & 44.806 & 2.52096 & -0.0607703 & 377.146 \\\\\n",
       "\t12 & 28572 & 42.4067 & 2.19789 & 0.0878301 & 254.981 \\\\\n",
       "\t13 & 26047 & 45.3859 & 2.46828 & 0.071592 & 527.818 \\\\\n",
       "\t14 & 27434 & 39.8447 & 2.42668 & 0.0303629 & 495.045 \\\\\n",
       "\\end{tabular}\n"
      ],
      "text/plain": [
       "14×5 DataFrame\n",
       "│ Row │ GridCell │ μ       │ ϕ       │ ξ          │ BIC     │\n",
       "│     │ \u001b[90mInt64\u001b[39m    │ \u001b[90mFloat64\u001b[39m │ \u001b[90mFloat64\u001b[39m │ \u001b[90mFloat64\u001b[39m    │ \u001b[90mFloat64\u001b[39m │\n",
       "├─────┼──────────┼─────────┼─────────┼────────────┼─────────┤\n",
       "│ 1   │ 33632    │ 49.3909 │ 2.4936  │ 0.128704   │ 326.133 │\n",
       "│ 2   │ 20197    │ 43.8642 │ 2.43295 │ -0.0370084 │ 403.442 │\n",
       "│ 3   │ 18645    │ 47.5664 │ 2.52282 │ 0.0529783  │ 608.506 │\n",
       "│ 4   │ 19620    │ 38.6082 │ 2.5676  │ 0.0597505  │ 470.269 │\n",
       "│ 5   │ 19619    │ 40.2431 │ 2.31697 │ 0.162691   │ 763.872 │\n",
       "│ 6   │ 19813    │ 38.4133 │ 2.2714  │ 0.119748   │ 435.511 │\n",
       "│ 7   │ 19814    │ 39.1403 │ 2.04699 │ 0.0727439  │ 281.94  │\n",
       "│ 8   │ 19621    │ 39.6257 │ 2.39101 │ 0.122522   │ 260.868 │\n",
       "│ 9   │ 28003    │ 52.7117 │ 2.71039 │ 0.0473589  │ 660.297 │\n",
       "│ 10  │ 28002    │ 54.8539 │ 2.67298 │ -0.432372  │ 461.107 │\n",
       "│ 11  │ 25464    │ 44.806  │ 2.52096 │ -0.0607703 │ 377.146 │\n",
       "│ 12  │ 28572    │ 42.4067 │ 2.19789 │ 0.0878301  │ 254.981 │\n",
       "│ 13  │ 26047    │ 45.3859 │ 2.46828 │ 0.071592   │ 527.818 │\n",
       "│ 14  │ 27434    │ 39.8447 │ 2.42668 │ 0.0303629  │ 495.045 │"
      ]
     },
     "execution_count": 27,
     "metadata": {},
     "output_type": "execute_result"
    }
   ],
   "source": [
    "parameters_cell = DataFrame(GridCell = Int64[],\n",
    "                            μ = Float64[],\n",
    "                            ϕ = Float64[],\n",
    "                            ξ = Float64[],\n",
    "                            BIC = Float64[])\n",
    "\n",
    "# fonction pour avoir directement les precipitations de toutes une meme cellule sous forme de vecteur\n",
    "function Pcp_cell(cell::Int64)\n",
    "    y = dat[dat[:,:GridCell].== cell,:Pcp]\n",
    "    return y\n",
    "end\n",
    "\n",
    "for cell in cells\n",
    "    y = Pcp_cell(cell)\n",
    "    \n",
    "    μ = mean(y)\n",
    "    ϕ = log(std(y))\n",
    "    ξ = 0\n",
    "    \n",
    "    p = [μ, ϕ, ξ]\n",
    "    \n",
    "    try\n",
    "        p = gevfit(y).θ̂\n",
    "    catch\n",
    "        println(\"L'algorithme n'a pas convergé\")\n",
    "    end\n",
    "    \n",
    "    df = DataFrame(GridCell = cell,\n",
    "                    μ = p[1],\n",
    "                    ϕ = p[2],\n",
    "                    ξ = p[3],\n",
    "                    BIC = BIC_GEV(y))\n",
    "    append!(parameters_cell, df)\n",
    "end\n",
    "\n",
    "CSV.write(\"results/parameters_cells_$DURATION.csv\", parameters_cell)\n",
    "\n",
    "parameters_cell"
   ]
  },
  {
   "cell_type": "markdown",
   "metadata": {},
   "source": [
    "Enfin, entrons les différences entre les paramètres indépendants et ceux obtenus par concaténation des données :"
   ]
  },
  {
   "cell_type": "code",
   "execution_count": 8,
   "metadata": {},
   "outputs": [
    {
     "data": {
      "text/html": [
       "<table class=\"data-frame\"><thead><tr><th></th><th>StationName</th><th>StationID</th><th>GridCell</th><th>δμ</th><th>δϕ</th><th>δξ</th></tr><tr><th></th><th>String</th><th>String</th><th>Int64</th><th>Float64</th><th>Float64</th><th>Float64</th></tr></thead><tbody><p>10 rows × 6 columns</p><tr><th>1</th><td>ROYAL ROAD</td><td>8104480</td><td>33632</td><td>0.012361</td><td>-0.418667</td><td>0.885022</td></tr><tr><th>2</th><td>ROYAL ROAD WEST</td><td>8104482</td><td>33632</td><td>-8.70694</td><td>-0.0931592</td><td>-0.207384</td></tr><tr><th>3</th><td>PORT WELLER (AUT)</td><td>6136699</td><td>20197</td><td>10.9346</td><td>0.173824</td><td>-0.149204</td></tr><tr><th>4</th><td>ST CATHARINES A</td><td>6137287</td><td>20197</td><td>4.49942</td><td>0.226454</td><td>0.0508576</td></tr><tr><th>5</th><td>CAMBRIDGE GALT MOE</td><td>6141095</td><td>18645</td><td>1.70308</td><td>0.234921</td><td>0.0296546</td></tr><tr><th>6</th><td>PRESTON WPCP</td><td>6146714</td><td>18645</td><td>4.06941</td><td>0.381918</td><td>-0.427691</td></tr><tr><th>7</th><td>WATERLOO WELLINGTON A</td><td>6149387</td><td>18645</td><td>13.1245</td><td>0.882951</td><td>-0.0529783</td></tr><tr><th>8</th><td>MAPLE</td><td>6154950</td><td>19620</td><td>16.6704</td><td>0.16761</td><td>-0.0641418</td></tr><tr><th>9</th><td>TORONTO YORK MILLS</td><td>615HHDF</td><td>19620</td><td>12.8376</td><td>0.291518</td><td>-0.00849026</td></tr><tr><th>10</th><td>TORONTO NORTH YORK</td><td>615S001</td><td>19620</td><td>10.2415</td><td>-0.0578067</td><td>0.0828874</td></tr></tbody></table>"
      ],
      "text/latex": [
       "\\begin{tabular}{r|cccccc}\n",
       "\t& StationName & StationID & GridCell & δμ & δϕ & δξ\\\\\n",
       "\t\\hline\n",
       "\t& String & String & Int64 & Float64 & Float64 & Float64\\\\\n",
       "\t\\hline\n",
       "\t1 & ROYAL ROAD & 8104480 & 33632 & 0.012361 & -0.418667 & 0.885022 \\\\\n",
       "\t2 & ROYAL ROAD WEST & 8104482 & 33632 & -8.70694 & -0.0931592 & -0.207384 \\\\\n",
       "\t3 & PORT WELLER (AUT) & 6136699 & 20197 & 10.9346 & 0.173824 & -0.149204 \\\\\n",
       "\t4 & ST CATHARINES A & 6137287 & 20197 & 4.49942 & 0.226454 & 0.0508576 \\\\\n",
       "\t5 & CAMBRIDGE GALT MOE & 6141095 & 18645 & 1.70308 & 0.234921 & 0.0296546 \\\\\n",
       "\t6 & PRESTON WPCP & 6146714 & 18645 & 4.06941 & 0.381918 & -0.427691 \\\\\n",
       "\t7 & WATERLOO WELLINGTON A & 6149387 & 18645 & 13.1245 & 0.882951 & -0.0529783 \\\\\n",
       "\t8 & MAPLE & 6154950 & 19620 & 16.6704 & 0.16761 & -0.0641418 \\\\\n",
       "\t9 & TORONTO YORK MILLS & 615HHDF & 19620 & 12.8376 & 0.291518 & -0.00849026 \\\\\n",
       "\t10 & TORONTO NORTH YORK & 615S001 & 19620 & 10.2415 & -0.0578067 & 0.0828874 \\\\\n",
       "\\end{tabular}\n"
      ],
      "text/plain": [
       "10×6 DataFrame. Omitted printing of 1 columns\n",
       "│ Row │ StationName           │ StationID │ GridCell │ δμ       │ δϕ         │\n",
       "│     │ \u001b[90mString\u001b[39m                │ \u001b[90mString\u001b[39m    │ \u001b[90mInt64\u001b[39m    │ \u001b[90mFloat64\u001b[39m  │ \u001b[90mFloat64\u001b[39m    │\n",
       "├─────┼───────────────────────┼───────────┼──────────┼──────────┼────────────┤\n",
       "│ 1   │ ROYAL ROAD            │ 8104480   │ 33632    │ 0.012361 │ -0.418667  │\n",
       "│ 2   │ ROYAL ROAD WEST       │ 8104482   │ 33632    │ -8.70694 │ -0.0931592 │\n",
       "│ 3   │ PORT WELLER (AUT)     │ 6136699   │ 20197    │ 10.9346  │ 0.173824   │\n",
       "│ 4   │ ST CATHARINES A       │ 6137287   │ 20197    │ 4.49942  │ 0.226454   │\n",
       "│ 5   │ CAMBRIDGE GALT MOE    │ 6141095   │ 18645    │ 1.70308  │ 0.234921   │\n",
       "│ 6   │ PRESTON WPCP          │ 6146714   │ 18645    │ 4.06941  │ 0.381918   │\n",
       "│ 7   │ WATERLOO WELLINGTON A │ 6149387   │ 18645    │ 13.1245  │ 0.882951   │\n",
       "│ 8   │ MAPLE                 │ 6154950   │ 19620    │ 16.6704  │ 0.16761    │\n",
       "│ 9   │ TORONTO YORK MILLS    │ 615HHDF   │ 19620    │ 12.8376  │ 0.291518   │\n",
       "│ 10  │ TORONTO NORTH YORK    │ 615S001   │ 19620    │ 10.2415  │ -0.0578067 │"
      ]
     },
     "execution_count": 8,
     "metadata": {},
     "output_type": "execute_result"
    }
   ],
   "source": [
    "parameters_δ = DataFrame(StationName = String[],\n",
    "                        StationID = String[],\n",
    "                        GridCell = Int64[],\n",
    "                        δμ = Float64[],\n",
    "                        δϕ = Float64[],\n",
    "                        δξ = Float64[])\n",
    "\n",
    "for i in 1:(nrow(same_cell))\n",
    "    row_cell = filter(row -> row[:GridCell] == same_cell[i, :GridCell], parameters_cell)\n",
    "    df = DataFrame(StationName = same_cell[i, :Name],\n",
    "                    StationID = same_cell[i, :ID],\n",
    "                    GridCell = same_cell[i, :GridCell],\n",
    "                    δμ = parameters[i, :μₒ] - row_cell[:1, :μ],\n",
    "                    δϕ = parameters[i, :ϕₒ] - row_cell[:1, :ϕ],\n",
    "                    δξ = parameters[i, :ξₒ] - row_cell[:1, :ξ])\n",
    "    \n",
    "    append!(parameters_δ, df)\n",
    "end\n",
    "\n",
    "CSV.write(\"results/parameters_diffcell_$DURATION.csv\", parameters_δ)\n",
    "first(parameters_δ, 10)"
   ]
  },
  {
   "cell_type": "markdown",
   "metadata": {},
   "source": [
    "Ensuite, nous allons comparer les BIC calculés sur les cellules et les BIC sur les stations indépendamment"
   ]
  },
  {
   "cell_type": "code",
   "execution_count": 36,
   "metadata": {},
   "outputs": [
    {
     "data": {
      "text/html": [
       "<table class=\"data-frame\"><thead><tr><th></th><th>GridCell</th><th>μ</th><th>ϕ</th><th>ξ</th><th>BIC</th><th>BIC_ind</th><th>BIC_diff</th></tr><tr><th></th><th>Int64</th><th>Float64</th><th>Float64</th><th>Float64</th><th>Float64</th><th>Any</th><th>Float64</th></tr></thead><tbody><p>14 rows × 7 columns</p><tr><th>1</th><td>33632</td><td>49.3909</td><td>2.4936</td><td>0.128704</td><td>326.133</td><td>332.075</td><td>-5.94165</td></tr><tr><th>2</th><td>20197</td><td>43.8642</td><td>2.43295</td><td>-0.0370084</td><td>403.442</td><td>409.369</td><td>-5.92731</td></tr><tr><th>3</th><td>18645</td><td>47.5664</td><td>2.52282</td><td>0.0529783</td><td>608.506</td><td>619.197</td><td>-10.6908</td></tr><tr><th>4</th><td>19620</td><td>38.6082</td><td>2.5676</td><td>0.0597505</td><td>470.269</td><td>891.257</td><td>-420.988</td></tr><tr><th>5</th><td>19619</td><td>40.2431</td><td>2.31697</td><td>0.162691</td><td>763.872</td><td>327.251</td><td>436.62</td></tr><tr><th>6</th><td>19813</td><td>38.4133</td><td>2.2714</td><td>0.119748</td><td>435.511</td><td>383.686</td><td>51.8251</td></tr><tr><th>7</th><td>19814</td><td>39.1403</td><td>2.04699</td><td>0.0727439</td><td>281.94</td><td>202.191</td><td>79.749</td></tr><tr><th>8</th><td>19621</td><td>39.6257</td><td>2.39101</td><td>0.122522</td><td>260.868</td><td>431.916</td><td>-171.048</td></tr><tr><th>9</th><td>28003</td><td>52.7117</td><td>2.71039</td><td>0.0473589</td><td>660.297</td><td>672.043</td><td>-11.7463</td></tr><tr><th>10</th><td>28002</td><td>54.8539</td><td>2.67298</td><td>-0.432372</td><td>461.107</td><td>539.366</td><td>-78.2588</td></tr><tr><th>11</th><td>25464</td><td>44.806</td><td>2.52096</td><td>-0.0607703</td><td>377.146</td><td>301.1</td><td>76.0468</td></tr><tr><th>12</th><td>28572</td><td>42.4067</td><td>2.19789</td><td>0.0878301</td><td>254.981</td><td>259.766</td><td>-4.78574</td></tr><tr><th>13</th><td>26047</td><td>45.3859</td><td>2.46828</td><td>0.071592</td><td>527.818</td><td>540.675</td><td>-12.8575</td></tr><tr><th>14</th><td>27434</td><td>39.8447</td><td>2.42668</td><td>0.0303629</td><td>495.045</td><td>499.076</td><td>-4.03178</td></tr></tbody></table>"
      ],
      "text/latex": [
       "\\begin{tabular}{r|ccccccc}\n",
       "\t& GridCell & μ & ϕ & ξ & BIC & BIC\\_ind & BIC\\_diff\\\\\n",
       "\t\\hline\n",
       "\t& Int64 & Float64 & Float64 & Float64 & Float64 & Any & Float64\\\\\n",
       "\t\\hline\n",
       "\t1 & 33632 & 49.3909 & 2.4936 & 0.128704 & 326.133 & 332.075 & -5.94165 \\\\\n",
       "\t2 & 20197 & 43.8642 & 2.43295 & -0.0370084 & 403.442 & 409.369 & -5.92731 \\\\\n",
       "\t3 & 18645 & 47.5664 & 2.52282 & 0.0529783 & 608.506 & 619.197 & -10.6908 \\\\\n",
       "\t4 & 19620 & 38.6082 & 2.5676 & 0.0597505 & 470.269 & 891.257 & -420.988 \\\\\n",
       "\t5 & 19619 & 40.2431 & 2.31697 & 0.162691 & 763.872 & 327.251 & 436.62 \\\\\n",
       "\t6 & 19813 & 38.4133 & 2.2714 & 0.119748 & 435.511 & 383.686 & 51.8251 \\\\\n",
       "\t7 & 19814 & 39.1403 & 2.04699 & 0.0727439 & 281.94 & 202.191 & 79.749 \\\\\n",
       "\t8 & 19621 & 39.6257 & 2.39101 & 0.122522 & 260.868 & 431.916 & -171.048 \\\\\n",
       "\t9 & 28003 & 52.7117 & 2.71039 & 0.0473589 & 660.297 & 672.043 & -11.7463 \\\\\n",
       "\t10 & 28002 & 54.8539 & 2.67298 & -0.432372 & 461.107 & 539.366 & -78.2588 \\\\\n",
       "\t11 & 25464 & 44.806 & 2.52096 & -0.0607703 & 377.146 & 301.1 & 76.0468 \\\\\n",
       "\t12 & 28572 & 42.4067 & 2.19789 & 0.0878301 & 254.981 & 259.766 & -4.78574 \\\\\n",
       "\t13 & 26047 & 45.3859 & 2.46828 & 0.071592 & 527.818 & 540.675 & -12.8575 \\\\\n",
       "\t14 & 27434 & 39.8447 & 2.42668 & 0.0303629 & 495.045 & 499.076 & -4.03178 \\\\\n",
       "\\end{tabular}\n"
      ],
      "text/plain": [
       "14×7 DataFrame. Omitted printing of 1 columns\n",
       "│ Row │ GridCell │ μ       │ ϕ       │ ξ          │ BIC     │ BIC_ind │\n",
       "│     │ \u001b[90mInt64\u001b[39m    │ \u001b[90mFloat64\u001b[39m │ \u001b[90mFloat64\u001b[39m │ \u001b[90mFloat64\u001b[39m    │ \u001b[90mFloat64\u001b[39m │ \u001b[90mAny\u001b[39m     │\n",
       "├─────┼──────────┼─────────┼─────────┼────────────┼─────────┼─────────┤\n",
       "│ 1   │ 33632    │ 49.3909 │ 2.4936  │ 0.128704   │ 326.133 │ 332.075 │\n",
       "│ 2   │ 20197    │ 43.8642 │ 2.43295 │ -0.0370084 │ 403.442 │ 409.369 │\n",
       "│ 3   │ 18645    │ 47.5664 │ 2.52282 │ 0.0529783  │ 608.506 │ 619.197 │\n",
       "│ 4   │ 19620    │ 38.6082 │ 2.5676  │ 0.0597505  │ 470.269 │ 891.257 │\n",
       "│ 5   │ 19619    │ 40.2431 │ 2.31697 │ 0.162691   │ 763.872 │ 327.251 │\n",
       "│ 6   │ 19813    │ 38.4133 │ 2.2714  │ 0.119748   │ 435.511 │ 383.686 │\n",
       "│ 7   │ 19814    │ 39.1403 │ 2.04699 │ 0.0727439  │ 281.94  │ 202.191 │\n",
       "│ 8   │ 19621    │ 39.6257 │ 2.39101 │ 0.122522   │ 260.868 │ 431.916 │\n",
       "│ 9   │ 28003    │ 52.7117 │ 2.71039 │ 0.0473589  │ 660.297 │ 672.043 │\n",
       "│ 10  │ 28002    │ 54.8539 │ 2.67298 │ -0.432372  │ 461.107 │ 539.366 │\n",
       "│ 11  │ 25464    │ 44.806  │ 2.52096 │ -0.0607703 │ 377.146 │ 301.1   │\n",
       "│ 12  │ 28572    │ 42.4067 │ 2.19789 │ 0.0878301  │ 254.981 │ 259.766 │\n",
       "│ 13  │ 26047    │ 45.3859 │ 2.46828 │ 0.071592   │ 527.818 │ 540.675 │\n",
       "│ 14  │ 27434    │ 39.8447 │ 2.42668 │ 0.0303629  │ 495.045 │ 499.076 │"
      ]
     },
     "execution_count": 36,
     "metadata": {},
     "output_type": "execute_result"
    }
   ],
   "source": [
    "BIC = []\n",
    "\n",
    "for i in 1:(nrow(parameters_cell))\n",
    "    stations = filter(row -> row[:GridCell] == parameters_cell[i, :GridCell], same_cell)\n",
    "    s = sum(stations[:BIC])\n",
    "    append!(BIC, s)\n",
    "end\n",
    "\n",
    "parameters_cell[:BIC_ind] = BIC\n",
    "parameters_cell[:BIC_diff] = parameters_cell[:BIC] - parameters_cell[:BIC_ind]\n",
    "\n",
    "parameters_cell"
   ]
  },
  {
   "cell_type": "code",
   "execution_count": 29,
   "metadata": {},
   "outputs": [
    {
     "data": {
      "text/html": [
       "<table class=\"data-frame\"><thead><tr><th></th><th>Name</th><th>Province</th><th>ID</th><th>Lat</th><th>Lon</th><th>Elevation</th><th>GridCell</th><th>μ</th></tr><tr><th></th><th>String</th><th>String</th><th>String</th><th>Float64</th><th>Float64</th><th>Int64</th><th>Int64</th><th>Float64</th></tr></thead><tbody><p>2 rows × 11 columns (omitted printing of 3 columns)</p><tr><th>1</th><td>ROYAL ROAD</td><td>NB</td><td>8104480</td><td>46.05</td><td>-66.72</td><td>115</td><td>33632</td><td>48.8501</td></tr><tr><th>2</th><td>ROYAL ROAD WEST</td><td>NB</td><td>8104482</td><td>46.08</td><td>-66.73</td><td>160</td><td>33632</td><td>50.1493</td></tr></tbody></table>"
      ],
      "text/latex": [
       "\\begin{tabular}{r|ccccccccc}\n",
       "\t& Name & Province & ID & Lat & Lon & Elevation & GridCell & μ & \\\\\n",
       "\t\\hline\n",
       "\t& String & String & String & Float64 & Float64 & Int64 & Int64 & Float64 & \\\\\n",
       "\t\\hline\n",
       "\t1 & ROYAL ROAD & NB & 8104480 & 46.05 & -66.72 & 115 & 33632 & 48.8501 & $\\dots$ \\\\\n",
       "\t2 & ROYAL ROAD WEST & NB & 8104482 & 46.08 & -66.73 & 160 & 33632 & 50.1493 & $\\dots$ \\\\\n",
       "\\end{tabular}\n"
      ],
      "text/plain": [
       "2×11 DataFrame. Omitted printing of 5 columns\n",
       "│ Row │ Name            │ Province │ ID      │ Lat     │ Lon     │ Elevation │\n",
       "│     │ \u001b[90mString\u001b[39m          │ \u001b[90mString\u001b[39m   │ \u001b[90mString\u001b[39m  │ \u001b[90mFloat64\u001b[39m │ \u001b[90mFloat64\u001b[39m │ \u001b[90mInt64\u001b[39m     │\n",
       "├─────┼─────────────────┼──────────┼─────────┼─────────┼─────────┼───────────┤\n",
       "│ 1   │ ROYAL ROAD      │ NB       │ 8104480 │ 46.05   │ -66.72  │ 115       │\n",
       "│ 2   │ ROYAL ROAD WEST │ NB       │ 8104482 │ 46.08   │ -66.73  │ 160       │"
      ]
     },
     "execution_count": 29,
     "metadata": {},
     "output_type": "execute_result"
    }
   ],
   "source": [
    "stations = filter(row -> row[:GridCell] == parameters_cell[1, :GridCell], same_cell)"
   ]
  },
  {
   "cell_type": "code",
   "execution_count": 30,
   "metadata": {},
   "outputs": [
    {
     "data": {
      "text/plain": [
       "332.074801069891"
      ]
     },
     "execution_count": 30,
     "metadata": {},
     "output_type": "execute_result"
    }
   ],
   "source": [
    "sum(stations[:BIC])"
   ]
  }
 ],
 "metadata": {
  "kernelspec": {
   "display_name": "Julia 1.6.1",
   "language": "julia",
   "name": "julia-1.6"
  },
  "language_info": {
   "file_extension": ".jl",
   "mimetype": "application/julia",
   "name": "julia",
   "version": "1.6.1"
  }
 },
 "nbformat": 4,
 "nbformat_minor": 4
}
