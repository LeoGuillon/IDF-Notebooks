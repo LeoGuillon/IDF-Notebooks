{
 "cells": [
  {
   "cell_type": "markdown",
   "id": "373da6a7",
   "metadata": {},
   "source": [
    "# 04bis - Estimation bayésienne du paramètre xi\n",
    "\n",
    "Dans ce notebook, nous allons essayer de mettre en place une estimation bayésienne pour le parmaètre xi à l'ensemble des stations du québec, après l'estimation normale."
   ]
  },
  {
   "cell_type": "code",
   "execution_count": 1,
   "id": "55752338",
   "metadata": {},
   "outputs": [],
   "source": [
    "using CSV, DataFrames, StatsBase, Random\n",
    "\n",
    "using Distributions, Extremes, Optim, LinearAlgebra, Distributions\n",
    "\n",
    "using Mamba, ForwardDiff, ProgressMeter #pour les MCMC\n",
    "\n",
    "using IDF\n",
    "\n",
    "import Plots"
   ]
  },
  {
   "cell_type": "code",
   "execution_count": 2,
   "id": "76f0643c",
   "metadata": {},
   "outputs": [
    {
     "data": {
      "text/plain": [
       "\"24 h\""
      ]
     },
     "execution_count": 2,
     "metadata": {},
     "output_type": "execute_result"
    }
   ],
   "source": [
    "PROVINCES = [\"NB\", \"NL\", \"NS\", \"ON\", \"PE\", \"QC\"]#provinces considerees\n",
    "\n",
    "DURATION = \"24 h\""
   ]
  },
  {
   "cell_type": "code",
   "execution_count": 3,
   "id": "a5a962d6",
   "metadata": {},
   "outputs": [
    {
     "data": {
      "text/html": [
       "<table class=\"data-frame\"><thead><tr><th></th><th>Name</th><th>Province</th><th>ID</th><th>Lat</th><th>Lon</th><th>Elevation</th></tr><tr><th></th><th>String</th><th>String</th><th>String</th><th>Float64</th><th>Float64</th><th>Int64</th></tr></thead><tbody><p>10 rows × 6 columns</p><tr><th>1</th><td>BEECHWOOD</td><td>NB</td><td>8100512</td><td>46.53</td><td>-67.67</td><td>91</td></tr><tr><th>2</th><td>BELLEDUNE</td><td>NB</td><td>8100514</td><td>47.9</td><td>-65.83</td><td>7</td></tr><tr><th>3</th><td>BOUCTOUCHE CDA CS</td><td>NB</td><td>8100593</td><td>46.43</td><td>-64.77</td><td>35</td></tr><tr><th>4</th><td>CHARLO AUTO</td><td>NB</td><td>8100885</td><td>47.98</td><td>-66.33</td><td>42</td></tr><tr><th>5</th><td>MIRAMICHI RCS</td><td>NB</td><td>8100989</td><td>47.02</td><td>-65.47</td><td>33</td></tr><tr><th>6</th><td>EDMUNDSTON</td><td>NB</td><td>8101303</td><td>47.42</td><td>-68.32</td><td>154</td></tr><tr><th>7</th><td>FREDERICTON A</td><td>NB</td><td>8101500</td><td>45.87</td><td>-66.53</td><td>20</td></tr><tr><th>8</th><td>FREDERICTON CDA CS</td><td>NB</td><td>8101605</td><td>45.92</td><td>-66.62</td><td>35</td></tr><tr><th>9</th><td>MONCTON INTL A</td><td>NB</td><td>8103201</td><td>46.12</td><td>-64.68</td><td>70</td></tr><tr><th>10</th><td>ROYAL ROAD</td><td>NB</td><td>8104480</td><td>46.05</td><td>-66.72</td><td>115</td></tr></tbody></table>"
      ],
      "text/latex": [
       "\\begin{tabular}{r|cccccc}\n",
       "\t& Name & Province & ID & Lat & Lon & Elevation\\\\\n",
       "\t\\hline\n",
       "\t& String & String & String & Float64 & Float64 & Int64\\\\\n",
       "\t\\hline\n",
       "\t1 & BEECHWOOD & NB & 8100512 & 46.53 & -67.67 & 91 \\\\\n",
       "\t2 & BELLEDUNE & NB & 8100514 & 47.9 & -65.83 & 7 \\\\\n",
       "\t3 & BOUCTOUCHE CDA CS & NB & 8100593 & 46.43 & -64.77 & 35 \\\\\n",
       "\t4 & CHARLO AUTO & NB & 8100885 & 47.98 & -66.33 & 42 \\\\\n",
       "\t5 & MIRAMICHI RCS & NB & 8100989 & 47.02 & -65.47 & 33 \\\\\n",
       "\t6 & EDMUNDSTON & NB & 8101303 & 47.42 & -68.32 & 154 \\\\\n",
       "\t7 & FREDERICTON A & NB & 8101500 & 45.87 & -66.53 & 20 \\\\\n",
       "\t8 & FREDERICTON CDA CS & NB & 8101605 & 45.92 & -66.62 & 35 \\\\\n",
       "\t9 & MONCTON INTL A & NB & 8103201 & 46.12 & -64.68 & 70 \\\\\n",
       "\t10 & ROYAL ROAD & NB & 8104480 & 46.05 & -66.72 & 115 \\\\\n",
       "\\end{tabular}\n"
      ],
      "text/plain": [
       "10×6 DataFrame. Omitted printing of 1 columns\n",
       "│ Row │ Name               │ Province │ ID      │ Lat     │ Lon     │\n",
       "│     │ \u001b[90mString\u001b[39m             │ \u001b[90mString\u001b[39m   │ \u001b[90mString\u001b[39m  │ \u001b[90mFloat64\u001b[39m │ \u001b[90mFloat64\u001b[39m │\n",
       "├─────┼────────────────────┼──────────┼─────────┼─────────┼─────────┤\n",
       "│ 1   │ BEECHWOOD          │ NB       │ 8100512 │ 46.53   │ -67.67  │\n",
       "│ 2   │ BELLEDUNE          │ NB       │ 8100514 │ 47.9    │ -65.83  │\n",
       "│ 3   │ BOUCTOUCHE CDA CS  │ NB       │ 8100593 │ 46.43   │ -64.77  │\n",
       "│ 4   │ CHARLO AUTO        │ NB       │ 8100885 │ 47.98   │ -66.33  │\n",
       "│ 5   │ MIRAMICHI RCS      │ NB       │ 8100989 │ 47.02   │ -65.47  │\n",
       "│ 6   │ EDMUNDSTON         │ NB       │ 8101303 │ 47.42   │ -68.32  │\n",
       "│ 7   │ FREDERICTON A      │ NB       │ 8101500 │ 45.87   │ -66.53  │\n",
       "│ 8   │ FREDERICTON CDA CS │ NB       │ 8101605 │ 45.92   │ -66.62  │\n",
       "│ 9   │ MONCTON INTL A     │ NB       │ 8103201 │ 46.12   │ -64.68  │\n",
       "│ 10  │ ROYAL ROAD         │ NB       │ 8104480 │ 46.05   │ -66.72  │"
      ]
     },
     "execution_count": 3,
     "metadata": {},
     "output_type": "execute_result"
    }
   ],
   "source": [
    "station_list = load_data(\"station_list\")\n",
    "\n",
    "filter!(row -> row.Province ∈ PROVINCES , station_list)#on ne selectionne que les stations qui nous interessent\n",
    "\n",
    "first(station_list, 10)"
   ]
  },
  {
   "cell_type": "markdown",
   "id": "d938d007",
   "metadata": {},
   "source": [
    "Comme l'estimation classique n'a pas fonctionné à cause du nombre important de paramètres, nous allons donc procéder à une estimation bayésienne, avec comme paramètres initiaux ceux obtenus par une estimation de maximum de vraisemblance pour une loi de Gumbel (c.a.d. avec $\\xi = 0$).\n",
    "\n",
    "Commençons donc par construire ce tableau de valeurs initiales."
   ]
  },
  {
   "cell_type": "code",
   "execution_count": 4,
   "id": "47759c1e",
   "metadata": {},
   "outputs": [
    {
     "data": {
      "text/html": [
       "<table class=\"data-frame\"><thead><tr><th></th><th>Name</th><th>Province</th><th>ID</th><th>Lat</th><th>Lon</th><th>Elevation</th><th>μ₀</th><th>ϕ₀</th></tr><tr><th></th><th>String</th><th>String</th><th>String</th><th>Float64</th><th>Float64</th><th>Int64</th><th>Float64</th><th>Float64</th></tr></thead><tbody><p>10 rows × 8 columns</p><tr><th>1</th><td>BEECHWOOD</td><td>NB</td><td>8100512</td><td>46.53</td><td>-67.67</td><td>91</td><td>55.1486</td><td>2.70978</td></tr><tr><th>2</th><td>BELLEDUNE</td><td>NB</td><td>8100514</td><td>47.9</td><td>-65.83</td><td>7</td><td>40.2054</td><td>2.39197</td></tr><tr><th>3</th><td>BOUCTOUCHE CDA CS</td><td>NB</td><td>8100593</td><td>46.43</td><td>-64.77</td><td>35</td><td>53.4377</td><td>2.57062</td></tr><tr><th>4</th><td>CHARLO AUTO</td><td>NB</td><td>8100885</td><td>47.98</td><td>-66.33</td><td>42</td><td>48.4714</td><td>2.66403</td></tr><tr><th>5</th><td>MIRAMICHI RCS</td><td>NB</td><td>8100989</td><td>47.02</td><td>-65.47</td><td>33</td><td>49.9964</td><td>2.78772</td></tr><tr><th>6</th><td>EDMUNDSTON</td><td>NB</td><td>8101303</td><td>47.42</td><td>-68.32</td><td>154</td><td>48.2441</td><td>2.79296</td></tr><tr><th>7</th><td>FREDERICTON A</td><td>NB</td><td>8101500</td><td>45.87</td><td>-66.53</td><td>20</td><td>50.8524</td><td>2.61132</td></tr><tr><th>8</th><td>FREDERICTON CDA CS</td><td>NB</td><td>8101605</td><td>45.92</td><td>-66.62</td><td>35</td><td>55.2421</td><td>2.73373</td></tr><tr><th>9</th><td>MONCTON INTL A</td><td>NB</td><td>8103201</td><td>46.12</td><td>-64.68</td><td>70</td><td>51.9352</td><td>2.87873</td></tr><tr><th>10</th><td>ROYAL ROAD</td><td>NB</td><td>8104480</td><td>46.05</td><td>-66.72</td><td>115</td><td>49.8362</td><td>2.57412</td></tr></tbody></table>"
      ],
      "text/latex": [
       "\\begin{tabular}{r|cccccccc}\n",
       "\t& Name & Province & ID & Lat & Lon & Elevation & μ₀ & ϕ₀\\\\\n",
       "\t\\hline\n",
       "\t& String & String & String & Float64 & Float64 & Int64 & Float64 & Float64\\\\\n",
       "\t\\hline\n",
       "\t1 & BEECHWOOD & NB & 8100512 & 46.53 & -67.67 & 91 & 55.1486 & 2.70978 \\\\\n",
       "\t2 & BELLEDUNE & NB & 8100514 & 47.9 & -65.83 & 7 & 40.2054 & 2.39197 \\\\\n",
       "\t3 & BOUCTOUCHE CDA CS & NB & 8100593 & 46.43 & -64.77 & 35 & 53.4377 & 2.57062 \\\\\n",
       "\t4 & CHARLO AUTO & NB & 8100885 & 47.98 & -66.33 & 42 & 48.4714 & 2.66403 \\\\\n",
       "\t5 & MIRAMICHI RCS & NB & 8100989 & 47.02 & -65.47 & 33 & 49.9964 & 2.78772 \\\\\n",
       "\t6 & EDMUNDSTON & NB & 8101303 & 47.42 & -68.32 & 154 & 48.2441 & 2.79296 \\\\\n",
       "\t7 & FREDERICTON A & NB & 8101500 & 45.87 & -66.53 & 20 & 50.8524 & 2.61132 \\\\\n",
       "\t8 & FREDERICTON CDA CS & NB & 8101605 & 45.92 & -66.62 & 35 & 55.2421 & 2.73373 \\\\\n",
       "\t9 & MONCTON INTL A & NB & 8103201 & 46.12 & -64.68 & 70 & 51.9352 & 2.87873 \\\\\n",
       "\t10 & ROYAL ROAD & NB & 8104480 & 46.05 & -66.72 & 115 & 49.8362 & 2.57412 \\\\\n",
       "\\end{tabular}\n"
      ],
      "text/plain": [
       "10×8 DataFrame. Omitted printing of 3 columns\n",
       "│ Row │ Name               │ Province │ ID      │ Lat     │ Lon     │\n",
       "│     │ \u001b[90mString\u001b[39m             │ \u001b[90mString\u001b[39m   │ \u001b[90mString\u001b[39m  │ \u001b[90mFloat64\u001b[39m │ \u001b[90mFloat64\u001b[39m │\n",
       "├─────┼────────────────────┼──────────┼─────────┼─────────┼─────────┤\n",
       "│ 1   │ BEECHWOOD          │ NB       │ 8100512 │ 46.53   │ -67.67  │\n",
       "│ 2   │ BELLEDUNE          │ NB       │ 8100514 │ 47.9    │ -65.83  │\n",
       "│ 3   │ BOUCTOUCHE CDA CS  │ NB       │ 8100593 │ 46.43   │ -64.77  │\n",
       "│ 4   │ CHARLO AUTO        │ NB       │ 8100885 │ 47.98   │ -66.33  │\n",
       "│ 5   │ MIRAMICHI RCS      │ NB       │ 8100989 │ 47.02   │ -65.47  │\n",
       "│ 6   │ EDMUNDSTON         │ NB       │ 8101303 │ 47.42   │ -68.32  │\n",
       "│ 7   │ FREDERICTON A      │ NB       │ 8101500 │ 45.87   │ -66.53  │\n",
       "│ 8   │ FREDERICTON CDA CS │ NB       │ 8101605 │ 45.92   │ -66.62  │\n",
       "│ 9   │ MONCTON INTL A     │ NB       │ 8103201 │ 46.12   │ -64.68  │\n",
       "│ 10  │ ROYAL ROAD         │ NB       │ 8104480 │ 46.05   │ -66.72  │"
      ]
     },
     "execution_count": 4,
     "metadata": {},
     "output_type": "execute_result"
    }
   ],
   "source": [
    "# same function as in IDF package, built it before integrating to IDF.jl\n",
    "function solve_gumbel(y::Vector{Float64})\n",
    "    μ₀ = mean(y)\n",
    "    ϕ₀ = log(std(y))\n",
    "    p₀ = [μ₀, ϕ₀]\n",
    "    \n",
    "    # la fonction objectif, comme on maximise la log_vraisemblance\n",
    "    # il faut prendre l'oppose car optimize.jl minimise.\n",
    "    function fobj(p::Vector{Float64})\n",
    "        return -logL(y, p[1], exp(p[2]), 0.0)\n",
    "    end\n",
    "    \n",
    "    \n",
    "    p = p₀\n",
    "    \n",
    "    try\n",
    "        res = optimize(fobj, p₀)\n",
    "        \n",
    "         \n",
    "        if Optim.converged(res)\n",
    "            p = Optim.minimizer(res)\n",
    "        else\n",
    "            @warn \"The maximum likelihood algorithm did not find a solution. Maybe try with different initial values or with another method. The returned values are the initial values.\"\n",
    "            p = p₀\n",
    "        end\n",
    "        \n",
    "    catch\n",
    "        println(\"Error of execution\")\n",
    "    end\n",
    "   \n",
    "    return p\n",
    "end\n",
    "    \n",
    "μ₀ = []\n",
    "ϕ₀ = []\n",
    "\n",
    "for i in 1:(nrow(station_list))\n",
    "    y = pcp(station_list[i, :ID], DURATION)\n",
    "    \n",
    "    p = solve_gumbel(y)\n",
    "    \n",
    "    append!(μ₀, p[1])\n",
    "    append!(ϕ₀, p[2])\n",
    "end\n",
    "\n",
    "station_list[:μ₀] = Float64.(μ₀)\n",
    "station_list[:ϕ₀] = Float64.(ϕ₀)\n",
    "\n",
    "first(station_list, 10)"
   ]
  },
  {
   "cell_type": "code",
   "execution_count": 5,
   "id": "318c32d2",
   "metadata": {},
   "outputs": [
    {
     "data": {
      "text/plain": [
       "673-element Vector{Float64}:\n",
       " 55.14855306528422\n",
       " 40.20542553881306\n",
       " 53.43774890879652\n",
       " 48.47140573289281\n",
       " 49.996392488014884\n",
       " 48.24412232109405\n",
       " 50.852392666251404\n",
       " 55.242107889525414\n",
       " 51.93524893967279\n",
       " 49.83618162207249\n",
       " 51.209661078586855\n",
       " 62.756030020231165\n",
       " 67.97254136984631\n",
       "  ⋮\n",
       "  2.387908247372233\n",
       "  2.1043510431058565\n",
       "  2.287271290366869\n",
       "  2.2640535479064514\n",
       "  2.273393761089009\n",
       "  2.0390156967528696\n",
       "  2.010442168292835\n",
       "  2.377784759339927\n",
       "  2.131497963704006\n",
       "  1.6611828658787275\n",
       "  2.3630729736686393\n",
       "  0.0"
      ]
     },
     "execution_count": 5,
     "metadata": {},
     "output_type": "execute_result"
    }
   ],
   "source": [
    "θ₀ = Float64.([station_list[:μ₀]; station_list[:ϕ₀]; 0.0])"
   ]
  },
  {
   "cell_type": "markdown",
   "id": "6d8fd068",
   "metadata": {},
   "source": [
    "Maintenant que nous avons les valeurs initiales, lançons l'estimation bayésienne."
   ]
  },
  {
   "cell_type": "code",
   "execution_count": 6,
   "id": "893c56ea",
   "metadata": {},
   "outputs": [
    {
     "data": {
      "text/plain": [
       "xi_bayes (generic function with 3 methods)"
      ]
     },
     "execution_count": 6,
     "metadata": {},
     "output_type": "execute_result"
    }
   ],
   "source": [
    "function xi_bayes(stations_df::DataFrame, niter::Int=5000, warmup::Int=2000)\n",
    "    \n",
    "    # ---- valeurs initiales\n",
    "    N = nrow(stations_df)\n",
    "    initialvalues = Float64.([stations_df[:μ₀]; stations_df[:ϕ₀]; 0.0])\n",
    "    \n",
    "    \n",
    "    # ---- definition des fonctions qui serviront à la construction de la chaîne\n",
    "    \n",
    "    # la fonction de log vraisemblance est celle vue au notebook 4\n",
    "    function logf(θ::Vector{Float64})\n",
    "        μ = θ[1:N]\n",
    "        ϕ = θ[N+1:(2*N)]\n",
    "        ξ = θ[2*N+1]\n",
    "\n",
    "        s=0\n",
    "        for i in 1:N\n",
    "            id = stations_df[i, :ID]\n",
    "            s -= logL(pcp(id, DURATION), μ[i], exp(ϕ[i]), ξ) # on met l'opposé de la log-vraisemblance\n",
    "        end\n",
    "\n",
    "        return s\n",
    "    end\n",
    "    \n",
    "    Δlogf(θ::Vector{Float64}) = ForwardDiff.gradient(logf, θ)\n",
    "    \n",
    "    function logfgrad(θ::Vector{Float64})\n",
    "        ll = logf(θ)\n",
    "        g = Δlogf(θ)\n",
    "        return ll, g\n",
    "    end\n",
    "    \n",
    "    # ---- lancement de la simulation par MCMC\n",
    "    \n",
    "    sim = Chains(niter, 2*N+1, start = (warmup + 1))\n",
    "    θ = NUTSVariate(initialvalues, logfgrad)\n",
    "    @showprogress for i in 1:niter\n",
    "        sample!(θ, adapt = (i <= warmup))\n",
    "        if i > warmup\n",
    "            sim[i, :, 1] = θ\n",
    "        end\n",
    "    end\n",
    "    \n",
    "    # ---- renvoi de la chaîne\n",
    "    \n",
    "    return sim\n",
    "    \n",
    "end"
   ]
  },
  {
   "cell_type": "code",
   "execution_count": 7,
   "id": "3f1ab41d",
   "metadata": {},
   "outputs": [
    {
     "ename": "LoadError",
     "evalue": "MethodError: no method matching (::var\"#logf#4\"{DataFrame, Int64})(::Vector{ForwardDiff.Dual{ForwardDiff.Tag{var\"#logf#4\"{DataFrame, Int64}, Float64}, Float64, 12}})\n\u001b[0mClosest candidates are:\n\u001b[0m  (::var\"#logf#4\")(\u001b[91m::Vector{Float64}\u001b[39m) at In[6]:11",
     "output_type": "error",
     "traceback": [
      "MethodError: no method matching (::var\"#logf#4\"{DataFrame, Int64})(::Vector{ForwardDiff.Dual{ForwardDiff.Tag{var\"#logf#4\"{DataFrame, Int64}, Float64}, Float64, 12}})\n\u001b[0mClosest candidates are:\n\u001b[0m  (::var\"#logf#4\")(\u001b[91m::Vector{Float64}\u001b[39m) at In[6]:11",
      "",
      "Stacktrace:",
      "  [1] chunk_mode_gradient(f::var\"#logf#4\"{DataFrame, Int64}, x::Vector{Float64}, cfg::ForwardDiff.GradientConfig{ForwardDiff.Tag{var\"#logf#4\"{DataFrame, Int64}, Float64}, Float64, 12, Vector{ForwardDiff.Dual{ForwardDiff.Tag{var\"#logf#4\"{DataFrame, Int64}, Float64}, Float64, 12}}})",
      "    @ ForwardDiff ~/.julia/packages/ForwardDiff/QOqCN/src/gradient.jl:150",
      "  [2] gradient(f::Function, x::Vector{Float64}, cfg::ForwardDiff.GradientConfig{ForwardDiff.Tag{var\"#logf#4\"{DataFrame, Int64}, Float64}, Float64, 12, Vector{ForwardDiff.Dual{ForwardDiff.Tag{var\"#logf#4\"{DataFrame, Int64}, Float64}, Float64, 12}}}, ::Val{true})",
      "    @ ForwardDiff ~/.julia/packages/ForwardDiff/QOqCN/src/gradient.jl:21",
      "  [3] gradient(f::Function, x::Vector{Float64}, cfg::ForwardDiff.GradientConfig{ForwardDiff.Tag{var\"#logf#4\"{DataFrame, Int64}, Float64}, Float64, 12, Vector{ForwardDiff.Dual{ForwardDiff.Tag{var\"#logf#4\"{DataFrame, Int64}, Float64}, Float64, 12}}}) (repeats 2 times)",
      "    @ ForwardDiff ~/.julia/packages/ForwardDiff/QOqCN/src/gradient.jl:17",
      "  [4] Δlogf",
      "    @ ./In[6]:25 [inlined]",
      "  [5] logfgrad",
      "    @ ./In[6]:29 [inlined]",
      "  [6] leapfrog(x::Vector{Float64}, r::Vector{Float64}, grad::Vector{Float64}, epsilon::Float64, logfgrad::var\"#logfgrad#6\"{var\"#Δlogf#5\"{var\"#logf#4\"{DataFrame, Int64}}, var\"#logf#4\"{DataFrame, Int64}})",
      "    @ Mamba ~/.julia/packages/Mamba/bdnmz/src/samplers/nuts.jl:129",
      "  [7] nutsepsilon(x::Vector{Float64}, logfgrad::Function)",
      "    @ Mamba ~/.julia/packages/Mamba/bdnmz/src/samplers/nuts.jl:190",
      "  [8] Mamba.NUTSTune(x::Vector{Float64}, logfgrad::Function; args::Base.Iterators.Pairs{Union{}, Union{}, Tuple{}, NamedTuple{(), Tuple{}}})",
      "    @ Mamba ~/.julia/packages/Mamba/bdnmz/src/samplers/nuts.jl:32",
      "  [9] NUTSTune",
      "    @ ~/.julia/packages/Mamba/bdnmz/src/samplers/nuts.jl:32 [inlined]",
      " [10] _",
      "    @ ~/.julia/packages/Mamba/bdnmz/src/Mamba.jl:147 [inlined]",
      " [11] NUTSVariate(x::Vector{Float64}, pargs::Function)",
      "    @ Mamba ~/.julia/packages/Mamba/bdnmz/src/Mamba.jl:146",
      " [12] xi_bayes(stations_df::DataFrame, niter::Int64, warmup::Int64)",
      "    @ Main ./In[6]:36",
      " [13] xi_bayes(stations_df::DataFrame)",
      "    @ Main ./In[6]:4",
      " [14] top-level scope",
      "    @ In[7]:1",
      " [15] eval",
      "    @ ./boot.jl:360 [inlined]",
      " [16] include_string(mapexpr::typeof(REPL.softscope), mod::Module, code::String, filename::String)",
      "    @ Base ./loading.jl:1094"
     ]
    }
   ],
   "source": [
    "xi_bayes(station_list)"
   ]
  },
  {
   "cell_type": "markdown",
   "id": "c60247cd",
   "metadata": {},
   "source": [
    "Les fonctions du package Mamba.jl semblant chancelantes pour des estimations multivariées, nous allons concevoir nous même l'algorithme. Nous allons donc pour ceci établir un algorithme d'échantillonage de Gibbs."
   ]
  },
  {
   "cell_type": "code",
   "execution_count": 8,
   "id": "cea3b684",
   "metadata": {},
   "outputs": [
    {
     "data": {
      "text/plain": [
       "logV (generic function with 1 method)"
      ]
     },
     "execution_count": 8,
     "metadata": {},
     "output_type": "execute_result"
    }
   ],
   "source": [
    "function logV(Y::Vector{Float64}, p::Vector{Float64})\n",
    "    return logL(Y, p[1], exp(p[2]), p[3])\n",
    "end"
   ]
  },
  {
   "cell_type": "code",
   "execution_count": 18,
   "id": "21b4e735",
   "metadata": {},
   "outputs": [
    {
     "data": {
      "text/plain": [
       "gibbs (generic function with 4 methods)"
      ]
     },
     "execution_count": 18,
     "metadata": {},
     "output_type": "execute_result"
    }
   ],
   "source": [
    "function gibbs(stations_df::DataFrame, δ::Real=0.5, niter::Int=5000, warmup::Int=2000)\n",
    "    \n",
    "    # ---- valeurs initiales\n",
    "    N = nrow(stations_df)\n",
    "\n",
    "    Y = Vector{Float64}[]\n",
    "\n",
    "    # for i=1:size(station_list,1)\n",
    "    for stationID in stations_df[:,:ID]\n",
    "    #     stationID = station_list[i,:ID]\n",
    "        y = IDF.pcp(stationID, DURATION)\n",
    "        push!(Y, y)\n",
    "    end\n",
    "\n",
    "    μ = zeros(N, niter)\n",
    "    ϕ = zeros(N, niter)\n",
    "    ξ = zeros(niter)\n",
    "\n",
    "\n",
    "    μ[:, 1] = stations_df[:μ₀]\n",
    "    ϕ[:, 1] = stations_df[:ϕ₀]\n",
    "    ξ[1] = 0.0\n",
    "\n",
    "    acc = 0 # nombre d'acceptations\n",
    "    tot = 0\n",
    "    \n",
    "\n",
    "    # échantillonage\n",
    "    \n",
    "    @showprogress for iter = 2:niter\n",
    "        \n",
    "        \n",
    "        for i in 1:N\n",
    "            u = rand(N)\n",
    "\n",
    "            # ----- estimation de mu\n",
    "            \n",
    "            \n",
    "            # on va estimer avec Metropolis Hastings, en utilisant une loi normale N([μ₀, ϕ₁, ξ], δ * I^-1) \n",
    "            m = [μ[i, iter - 1], ϕ[i, iter - 1], ξ[iter - 1]]\n",
    "            cov = δ * Matrix(I, 3, 3)\n",
    "            candidates = rand(MvNormal(m, cov))\n",
    "            ll = logV(Y[i], candidates) - logV(Y[i], m)\n",
    "\n",
    "            if ll > log(u[i])\n",
    "                μ[i, iter] = candidates[1]\n",
    "                acc += 1\n",
    "            else\n",
    "                μ[i, iter] = μ[i, iter - 1]\n",
    "            end\n",
    "            tot +=1\n",
    "\n",
    "            # ----- estimation de phi\n",
    "            \n",
    "            m = [μ[i, iter], ϕ[i, iter - 1], ξ[iter - 1]]\n",
    "            cov = δ * Matrix(I, 3, 3)\n",
    "            candidates = rand(MvNormal(m, cov))\n",
    "            ll = logV(Y[i], candidates) - logV(Y[i], m)\n",
    "\n",
    "            if ll > log(u[i])\n",
    "                ϕ[i, iter] = candidates[1]\n",
    "                acc += 1\n",
    "            else\n",
    "                ϕ[i, iter] = ϕ[i, iter - 1]\n",
    "            end\n",
    "            tot += 1\n",
    "        end\n",
    "\n",
    "        u = rand(N)\n",
    "        m = [μ[:, iter] ; ϕ[:, iter] ; ξ[iter - 1]]\n",
    "        M = length(m)\n",
    "        cov = δ * Matrix(I, M, M)\n",
    "        candidates = rand(MvNormal(m, cov))\n",
    "        \n",
    "        ll = 0\n",
    "        threshold = 0\n",
    "\n",
    "        for k in 1:N\n",
    "            params_candidates = [candidates[k], candidates[k + N], candidates[M]]\n",
    "            params_prev = [m[k], m[k + N], candidates[M]]\n",
    "            \n",
    "            ll += logV(Y[k], params_candidates) - logV(Y[k], params_prev)\n",
    "            threshold += log(u[k])\n",
    "        end\n",
    "\n",
    "\n",
    "        if ll > threshold\n",
    "            ξ[iter] = candidates[M]\n",
    "            acc += 1\n",
    "        else\n",
    "            ξ[iter] = ξ[iter - 1]\n",
    "        end\n",
    "        \n",
    "        tot += 1\n",
    "\n",
    "    end\n",
    "\n",
    "    rate = acc/tot\n",
    "    println(\"The rate of acceptance is $rate\")\n",
    "    return [μ, ϕ, ξ]\n",
    "    \n",
    "end\n",
    "\n"
   ]
  },
  {
   "cell_type": "code",
   "execution_count": 19,
   "id": "94ce5028",
   "metadata": {},
   "outputs": [
    {
     "name": "stderr",
     "output_type": "stream",
     "text": [
      "\u001b[32mProgress: 100%|█████████████████████████████████████████| Time: 0:00:00\u001b[39m\n"
     ]
    },
    {
     "name": "stdout",
     "output_type": "stream",
     "text": [
      "The rate of acceptance is 0.41816934815534534\n"
     ]
    },
    {
     "data": {
      "text/plain": [
       "3-element Vector{Array{Float64, N} where N}:\n",
       " [54.120899472986025 54.120899472986025 … 5.003261725504753 5.003261725504753; 42.41115376402803 42.41115376402803 … 6.740393870414034 6.740393870414034; 51.376176259690524 51.376176259690524 … 36.06970047679857 36.06970047679857]\n",
       " [2.8703714188233618 2.8703714188233618 … 4.37099225160508 4.37099225160508; 2.40421709810781 2.40421709810781 … 7.040750364685434 7.040750364685434; 2.6339652488626477 2.6339652488626477 … 36.098905967212694 36.098905967212694]\n",
       " [0.0, 0.0, 0.0, 0.0, 0.0, 0.0, 0.0, 0.0, 0.0, 0.0  …  -13.18221768883898, -13.18221768883898, -13.18221768883898, -13.18221768883898, -13.18221768883898, -13.18221768883898, -13.18221768883898, -13.18221768883898, -13.18221768883898, -13.18221768883898]"
      ]
     },
     "execution_count": 19,
     "metadata": {},
     "output_type": "execute_result"
    }
   ],
   "source": [
    "df_PE = filter(row -> row.Province == \"PE\" , station_list)\n",
    "par_PE = gibbs(df_PE)"
   ]
  },
  {
   "cell_type": "code",
   "execution_count": 21,
   "id": "1f50ef0e",
   "metadata": {},
   "outputs": [
    {
     "name": "stderr",
     "output_type": "stream",
     "text": [
      "\u001b[32mProgress: 100%|█████████████████████████████████████████| Time: 0:00:08\u001b[39m\n"
     ]
    },
    {
     "name": "stdout",
     "output_type": "stream",
     "text": [
      "The rate of acceptance is 0.44160060082191877\n"
     ]
    },
    {
     "data": {
      "text/plain": [
       "3-element Vector{Array{Float64, N} where N}:\n",
       " [50.861683870711815 50.861683870711815 … 104.69741766275244 104.69741766275244; 52.732108761093755 52.732108761093755 … 45.93901007506271 44.14662788288113; … ; 19.256234854456228 19.256234854456228 … 2.632310525702106 2.632310525702106; 32.825126828737645 32.825126828737645 … 4.487110562176809 4.487110562176809]\n",
       " [1.8752833687464232 50.26065785207065 … 105.23581396909174 105.3434893453531; 2.552466693890037 2.552466693890037 … 46.991439618120054 44.49565018475631; … ; 1.6611828658787275 17.92804585600518 … 1.9424435680169199 1.9424435680169199; 2.3630729736686393 2.3630729736686393 … 4.057665735449468 4.057665735449468]\n",
       " [0.0, 0.0, 0.0, 0.0, 0.0, 0.0, 0.0, 0.0, 0.0, 0.0  …  -6.054821348463242, -6.054821348463242, -6.054821348463242, -6.054821348463242, -6.054821348463242, -6.054821348463242, -6.054821348463242, -6.054821348463242, -6.054821348463242, -6.054821348463242]"
      ]
     },
     "execution_count": 21,
     "metadata": {},
     "output_type": "execute_result"
    }
   ],
   "source": [
    "df_QC = filter(row -> row.Province == \"QC\", station_list)\n",
    "par_QC = gibbs(df_QC)"
   ]
  },
  {
   "cell_type": "code",
   "execution_count": 22,
   "id": "21dec030",
   "metadata": {},
   "outputs": [
    {
     "name": "stderr",
     "output_type": "stream",
     "text": [
      "\u001b[32mProgress: 100%|█████████████████████████████████████████| Time: 0:00:39\u001b[39m\n"
     ]
    },
    {
     "name": "stdout",
     "output_type": "stream",
     "text": [
      "The rate of acceptance is 0.5287833198140371\n"
     ]
    },
    {
     "data": {
      "text/plain": [
       "3-element Vector{Array{Float64, N} where N}:\n",
       " [55.14855306528422 55.14855306528422 … 67.36264558623516 67.60579517933374; 40.20542553881306 40.20542553881306 … 95.04207989238742 95.04207989238742; … ; 19.256234854456228 19.256234854456228 … 53.297788905862284 53.33520537694366; 32.825126828737645 32.825126828737645 … 45.5384295081349 45.5384295081349]\n",
       " [2.7097848836495837 2.7097848836495837 … 67.71976017051333 67.77425620942188; 2.3919719572617533 2.3919719572617533 … 95.01015107938434 95.01015107938434; … ; 1.6611828658787275 19.12550610151535 … 52.09950725924079 52.65812022014095; 2.3630729736686393 2.3630729736686393 … 46.22710870564951 46.22710870564951]\n",
       " [0.0, 0.0, 0.0, 0.0, 0.0, 0.0, 0.0, 0.0, 0.0, 0.0  …  55.94454158869993, 55.65437164317254, 56.03733644164725, 56.14728498124429, 55.26584293963565, 57.07654717844677, 56.78036004735608, 57.43045745659332, 57.43417486023264, 55.84664844988536]"
      ]
     },
     "execution_count": 22,
     "metadata": {},
     "output_type": "execute_result"
    }
   ],
   "source": [
    "gibbs(station_list)"
   ]
  }
 ],
 "metadata": {
  "kernelspec": {
   "display_name": "Julia 1.6.1",
   "language": "julia",
   "name": "julia-1.6"
  },
  "language_info": {
   "file_extension": ".jl",
   "mimetype": "application/julia",
   "name": "julia",
   "version": "1.6.1"
  }
 },
 "nbformat": 4,
 "nbformat_minor": 5
}
