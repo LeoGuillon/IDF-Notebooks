{
 "cells": [
  {
   "cell_type": "markdown",
   "id": "373da6a7",
   "metadata": {},
   "source": [
    "# 04bis - Estimation bayésienne du paramètre xi\n",
    "\n",
    "Dans ce notebook, nous allons essayer de mettre en place une estimation bayésienne pour le parmaètre xi à l'ensemble des stations du québec, après l'estimation normale."
   ]
  },
  {
   "cell_type": "code",
   "execution_count": 25,
   "id": "55752338",
   "metadata": {},
   "outputs": [],
   "source": [
    "using CSV, DataFrames, StatsBase, Random\n",
    "\n",
    "using Distributions, Extremes, Optim\n",
    "\n",
    "using Mamba, ForwardDiff, ProgressMeter #pour les MCMC\n",
    "\n",
    "using IDF\n",
    "\n",
    "import Plots"
   ]
  },
  {
   "cell_type": "code",
   "execution_count": 2,
   "id": "76f0643c",
   "metadata": {},
   "outputs": [
    {
     "data": {
      "text/plain": [
       "\"24 h\""
      ]
     },
     "execution_count": 2,
     "metadata": {},
     "output_type": "execute_result"
    }
   ],
   "source": [
    "PROVINCES = [\"NB\", \"NL\", \"NS\", \"ON\", \"PE\", \"QC\"]#provinces considerees\n",
    "\n",
    "DURATION = \"24 h\""
   ]
  },
  {
   "cell_type": "code",
   "execution_count": 3,
   "id": "a5a962d6",
   "metadata": {},
   "outputs": [
    {
     "data": {
      "text/html": [
       "<table class=\"data-frame\"><thead><tr><th></th><th>Name</th><th>Province</th><th>ID</th><th>Lat</th><th>Lon</th><th>Elevation</th></tr><tr><th></th><th>String</th><th>String</th><th>String</th><th>Float64</th><th>Float64</th><th>Int64</th></tr></thead><tbody><p>10 rows × 6 columns</p><tr><th>1</th><td>BEECHWOOD</td><td>NB</td><td>8100512</td><td>46.53</td><td>-67.67</td><td>91</td></tr><tr><th>2</th><td>BELLEDUNE</td><td>NB</td><td>8100514</td><td>47.9</td><td>-65.83</td><td>7</td></tr><tr><th>3</th><td>BOUCTOUCHE CDA CS</td><td>NB</td><td>8100593</td><td>46.43</td><td>-64.77</td><td>35</td></tr><tr><th>4</th><td>CHARLO AUTO</td><td>NB</td><td>8100885</td><td>47.98</td><td>-66.33</td><td>42</td></tr><tr><th>5</th><td>MIRAMICHI RCS</td><td>NB</td><td>8100989</td><td>47.02</td><td>-65.47</td><td>33</td></tr><tr><th>6</th><td>EDMUNDSTON</td><td>NB</td><td>8101303</td><td>47.42</td><td>-68.32</td><td>154</td></tr><tr><th>7</th><td>FREDERICTON A</td><td>NB</td><td>8101500</td><td>45.87</td><td>-66.53</td><td>20</td></tr><tr><th>8</th><td>FREDERICTON CDA CS</td><td>NB</td><td>8101605</td><td>45.92</td><td>-66.62</td><td>35</td></tr><tr><th>9</th><td>MONCTON INTL A</td><td>NB</td><td>8103201</td><td>46.12</td><td>-64.68</td><td>70</td></tr><tr><th>10</th><td>ROYAL ROAD</td><td>NB</td><td>8104480</td><td>46.05</td><td>-66.72</td><td>115</td></tr></tbody></table>"
      ],
      "text/latex": [
       "\\begin{tabular}{r|cccccc}\n",
       "\t& Name & Province & ID & Lat & Lon & Elevation\\\\\n",
       "\t\\hline\n",
       "\t& String & String & String & Float64 & Float64 & Int64\\\\\n",
       "\t\\hline\n",
       "\t1 & BEECHWOOD & NB & 8100512 & 46.53 & -67.67 & 91 \\\\\n",
       "\t2 & BELLEDUNE & NB & 8100514 & 47.9 & -65.83 & 7 \\\\\n",
       "\t3 & BOUCTOUCHE CDA CS & NB & 8100593 & 46.43 & -64.77 & 35 \\\\\n",
       "\t4 & CHARLO AUTO & NB & 8100885 & 47.98 & -66.33 & 42 \\\\\n",
       "\t5 & MIRAMICHI RCS & NB & 8100989 & 47.02 & -65.47 & 33 \\\\\n",
       "\t6 & EDMUNDSTON & NB & 8101303 & 47.42 & -68.32 & 154 \\\\\n",
       "\t7 & FREDERICTON A & NB & 8101500 & 45.87 & -66.53 & 20 \\\\\n",
       "\t8 & FREDERICTON CDA CS & NB & 8101605 & 45.92 & -66.62 & 35 \\\\\n",
       "\t9 & MONCTON INTL A & NB & 8103201 & 46.12 & -64.68 & 70 \\\\\n",
       "\t10 & ROYAL ROAD & NB & 8104480 & 46.05 & -66.72 & 115 \\\\\n",
       "\\end{tabular}\n"
      ],
      "text/plain": [
       "10×6 DataFrame. Omitted printing of 1 columns\n",
       "│ Row │ Name               │ Province │ ID      │ Lat     │ Lon     │\n",
       "│     │ \u001b[90mString\u001b[39m             │ \u001b[90mString\u001b[39m   │ \u001b[90mString\u001b[39m  │ \u001b[90mFloat64\u001b[39m │ \u001b[90mFloat64\u001b[39m │\n",
       "├─────┼────────────────────┼──────────┼─────────┼─────────┼─────────┤\n",
       "│ 1   │ BEECHWOOD          │ NB       │ 8100512 │ 46.53   │ -67.67  │\n",
       "│ 2   │ BELLEDUNE          │ NB       │ 8100514 │ 47.9    │ -65.83  │\n",
       "│ 3   │ BOUCTOUCHE CDA CS  │ NB       │ 8100593 │ 46.43   │ -64.77  │\n",
       "│ 4   │ CHARLO AUTO        │ NB       │ 8100885 │ 47.98   │ -66.33  │\n",
       "│ 5   │ MIRAMICHI RCS      │ NB       │ 8100989 │ 47.02   │ -65.47  │\n",
       "│ 6   │ EDMUNDSTON         │ NB       │ 8101303 │ 47.42   │ -68.32  │\n",
       "│ 7   │ FREDERICTON A      │ NB       │ 8101500 │ 45.87   │ -66.53  │\n",
       "│ 8   │ FREDERICTON CDA CS │ NB       │ 8101605 │ 45.92   │ -66.62  │\n",
       "│ 9   │ MONCTON INTL A     │ NB       │ 8103201 │ 46.12   │ -64.68  │\n",
       "│ 10  │ ROYAL ROAD         │ NB       │ 8104480 │ 46.05   │ -66.72  │"
      ]
     },
     "execution_count": 3,
     "metadata": {},
     "output_type": "execute_result"
    }
   ],
   "source": [
    "station_list = load_data(\"station_list\")\n",
    "\n",
    "filter!(row -> row.Province ∈ PROVINCES , station_list)#on ne selectionne que les stations qui nous interessent\n",
    "\n",
    "first(station_list, 10)"
   ]
  },
  {
   "cell_type": "markdown",
   "id": "d938d007",
   "metadata": {},
   "source": [
    "Comme l'estimation classique n'a pas fonctionné à cause du nombre important de paramètres, nous allons donc procéder à une estimation bayésienne, avec comme paramètres initiaux ceux obtenus par une estimation de maximum de vraisemblance pour une loi de Gumbel (c.a.d. avec $\\xi = 0$).\n",
    "\n",
    "Commençons donc par construire ce tableau de valeurs initiales."
   ]
  },
  {
   "cell_type": "code",
   "execution_count": 19,
   "id": "47759c1e",
   "metadata": {},
   "outputs": [
    {
     "data": {
      "text/html": [
       "<table class=\"data-frame\"><thead><tr><th></th><th>Name</th><th>Province</th><th>ID</th><th>Lat</th><th>Lon</th><th>Elevation</th><th>μ₀</th><th>ϕ₀</th></tr><tr><th></th><th>String</th><th>String</th><th>String</th><th>Float64</th><th>Float64</th><th>Int64</th><th>Float64</th><th>Float64</th></tr></thead><tbody><p>10 rows × 8 columns</p><tr><th>1</th><td>BEECHWOOD</td><td>NB</td><td>8100512</td><td>46.53</td><td>-67.67</td><td>91</td><td>55.1486</td><td>2.70978</td></tr><tr><th>2</th><td>BELLEDUNE</td><td>NB</td><td>8100514</td><td>47.9</td><td>-65.83</td><td>7</td><td>40.2054</td><td>2.39197</td></tr><tr><th>3</th><td>BOUCTOUCHE CDA CS</td><td>NB</td><td>8100593</td><td>46.43</td><td>-64.77</td><td>35</td><td>53.4377</td><td>2.57062</td></tr><tr><th>4</th><td>CHARLO AUTO</td><td>NB</td><td>8100885</td><td>47.98</td><td>-66.33</td><td>42</td><td>48.4714</td><td>2.66403</td></tr><tr><th>5</th><td>MIRAMICHI RCS</td><td>NB</td><td>8100989</td><td>47.02</td><td>-65.47</td><td>33</td><td>49.9964</td><td>2.78772</td></tr><tr><th>6</th><td>EDMUNDSTON</td><td>NB</td><td>8101303</td><td>47.42</td><td>-68.32</td><td>154</td><td>48.2441</td><td>2.79296</td></tr><tr><th>7</th><td>FREDERICTON A</td><td>NB</td><td>8101500</td><td>45.87</td><td>-66.53</td><td>20</td><td>50.8524</td><td>2.61132</td></tr><tr><th>8</th><td>FREDERICTON CDA CS</td><td>NB</td><td>8101605</td><td>45.92</td><td>-66.62</td><td>35</td><td>55.2421</td><td>2.73373</td></tr><tr><th>9</th><td>MONCTON INTL A</td><td>NB</td><td>8103201</td><td>46.12</td><td>-64.68</td><td>70</td><td>51.9352</td><td>2.87873</td></tr><tr><th>10</th><td>ROYAL ROAD</td><td>NB</td><td>8104480</td><td>46.05</td><td>-66.72</td><td>115</td><td>49.8362</td><td>2.57412</td></tr></tbody></table>"
      ],
      "text/latex": [
       "\\begin{tabular}{r|cccccccc}\n",
       "\t& Name & Province & ID & Lat & Lon & Elevation & μ₀ & ϕ₀\\\\\n",
       "\t\\hline\n",
       "\t& String & String & String & Float64 & Float64 & Int64 & Float64 & Float64\\\\\n",
       "\t\\hline\n",
       "\t1 & BEECHWOOD & NB & 8100512 & 46.53 & -67.67 & 91 & 55.1486 & 2.70978 \\\\\n",
       "\t2 & BELLEDUNE & NB & 8100514 & 47.9 & -65.83 & 7 & 40.2054 & 2.39197 \\\\\n",
       "\t3 & BOUCTOUCHE CDA CS & NB & 8100593 & 46.43 & -64.77 & 35 & 53.4377 & 2.57062 \\\\\n",
       "\t4 & CHARLO AUTO & NB & 8100885 & 47.98 & -66.33 & 42 & 48.4714 & 2.66403 \\\\\n",
       "\t5 & MIRAMICHI RCS & NB & 8100989 & 47.02 & -65.47 & 33 & 49.9964 & 2.78772 \\\\\n",
       "\t6 & EDMUNDSTON & NB & 8101303 & 47.42 & -68.32 & 154 & 48.2441 & 2.79296 \\\\\n",
       "\t7 & FREDERICTON A & NB & 8101500 & 45.87 & -66.53 & 20 & 50.8524 & 2.61132 \\\\\n",
       "\t8 & FREDERICTON CDA CS & NB & 8101605 & 45.92 & -66.62 & 35 & 55.2421 & 2.73373 \\\\\n",
       "\t9 & MONCTON INTL A & NB & 8103201 & 46.12 & -64.68 & 70 & 51.9352 & 2.87873 \\\\\n",
       "\t10 & ROYAL ROAD & NB & 8104480 & 46.05 & -66.72 & 115 & 49.8362 & 2.57412 \\\\\n",
       "\\end{tabular}\n"
      ],
      "text/plain": [
       "10×8 DataFrame. Omitted printing of 3 columns\n",
       "│ Row │ Name               │ Province │ ID      │ Lat     │ Lon     │\n",
       "│     │ \u001b[90mString\u001b[39m             │ \u001b[90mString\u001b[39m   │ \u001b[90mString\u001b[39m  │ \u001b[90mFloat64\u001b[39m │ \u001b[90mFloat64\u001b[39m │\n",
       "├─────┼────────────────────┼──────────┼─────────┼─────────┼─────────┤\n",
       "│ 1   │ BEECHWOOD          │ NB       │ 8100512 │ 46.53   │ -67.67  │\n",
       "│ 2   │ BELLEDUNE          │ NB       │ 8100514 │ 47.9    │ -65.83  │\n",
       "│ 3   │ BOUCTOUCHE CDA CS  │ NB       │ 8100593 │ 46.43   │ -64.77  │\n",
       "│ 4   │ CHARLO AUTO        │ NB       │ 8100885 │ 47.98   │ -66.33  │\n",
       "│ 5   │ MIRAMICHI RCS      │ NB       │ 8100989 │ 47.02   │ -65.47  │\n",
       "│ 6   │ EDMUNDSTON         │ NB       │ 8101303 │ 47.42   │ -68.32  │\n",
       "│ 7   │ FREDERICTON A      │ NB       │ 8101500 │ 45.87   │ -66.53  │\n",
       "│ 8   │ FREDERICTON CDA CS │ NB       │ 8101605 │ 45.92   │ -66.62  │\n",
       "│ 9   │ MONCTON INTL A     │ NB       │ 8103201 │ 46.12   │ -64.68  │\n",
       "│ 10  │ ROYAL ROAD         │ NB       │ 8104480 │ 46.05   │ -66.72  │"
      ]
     },
     "execution_count": 19,
     "metadata": {},
     "output_type": "execute_result"
    }
   ],
   "source": [
    "# same function as in IDF package, built it before integrating to IDF.jl\n",
    "function solve_gumbel(y::Vector{Float64})\n",
    "    μ₀ = mean(y)\n",
    "    ϕ₀ = log(std(y))\n",
    "    p₀ = [μ₀, ϕ₀]\n",
    "    \n",
    "    # la fonction objectif, comme on maximise la log_vraisemblance\n",
    "    # il faut prendre l'oppose car optimize.jl minimise.\n",
    "    function fobj(p::Vector{Float64})\n",
    "        return -logL(y, p[1], exp(p[2]), 0.0)\n",
    "    end\n",
    "    \n",
    "    \n",
    "    p = p₀\n",
    "    \n",
    "    try\n",
    "        res = optimize(fobj, p₀)\n",
    "        \n",
    "         \n",
    "        if Optim.converged(res)\n",
    "            p = Optim.minimizer(res)\n",
    "        else\n",
    "            @warn \"The maximum likelihood algorithm did not find a solution. Maybe try with different initial values or with another method. The returned values are the initial values.\"\n",
    "            p = p₀\n",
    "        end\n",
    "        \n",
    "    catch\n",
    "        println(\"Error of execution\")\n",
    "    end\n",
    "   \n",
    "    return p\n",
    "end\n",
    "    \n",
    "μ₀ = []\n",
    "ϕ₀ = []\n",
    "\n",
    "for i in 1:(nrow(station_list))\n",
    "    y = pcp(station_list[i, :ID], DURATION)\n",
    "    \n",
    "    p = solve_gumbel(y)\n",
    "    \n",
    "    append!(μ₀, p[1])\n",
    "    append!(ϕ₀, p[2])\n",
    "end\n",
    "\n",
    "station_list[:μ₀] = Float64.(μ₀)\n",
    "station_list[:ϕ₀] = Float64.(ϕ₀)\n",
    "\n",
    "first(station_list, 10)"
   ]
  },
  {
   "cell_type": "code",
   "execution_count": 22,
   "id": "318c32d2",
   "metadata": {},
   "outputs": [
    {
     "data": {
      "text/plain": [
       "673-element Vector{Float64}:\n",
       " 55.14855306528422\n",
       " 40.20542553881306\n",
       " 53.43774890879652\n",
       " 48.47140573289281\n",
       " 49.996392488014884\n",
       " 48.24412232109405\n",
       " 50.852392666251404\n",
       " 55.242107889525414\n",
       " 51.93524893967279\n",
       " 49.83618162207249\n",
       " 51.209661078586855\n",
       " 62.756030020231165\n",
       " 67.97254136984631\n",
       "  ⋮\n",
       "  2.387908247372233\n",
       "  2.1043510431058565\n",
       "  2.287271290366869\n",
       "  2.2640535479064514\n",
       "  2.273393761089009\n",
       "  2.0390156967528696\n",
       "  2.010442168292835\n",
       "  2.377784759339927\n",
       "  2.131497963704006\n",
       "  1.6611828658787275\n",
       "  2.3630729736686393\n",
       "  0.0"
      ]
     },
     "execution_count": 22,
     "metadata": {},
     "output_type": "execute_result"
    }
   ],
   "source": [
    "θ₀ = Float64.([station_list[:μ₀]; station_list[:ϕ₀]; 0.0])"
   ]
  },
  {
   "cell_type": "markdown",
   "id": "6d8fd068",
   "metadata": {},
   "source": [
    "Maintenant que nous avons les valeurs initiales, lançons l'estimation bayésienne."
   ]
  },
  {
   "cell_type": "code",
   "execution_count": 32,
   "id": "893c56ea",
   "metadata": {},
   "outputs": [
    {
     "data": {
      "text/plain": [
       "xi_bayes (generic function with 3 methods)"
      ]
     },
     "execution_count": 32,
     "metadata": {},
     "output_type": "execute_result"
    }
   ],
   "source": [
    "function xi_bayes(stations_df::DataFrame, niter::Int=5000, warmup::Int=2000)\n",
    "    \n",
    "    # ---- valeurs initiales\n",
    "    N = nrow(stations_df)\n",
    "    initialvalues = Float64.([stations_df[:μ₀]; stations_df[:ϕ₀]; 0.0])\n",
    "    \n",
    "    \n",
    "    # ---- definition des fonctions qui serviront à la construction de la chaîne\n",
    "    \n",
    "    # la fonction de log vraisemblance est celle vue au notebook 4\n",
    "    function logf(θ::Vector{Float64})\n",
    "        μ = θ[1:N]\n",
    "        ϕ = θ[N+1:(2*N)]\n",
    "        ξ = θ[2*N+1]\n",
    "\n",
    "        s=0\n",
    "        for i in 1:N\n",
    "            id = stations_df[i, :ID]\n",
    "            s -= logL(pcp(id, DURATION), μ[i], exp(ϕ[i]), ξ) # on met l'opposé de la log-vraisemblance\n",
    "        end\n",
    "\n",
    "        return s\n",
    "    end\n",
    "    \n",
    "    Δlogf(θ::Vector{Float64}) = ForwardDiff.gradient(logf, θ)\n",
    "    \n",
    "    function logfgrad(θ::Vector{Float64})\n",
    "        ll = logf(θ)\n",
    "        g = Δlogf(θ)\n",
    "        return ll, g\n",
    "    end\n",
    "    \n",
    "    # ---- lancement de la simulation par MCMC\n",
    "    \n",
    "    sim = Chains(niter, 2*N+1, start = (warmup + 1))\n",
    "    θ = NUTSVariate(initialvalues, logfgrad)\n",
    "    @showprogress for i in 1:niter\n",
    "        sample!(θ, adapt = (i <= warmup))\n",
    "        if i > warmup\n",
    "            sim[i, :, 1] = θ\n",
    "        end\n",
    "    end\n",
    "    \n",
    "    # ---- renvoi de la chaîne\n",
    "    \n",
    "    return sim\n",
    "    \n",
    "end"
   ]
  },
  {
   "cell_type": "code",
   "execution_count": 33,
   "id": "3f1ab41d",
   "metadata": {},
   "outputs": [
    {
     "ename": "LoadError",
     "evalue": "MethodError: no method matching (::var\"#logf#22\"{DataFrame, Int64})(::Vector{ForwardDiff.Dual{ForwardDiff.Tag{var\"#logf#22\"{DataFrame, Int64}, Float64}, Float64, 12}})\n\u001b[0mClosest candidates are:\n\u001b[0m  (::var\"#logf#22\")(\u001b[91m::Vector{Float64}\u001b[39m) at In[32]:11",
     "output_type": "error",
     "traceback": [
      "MethodError: no method matching (::var\"#logf#22\"{DataFrame, Int64})(::Vector{ForwardDiff.Dual{ForwardDiff.Tag{var\"#logf#22\"{DataFrame, Int64}, Float64}, Float64, 12}})\n\u001b[0mClosest candidates are:\n\u001b[0m  (::var\"#logf#22\")(\u001b[91m::Vector{Float64}\u001b[39m) at In[32]:11",
      "",
      "Stacktrace:",
      "  [1] chunk_mode_gradient(f::var\"#logf#22\"{DataFrame, Int64}, x::Vector{Float64}, cfg::ForwardDiff.GradientConfig{ForwardDiff.Tag{var\"#logf#22\"{DataFrame, Int64}, Float64}, Float64, 12, Vector{ForwardDiff.Dual{ForwardDiff.Tag{var\"#logf#22\"{DataFrame, Int64}, Float64}, Float64, 12}}})",
      "    @ ForwardDiff ~/.julia/packages/ForwardDiff/QOqCN/src/gradient.jl:150",
      "  [2] gradient(f::Function, x::Vector{Float64}, cfg::ForwardDiff.GradientConfig{ForwardDiff.Tag{var\"#logf#22\"{DataFrame, Int64}, Float64}, Float64, 12, Vector{ForwardDiff.Dual{ForwardDiff.Tag{var\"#logf#22\"{DataFrame, Int64}, Float64}, Float64, 12}}}, ::Val{true})",
      "    @ ForwardDiff ~/.julia/packages/ForwardDiff/QOqCN/src/gradient.jl:21",
      "  [3] gradient(f::Function, x::Vector{Float64}, cfg::ForwardDiff.GradientConfig{ForwardDiff.Tag{var\"#logf#22\"{DataFrame, Int64}, Float64}, Float64, 12, Vector{ForwardDiff.Dual{ForwardDiff.Tag{var\"#logf#22\"{DataFrame, Int64}, Float64}, Float64, 12}}}) (repeats 2 times)",
      "    @ ForwardDiff ~/.julia/packages/ForwardDiff/QOqCN/src/gradient.jl:17",
      "  [4] Δlogf",
      "    @ ./In[32]:25 [inlined]",
      "  [5] logfgrad",
      "    @ ./In[32]:29 [inlined]",
      "  [6] leapfrog(x::Vector{Float64}, r::Vector{Float64}, grad::Vector{Float64}, epsilon::Float64, logfgrad::var\"#logfgrad#24\"{var\"#Δlogf#23\"{var\"#logf#22\"{DataFrame, Int64}}, var\"#logf#22\"{DataFrame, Int64}})",
      "    @ Mamba ~/.julia/packages/Mamba/bdnmz/src/samplers/nuts.jl:129",
      "  [7] nutsepsilon(x::Vector{Float64}, logfgrad::Function)",
      "    @ Mamba ~/.julia/packages/Mamba/bdnmz/src/samplers/nuts.jl:190",
      "  [8] Mamba.NUTSTune(x::Vector{Float64}, logfgrad::Function; args::Base.Iterators.Pairs{Union{}, Union{}, Tuple{}, NamedTuple{(), Tuple{}}})",
      "    @ Mamba ~/.julia/packages/Mamba/bdnmz/src/samplers/nuts.jl:32",
      "  [9] NUTSTune",
      "    @ ~/.julia/packages/Mamba/bdnmz/src/samplers/nuts.jl:32 [inlined]",
      " [10] _",
      "    @ ~/.julia/packages/Mamba/bdnmz/src/Mamba.jl:147 [inlined]",
      " [11] NUTSVariate(x::Vector{Float64}, pargs::Function)",
      "    @ Mamba ~/.julia/packages/Mamba/bdnmz/src/Mamba.jl:146",
      " [12] xi_bayes(stations_df::DataFrame, niter::Int64, warmup::Int64)",
      "    @ Main ./In[32]:36",
      " [13] xi_bayes(stations_df::DataFrame)",
      "    @ Main ./In[32]:4",
      " [14] top-level scope",
      "    @ In[33]:1",
      " [15] eval",
      "    @ ./boot.jl:360 [inlined]",
      " [16] include_string(mapexpr::typeof(REPL.softscope), mod::Module, code::String, filename::String)",
      "    @ Base ./loading.jl:1094"
     ]
    }
   ],
   "source": [
    "xi_bayes(station_list)"
   ]
  },
  {
   "cell_type": "markdown",
   "id": "c60247cd",
   "metadata": {},
   "source": [
    "Les fonctions du package Mamba.jl semblant chancelantes pour des estimations multivariées, nous allons concevoir nous même l'algorithme. Nous allons donc pour ceci établir un algorithme d'échantillonage de Gibbs."
   ]
  },
  {
   "cell_type": "code",
   "execution_count": null,
   "id": "21b4e735",
   "metadata": {},
   "outputs": [],
   "source": [
    "function gibbs(stations_df::DataFrame, δ::Int, niter::Int=5000, warmup::Int=2000)\n",
    "    \n",
    "    # ---- valeurs initiales\n",
    "    N = nrow(stations_df)\n",
    "    initialvalues = Float64.([stations_df[:μ₀]; stations_df[:ϕ₀]; 0.0])\n",
    "    \n",
    "    \n",
    "    # ---- definition des fonctions qui serviront à la construction de la chaîne\n",
    "\n",
    "    # la fonction de log vraisemblance est celle vue au notebook 4\n",
    "    function logf(θ::Vector{Float64})\n",
    "        μ = θ[1:N]\n",
    "        ϕ = θ[N+1:(2*N)]\n",
    "        ξ = θ[2*N+1]\n",
    "\n",
    "        s=0\n",
    "        for i in 1:N\n",
    "            id = stations_df[i, :ID]\n",
    "            s -= logL(pcp(id, DURATION), μ[i], exp(ϕ[i]), ξ) # on met l'opposé de la log-vraisemblance\n",
    "        end\n",
    "\n",
    "        return s\n",
    "    end\n",
    "    \n",
    "    Δlogf(θ::Vector{Float64}) = ForwardDiff.gradient(logf, θ)\n",
    "    \n",
    "    function logfgrad(θ::Vector{Float64})\n",
    "        ll = logf(θ)\n",
    "        g = Δlogf(θ)\n",
    "        return ll, g\n",
    "    end\n",
    "    \n",
    "    # échantillonage\n",
    "    \n",
    "    sim = Chains(niter, 2*N+1, start = (warmup + 1))\n",
    "    \n",
    "end\n"
   ]
  }
 ],
 "metadata": {
  "kernelspec": {
   "display_name": "Julia 1.6.1",
   "language": "julia",
   "name": "julia-1.6"
  },
  "language_info": {
   "file_extension": ".jl",
   "mimetype": "application/julia",
   "name": "julia",
   "version": "1.6.1"
  }
 },
 "nbformat": 4,
 "nbformat_minor": 5
}
