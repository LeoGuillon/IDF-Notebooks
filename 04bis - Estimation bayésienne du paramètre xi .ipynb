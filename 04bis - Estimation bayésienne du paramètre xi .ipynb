{
 "cells": [
  {
   "cell_type": "markdown",
   "id": "373da6a7",
   "metadata": {},
   "source": [
    "# 04bis - Estimation bayésienne du paramètre xi\n",
    "\n",
    "Dans ce notebook, nous allons essayer de mettre en place une estimation bayésienne pour le parmaètre xi à l'ensemble des stations du québec, après l'estimation normale."
   ]
  },
  {
   "cell_type": "code",
   "execution_count": 2,
   "id": "55752338",
   "metadata": {},
   "outputs": [],
   "source": [
    "using CSV, DataFrames, StatsBase, Random\n",
    "\n",
    "using Distributions, Extremes, Optim\n",
    "\n",
    "using IDF\n",
    "\n",
    "import Plots"
   ]
  },
  {
   "cell_type": "code",
   "execution_count": 3,
   "id": "76f0643c",
   "metadata": {},
   "outputs": [
    {
     "data": {
      "text/plain": [
       "\"24 h\""
      ]
     },
     "execution_count": 3,
     "metadata": {},
     "output_type": "execute_result"
    }
   ],
   "source": [
    "PROVINCES = [\"NB\", \"NL\", \"NS\", \"ON\", \"PE\", \"QC\"]#provinces considerees\n",
    "\n",
    "DURATION = \"24 h\""
   ]
  },
  {
   "cell_type": "code",
   "execution_count": 4,
   "id": "a5a962d6",
   "metadata": {},
   "outputs": [
    {
     "data": {
      "text/html": [
       "<table class=\"data-frame\"><thead><tr><th></th><th>Name</th><th>Province</th><th>ID</th><th>Lat</th><th>Lon</th><th>Elevation</th></tr><tr><th></th><th>String</th><th>String</th><th>String</th><th>Float64</th><th>Float64</th><th>Int64</th></tr></thead><tbody><p>10 rows × 6 columns</p><tr><th>1</th><td>BEECHWOOD</td><td>NB</td><td>8100512</td><td>46.53</td><td>-67.67</td><td>91</td></tr><tr><th>2</th><td>BELLEDUNE</td><td>NB</td><td>8100514</td><td>47.9</td><td>-65.83</td><td>7</td></tr><tr><th>3</th><td>BOUCTOUCHE CDA CS</td><td>NB</td><td>8100593</td><td>46.43</td><td>-64.77</td><td>35</td></tr><tr><th>4</th><td>CHARLO AUTO</td><td>NB</td><td>8100885</td><td>47.98</td><td>-66.33</td><td>42</td></tr><tr><th>5</th><td>MIRAMICHI RCS</td><td>NB</td><td>8100989</td><td>47.02</td><td>-65.47</td><td>33</td></tr><tr><th>6</th><td>EDMUNDSTON</td><td>NB</td><td>8101303</td><td>47.42</td><td>-68.32</td><td>154</td></tr><tr><th>7</th><td>FREDERICTON A</td><td>NB</td><td>8101500</td><td>45.87</td><td>-66.53</td><td>20</td></tr><tr><th>8</th><td>FREDERICTON CDA CS</td><td>NB</td><td>8101605</td><td>45.92</td><td>-66.62</td><td>35</td></tr><tr><th>9</th><td>MONCTON INTL A</td><td>NB</td><td>8103201</td><td>46.12</td><td>-64.68</td><td>70</td></tr><tr><th>10</th><td>ROYAL ROAD</td><td>NB</td><td>8104480</td><td>46.05</td><td>-66.72</td><td>115</td></tr></tbody></table>"
      ],
      "text/latex": [
       "\\begin{tabular}{r|cccccc}\n",
       "\t& Name & Province & ID & Lat & Lon & Elevation\\\\\n",
       "\t\\hline\n",
       "\t& String & String & String & Float64 & Float64 & Int64\\\\\n",
       "\t\\hline\n",
       "\t1 & BEECHWOOD & NB & 8100512 & 46.53 & -67.67 & 91 \\\\\n",
       "\t2 & BELLEDUNE & NB & 8100514 & 47.9 & -65.83 & 7 \\\\\n",
       "\t3 & BOUCTOUCHE CDA CS & NB & 8100593 & 46.43 & -64.77 & 35 \\\\\n",
       "\t4 & CHARLO AUTO & NB & 8100885 & 47.98 & -66.33 & 42 \\\\\n",
       "\t5 & MIRAMICHI RCS & NB & 8100989 & 47.02 & -65.47 & 33 \\\\\n",
       "\t6 & EDMUNDSTON & NB & 8101303 & 47.42 & -68.32 & 154 \\\\\n",
       "\t7 & FREDERICTON A & NB & 8101500 & 45.87 & -66.53 & 20 \\\\\n",
       "\t8 & FREDERICTON CDA CS & NB & 8101605 & 45.92 & -66.62 & 35 \\\\\n",
       "\t9 & MONCTON INTL A & NB & 8103201 & 46.12 & -64.68 & 70 \\\\\n",
       "\t10 & ROYAL ROAD & NB & 8104480 & 46.05 & -66.72 & 115 \\\\\n",
       "\\end{tabular}\n"
      ],
      "text/plain": [
       "10×6 DataFrame. Omitted printing of 1 columns\n",
       "│ Row │ Name               │ Province │ ID      │ Lat     │ Lon     │\n",
       "│     │ \u001b[90mString\u001b[39m             │ \u001b[90mString\u001b[39m   │ \u001b[90mString\u001b[39m  │ \u001b[90mFloat64\u001b[39m │ \u001b[90mFloat64\u001b[39m │\n",
       "├─────┼────────────────────┼──────────┼─────────┼─────────┼─────────┤\n",
       "│ 1   │ BEECHWOOD          │ NB       │ 8100512 │ 46.53   │ -67.67  │\n",
       "│ 2   │ BELLEDUNE          │ NB       │ 8100514 │ 47.9    │ -65.83  │\n",
       "│ 3   │ BOUCTOUCHE CDA CS  │ NB       │ 8100593 │ 46.43   │ -64.77  │\n",
       "│ 4   │ CHARLO AUTO        │ NB       │ 8100885 │ 47.98   │ -66.33  │\n",
       "│ 5   │ MIRAMICHI RCS      │ NB       │ 8100989 │ 47.02   │ -65.47  │\n",
       "│ 6   │ EDMUNDSTON         │ NB       │ 8101303 │ 47.42   │ -68.32  │\n",
       "│ 7   │ FREDERICTON A      │ NB       │ 8101500 │ 45.87   │ -66.53  │\n",
       "│ 8   │ FREDERICTON CDA CS │ NB       │ 8101605 │ 45.92   │ -66.62  │\n",
       "│ 9   │ MONCTON INTL A     │ NB       │ 8103201 │ 46.12   │ -64.68  │\n",
       "│ 10  │ ROYAL ROAD         │ NB       │ 8104480 │ 46.05   │ -66.72  │"
      ]
     },
     "execution_count": 4,
     "metadata": {},
     "output_type": "execute_result"
    }
   ],
   "source": [
    "station_list = load_data(\"station_list\")\n",
    "\n",
    "filter!(row -> row.Province ∈ PROVINCES , station_list)#on ne selectionne que les stations qui nous interessent\n",
    "\n",
    "first(station_list, 10)"
   ]
  },
  {
   "cell_type": "code",
   "execution_count": null,
   "id": "52723f8e",
   "metadata": {},
   "outputs": [],
   "source": []
  }
 ],
 "metadata": {
  "kernelspec": {
   "display_name": "Julia 1.6.1",
   "language": "julia",
   "name": "julia-1.6"
  },
  "language_info": {
   "file_extension": ".jl",
   "mimetype": "application/julia",
   "name": "julia",
   "version": "1.6.1"
  }
 },
 "nbformat": 4,
 "nbformat_minor": 5
}
