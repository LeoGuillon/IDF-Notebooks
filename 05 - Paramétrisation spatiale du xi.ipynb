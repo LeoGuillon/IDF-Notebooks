{
 "cells": [
  {
   "cell_type": "markdown",
   "id": "df4048eb",
   "metadata": {},
   "source": [
    "# 05 - Paramétrisation spatiale du xi\n",
    "\n",
    "Dans ce notebook, nous allons créer un modèle spatial pour le paramètre xi des lois GEV."
   ]
  },
  {
   "cell_type": "code",
   "execution_count": 1,
   "id": "880ba2ab",
   "metadata": {},
   "outputs": [],
   "source": [
    "using CSV, DataFrames, StatsBase, Random\n",
    "\n",
    "using Distributions, Extremes, Optim\n",
    "\n",
    "using Mamba, ForwardDiff, ProgressMeter\n",
    "\n",
    "using IDF\n",
    "\n",
    "import Plots"
   ]
  },
  {
   "cell_type": "code",
   "execution_count": 2,
   "id": "ebdef4c2",
   "metadata": {},
   "outputs": [
    {
     "data": {
      "text/plain": [
       "\"24 h\""
      ]
     },
     "execution_count": 2,
     "metadata": {},
     "output_type": "execute_result"
    }
   ],
   "source": [
    "PROVINCES = [\"NB\", \"NL\", \"NS\", \"ON\", \"PE\", \"QC\"]#provinces considerees\n",
    "\n",
    "DURATION = \"24 h\""
   ]
  },
  {
   "cell_type": "code",
   "execution_count": 3,
   "id": "f67ea292",
   "metadata": {},
   "outputs": [
    {
     "data": {
      "text/html": [
       "<table class=\"data-frame\"><thead><tr><th></th><th>Name</th><th>Province</th><th>ID</th><th>Lat</th><th>Lon</th><th>Elevation</th></tr><tr><th></th><th>String</th><th>String</th><th>String</th><th>Float64</th><th>Float64</th><th>Int64</th></tr></thead><tbody><p>10 rows × 6 columns</p><tr><th>1</th><td>BEECHWOOD</td><td>NB</td><td>8100512</td><td>46.53</td><td>-67.67</td><td>91</td></tr><tr><th>2</th><td>BELLEDUNE</td><td>NB</td><td>8100514</td><td>47.9</td><td>-65.83</td><td>7</td></tr><tr><th>3</th><td>BOUCTOUCHE CDA CS</td><td>NB</td><td>8100593</td><td>46.43</td><td>-64.77</td><td>35</td></tr><tr><th>4</th><td>CHARLO AUTO</td><td>NB</td><td>8100885</td><td>47.98</td><td>-66.33</td><td>42</td></tr><tr><th>5</th><td>MIRAMICHI RCS</td><td>NB</td><td>8100989</td><td>47.02</td><td>-65.47</td><td>33</td></tr><tr><th>6</th><td>EDMUNDSTON</td><td>NB</td><td>8101303</td><td>47.42</td><td>-68.32</td><td>154</td></tr><tr><th>7</th><td>FREDERICTON A</td><td>NB</td><td>8101500</td><td>45.87</td><td>-66.53</td><td>20</td></tr><tr><th>8</th><td>FREDERICTON CDA CS</td><td>NB</td><td>8101605</td><td>45.92</td><td>-66.62</td><td>35</td></tr><tr><th>9</th><td>MONCTON INTL A</td><td>NB</td><td>8103201</td><td>46.12</td><td>-64.68</td><td>70</td></tr><tr><th>10</th><td>ROYAL ROAD</td><td>NB</td><td>8104480</td><td>46.05</td><td>-66.72</td><td>115</td></tr></tbody></table>"
      ],
      "text/latex": [
       "\\begin{tabular}{r|cccccc}\n",
       "\t& Name & Province & ID & Lat & Lon & Elevation\\\\\n",
       "\t\\hline\n",
       "\t& String & String & String & Float64 & Float64 & Int64\\\\\n",
       "\t\\hline\n",
       "\t1 & BEECHWOOD & NB & 8100512 & 46.53 & -67.67 & 91 \\\\\n",
       "\t2 & BELLEDUNE & NB & 8100514 & 47.9 & -65.83 & 7 \\\\\n",
       "\t3 & BOUCTOUCHE CDA CS & NB & 8100593 & 46.43 & -64.77 & 35 \\\\\n",
       "\t4 & CHARLO AUTO & NB & 8100885 & 47.98 & -66.33 & 42 \\\\\n",
       "\t5 & MIRAMICHI RCS & NB & 8100989 & 47.02 & -65.47 & 33 \\\\\n",
       "\t6 & EDMUNDSTON & NB & 8101303 & 47.42 & -68.32 & 154 \\\\\n",
       "\t7 & FREDERICTON A & NB & 8101500 & 45.87 & -66.53 & 20 \\\\\n",
       "\t8 & FREDERICTON CDA CS & NB & 8101605 & 45.92 & -66.62 & 35 \\\\\n",
       "\t9 & MONCTON INTL A & NB & 8103201 & 46.12 & -64.68 & 70 \\\\\n",
       "\t10 & ROYAL ROAD & NB & 8104480 & 46.05 & -66.72 & 115 \\\\\n",
       "\\end{tabular}\n"
      ],
      "text/plain": [
       "10×6 DataFrame. Omitted printing of 1 columns\n",
       "│ Row │ Name               │ Province │ ID      │ Lat     │ Lon     │\n",
       "│     │ \u001b[90mString\u001b[39m             │ \u001b[90mString\u001b[39m   │ \u001b[90mString\u001b[39m  │ \u001b[90mFloat64\u001b[39m │ \u001b[90mFloat64\u001b[39m │\n",
       "├─────┼────────────────────┼──────────┼─────────┼─────────┼─────────┤\n",
       "│ 1   │ BEECHWOOD          │ NB       │ 8100512 │ 46.53   │ -67.67  │\n",
       "│ 2   │ BELLEDUNE          │ NB       │ 8100514 │ 47.9    │ -65.83  │\n",
       "│ 3   │ BOUCTOUCHE CDA CS  │ NB       │ 8100593 │ 46.43   │ -64.77  │\n",
       "│ 4   │ CHARLO AUTO        │ NB       │ 8100885 │ 47.98   │ -66.33  │\n",
       "│ 5   │ MIRAMICHI RCS      │ NB       │ 8100989 │ 47.02   │ -65.47  │\n",
       "│ 6   │ EDMUNDSTON         │ NB       │ 8101303 │ 47.42   │ -68.32  │\n",
       "│ 7   │ FREDERICTON A      │ NB       │ 8101500 │ 45.87   │ -66.53  │\n",
       "│ 8   │ FREDERICTON CDA CS │ NB       │ 8101605 │ 45.92   │ -66.62  │\n",
       "│ 9   │ MONCTON INTL A     │ NB       │ 8103201 │ 46.12   │ -64.68  │\n",
       "│ 10  │ ROYAL ROAD         │ NB       │ 8104480 │ 46.05   │ -66.72  │"
      ]
     },
     "execution_count": 3,
     "metadata": {},
     "output_type": "execute_result"
    }
   ],
   "source": [
    "station_list = load_data(\"station_list\")\n",
    "\n",
    "filter!(row -> row.Province ∈ PROVINCES , station_list)#on ne selectionne que les stations qui nous interessent\n",
    "\n",
    "first(station_list, 10)"
   ]
  },
  {
   "cell_type": "code",
   "execution_count": 8,
   "id": "c32e5c3e",
   "metadata": {},
   "outputs": [
    {
     "data": {
      "text/plain": [
       "5-element Vector{Vector{Float64}}:\n",
       " [118.6, 45.2, 69.3, 56.4, 46.0, 43.9, 74.2, 50.3, 54.6, 92.2]\n",
       " [48.8, 50.5, 54.1, 38.9, 47.0, 55.1, 45.0, 23.0, 45.0, 55.1, 85.6, 28.4, 50.6, 41.5, 35.8, 48.2, 37.8, 38.9]\n",
       " [45.0, 55.4, 65.1, 58.3, 38.0, 61.8, 38.2, 95.8, 62.8, 71.0, 67.4, 64.0, 77.2, 64.2, 59.4, 39.6, 64.0]\n",
       " [55.4, 44.4, 54.4, 74.4, 54.9, 32.0, 55.4, 46.7, 53.3, 46.7  …  49.6, 103.8, 50.4, 62.0, 57.2, 58.4, 60.8, 75.0, 46.6, 49.2]\n",
       " [25.1, 34.3, 42.9, 45.0, 54.6, 72.9, 53.6, 40.9, 41.1, 48.3  …  57.8, 33.0, 68.0, 78.0, 49.2, 61.8, 52.8, 80.6, 118.2, 147.0]"
      ]
     },
     "execution_count": 8,
     "metadata": {},
     "output_type": "execute_result"
    }
   ],
   "source": [
    "Y = Vector{Float64}[]\n",
    "\n",
    "# for i=1:size(station_list,1)\n",
    "for stationID in station_list[:,:ID]\n",
    "#     stationID = station_list[i,:ID]\n",
    "    y = IDF.pcp(stationID, DURATION)\n",
    "    push!(Y,y)\n",
    "end\n",
    "\n",
    "first(Y, 5)"
   ]
  },
  {
   "cell_type": "markdown",
   "id": "e6058dc2",
   "metadata": {},
   "source": [
    "Chargeons la grille des précipitations moyennes :"
   ]
  },
  {
   "cell_type": "code",
   "execution_count": 5,
   "id": "80da421c",
   "metadata": {},
   "outputs": [
    {
     "data": {
      "text/html": [
       "<table class=\"data-frame\"><thead><tr><th></th><th>Lat</th><th>Lon</th><th>meanPcp</th></tr><tr><th></th><th>Float64</th><th>Float64</th><th>Float64</th></tr></thead><tbody><p>5 rows × 3 columns</p><tr><th>1</th><td>42.4558</td><td>-94.9948</td><td>2.41792</td></tr><tr><th>2</th><td>42.5658</td><td>-94.9909</td><td>2.42233</td></tr><tr><th>3</th><td>42.6758</td><td>-94.987</td><td>2.41666</td></tr><tr><th>4</th><td>42.7857</td><td>-94.9832</td><td>2.46305</td></tr><tr><th>5</th><td>42.8957</td><td>-94.9792</td><td>2.47048</td></tr></tbody></table>"
      ],
      "text/latex": [
       "\\begin{tabular}{r|ccc}\n",
       "\t& Lat & Lon & meanPcp\\\\\n",
       "\t\\hline\n",
       "\t& Float64 & Float64 & Float64\\\\\n",
       "\t\\hline\n",
       "\t1 & 42.4558 & -94.9948 & 2.41792 \\\\\n",
       "\t2 & 42.5658 & -94.9909 & 2.42233 \\\\\n",
       "\t3 & 42.6758 & -94.987 & 2.41666 \\\\\n",
       "\t4 & 42.7857 & -94.9832 & 2.46305 \\\\\n",
       "\t5 & 42.8957 & -94.9792 & 2.47048 \\\\\n",
       "\\end{tabular}\n"
      ],
      "text/plain": [
       "5×3 DataFrame\n",
       "│ Row │ Lat     │ Lon      │ meanPcp │\n",
       "│     │ \u001b[90mFloat64\u001b[39m │ \u001b[90mFloat64\u001b[39m  │ \u001b[90mFloat64\u001b[39m │\n",
       "├─────┼─────────┼──────────┼─────────┤\n",
       "│ 1   │ 42.4558 │ -94.9948 │ 2.41792 │\n",
       "│ 2   │ 42.5658 │ -94.9909 │ 2.42233 │\n",
       "│ 3   │ 42.6758 │ -94.987  │ 2.41666 │\n",
       "│ 4   │ 42.7857 │ -94.9832 │ 2.46305 │\n",
       "│ 5   │ 42.8957 │ -94.9792 │ 2.47048 │"
      ]
     },
     "execution_count": 5,
     "metadata": {},
     "output_type": "execute_result"
    }
   ],
   "source": [
    "crcm = IDF.load_data(\"CROQmeanPcp\")\n",
    "\n",
    "lat = reshape(crcm[:,1],300,300)\n",
    "lon = reshape(crcm[:,2],300,300)\n",
    "pcp = reshape(crcm[:,3],300,300)\n",
    "\n",
    "latlim = [60, 253];\n",
    "lonlim = [20, 270];\n",
    "\n",
    "lat = lat[latlim[1]:latlim[2],lonlim[1]:lonlim[2]]\n",
    "lon = lon[latlim[1]:latlim[2],lonlim[1]:lonlim[2]]\n",
    "pcp = pcp[latlim[1]:latlim[2],lonlim[1]:lonlim[2]]\n",
    "\n",
    "m₁, m₂ = size(lat)\n",
    "m = m₁*m₂\n",
    "\n",
    "griddedCovariate = DataFrame(Lat = vec(lat), Lon = vec(lon), meanPcp = vec(pcp))\n",
    "first(griddedCovariate,5)"
   ]
  }
 ],
 "metadata": {
  "kernelspec": {
   "display_name": "Julia 1.6.1",
   "language": "julia",
   "name": "julia-1.6"
  },
  "language_info": {
   "file_extension": ".jl",
   "mimetype": "application/julia",
   "name": "julia",
   "version": "1.6.1"
  }
 },
 "nbformat": 4,
 "nbformat_minor": 5
}
