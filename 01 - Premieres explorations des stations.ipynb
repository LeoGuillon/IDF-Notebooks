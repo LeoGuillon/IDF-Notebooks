{
 "cells": [
  {
   "cell_type": "markdown",
   "metadata": {},
   "source": [
    "# Premières estimations sur les stations météorologiques\n",
    "\n",
    "Dans ce notebook, nous allons effectuer une prise en main de Julia, des données ainsi que des lois d'estimation GEV (Generalized Extreme Values).\n",
    "\n",
    "Dans l'ordre, nous allons :\n",
    "\n",
    "1. Charger et correctement mettre en forme les données météorologiques\n",
    "2. Définir les fonctions d'estimation\n",
    "3. Estimer par la log-vraisemblance les paramètres pour chaque station :\n",
    "    a) d'abord sans spécifier le paramètre $\\xi$.\n",
    "    b) puis en considérant que toutes les stations disposent du même paramètre $\\xi$.\n",
    "4. Vérifier les proximités des paramètres pour les stations voisines"
   ]
  },
  {
   "cell_type": "markdown",
   "metadata": {},
   "source": [
    "## 0. Chargement des bibliothèques utiles et des variables globales"
   ]
  },
  {
   "cell_type": "code",
   "execution_count": 1,
   "metadata": {},
   "outputs": [
    {
     "data": {
      "text/plain": [
       "BIC_GEVF (generic function with 1 method)"
      ]
     },
     "execution_count": 1,
     "metadata": {},
     "output_type": "execute_result"
    }
   ],
   "source": [
    "using CSV, DataFrames, Distributions, Random, StatsBase\n",
    "using Extremes, Dates, Gadfly\n",
    "using Optim\n",
    "\n",
    "import Plots #pour faire des graphiques\n",
    "\n",
    "include(\"functions.jl\")"
   ]
  },
  {
   "cell_type": "code",
   "execution_count": 2,
   "metadata": {},
   "outputs": [
    {
     "data": {
      "text/plain": [
       "6-element Vector{String}:\n",
       " \"NB\"\n",
       " \"NL\"\n",
       " \"NS\"\n",
       " \"ON\"\n",
       " \"PE\"\n",
       " \"QC\""
      ]
     },
     "execution_count": 2,
     "metadata": {},
     "output_type": "execute_result"
    }
   ],
   "source": [
    "PROVINCES = [\"NB\", \"NL\", \"NS\", \"ON\", \"PE\", \"QC\"]#provinces considerees"
   ]
  },
  {
   "cell_type": "markdown",
   "metadata": {},
   "source": [
    "## 1. Chargement et mise en forme des données"
   ]
  },
  {
   "cell_type": "code",
   "execution_count": 3,
   "metadata": {},
   "outputs": [
    {
     "ename": "LoadError",
     "evalue": "ArgumentError: \"dat/_station_list.csv\" is not a valid file",
     "output_type": "error",
     "traceback": [
      "ArgumentError: \"dat/_station_list.csv\" is not a valid file",
      "",
      "Stacktrace:",
      " [1] CSV.Header(source::String, header::Int64, normalizenames::Bool, datarow::Int64, skipto::Nothing, footerskip::Int64, transpose::Bool, comment::Nothing, use_mmap::Nothing, ignoreemptylines::Bool, select::Nothing, drop::Nothing, missingstrings::Vector{String}, missingstring::String, delim::Nothing, ignorerepeated::Bool, quotechar::Char, openquotechar::Nothing, closequotechar::Nothing, escapechar::Char, dateformat::Nothing, dateformats::Nothing, decimal::UInt8, truestrings::Vector{String}, falsestrings::Vector{String}, type::Nothing, types::Nothing, typemap::Dict{Type, Type}, categorical::Nothing, pool::Float64, lazystrings::Bool, strict::Bool, silencewarnings::Bool, debug::Bool, parsingdebug::Bool, streaming::Bool)",
      "   @ CSV ~/.julia/packages/CSV/UIgP3/src/header.jl:92",
      " [2] CSV.File(source::String; header::Int64, normalizenames::Bool, datarow::Int64, skipto::Nothing, footerskip::Int64, transpose::Bool, comment::Nothing, use_mmap::Nothing, ignoreemptylines::Bool, select::Nothing, drop::Nothing, missingstrings::Vector{String}, missingstring::String, delim::Nothing, ignorerepeated::Bool, quotechar::Char, openquotechar::Nothing, closequotechar::Nothing, escapechar::Char, dateformat::Nothing, dateformats::Nothing, decimal::UInt8, truestrings::Vector{String}, falsestrings::Vector{String}, type::Nothing, types::Nothing, typemap::Dict{Type, Type}, categorical::Nothing, pool::Float64, lazystrings::Bool, strict::Bool, silencewarnings::Bool, debug::Bool, parsingdebug::Bool, kw::Base.Iterators.Pairs{Union{}, Union{}, Tuple{}, NamedTuple{(), Tuple{}}})",
      "   @ CSV ~/.julia/packages/CSV/UIgP3/src/file.jl:216",
      " [3] CSV.File(source::String)",
      "   @ CSV ~/.julia/packages/CSV/UIgP3/src/file.jl:216",
      " [4] read(source::String, sink::Type; copycols::Bool, kwargs::Base.Iterators.Pairs{Union{}, Union{}, Tuple{}, NamedTuple{(), Tuple{}}})",
      "   @ CSV ~/.julia/packages/CSV/UIgP3/src/CSV.jl:50",
      " [5] read(source::String, sink::Type)",
      "   @ CSV ~/.julia/packages/CSV/UIgP3/src/CSV.jl:46",
      " [6] top-level scope",
      "   @ In[3]:1",
      " [7] eval",
      "   @ ./boot.jl:360 [inlined]",
      " [8] include_string(mapexpr::typeof(REPL.softscope), mod::Module, code::String, filename::String)",
      "   @ Base ./loading.jl:1094"
     ]
    }
   ],
   "source": [
    "station_list = CSV.read(\"dat/_station_list.csv\", DataFrame)\n",
    "\n",
    "filter!(row -> row.Province ∈ PROVINCES , station_list)#on ne selectionne que les stations qui nous interessent\n",
    "\n",
    "first(station_list, 10)"
   ]
  },
  {
   "cell_type": "code",
   "execution_count": 4,
   "metadata": {},
   "outputs": [
    {
     "ename": "LoadError",
     "evalue": "UndefVarError: station_list not defined",
     "output_type": "error",
     "traceback": [
      "UndefVarError: station_list not defined",
      "",
      "Stacktrace:",
      " [1] top-level scope",
      "   @ ./In[4]:7",
      " [2] eval",
      "   @ ./boot.jl:360 [inlined]",
      " [3] include_string(mapexpr::typeof(REPL.softscope), mod::Module, code::String, filename::String)",
      "   @ Base ./loading.jl:1094"
     ]
    }
   ],
   "source": [
    "dat = DataFrame(StationName = String[],\n",
    "                StationID = String[],\n",
    "                Year = Int64[],\n",
    "                Duration = String[],\n",
    "                Pcp = Float64[])\n",
    "\n",
    "for i in 1:(nrow(station_list))\n",
    "    df = load_station(station_list[i,:ID])\n",
    "    df[!, :StationName] .= station_list[i,:Name]\n",
    "    df[!, :StationID] .= station_list[i, :ID]\n",
    "    append!(dat, df)\n",
    "end\n",
    "\n",
    "first(dat, 10)"
   ]
  },
  {
   "cell_type": "markdown",
   "metadata": {},
   "source": [
    "On sélectionne ensuite les stations pour lequels il y a une duree d'enregistrement souhaitee (stocké dans la variable DURATION)"
   ]
  },
  {
   "cell_type": "code",
   "execution_count": 5,
   "metadata": {},
   "outputs": [
    {
     "data": {
      "text/html": [
       "<table class=\"data-frame\"><thead><tr><th></th><th>StationName</th><th>StationID</th><th>Year</th><th>Duration</th><th>Pcp</th></tr><tr><th></th><th>String</th><th>String</th><th>Int64</th><th>String</th><th>Float64</th></tr></thead><tbody><p>0 rows × 5 columns</p></tbody></table>"
      ],
      "text/latex": [
       "\\begin{tabular}{r|ccccc}\n",
       "\t& StationName & StationID & Year & Duration & Pcp\\\\\n",
       "\t\\hline\n",
       "\t& String & String & Int64 & String & Float64\\\\\n",
       "\t\\hline\n",
       "\\end{tabular}\n"
      ],
      "text/plain": [
       "0×5 DataFrame\n"
      ]
     },
     "execution_count": 5,
     "metadata": {},
     "output_type": "execute_result"
    }
   ],
   "source": [
    "DURATION = \"24 h\"\n",
    "\n",
    "filter!(row -> row[:Duration] == DURATION, dat)\n",
    "first(dat, 10)"
   ]
  },
  {
   "cell_type": "markdown",
   "metadata": {},
   "source": [
    "## 2. Fonctions utiles pour la suite"
   ]
  },
  {
   "cell_type": "code",
   "execution_count": 6,
   "metadata": {},
   "outputs": [
    {
     "data": {
      "text/plain": [
       "Pcp (generic function with 1 method)"
      ]
     },
     "execution_count": 6,
     "metadata": {},
     "output_type": "execute_result"
    }
   ],
   "source": [
    "# fonction pour avoir directement\n",
    "function Pcp(stationID::String)\n",
    "    y = dat[dat[:,:StationID].== stationID,:Pcp]\n",
    "    return y\n",
    "end"
   ]
  },
  {
   "cell_type": "markdown",
   "metadata": {},
   "source": [
    "On définit ensuite deux fonctions assez similaires, permettant pour un vecteur donné d'estimer les parametres de la GEV correspondante, à l'aide du package Optim.\n",
    "\n",
    "La première fonction estime tous les paramètres, tandis que la deuxième prend en paramètre un $\\xi$ fixé, pour les deux modes d'estimation différents de la suite."
   ]
  },
  {
   "cell_type": "code",
   "execution_count": 7,
   "metadata": {},
   "outputs": [
    {
     "data": {
      "text/plain": [
       "GEVparameters (generic function with 1 method)"
      ]
     },
     "execution_count": 7,
     "metadata": {},
     "output_type": "execute_result"
    }
   ],
   "source": [
    "function GEVparameters(Y::Vector{Float64})\n",
    "    function f(p::Vector{Float64})\n",
    "        return -logL(Y, p[1], p[2], p[3])\n",
    "    end\n",
    "    \n",
    "    μ₀ = mean(Y)\n",
    "    σ₀ = std(Y)\n",
    "    ξ₀ = 0\n",
    "    p₀ = [μ₀, σ₀, ξ₀]\n",
    "    p = p₀\n",
    "    \n",
    "    try\n",
    "        res = optimize(f, p₀)\n",
    "        \n",
    "         \n",
    "        if Optim.converged(res)\n",
    "            p = Optim.minimizer(res)\n",
    "        else\n",
    "            @warn \"The maximum likelihood algorithm did not find a solution. Maybe try with different initial values or with another method. The returned values are the initial values.\"\n",
    "            p = p₀\n",
    "        end\n",
    "        \n",
    "    catch\n",
    "        println(\"Error of scale with this vector\")\n",
    "    end\n",
    "   \n",
    "    \n",
    "    return p\n",
    "end"
   ]
  },
  {
   "cell_type": "code",
   "execution_count": 8,
   "metadata": {},
   "outputs": [
    {
     "data": {
      "text/plain": [
       "GEVparameters_xi (generic function with 1 method)"
      ]
     },
     "execution_count": 8,
     "metadata": {},
     "output_type": "execute_result"
    }
   ],
   "source": [
    "function GEVparameters_xi(Y::Vector{Float64}, ξ::Real)\n",
    "    function f(p::Vector{Float64})\n",
    "        return -logL(Y, p[1], p[2], ξ)\n",
    "    end\n",
    "    \n",
    "    μ₀ = mean(Y)\n",
    "    σ₀ = std(Y)\n",
    "    p₀ = [μ₀, σ₀]\n",
    "    p = p₀\n",
    "    \n",
    "    try\n",
    "        res = optimize(f, p₀)\n",
    "        \n",
    "         \n",
    "        if Optim.converged(res)\n",
    "            p = Optim.minimizer(res)\n",
    "        else\n",
    "            @warn \"The maximum likelihood algorithm did not find a solution. Maybe try with different initial values or with another method. The returned values are the initial values.\"\n",
    "            p = p₀\n",
    "        end\n",
    "        \n",
    "    catch\n",
    "        println(\"Error of scale with this vector\")\n",
    "    end\n",
    "   \n",
    "    \n",
    "    return p\n",
    "end"
   ]
  },
  {
   "cell_type": "code",
   "execution_count": null,
   "metadata": {},
   "outputs": [],
   "source": []
  },
  {
   "cell_type": "markdown",
   "metadata": {},
   "source": [
    "## 3. Estimation"
   ]
  },
  {
   "cell_type": "markdown",
   "metadata": {},
   "source": [
    "On commence avec une estimation des parametres en considérant que les xi sont indépendants."
   ]
  },
  {
   "cell_type": "code",
   "execution_count": 9,
   "metadata": {},
   "outputs": [
    {
     "ename": "LoadError",
     "evalue": "UndefVarError: station_list not defined",
     "output_type": "error",
     "traceback": [
      "UndefVarError: station_list not defined",
      "",
      "Stacktrace:",
      " [1] top-level scope",
      "   @ ./In[9]:7",
      " [2] eval",
      "   @ ./boot.jl:360 [inlined]",
      " [3] include_string(mapexpr::typeof(REPL.softscope), mod::Module, code::String, filename::String)",
      "   @ Base ./loading.jl:1094"
     ]
    }
   ],
   "source": [
    "parameters = DataFrame(StationName = String[],\n",
    "                        StationID = String[],\n",
    "                        μₒ = Float64[],\n",
    "                        ϕₒ = Float64[],\n",
    "                        ξₒ = Float64[])\n",
    "\n",
    "for i in 1:(nrow(station_list))\n",
    "    y = Pcp(station_list[i, :ID])\n",
    "    par_optim = GEVparameters(y)\n",
    "    df = DataFrame(StationName = station_list[i, :Name],\n",
    "                    StationID = station_list[i, :ID],\n",
    "                    μₒ = par_optim[1],\n",
    "                    ϕₒ = log(par_optim[2]),\n",
    "                    ξₒ = par_optim[3])\n",
    "    append!(parameters, df)\n",
    "end\n",
    "\n",
    "CSV.write(\"results/parameters_$DURATION.csv\", parameters)\n",
    "first(parameters, 10)"
   ]
  },
  {
   "cell_type": "code",
   "execution_count": 10,
   "metadata": {},
   "outputs": [
    {
     "ename": "LoadError",
     "evalue": "UndefVarError: station_list not defined",
     "output_type": "error",
     "traceback": [
      "UndefVarError: station_list not defined",
      "",
      "Stacktrace:",
      " [1] top-level scope",
      "   @ ./In[10]:8",
      " [2] eval",
      "   @ ./boot.jl:360 [inlined]",
      " [3] include_string(mapexpr::typeof(REPL.softscope), mod::Module, code::String, filename::String)",
      "   @ Base ./loading.jl:1094"
     ]
    }
   ],
   "source": [
    "ξ = 0 #parametre xi a ajuster\n",
    "\n",
    "parameters_xi = DataFrame(StationName = String[],\n",
    "                        StationID = String[],\n",
    "                        μ = Float64[],\n",
    "                        σ = Float64[])\n",
    "\n",
    "for i in 1:(nrow(station_list))\n",
    "    y = Pcp(station_list[i, :ID])\n",
    "    par = GEVparameters_xi(y, ξ)\n",
    "    df = DataFrame(StationName = station_list[i, :Name],\n",
    "                    StationID = station_list[i, :ID],\n",
    "                    μ = par[1],\n",
    "                    σ = par[2])\n",
    "    append!(parameters_xi, df)\n",
    "end\n",
    "\n",
    "CSV.write(\"results/parameters_$DURATION _$ξ.csv\", parameters_xi)\n",
    "\n",
    "first(parameters_xi, 10)"
   ]
  },
  {
   "cell_type": "markdown",
   "metadata": {},
   "source": [
    "### Utilisation du package Extremes"
   ]
  },
  {
   "cell_type": "code",
   "execution_count": 11,
   "metadata": {},
   "outputs": [
    {
     "ename": "LoadError",
     "evalue": "UndefVarError: station_list not defined",
     "output_type": "error",
     "traceback": [
      "UndefVarError: station_list not defined",
      "",
      "Stacktrace:",
      " [1] top-level scope",
      "   @ ./In[11]:8",
      " [2] eval",
      "   @ ./boot.jl:360 [inlined]",
      " [3] include_string(mapexpr::typeof(REPL.softscope), mod::Module, code::String, filename::String)",
      "   @ Base ./loading.jl:1094"
     ]
    }
   ],
   "source": [
    "parameters_ex = DataFrame(StationName = String[],\n",
    "                        StationID = String[],\n",
    "                        μₑ = Float64[],\n",
    "                        ϕₑ = Float64[],\n",
    "                        ξₑ = Float64[],\n",
    "                        BIC = Float64[])\n",
    "\n",
    "for i in 1:(nrow(station_list))\n",
    "    y = Pcp(station_list[i, :ID])\n",
    "    \n",
    "    μ₀ = mean(y)\n",
    "    ϕ₀ = log(std(y))\n",
    "    ξ₀ = 0\n",
    "    p₀ = [μ₀, ϕ₀, ξ₀]\n",
    "    par_ex = p₀\n",
    "    BIC_var = 0\n",
    "    \n",
    "    try\n",
    "        par_ex = gevfit(y).θ̂\n",
    "        BIC_var = BIC_GEV(y)\n",
    "    catch\n",
    "        println(\"L'algorithme n'a pas convergé\")\n",
    "    end\n",
    "    \n",
    "    df = DataFrame(StationName = station_list[i, :Name],\n",
    "                        StationID = station_list[i, :ID],\n",
    "                        μₑ = par_ex[1],\n",
    "                        ϕₑ = par_ex[2],\n",
    "                        ξₑ = par_ex[3],\n",
    "                        BIC = BIC_var)\n",
    "    \n",
    "    append!(parameters_ex, df)\n",
    "end\n",
    "\n",
    "CSV.write(\"results/parameters_ex_$DURATION.csv\", parameters_ex)\n",
    "first(parameters_ex, 10)"
   ]
  },
  {
   "cell_type": "code",
   "execution_count": 12,
   "metadata": {},
   "outputs": [
    {
     "ename": "LoadError",
     "evalue": "UndefVarError: station_list not defined",
     "output_type": "error",
     "traceback": [
      "UndefVarError: station_list not defined",
      "",
      "Stacktrace:",
      " [1] top-level scope",
      "   @ ./In[12]:7",
      " [2] eval",
      "   @ ./boot.jl:360 [inlined]",
      " [3] include_string(mapexpr::typeof(REPL.softscope), mod::Module, code::String, filename::String)",
      "   @ Base ./loading.jl:1094"
     ]
    }
   ],
   "source": [
    "parameters_δ = DataFrame(StationName = String[],\n",
    "                        StationID = String[],\n",
    "                        δμ = Float64[],\n",
    "                        δϕ = Float64[],\n",
    "                        δξ = Float64[])\n",
    "\n",
    "for i in 1:(nrow(station_list))    \n",
    "    df = DataFrame(StationName = station_list[i, :Name],\n",
    "                        StationID = station_list[i, :ID],\n",
    "                        δμ = parameters[i, :μₒ] - parameters_ex[i, :μₑ],\n",
    "                        δϕ = parameters[i, :ϕₒ] - parameters_ex[i, :ϕₑ],\n",
    "                        δξ = parameters[i, :ξₒ] - parameters_ex[i, :ξₑ])\n",
    "    \n",
    "    append!(parameters_δ, df)\n",
    "end\n",
    "\n",
    "CSV.write(\"results/parameters_diff_$DURATION.csv\", parameters_δ)\n",
    "first(parameters_δ, 10)"
   ]
  }
 ],
 "metadata": {
  "kernelspec": {
   "display_name": "Julia 1.6.1",
   "language": "julia",
   "name": "julia-1.6"
  },
  "language_info": {
   "file_extension": ".jl",
   "mimetype": "application/julia",
   "name": "julia",
   "version": "1.6.1"
  }
 },
 "nbformat": 4,
 "nbformat_minor": 4
}
