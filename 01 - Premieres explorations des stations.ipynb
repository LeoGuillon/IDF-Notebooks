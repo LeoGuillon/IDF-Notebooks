{
 "cells": [
  {
   "cell_type": "markdown",
   "metadata": {},
   "source": [
    "# Premières estimations sur les stations météorologiques\n",
    "\n",
    "Dans ce notebook, nous allons effectuer une prise en main de Julia, des données ainsi que des lois d'estimation GEV (Generalized Extreme Values).\n",
    "\n",
    "Dans l'ordre, nous allons :\n",
    "\n",
    "1. Charger et correctement mettre en forme les données météorologiques\n",
    "2. Définir les fonctions d'estimation\n",
    "3. Estimer par la log-vraisemblance les paramètres pour chaque station :\n",
    "    a) d'abord sans spécifier le paramètre $\\xi$.\n",
    "    b) puis en considérant que toutes les stations disposent du même paramètre $\\xi$.\n",
    "4. Vérifier les proximités des paramètres pour les stations voisines"
   ]
  },
  {
   "cell_type": "markdown",
   "metadata": {},
   "source": [
    "## 0. Chargement des bibliothèques utiles et des variables globales"
   ]
  },
  {
   "cell_type": "code",
   "execution_count": 2,
   "metadata": {},
   "outputs": [
    {
     "data": {
      "text/plain": [
       "BIC_GEV (generic function with 1 method)"
      ]
     },
     "execution_count": 2,
     "metadata": {},
     "output_type": "execute_result"
    }
   ],
   "source": [
    "using CSV, DataFrames, Distributions, Random, StatsBase\n",
    "using Extremes, Dates, Gadfly\n",
    "using Optim\n",
    "\n",
    "import Plots #pour faire des graphiques\n",
    "\n",
    "include(\"functions.jl\")"
   ]
  },
  {
   "cell_type": "code",
   "execution_count": 3,
   "metadata": {},
   "outputs": [
    {
     "data": {
      "text/plain": [
       "6-element Vector{String}:\n",
       " \"NB\"\n",
       " \"NL\"\n",
       " \"NS\"\n",
       " \"ON\"\n",
       " \"PE\"\n",
       " \"QC\""
      ]
     },
     "execution_count": 3,
     "metadata": {},
     "output_type": "execute_result"
    }
   ],
   "source": [
    "PROVINCES = [\"NB\", \"NL\", \"NS\", \"ON\", \"PE\", \"QC\"]#provinces considerees"
   ]
  },
  {
   "cell_type": "markdown",
   "metadata": {},
   "source": [
    "## 1. Chargement et mise en forme des données"
   ]
  },
  {
   "cell_type": "code",
   "execution_count": 4,
   "metadata": {},
   "outputs": [
    {
     "data": {
      "text/html": [
       "<table class=\"data-frame\"><thead><tr><th></th><th>Name</th><th>Province</th><th>ID</th><th>Lat</th><th>Lon</th><th>Elevation</th></tr><tr><th></th><th>String</th><th>String</th><th>String</th><th>Float64</th><th>Float64</th><th>Int64</th></tr></thead><tbody><p>10 rows × 6 columns</p><tr><th>1</th><td>BEECHWOOD</td><td>NB</td><td>8100512</td><td>46.53</td><td>-67.67</td><td>91</td></tr><tr><th>2</th><td>BELLEDUNE</td><td>NB</td><td>8100514</td><td>47.9</td><td>-65.83</td><td>7</td></tr><tr><th>3</th><td>BOUCTOUCHE CDA CS</td><td>NB</td><td>8100593</td><td>46.43</td><td>-64.77</td><td>35</td></tr><tr><th>4</th><td>CHARLO AUTO</td><td>NB</td><td>8100885</td><td>47.98</td><td>-66.33</td><td>42</td></tr><tr><th>5</th><td>MIRAMICHI RCS</td><td>NB</td><td>8100989</td><td>47.02</td><td>-65.47</td><td>33</td></tr><tr><th>6</th><td>EDMUNDSTON</td><td>NB</td><td>8101303</td><td>47.42</td><td>-68.32</td><td>154</td></tr><tr><th>7</th><td>FREDERICTON A</td><td>NB</td><td>8101500</td><td>45.87</td><td>-66.53</td><td>20</td></tr><tr><th>8</th><td>FREDERICTON CDA CS</td><td>NB</td><td>8101605</td><td>45.92</td><td>-66.62</td><td>35</td></tr><tr><th>9</th><td>MONCTON INTL A</td><td>NB</td><td>8103201</td><td>46.12</td><td>-64.68</td><td>70</td></tr><tr><th>10</th><td>ROYAL ROAD</td><td>NB</td><td>8104480</td><td>46.05</td><td>-66.72</td><td>115</td></tr></tbody></table>"
      ],
      "text/latex": [
       "\\begin{tabular}{r|cccccc}\n",
       "\t& Name & Province & ID & Lat & Lon & Elevation\\\\\n",
       "\t\\hline\n",
       "\t& String & String & String & Float64 & Float64 & Int64\\\\\n",
       "\t\\hline\n",
       "\t1 & BEECHWOOD & NB & 8100512 & 46.53 & -67.67 & 91 \\\\\n",
       "\t2 & BELLEDUNE & NB & 8100514 & 47.9 & -65.83 & 7 \\\\\n",
       "\t3 & BOUCTOUCHE CDA CS & NB & 8100593 & 46.43 & -64.77 & 35 \\\\\n",
       "\t4 & CHARLO AUTO & NB & 8100885 & 47.98 & -66.33 & 42 \\\\\n",
       "\t5 & MIRAMICHI RCS & NB & 8100989 & 47.02 & -65.47 & 33 \\\\\n",
       "\t6 & EDMUNDSTON & NB & 8101303 & 47.42 & -68.32 & 154 \\\\\n",
       "\t7 & FREDERICTON A & NB & 8101500 & 45.87 & -66.53 & 20 \\\\\n",
       "\t8 & FREDERICTON CDA CS & NB & 8101605 & 45.92 & -66.62 & 35 \\\\\n",
       "\t9 & MONCTON INTL A & NB & 8103201 & 46.12 & -64.68 & 70 \\\\\n",
       "\t10 & ROYAL ROAD & NB & 8104480 & 46.05 & -66.72 & 115 \\\\\n",
       "\\end{tabular}\n"
      ],
      "text/plain": [
       "10×6 DataFrame. Omitted printing of 1 columns\n",
       "│ Row │ Name               │ Province │ ID      │ Lat     │ Lon     │\n",
       "│     │ \u001b[90mString\u001b[39m             │ \u001b[90mString\u001b[39m   │ \u001b[90mString\u001b[39m  │ \u001b[90mFloat64\u001b[39m │ \u001b[90mFloat64\u001b[39m │\n",
       "├─────┼────────────────────┼──────────┼─────────┼─────────┼─────────┤\n",
       "│ 1   │ BEECHWOOD          │ NB       │ 8100512 │ 46.53   │ -67.67  │\n",
       "│ 2   │ BELLEDUNE          │ NB       │ 8100514 │ 47.9    │ -65.83  │\n",
       "│ 3   │ BOUCTOUCHE CDA CS  │ NB       │ 8100593 │ 46.43   │ -64.77  │\n",
       "│ 4   │ CHARLO AUTO        │ NB       │ 8100885 │ 47.98   │ -66.33  │\n",
       "│ 5   │ MIRAMICHI RCS      │ NB       │ 8100989 │ 47.02   │ -65.47  │\n",
       "│ 6   │ EDMUNDSTON         │ NB       │ 8101303 │ 47.42   │ -68.32  │\n",
       "│ 7   │ FREDERICTON A      │ NB       │ 8101500 │ 45.87   │ -66.53  │\n",
       "│ 8   │ FREDERICTON CDA CS │ NB       │ 8101605 │ 45.92   │ -66.62  │\n",
       "│ 9   │ MONCTON INTL A     │ NB       │ 8103201 │ 46.12   │ -64.68  │\n",
       "│ 10  │ ROYAL ROAD         │ NB       │ 8104480 │ 46.05   │ -66.72  │"
      ]
     },
     "execution_count": 4,
     "metadata": {},
     "output_type": "execute_result"
    }
   ],
   "source": [
    "station_list = CSV.read(\"dat/_station_list.csv\", DataFrame)\n",
    "\n",
    "filter!(row -> row.Province ∈ PROVINCES , station_list)#on ne selectionne que les stations qui nous interessent\n",
    "\n",
    "first(station_list, 10)"
   ]
  },
  {
   "cell_type": "code",
   "execution_count": 5,
   "metadata": {},
   "outputs": [
    {
     "data": {
      "text/html": [
       "<table class=\"data-frame\"><thead><tr><th></th><th>StationName</th><th>StationID</th><th>Year</th><th>Duration</th><th>Pcp</th></tr><tr><th></th><th>String</th><th>String</th><th>Int64</th><th>String</th><th>Float64</th></tr></thead><tbody><p>10 rows × 5 columns</p><tr><th>1</th><td>BEECHWOOD</td><td>8100512</td><td>1959</td><td>5 min</td><td>9.7</td></tr><tr><th>2</th><td>BEECHWOOD</td><td>8100512</td><td>1960</td><td>5 min</td><td>5.3</td></tr><tr><th>3</th><td>BEECHWOOD</td><td>8100512</td><td>1961</td><td>5 min</td><td>7.4</td></tr><tr><th>4</th><td>BEECHWOOD</td><td>8100512</td><td>1962</td><td>5 min</td><td>5.6</td></tr><tr><th>5</th><td>BEECHWOOD</td><td>8100512</td><td>1963</td><td>5 min</td><td>3.6</td></tr><tr><th>6</th><td>BEECHWOOD</td><td>8100512</td><td>1964</td><td>5 min</td><td>3.6</td></tr><tr><th>7</th><td>BEECHWOOD</td><td>8100512</td><td>1965</td><td>5 min</td><td>11.7</td></tr><tr><th>8</th><td>BEECHWOOD</td><td>8100512</td><td>1966</td><td>5 min</td><td>3.0</td></tr><tr><th>9</th><td>BEECHWOOD</td><td>8100512</td><td>1967</td><td>5 min</td><td>7.9</td></tr><tr><th>10</th><td>BEECHWOOD</td><td>8100512</td><td>1969</td><td>5 min</td><td>9.7</td></tr></tbody></table>"
      ],
      "text/latex": [
       "\\begin{tabular}{r|ccccc}\n",
       "\t& StationName & StationID & Year & Duration & Pcp\\\\\n",
       "\t\\hline\n",
       "\t& String & String & Int64 & String & Float64\\\\\n",
       "\t\\hline\n",
       "\t1 & BEECHWOOD & 8100512 & 1959 & 5 min & 9.7 \\\\\n",
       "\t2 & BEECHWOOD & 8100512 & 1960 & 5 min & 5.3 \\\\\n",
       "\t3 & BEECHWOOD & 8100512 & 1961 & 5 min & 7.4 \\\\\n",
       "\t4 & BEECHWOOD & 8100512 & 1962 & 5 min & 5.6 \\\\\n",
       "\t5 & BEECHWOOD & 8100512 & 1963 & 5 min & 3.6 \\\\\n",
       "\t6 & BEECHWOOD & 8100512 & 1964 & 5 min & 3.6 \\\\\n",
       "\t7 & BEECHWOOD & 8100512 & 1965 & 5 min & 11.7 \\\\\n",
       "\t8 & BEECHWOOD & 8100512 & 1966 & 5 min & 3.0 \\\\\n",
       "\t9 & BEECHWOOD & 8100512 & 1967 & 5 min & 7.9 \\\\\n",
       "\t10 & BEECHWOOD & 8100512 & 1969 & 5 min & 9.7 \\\\\n",
       "\\end{tabular}\n"
      ],
      "text/plain": [
       "10×5 DataFrame\n",
       "│ Row │ StationName │ StationID │ Year  │ Duration │ Pcp     │\n",
       "│     │ \u001b[90mString\u001b[39m      │ \u001b[90mString\u001b[39m    │ \u001b[90mInt64\u001b[39m │ \u001b[90mString\u001b[39m   │ \u001b[90mFloat64\u001b[39m │\n",
       "├─────┼─────────────┼───────────┼───────┼──────────┼─────────┤\n",
       "│ 1   │ BEECHWOOD   │ 8100512   │ 1959  │ 5 min    │ 9.7     │\n",
       "│ 2   │ BEECHWOOD   │ 8100512   │ 1960  │ 5 min    │ 5.3     │\n",
       "│ 3   │ BEECHWOOD   │ 8100512   │ 1961  │ 5 min    │ 7.4     │\n",
       "│ 4   │ BEECHWOOD   │ 8100512   │ 1962  │ 5 min    │ 5.6     │\n",
       "│ 5   │ BEECHWOOD   │ 8100512   │ 1963  │ 5 min    │ 3.6     │\n",
       "│ 6   │ BEECHWOOD   │ 8100512   │ 1964  │ 5 min    │ 3.6     │\n",
       "│ 7   │ BEECHWOOD   │ 8100512   │ 1965  │ 5 min    │ 11.7    │\n",
       "│ 8   │ BEECHWOOD   │ 8100512   │ 1966  │ 5 min    │ 3.0     │\n",
       "│ 9   │ BEECHWOOD   │ 8100512   │ 1967  │ 5 min    │ 7.9     │\n",
       "│ 10  │ BEECHWOOD   │ 8100512   │ 1969  │ 5 min    │ 9.7     │"
      ]
     },
     "execution_count": 5,
     "metadata": {},
     "output_type": "execute_result"
    }
   ],
   "source": [
    "dat = DataFrame(StationName = String[],\n",
    "                StationID = String[],\n",
    "                Year = Int64[],\n",
    "                Duration = String[],\n",
    "                Pcp = Float64[])\n",
    "\n",
    "for i in 1:(nrow(station_list))\n",
    "    df = load_station(station_list[i,:ID])\n",
    "    df[!, :StationName] .= station_list[i,:Name]\n",
    "    df[!, :StationID] .= station_list[i, :ID]\n",
    "    append!(dat, df)\n",
    "end\n",
    "\n",
    "first(dat, 10)"
   ]
  },
  {
   "cell_type": "markdown",
   "metadata": {},
   "source": [
    "On sélectionne ensuite les stations pour lequels il y a une duree d'enregistrement souhaitee (stocké dans la variable DURATION)"
   ]
  },
  {
   "cell_type": "code",
   "execution_count": 6,
   "metadata": {},
   "outputs": [
    {
     "data": {
      "text/html": [
       "<table class=\"data-frame\"><thead><tr><th></th><th>StationName</th><th>StationID</th><th>Year</th><th>Duration</th><th>Pcp</th></tr><tr><th></th><th>String</th><th>String</th><th>Int64</th><th>String</th><th>Float64</th></tr></thead><tbody><p>10 rows × 5 columns</p><tr><th>1</th><td>BEECHWOOD</td><td>8100512</td><td>1959</td><td>24 h</td><td>118.6</td></tr><tr><th>2</th><td>BEECHWOOD</td><td>8100512</td><td>1960</td><td>24 h</td><td>45.2</td></tr><tr><th>3</th><td>BEECHWOOD</td><td>8100512</td><td>1961</td><td>24 h</td><td>69.3</td></tr><tr><th>4</th><td>BEECHWOOD</td><td>8100512</td><td>1962</td><td>24 h</td><td>56.4</td></tr><tr><th>5</th><td>BEECHWOOD</td><td>8100512</td><td>1963</td><td>24 h</td><td>46.0</td></tr><tr><th>6</th><td>BEECHWOOD</td><td>8100512</td><td>1964</td><td>24 h</td><td>43.9</td></tr><tr><th>7</th><td>BEECHWOOD</td><td>8100512</td><td>1965</td><td>24 h</td><td>74.2</td></tr><tr><th>8</th><td>BEECHWOOD</td><td>8100512</td><td>1966</td><td>24 h</td><td>50.3</td></tr><tr><th>9</th><td>BEECHWOOD</td><td>8100512</td><td>1967</td><td>24 h</td><td>54.6</td></tr><tr><th>10</th><td>BEECHWOOD</td><td>8100512</td><td>1969</td><td>24 h</td><td>92.2</td></tr></tbody></table>"
      ],
      "text/latex": [
       "\\begin{tabular}{r|ccccc}\n",
       "\t& StationName & StationID & Year & Duration & Pcp\\\\\n",
       "\t\\hline\n",
       "\t& String & String & Int64 & String & Float64\\\\\n",
       "\t\\hline\n",
       "\t1 & BEECHWOOD & 8100512 & 1959 & 24 h & 118.6 \\\\\n",
       "\t2 & BEECHWOOD & 8100512 & 1960 & 24 h & 45.2 \\\\\n",
       "\t3 & BEECHWOOD & 8100512 & 1961 & 24 h & 69.3 \\\\\n",
       "\t4 & BEECHWOOD & 8100512 & 1962 & 24 h & 56.4 \\\\\n",
       "\t5 & BEECHWOOD & 8100512 & 1963 & 24 h & 46.0 \\\\\n",
       "\t6 & BEECHWOOD & 8100512 & 1964 & 24 h & 43.9 \\\\\n",
       "\t7 & BEECHWOOD & 8100512 & 1965 & 24 h & 74.2 \\\\\n",
       "\t8 & BEECHWOOD & 8100512 & 1966 & 24 h & 50.3 \\\\\n",
       "\t9 & BEECHWOOD & 8100512 & 1967 & 24 h & 54.6 \\\\\n",
       "\t10 & BEECHWOOD & 8100512 & 1969 & 24 h & 92.2 \\\\\n",
       "\\end{tabular}\n"
      ],
      "text/plain": [
       "10×5 DataFrame\n",
       "│ Row │ StationName │ StationID │ Year  │ Duration │ Pcp     │\n",
       "│     │ \u001b[90mString\u001b[39m      │ \u001b[90mString\u001b[39m    │ \u001b[90mInt64\u001b[39m │ \u001b[90mString\u001b[39m   │ \u001b[90mFloat64\u001b[39m │\n",
       "├─────┼─────────────┼───────────┼───────┼──────────┼─────────┤\n",
       "│ 1   │ BEECHWOOD   │ 8100512   │ 1959  │ 24 h     │ 118.6   │\n",
       "│ 2   │ BEECHWOOD   │ 8100512   │ 1960  │ 24 h     │ 45.2    │\n",
       "│ 3   │ BEECHWOOD   │ 8100512   │ 1961  │ 24 h     │ 69.3    │\n",
       "│ 4   │ BEECHWOOD   │ 8100512   │ 1962  │ 24 h     │ 56.4    │\n",
       "│ 5   │ BEECHWOOD   │ 8100512   │ 1963  │ 24 h     │ 46.0    │\n",
       "│ 6   │ BEECHWOOD   │ 8100512   │ 1964  │ 24 h     │ 43.9    │\n",
       "│ 7   │ BEECHWOOD   │ 8100512   │ 1965  │ 24 h     │ 74.2    │\n",
       "│ 8   │ BEECHWOOD   │ 8100512   │ 1966  │ 24 h     │ 50.3    │\n",
       "│ 9   │ BEECHWOOD   │ 8100512   │ 1967  │ 24 h     │ 54.6    │\n",
       "│ 10  │ BEECHWOOD   │ 8100512   │ 1969  │ 24 h     │ 92.2    │"
      ]
     },
     "execution_count": 6,
     "metadata": {},
     "output_type": "execute_result"
    }
   ],
   "source": [
    "DURATION = \"24 h\"\n",
    "\n",
    "filter!(row -> row[:Duration] == DURATION, dat)\n",
    "first(dat, 10)"
   ]
  },
  {
   "cell_type": "markdown",
   "metadata": {},
   "source": [
    "## 2. Fonctions utiles pour la suite"
   ]
  },
  {
   "cell_type": "code",
   "execution_count": 7,
   "metadata": {},
   "outputs": [
    {
     "data": {
      "text/plain": [
       "Pcp (generic function with 1 method)"
      ]
     },
     "execution_count": 7,
     "metadata": {},
     "output_type": "execute_result"
    }
   ],
   "source": [
    "# fonction pour avoir directement\n",
    "function Pcp(stationID::String)\n",
    "    y = dat[dat[:,:StationID].== stationID,:Pcp]\n",
    "    return y\n",
    "end"
   ]
  },
  {
   "cell_type": "markdown",
   "metadata": {},
   "source": [
    "On définit ensuite deux fonctions assez similaires, permettant pour un vecteur donné d'estimer les parametres de la GEV correspondante, à l'aide du package Optim.\n",
    "\n",
    "La première fonction estime tous les paramètres, tandis que la deuxième prend en paramètre un $\\xi$ fixé, pour les deux modes d'estimation différents de la suite."
   ]
  },
  {
   "cell_type": "code",
   "execution_count": 9,
   "metadata": {},
   "outputs": [
    {
     "data": {
      "text/plain": [
       "GEVparameters (generic function with 1 method)"
      ]
     },
     "execution_count": 9,
     "metadata": {},
     "output_type": "execute_result"
    }
   ],
   "source": [
    "function GEVparameters(Y::Vector{Float64})\n",
    "    function f(p::Vector{Float64})\n",
    "        return -logL(Y, p[1], p[2], p[3])\n",
    "    end\n",
    "    \n",
    "    μ₀ = mean(Y)\n",
    "    σ₀ = std(Y)\n",
    "    ξ₀ = 0\n",
    "    p₀ = [μ₀, σ₀, ξ₀]\n",
    "    p = p₀\n",
    "    \n",
    "    try\n",
    "        res = optimize(f, p₀)\n",
    "        \n",
    "         \n",
    "        if Optim.converged(res)\n",
    "            p = Optim.minimizer(res)\n",
    "        else\n",
    "            @warn \"The maximum likelihood algorithm did not find a solution. Maybe try with different initial values or with another method. The returned values are the initial values.\"\n",
    "            p = p₀\n",
    "        end\n",
    "        \n",
    "    catch\n",
    "        println(\"Error of scale with this vector\")\n",
    "    end\n",
    "   \n",
    "    \n",
    "    return p\n",
    "end"
   ]
  },
  {
   "cell_type": "code",
   "execution_count": 10,
   "metadata": {},
   "outputs": [
    {
     "data": {
      "text/plain": [
       "GEVparameters_xi (generic function with 1 method)"
      ]
     },
     "execution_count": 10,
     "metadata": {},
     "output_type": "execute_result"
    }
   ],
   "source": [
    "function GEVparameters_xi(Y::Vector{Float64}, ξ::Real)\n",
    "    function f(p::Vector{Float64})\n",
    "        return -logL(Y, p[1], p[2], ξ)\n",
    "    end\n",
    "    \n",
    "    μ₀ = mean(Y)\n",
    "    σ₀ = std(Y)\n",
    "    p₀ = [μ₀, σ₀]\n",
    "    p = p₀\n",
    "    \n",
    "    try\n",
    "        res = optimize(f, p₀)\n",
    "        \n",
    "         \n",
    "        if Optim.converged(res)\n",
    "            p = Optim.minimizer(res)\n",
    "        else\n",
    "            @warn \"The maximum likelihood algorithm did not find a solution. Maybe try with different initial values or with another method. The returned values are the initial values.\"\n",
    "            p = p₀\n",
    "        end\n",
    "        \n",
    "    catch\n",
    "        println(\"Error of scale with this vector\")\n",
    "    end\n",
    "   \n",
    "    \n",
    "    return p\n",
    "end"
   ]
  },
  {
   "cell_type": "code",
   "execution_count": null,
   "metadata": {},
   "outputs": [],
   "source": []
  },
  {
   "cell_type": "markdown",
   "metadata": {},
   "source": [
    "## 3. Estimation"
   ]
  },
  {
   "cell_type": "markdown",
   "metadata": {},
   "source": [
    "On commence avec une estimation des parametres en considérant que les xi sont indépendants."
   ]
  },
  {
   "cell_type": "code",
   "execution_count": 37,
   "metadata": {},
   "outputs": [
    {
     "name": "stdout",
     "output_type": "stream",
     "text": [
      "Error of scale with this vector\n",
      "Error of scale with this vector\n",
      "Error of scale with this vector\n",
      "Error of scale with this vector\n",
      "Error of scale with this vector\n",
      "Error of scale with this vector\n"
     ]
    },
    {
     "data": {
      "text/html": [
       "<table class=\"data-frame\"><thead><tr><th></th><th>StationName</th><th>StationID</th><th>μₒ</th><th>ϕₒ</th><th>ξₒ</th></tr><tr><th></th><th>String</th><th>String</th><th>Float64</th><th>Float64</th><th>Float64</th></tr></thead><tbody><p>10 rows × 5 columns</p><tr><th>1</th><td>BEECHWOOD</td><td>8100512</td><td>49.4032</td><td>2.07493</td><td>1.01373</td></tr><tr><th>2</th><td>BELLEDUNE</td><td>8100514</td><td>40.6839</td><td>2.40044</td><td>-0.0786804</td></tr><tr><th>3</th><td>BOUCTOUCHE CDA CS</td><td>8100593</td><td>54.7989</td><td>2.60678</td><td>-0.186213</td></tr><tr><th>4</th><td>CHARLO AUTO</td><td>8100885</td><td>48.3637</td><td>2.65941</td><td>0.0138493</td></tr><tr><th>5</th><td>MIRAMICHI RCS</td><td>8100989</td><td>49.2695</td><td>2.75775</td><td>0.0826329</td></tr><tr><th>6</th><td>EDMUNDSTON</td><td>8101303</td><td>51.6358</td><td>2.90474</td><td>-0.374713</td></tr><tr><th>7</th><td>FREDERICTON A</td><td>8101500</td><td>60.6909</td><td>3.40578</td><td>0.0</td></tr><tr><th>8</th><td>FREDERICTON CDA CS</td><td>8101605</td><td>55.2787</td><td>2.73521</td><td>-0.00439128</td></tr><tr><th>9</th><td>MONCTON INTL A</td><td>8103201</td><td>51.4458</td><td>2.85912</td><td>0.0512602</td></tr><tr><th>10</th><td>ROYAL ROAD</td><td>8104480</td><td>48.8498</td><td>2.5098</td><td>0.142638</td></tr></tbody></table>"
      ],
      "text/latex": [
       "\\begin{tabular}{r|ccccc}\n",
       "\t& StationName & StationID & μₒ & ϕₒ & ξₒ\\\\\n",
       "\t\\hline\n",
       "\t& String & String & Float64 & Float64 & Float64\\\\\n",
       "\t\\hline\n",
       "\t1 & BEECHWOOD & 8100512 & 49.4032 & 2.07493 & 1.01373 \\\\\n",
       "\t2 & BELLEDUNE & 8100514 & 40.6839 & 2.40044 & -0.0786804 \\\\\n",
       "\t3 & BOUCTOUCHE CDA CS & 8100593 & 54.7989 & 2.60678 & -0.186213 \\\\\n",
       "\t4 & CHARLO AUTO & 8100885 & 48.3637 & 2.65941 & 0.0138493 \\\\\n",
       "\t5 & MIRAMICHI RCS & 8100989 & 49.2695 & 2.75775 & 0.0826329 \\\\\n",
       "\t6 & EDMUNDSTON & 8101303 & 51.6358 & 2.90474 & -0.374713 \\\\\n",
       "\t7 & FREDERICTON A & 8101500 & 60.6909 & 3.40578 & 0.0 \\\\\n",
       "\t8 & FREDERICTON CDA CS & 8101605 & 55.2787 & 2.73521 & -0.00439128 \\\\\n",
       "\t9 & MONCTON INTL A & 8103201 & 51.4458 & 2.85912 & 0.0512602 \\\\\n",
       "\t10 & ROYAL ROAD & 8104480 & 48.8498 & 2.5098 & 0.142638 \\\\\n",
       "\\end{tabular}\n"
      ],
      "text/plain": [
       "10×5 DataFrame\n",
       "│ Row │ StationName        │ StationID │ μₒ      │ ϕₒ      │ ξₒ          │\n",
       "│     │ \u001b[90mString\u001b[39m             │ \u001b[90mString\u001b[39m    │ \u001b[90mFloat64\u001b[39m │ \u001b[90mFloat64\u001b[39m │ \u001b[90mFloat64\u001b[39m     │\n",
       "├─────┼────────────────────┼───────────┼─────────┼─────────┼─────────────┤\n",
       "│ 1   │ BEECHWOOD          │ 8100512   │ 49.4032 │ 2.07493 │ 1.01373     │\n",
       "│ 2   │ BELLEDUNE          │ 8100514   │ 40.6839 │ 2.40044 │ -0.0786804  │\n",
       "│ 3   │ BOUCTOUCHE CDA CS  │ 8100593   │ 54.7989 │ 2.60678 │ -0.186213   │\n",
       "│ 4   │ CHARLO AUTO        │ 8100885   │ 48.3637 │ 2.65941 │ 0.0138493   │\n",
       "│ 5   │ MIRAMICHI RCS      │ 8100989   │ 49.2695 │ 2.75775 │ 0.0826329   │\n",
       "│ 6   │ EDMUNDSTON         │ 8101303   │ 51.6358 │ 2.90474 │ -0.374713   │\n",
       "│ 7   │ FREDERICTON A      │ 8101500   │ 60.6909 │ 3.40578 │ 0.0         │\n",
       "│ 8   │ FREDERICTON CDA CS │ 8101605   │ 55.2787 │ 2.73521 │ -0.00439128 │\n",
       "│ 9   │ MONCTON INTL A     │ 8103201   │ 51.4458 │ 2.85912 │ 0.0512602   │\n",
       "│ 10  │ ROYAL ROAD         │ 8104480   │ 48.8498 │ 2.5098  │ 0.142638    │"
      ]
     },
     "execution_count": 37,
     "metadata": {},
     "output_type": "execute_result"
    }
   ],
   "source": [
    "parameters = DataFrame(StationName = String[],\n",
    "                        StationID = String[],\n",
    "                        μₒ = Float64[],\n",
    "                        ϕₒ = Float64[],\n",
    "                        ξₒ = Float64[])\n",
    "\n",
    "for i in 1:(nrow(station_list))\n",
    "    y = Pcp(station_list[i, :ID])\n",
    "    par_optim = GEVparameters(y)\n",
    "    df = DataFrame(StationName = station_list[i, :Name],\n",
    "                    StationID = station_list[i, :ID],\n",
    "                    μₒ = par_optim[1],\n",
    "                    ϕₒ = log(par_optim[2]),\n",
    "                    ξₒ = par_optim[3])\n",
    "    append!(parameters, df)\n",
    "end\n",
    "\n",
    "CSV.write(\"results/parameters_$DURATION.csv\", parameters)\n",
    "first(parameters, 10)"
   ]
  },
  {
   "cell_type": "code",
   "execution_count": 12,
   "metadata": {},
   "outputs": [
    {
     "name": "stdout",
     "output_type": "stream",
     "text": [
      "Error of scale with this vector\n",
      "Error of scale with this vector\n"
     ]
    },
    {
     "data": {
      "text/html": [
       "<table class=\"data-frame\"><thead><tr><th></th><th>StationName</th><th>StationID</th><th>μ</th><th>σ</th></tr><tr><th></th><th>String</th><th>String</th><th>Float64</th><th>Float64</th></tr></thead><tbody><p>10 rows × 4 columns</p><tr><th>1</th><td>BEECHWOOD</td><td>8100512</td><td>55.1483</td><td>15.0258</td></tr><tr><th>2</th><td>BELLEDUNE</td><td>8100514</td><td>40.2053</td><td>10.9353</td></tr><tr><th>3</th><td>BOUCTOUCHE CDA CS</td><td>8100593</td><td>53.4378</td><td>13.0739</td></tr><tr><th>4</th><td>CHARLO AUTO</td><td>8100885</td><td>48.4717</td><td>14.3542</td></tr><tr><th>5</th><td>MIRAMICHI RCS</td><td>8100989</td><td>49.9965</td><td>16.2436</td></tr><tr><th>6</th><td>EDMUNDSTON</td><td>8101303</td><td>48.244</td><td>16.3296</td></tr><tr><th>7</th><td>FREDERICTON A</td><td>8101500</td><td>60.6909</td><td>30.1377</td></tr><tr><th>8</th><td>FREDERICTON CDA CS</td><td>8101605</td><td>55.2422</td><td>15.3901</td></tr><tr><th>9</th><td>MONCTON INTL A</td><td>8103201</td><td>51.9356</td><td>17.7919</td></tr><tr><th>10</th><td>ROYAL ROAD</td><td>8104480</td><td>49.8363</td><td>13.12</td></tr></tbody></table>"
      ],
      "text/latex": [
       "\\begin{tabular}{r|cccc}\n",
       "\t& StationName & StationID & μ & σ\\\\\n",
       "\t\\hline\n",
       "\t& String & String & Float64 & Float64\\\\\n",
       "\t\\hline\n",
       "\t1 & BEECHWOOD & 8100512 & 55.1483 & 15.0258 \\\\\n",
       "\t2 & BELLEDUNE & 8100514 & 40.2053 & 10.9353 \\\\\n",
       "\t3 & BOUCTOUCHE CDA CS & 8100593 & 53.4378 & 13.0739 \\\\\n",
       "\t4 & CHARLO AUTO & 8100885 & 48.4717 & 14.3542 \\\\\n",
       "\t5 & MIRAMICHI RCS & 8100989 & 49.9965 & 16.2436 \\\\\n",
       "\t6 & EDMUNDSTON & 8101303 & 48.244 & 16.3296 \\\\\n",
       "\t7 & FREDERICTON A & 8101500 & 60.6909 & 30.1377 \\\\\n",
       "\t8 & FREDERICTON CDA CS & 8101605 & 55.2422 & 15.3901 \\\\\n",
       "\t9 & MONCTON INTL A & 8103201 & 51.9356 & 17.7919 \\\\\n",
       "\t10 & ROYAL ROAD & 8104480 & 49.8363 & 13.12 \\\\\n",
       "\\end{tabular}\n"
      ],
      "text/plain": [
       "10×4 DataFrame\n",
       "│ Row │ StationName        │ StationID │ μ       │ σ       │\n",
       "│     │ \u001b[90mString\u001b[39m             │ \u001b[90mString\u001b[39m    │ \u001b[90mFloat64\u001b[39m │ \u001b[90mFloat64\u001b[39m │\n",
       "├─────┼────────────────────┼───────────┼─────────┼─────────┤\n",
       "│ 1   │ BEECHWOOD          │ 8100512   │ 55.1483 │ 15.0258 │\n",
       "│ 2   │ BELLEDUNE          │ 8100514   │ 40.2053 │ 10.9353 │\n",
       "│ 3   │ BOUCTOUCHE CDA CS  │ 8100593   │ 53.4378 │ 13.0739 │\n",
       "│ 4   │ CHARLO AUTO        │ 8100885   │ 48.4717 │ 14.3542 │\n",
       "│ 5   │ MIRAMICHI RCS      │ 8100989   │ 49.9965 │ 16.2436 │\n",
       "│ 6   │ EDMUNDSTON         │ 8101303   │ 48.244  │ 16.3296 │\n",
       "│ 7   │ FREDERICTON A      │ 8101500   │ 60.6909 │ 30.1377 │\n",
       "│ 8   │ FREDERICTON CDA CS │ 8101605   │ 55.2422 │ 15.3901 │\n",
       "│ 9   │ MONCTON INTL A     │ 8103201   │ 51.9356 │ 17.7919 │\n",
       "│ 10  │ ROYAL ROAD         │ 8104480   │ 49.8363 │ 13.12   │"
      ]
     },
     "execution_count": 12,
     "metadata": {},
     "output_type": "execute_result"
    }
   ],
   "source": [
    "ξ = 0 #parametre xi a ajuster\n",
    "\n",
    "parameters_xi = DataFrame(StationName = String[],\n",
    "                        StationID = String[],\n",
    "                        μ = Float64[],\n",
    "                        σ = Float64[])\n",
    "\n",
    "for i in 1:(nrow(station_list))\n",
    "    y = Pcp(station_list[i, :ID])\n",
    "    par = GEVparameters_xi(y, ξ)\n",
    "    df = DataFrame(StationName = station_list[i, :Name],\n",
    "                    StationID = station_list[i, :ID],\n",
    "                    μ = par[1],\n",
    "                    σ = par[2])\n",
    "    append!(parameters_xi, df)\n",
    "end\n",
    "\n",
    "CSV.write(\"results/parameters_$DURATION _$ξ.csv\", parameters_xi)\n",
    "\n",
    "first(parameters_xi, 10)"
   ]
  },
  {
   "cell_type": "markdown",
   "metadata": {},
   "source": [
    "### Utilisation du package Extremes"
   ]
  },
  {
   "cell_type": "code",
   "execution_count": 10,
   "metadata": {},
   "outputs": [
    {
     "name": "stderr",
     "output_type": "stream",
     "text": [
      "┌ Warning: The maximum likelihood algorithm did not find a solution. Maybe try with different initial values or with another method. The returned values are the initial values.\n",
      "└ @ Extremes C:\\Users\\leogu\\.julia\\packages\\Extremes\\il3ma\\src\\parameterestimation\\maximumlikelihood.jl:20\n"
     ]
    },
    {
     "name": "stdout",
     "output_type": "stream",
     "text": [
      "L'algorithme n'a pas convergé"
     ]
    },
    {
     "name": "stderr",
     "output_type": "stream",
     "text": [
      "┌ Warning: The maximum likelihood algorithm did not find a solution. Maybe try with different initial values or with another method. The returned values are the initial values.\n",
      "└ @ Extremes C:\\Users\\leogu\\.julia\\packages\\Extremes\\il3ma\\src\\parameterestimation\\maximumlikelihood.jl:20\n"
     ]
    },
    {
     "name": "stdout",
     "output_type": "stream",
     "text": [
      "\n",
      "L'algorithme n'a pas convergé\n"
     ]
    },
    {
     "data": {
      "text/html": [
       "<table class=\"data-frame\"><thead><tr><th></th><th>StationName</th><th>StationID</th><th>μₑ</th><th>ϕₑ</th><th>ξₑ</th><th>BIC</th></tr><tr><th></th><th>String</th><th>String</th><th>Float64</th><th>Float64</th><th>Float64</th><th>Float64</th></tr></thead><tbody><p>10 rows × 6 columns</p><tr><th>1</th><td>BEECHWOOD</td><td>8100512</td><td>49.4036</td><td>2.07497</td><td>1.01374</td><td>90.4445</td></tr><tr><th>2</th><td>BELLEDUNE</td><td>8100514</td><td>40.6841</td><td>2.40044</td><td>-0.0786836</td><td>149.741</td></tr><tr><th>3</th><td>BOUCTOUCHE CDA CS</td><td>8100593</td><td>54.7987</td><td>2.60677</td><td>-0.18623</td><td>146.956</td></tr><tr><th>4</th><td>CHARLO AUTO</td><td>8100885</td><td>48.3636</td><td>2.65942</td><td>0.0138525</td><td>444.859</td></tr><tr><th>5</th><td>MIRAMICHI RCS</td><td>8100989</td><td>49.2696</td><td>2.75775</td><td>0.0826289</td><td>335.015</td></tr><tr><th>6</th><td>EDMUNDSTON</td><td>8101303</td><td>51.6362</td><td>2.90478</td><td>-0.374743</td><td>110.217</td></tr><tr><th>7</th><td>FREDERICTON A</td><td>8101500</td><td>48.8006</td><td>2.41263</td><td>0.295614</td><td>98.7799</td></tr><tr><th>8</th><td>FREDERICTON CDA CS</td><td>8101605</td><td>55.2794</td><td>2.73524</td><td>-0.00441144</td><td>460.303</td></tr><tr><th>9</th><td>MONCTON INTL A</td><td>8103201</td><td>51.4459</td><td>2.85912</td><td>0.0512654</td><td>611.427</td></tr><tr><th>10</th><td>ROYAL ROAD</td><td>8104480</td><td>48.8501</td><td>2.50983</td><td>0.14263</td><td>226.661</td></tr></tbody></table>"
      ],
      "text/latex": [
       "\\begin{tabular}{r|cccccc}\n",
       "\t& StationName & StationID & μₑ & ϕₑ & ξₑ & BIC\\\\\n",
       "\t\\hline\n",
       "\t& String & String & Float64 & Float64 & Float64 & Float64\\\\\n",
       "\t\\hline\n",
       "\t1 & BEECHWOOD & 8100512 & 49.4036 & 2.07497 & 1.01374 & 90.4445 \\\\\n",
       "\t2 & BELLEDUNE & 8100514 & 40.6841 & 2.40044 & -0.0786836 & 149.741 \\\\\n",
       "\t3 & BOUCTOUCHE CDA CS & 8100593 & 54.7987 & 2.60677 & -0.18623 & 146.956 \\\\\n",
       "\t4 & CHARLO AUTO & 8100885 & 48.3636 & 2.65942 & 0.0138525 & 444.859 \\\\\n",
       "\t5 & MIRAMICHI RCS & 8100989 & 49.2696 & 2.75775 & 0.0826289 & 335.015 \\\\\n",
       "\t6 & EDMUNDSTON & 8101303 & 51.6362 & 2.90478 & -0.374743 & 110.217 \\\\\n",
       "\t7 & FREDERICTON A & 8101500 & 48.8006 & 2.41263 & 0.295614 & 98.7799 \\\\\n",
       "\t8 & FREDERICTON CDA CS & 8101605 & 55.2794 & 2.73524 & -0.00441144 & 460.303 \\\\\n",
       "\t9 & MONCTON INTL A & 8103201 & 51.4459 & 2.85912 & 0.0512654 & 611.427 \\\\\n",
       "\t10 & ROYAL ROAD & 8104480 & 48.8501 & 2.50983 & 0.14263 & 226.661 \\\\\n",
       "\\end{tabular}\n"
      ],
      "text/plain": [
       "10×6 DataFrame. Omitted printing of 1 columns\n",
       "│ Row │ StationName        │ StationID │ μₑ      │ ϕₑ      │ ξₑ          │\n",
       "│     │ \u001b[90mString\u001b[39m             │ \u001b[90mString\u001b[39m    │ \u001b[90mFloat64\u001b[39m │ \u001b[90mFloat64\u001b[39m │ \u001b[90mFloat64\u001b[39m     │\n",
       "├─────┼────────────────────┼───────────┼─────────┼─────────┼─────────────┤\n",
       "│ 1   │ BEECHWOOD          │ 8100512   │ 49.4036 │ 2.07497 │ 1.01374     │\n",
       "│ 2   │ BELLEDUNE          │ 8100514   │ 40.6841 │ 2.40044 │ -0.0786836  │\n",
       "│ 3   │ BOUCTOUCHE CDA CS  │ 8100593   │ 54.7987 │ 2.60677 │ -0.18623    │\n",
       "│ 4   │ CHARLO AUTO        │ 8100885   │ 48.3636 │ 2.65942 │ 0.0138525   │\n",
       "│ 5   │ MIRAMICHI RCS      │ 8100989   │ 49.2696 │ 2.75775 │ 0.0826289   │\n",
       "│ 6   │ EDMUNDSTON         │ 8101303   │ 51.6362 │ 2.90478 │ -0.374743   │\n",
       "│ 7   │ FREDERICTON A      │ 8101500   │ 48.8006 │ 2.41263 │ 0.295614    │\n",
       "│ 8   │ FREDERICTON CDA CS │ 8101605   │ 55.2794 │ 2.73524 │ -0.00441144 │\n",
       "│ 9   │ MONCTON INTL A     │ 8103201   │ 51.4459 │ 2.85912 │ 0.0512654   │\n",
       "│ 10  │ ROYAL ROAD         │ 8104480   │ 48.8501 │ 2.50983 │ 0.14263     │"
      ]
     },
     "execution_count": 10,
     "metadata": {},
     "output_type": "execute_result"
    }
   ],
   "source": [
    "parameters_ex = DataFrame(StationName = String[],\n",
    "                        StationID = String[],\n",
    "                        μₑ = Float64[],\n",
    "                        ϕₑ = Float64[],\n",
    "                        ξₑ = Float64[],\n",
    "                        BIC = Float64[])\n",
    "\n",
    "for i in 1:(nrow(station_list))\n",
    "    y = Pcp(station_list[i, :ID])\n",
    "    \n",
    "    μ₀ = mean(y)\n",
    "    ϕ₀ = log(std(y))\n",
    "    ξ₀ = 0\n",
    "    p₀ = [μ₀, ϕ₀, ξ₀]\n",
    "    par_ex = p₀\n",
    "    BIC_var = 0\n",
    "    \n",
    "    try\n",
    "        par_ex = gevfit(y).θ̂\n",
    "        BIC_var = BIC_GEV(y)\n",
    "    catch\n",
    "        println(\"L'algorithme n'a pas convergé\")\n",
    "    end\n",
    "    \n",
    "    df = DataFrame(StationName = station_list[i, :Name],\n",
    "                        StationID = station_list[i, :ID],\n",
    "                        μₑ = par_ex[1],\n",
    "                        ϕₑ = par_ex[2],\n",
    "                        ξₑ = par_ex[3],\n",
    "                        BIC = BIC_var)\n",
    "    \n",
    "    append!(parameters_ex, df)\n",
    "end\n",
    "\n",
    "CSV.write(\"results/parameters_ex_$DURATION.csv\", parameters_ex)\n",
    "first(parameters_ex, 10)"
   ]
  },
  {
   "cell_type": "code",
   "execution_count": 41,
   "metadata": {},
   "outputs": [
    {
     "data": {
      "text/html": [
       "<table class=\"data-frame\"><thead><tr><th></th><th>StationName</th><th>StationID</th><th>δμ</th><th>δϕ</th><th>δξ</th></tr><tr><th></th><th>String</th><th>String</th><th>Float64</th><th>Float64</th><th>Float64</th></tr></thead><tbody><p>10 rows × 5 columns</p><tr><th>1</th><td>BEECHWOOD</td><td>8100512</td><td>-0.000311312</td><td>-3.15042e-5</td><td>-1.3017e-5</td></tr><tr><th>2</th><td>BELLEDUNE</td><td>8100514</td><td>-0.000132853</td><td>6.93945e-6</td><td>3.23456e-6</td></tr><tr><th>3</th><td>BOUCTOUCHE CDA CS</td><td>8100593</td><td>0.000224572</td><td>8.44414e-6</td><td>1.72645e-5</td></tr><tr><th>4</th><td>CHARLO AUTO</td><td>8100885</td><td>1.58368e-5</td><td>-9.25123e-6</td><td>-3.26586e-6</td></tr><tr><th>5</th><td>MIRAMICHI RCS</td><td>8100989</td><td>-5.93182e-5</td><td>-7.35785e-6</td><td>4.0352e-6</td></tr><tr><th>6</th><td>EDMUNDSTON</td><td>8101303</td><td>-0.000336122</td><td>-4.0458e-5</td><td>2.98923e-5</td></tr><tr><th>7</th><td>FREDERICTON A</td><td>8101500</td><td>11.8903</td><td>0.993141</td><td>-0.295614</td></tr><tr><th>8</th><td>FREDERICTON CDA CS</td><td>8101605</td><td>-0.000720545</td><td>-2.68403e-5</td><td>2.01528e-5</td></tr><tr><th>9</th><td>MONCTON INTL A</td><td>8103201</td><td>-8.75599e-5</td><td>-4.67664e-7</td><td>-5.13769e-6</td></tr><tr><th>10</th><td>ROYAL ROAD</td><td>8104480</td><td>-0.000306995</td><td>-3.22487e-5</td><td>7.66201e-6</td></tr></tbody></table>"
      ],
      "text/latex": [
       "\\begin{tabular}{r|ccccc}\n",
       "\t& StationName & StationID & δμ & δϕ & δξ\\\\\n",
       "\t\\hline\n",
       "\t& String & String & Float64 & Float64 & Float64\\\\\n",
       "\t\\hline\n",
       "\t1 & BEECHWOOD & 8100512 & -0.000311312 & -3.15042e-5 & -1.3017e-5 \\\\\n",
       "\t2 & BELLEDUNE & 8100514 & -0.000132853 & 6.93945e-6 & 3.23456e-6 \\\\\n",
       "\t3 & BOUCTOUCHE CDA CS & 8100593 & 0.000224572 & 8.44414e-6 & 1.72645e-5 \\\\\n",
       "\t4 & CHARLO AUTO & 8100885 & 1.58368e-5 & -9.25123e-6 & -3.26586e-6 \\\\\n",
       "\t5 & MIRAMICHI RCS & 8100989 & -5.93182e-5 & -7.35785e-6 & 4.0352e-6 \\\\\n",
       "\t6 & EDMUNDSTON & 8101303 & -0.000336122 & -4.0458e-5 & 2.98923e-5 \\\\\n",
       "\t7 & FREDERICTON A & 8101500 & 11.8903 & 0.993141 & -0.295614 \\\\\n",
       "\t8 & FREDERICTON CDA CS & 8101605 & -0.000720545 & -2.68403e-5 & 2.01528e-5 \\\\\n",
       "\t9 & MONCTON INTL A & 8103201 & -8.75599e-5 & -4.67664e-7 & -5.13769e-6 \\\\\n",
       "\t10 & ROYAL ROAD & 8104480 & -0.000306995 & -3.22487e-5 & 7.66201e-6 \\\\\n",
       "\\end{tabular}\n"
      ],
      "text/plain": [
       "10×5 DataFrame. Omitted printing of 1 columns\n",
       "│ Row │ StationName        │ StationID │ δμ           │ δϕ          │\n",
       "│     │ \u001b[90mString\u001b[39m             │ \u001b[90mString\u001b[39m    │ \u001b[90mFloat64\u001b[39m      │ \u001b[90mFloat64\u001b[39m     │\n",
       "├─────┼────────────────────┼───────────┼──────────────┼─────────────┤\n",
       "│ 1   │ BEECHWOOD          │ 8100512   │ -0.000311312 │ -3.15042e-5 │\n",
       "│ 2   │ BELLEDUNE          │ 8100514   │ -0.000132853 │ 6.93945e-6  │\n",
       "│ 3   │ BOUCTOUCHE CDA CS  │ 8100593   │ 0.000224572  │ 8.44414e-6  │\n",
       "│ 4   │ CHARLO AUTO        │ 8100885   │ 1.58368e-5   │ -9.25123e-6 │\n",
       "│ 5   │ MIRAMICHI RCS      │ 8100989   │ -5.93182e-5  │ -7.35785e-6 │\n",
       "│ 6   │ EDMUNDSTON         │ 8101303   │ -0.000336122 │ -4.0458e-5  │\n",
       "│ 7   │ FREDERICTON A      │ 8101500   │ 11.8903      │ 0.993141    │\n",
       "│ 8   │ FREDERICTON CDA CS │ 8101605   │ -0.000720545 │ -2.68403e-5 │\n",
       "│ 9   │ MONCTON INTL A     │ 8103201   │ -8.75599e-5  │ -4.67664e-7 │\n",
       "│ 10  │ ROYAL ROAD         │ 8104480   │ -0.000306995 │ -3.22487e-5 │"
      ]
     },
     "execution_count": 41,
     "metadata": {},
     "output_type": "execute_result"
    }
   ],
   "source": [
    "parameters_δ = DataFrame(StationName = String[],\n",
    "                        StationID = String[],\n",
    "                        δμ = Float64[],\n",
    "                        δϕ = Float64[],\n",
    "                        δξ = Float64[])\n",
    "\n",
    "for i in 1:(nrow(station_list))    \n",
    "    df = DataFrame(StationName = station_list[i, :Name],\n",
    "                        StationID = station_list[i, :ID],\n",
    "                        δμ = parameters[i, :μₒ] - parameters_ex[i, :μₑ],\n",
    "                        δϕ = parameters[i, :ϕₒ] - parameters_ex[i, :ϕₑ],\n",
    "                        δξ = parameters[i, :ξₒ] - parameters_ex[i, :ξₑ])\n",
    "    \n",
    "    append!(parameters_δ, df)\n",
    "end\n",
    "\n",
    "CSV.write(\"results/parameters_diff_$DURATION.csv\", parameters_δ)\n",
    "first(parameters_δ, 10)"
   ]
  }
 ],
 "metadata": {
  "kernelspec": {
   "display_name": "Julia 1.6.0",
   "language": "julia",
   "name": "julia-1.6"
  },
  "language_info": {
   "file_extension": ".jl",
   "mimetype": "application/julia",
   "name": "julia",
   "version": "1.6.0"
  }
 },
 "nbformat": 4,
 "nbformat_minor": 4
}
