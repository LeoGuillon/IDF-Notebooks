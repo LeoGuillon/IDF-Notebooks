{
 "cells": [
  {
   "cell_type": "code",
   "execution_count": 1,
   "metadata": {},
   "outputs": [],
   "source": [
    "using Pkg\n",
    "Pkg.add(\"CSV\")\n",
    "    "
   ]
  },
  {
   "cell_type": "code",
   "execution_count": 14,
   "metadata": {},
   "outputs": [],
   "source": [
    "using CSV, DataFrames"
   ]
  },
  {
   "cell_type": "code",
   "execution_count": 15,
   "metadata": {},
   "outputs": [
    {
     "data": {
      "text/html": [
       "<table class=\"data-frame\"><thead><tr><th></th><th>Name</th><th>Province</th><th>ID</th><th>Lat</th><th>Lon</th><th>Elevation</th></tr><tr><th></th><th>String</th><th>String</th><th>String</th><th>Float64</th><th>Float64</th><th>Int64</th></tr></thead><tbody><p>336 rows × 6 columns</p><tr><th>1</th><td>BEECHWOOD</td><td>NB</td><td>8100512</td><td>46.53</td><td>-67.67</td><td>91</td></tr><tr><th>2</th><td>BELLEDUNE</td><td>NB</td><td>8100514</td><td>47.9</td><td>-65.83</td><td>7</td></tr><tr><th>3</th><td>BOUCTOUCHE CDA CS</td><td>NB</td><td>8100593</td><td>46.43</td><td>-64.77</td><td>35</td></tr><tr><th>4</th><td>CHARLO AUTO</td><td>NB</td><td>8100885</td><td>47.98</td><td>-66.33</td><td>42</td></tr><tr><th>5</th><td>MIRAMICHI RCS</td><td>NB</td><td>8100989</td><td>47.02</td><td>-65.47</td><td>33</td></tr><tr><th>6</th><td>EDMUNDSTON</td><td>NB</td><td>8101303</td><td>47.42</td><td>-68.32</td><td>154</td></tr><tr><th>7</th><td>FREDERICTON A</td><td>NB</td><td>8101500</td><td>45.87</td><td>-66.53</td><td>20</td></tr><tr><th>8</th><td>FREDERICTON CDA CS</td><td>NB</td><td>8101605</td><td>45.92</td><td>-66.62</td><td>35</td></tr><tr><th>9</th><td>MONCTON INTL A</td><td>NB</td><td>8103201</td><td>46.12</td><td>-64.68</td><td>70</td></tr><tr><th>10</th><td>ROYAL ROAD</td><td>NB</td><td>8104480</td><td>46.05</td><td>-66.72</td><td>115</td></tr><tr><th>11</th><td>ROYAL ROAD WEST</td><td>NB</td><td>8104482</td><td>46.08</td><td>-66.73</td><td>160</td></tr><tr><th>12</th><td>SAINT JOHN</td><td>NB</td><td>8104800</td><td>45.28</td><td>-66.08</td><td>30</td></tr><tr><th>13</th><td>SAINT JOHN A</td><td>NB</td><td>8104900</td><td>45.32</td><td>-65.88</td><td>108</td></tr><tr><th>14</th><td>ST LEONARD A</td><td>NB</td><td>8104928</td><td>47.17</td><td>-67.83</td><td>242</td></tr><tr><th>15</th><td>SUMMIT DEPOT</td><td>NB</td><td>8105100</td><td>47.78</td><td>-68.33</td><td>411</td></tr><tr><th>16</th><td>ARGENTIA (AUT)</td><td>NL</td><td>8400104</td><td>47.28</td><td>-53.98</td><td>19</td></tr><tr><th>17</th><td>BURGEO NL</td><td>NL</td><td>8400801</td><td>47.62</td><td>-57.62</td><td>10</td></tr><tr><th>18</th><td>COMFORT COVE</td><td>NL</td><td>8401259</td><td>49.27</td><td>-54.88</td><td>99</td></tr><tr><th>19</th><td>DANIELS HARBOUR</td><td>NL</td><td>8401400</td><td>50.23</td><td>-57.58</td><td>19</td></tr><tr><th>20</th><td>DEER LAKE A</td><td>NL</td><td>8401501</td><td>49.22</td><td>-57.4</td><td>21</td></tr><tr><th>21</th><td>GANDER AIRPORT CS</td><td>NL</td><td>8401705</td><td>48.95</td><td>-54.57</td><td>151</td></tr><tr><th>22</th><td>LA SCIE</td><td>NL</td><td>8402520</td><td>49.92</td><td>-55.67</td><td>194</td></tr><tr><th>23</th><td>PORT AUX BASQUES</td><td>NL</td><td>8402975</td><td>47.57</td><td>-59.15</td><td>39</td></tr><tr><th>24</th><td>ST ALBANS</td><td>NL</td><td>8403290</td><td>47.87</td><td>-55.85</td><td>13</td></tr><tr><th>25</th><td>ST ANTHONY</td><td>NL</td><td>8403401</td><td>51.37</td><td>-55.6</td><td>11</td></tr><tr><th>26</th><td>ST JOHN'S A</td><td>NL</td><td>8403506</td><td>47.62</td><td>-52.73</td><td>140</td></tr><tr><th>27</th><td>ST LAWRENCE</td><td>NL</td><td>8403619</td><td>46.92</td><td>-55.38</td><td>48</td></tr><tr><th>28</th><td>STEPHENVILLE RCS</td><td>NL</td><td>8403820</td><td>48.57</td><td>-58.57</td><td>58</td></tr><tr><th>29</th><td>TWILLINGATE (AUT)</td><td>NL</td><td>8404025</td><td>49.68</td><td>-54.8</td><td>92</td></tr><tr><th>30</th><td>BATTLE HARBOUR LOR</td><td>NL</td><td>8500398</td><td>52.25</td><td>-55.6</td><td>9</td></tr><tr><th>&vellip;</th><td>&vellip;</td><td>&vellip;</td><td>&vellip;</td><td>&vellip;</td><td>&vellip;</td><td>&vellip;</td></tr></tbody></table>"
      ],
      "text/latex": [
       "\\begin{tabular}{r|cccccc}\n",
       "\t& Name & Province & ID & Lat & Lon & Elevation\\\\\n",
       "\t\\hline\n",
       "\t& String & String & String & Float64 & Float64 & Int64\\\\\n",
       "\t\\hline\n",
       "\t1 & BEECHWOOD & NB & 8100512 & 46.53 & -67.67 & 91 \\\\\n",
       "\t2 & BELLEDUNE & NB & 8100514 & 47.9 & -65.83 & 7 \\\\\n",
       "\t3 & BOUCTOUCHE CDA CS & NB & 8100593 & 46.43 & -64.77 & 35 \\\\\n",
       "\t4 & CHARLO AUTO & NB & 8100885 & 47.98 & -66.33 & 42 \\\\\n",
       "\t5 & MIRAMICHI RCS & NB & 8100989 & 47.02 & -65.47 & 33 \\\\\n",
       "\t6 & EDMUNDSTON & NB & 8101303 & 47.42 & -68.32 & 154 \\\\\n",
       "\t7 & FREDERICTON A & NB & 8101500 & 45.87 & -66.53 & 20 \\\\\n",
       "\t8 & FREDERICTON CDA CS & NB & 8101605 & 45.92 & -66.62 & 35 \\\\\n",
       "\t9 & MONCTON INTL A & NB & 8103201 & 46.12 & -64.68 & 70 \\\\\n",
       "\t10 & ROYAL ROAD & NB & 8104480 & 46.05 & -66.72 & 115 \\\\\n",
       "\t11 & ROYAL ROAD WEST & NB & 8104482 & 46.08 & -66.73 & 160 \\\\\n",
       "\t12 & SAINT JOHN & NB & 8104800 & 45.28 & -66.08 & 30 \\\\\n",
       "\t13 & SAINT JOHN A & NB & 8104900 & 45.32 & -65.88 & 108 \\\\\n",
       "\t14 & ST LEONARD A & NB & 8104928 & 47.17 & -67.83 & 242 \\\\\n",
       "\t15 & SUMMIT DEPOT & NB & 8105100 & 47.78 & -68.33 & 411 \\\\\n",
       "\t16 & ARGENTIA (AUT) & NL & 8400104 & 47.28 & -53.98 & 19 \\\\\n",
       "\t17 & BURGEO NL & NL & 8400801 & 47.62 & -57.62 & 10 \\\\\n",
       "\t18 & COMFORT COVE & NL & 8401259 & 49.27 & -54.88 & 99 \\\\\n",
       "\t19 & DANIELS HARBOUR & NL & 8401400 & 50.23 & -57.58 & 19 \\\\\n",
       "\t20 & DEER LAKE A & NL & 8401501 & 49.22 & -57.4 & 21 \\\\\n",
       "\t21 & GANDER AIRPORT CS & NL & 8401705 & 48.95 & -54.57 & 151 \\\\\n",
       "\t22 & LA SCIE & NL & 8402520 & 49.92 & -55.67 & 194 \\\\\n",
       "\t23 & PORT AUX BASQUES & NL & 8402975 & 47.57 & -59.15 & 39 \\\\\n",
       "\t24 & ST ALBANS & NL & 8403290 & 47.87 & -55.85 & 13 \\\\\n",
       "\t25 & ST ANTHONY & NL & 8403401 & 51.37 & -55.6 & 11 \\\\\n",
       "\t26 & ST JOHN'S A & NL & 8403506 & 47.62 & -52.73 & 140 \\\\\n",
       "\t27 & ST LAWRENCE & NL & 8403619 & 46.92 & -55.38 & 48 \\\\\n",
       "\t28 & STEPHENVILLE RCS & NL & 8403820 & 48.57 & -58.57 & 58 \\\\\n",
       "\t29 & TWILLINGATE (AUT) & NL & 8404025 & 49.68 & -54.8 & 92 \\\\\n",
       "\t30 & BATTLE HARBOUR LOR & NL & 8500398 & 52.25 & -55.6 & 9 \\\\\n",
       "\t$\\dots$ & $\\dots$ & $\\dots$ & $\\dots$ & $\\dots$ & $\\dots$ & $\\dots$ \\\\\n",
       "\\end{tabular}\n"
      ],
      "text/plain": [
       "\u001b[1m336×6 DataFrame\u001b[0m\n",
       "\u001b[1m Row \u001b[0m│\u001b[1m Name                  \u001b[0m\u001b[1m Province \u001b[0m\u001b[1m ID      \u001b[0m\u001b[1m Lat     \u001b[0m\u001b[1m Lon     \u001b[0m\u001b[1m Elevation \u001b[0m\n",
       "\u001b[1m     \u001b[0m│\u001b[90m String                \u001b[0m\u001b[90m String   \u001b[0m\u001b[90m String  \u001b[0m\u001b[90m Float64 \u001b[0m\u001b[90m Float64 \u001b[0m\u001b[90m Int64     \u001b[0m\n",
       "─────┼───────────────────────────────────────────────────────────────────────\n",
       "   1 │ BEECHWOOD              NB        8100512    46.53   -67.67         91\n",
       "   2 │ BELLEDUNE              NB        8100514    47.9    -65.83          7\n",
       "   3 │ BOUCTOUCHE CDA CS      NB        8100593    46.43   -64.77         35\n",
       "   4 │ CHARLO AUTO            NB        8100885    47.98   -66.33         42\n",
       "   5 │ MIRAMICHI RCS          NB        8100989    47.02   -65.47         33\n",
       "   6 │ EDMUNDSTON             NB        8101303    47.42   -68.32        154\n",
       "   7 │ FREDERICTON A          NB        8101500    45.87   -66.53         20\n",
       "   8 │ FREDERICTON CDA CS     NB        8101605    45.92   -66.62         35\n",
       "   9 │ MONCTON INTL A         NB        8103201    46.12   -64.68         70\n",
       "  10 │ ROYAL ROAD             NB        8104480    46.05   -66.72        115\n",
       "  11 │ ROYAL ROAD WEST        NB        8104482    46.08   -66.73        160\n",
       "  ⋮  │           ⋮               ⋮         ⋮        ⋮        ⋮         ⋮\n",
       " 327 │ LA SARRE               QC        7094120    48.78   -79.22        244\n",
       " 328 │ MATAGAMI A             QC        7094639    49.77   -77.82        281\n",
       " 329 │ NITCHEQUON             QC        7095480    53.2    -70.9         536\n",
       " 330 │ RIVIERE HEVA           QC        7096621    48.2    -78.13        305\n",
       " 331 │ VAL-D'OR A             QC        7098600    48.07   -77.78        337\n",
       " 332 │ INUKJUAK UA            QC        7103282    58.47   -78.08         24\n",
       " 333 │ KUUJJUARAPIK A         QC        7103536    55.28   -77.75         12\n",
       " 334 │ KUUJJUAQ A             QC        7113534    58.1    -68.42         39\n",
       " 335 │ QUAQTAQ                QC        7116270    61.05   -69.63         30\n",
       " 336 │ SCHEFFERVILLE A        QC        7117825    54.8    -66.82        521\n",
       "\u001b[36m                                                             315 rows omitted\u001b[0m"
      ]
     },
     "execution_count": 15,
     "metadata": {},
     "output_type": "execute_result"
    }
   ],
   "source": [
    "station_list = CSV.read(\"dat/_station_list.csv\", DataFrame)\n",
    "\n",
    "PROVINCES = [\"NB\", \"NL\", \"NS\", \"ON\", \"PE\", \"QC\"]\n",
    "\n",
    "filter!(row -> row.Province ∈ PROVINCES, station_list) #on choisit les station dans la zone etudiee\n"
   ]
  },
  {
   "cell_type": "code",
   "execution_count": 16,
   "metadata": {},
   "outputs": [
    {
     "name": "stderr",
     "output_type": "stream",
     "text": [
      "\u001b[32m\u001b[1m   Resolving\u001b[22m\u001b[39m package versions...\n",
      "\u001b[32m\u001b[1m  No Changes\u001b[22m\u001b[39m to `C:\\Users\\leogu\\.julia\\environments\\v1.6\\Project.toml`\n",
      "\u001b[32m\u001b[1m  No Changes\u001b[22m\u001b[39m to `C:\\Users\\leogu\\.julia\\environments\\v1.6\\Manifest.toml`\n"
     ]
    }
   ],
   "source": [
    "Pkg.add(\"Distributions\")"
   ]
  },
  {
   "cell_type": "code",
   "execution_count": 17,
   "metadata": {},
   "outputs": [],
   "source": [
    "using Distributions"
   ]
  },
  {
   "cell_type": "code",
   "execution_count": 18,
   "metadata": {},
   "outputs": [
    {
     "data": {
      "text/plain": [
       "GeneralizedExtremeValue{Float64}(μ=0.0, σ=1.0, ξ=0.0)"
      ]
     },
     "execution_count": 18,
     "metadata": {},
     "output_type": "execute_result"
    }
   ],
   "source": [
    "Gumbel = GeneralizedExtremeValue(0, 1, 0)"
   ]
  },
  {
   "cell_type": "code",
   "execution_count": 21,
   "metadata": {},
   "outputs": [
    {
     "data": {
      "text/plain": [
       "-3.474410100884076"
      ]
     },
     "execution_count": 21,
     "metadata": {},
     "output_type": "execute_result"
    }
   ],
   "source": [
    "loglikelihood(Gumbel, [1, 0, 0.5])    "
   ]
  },
  {
   "cell_type": "code",
   "execution_count": 2,
   "metadata": {},
   "outputs": [],
   "source": [
    "using Extremes, Distributions, GMRF"
   ]
  },
  {
   "cell_type": "code",
   "execution_count": 3,
   "metadata": {},
   "outputs": [
    {
     "name": "stderr",
     "output_type": "stream",
     "text": [
      "\u001b[32m\u001b[1m    Updating\u001b[22m\u001b[39m registry at `C:\\Users\\leogu\\.julia\\registries\\General`\n",
      "\u001b[32m\u001b[1m    Updating\u001b[22m\u001b[39m git-repo `https://github.com/JuliaRegistries/General.git`\n",
      "\u001b[32m\u001b[1m   Resolving\u001b[22m\u001b[39m package versions...\n",
      "\u001b[32m\u001b[1m    Updating\u001b[22m\u001b[39m `C:\\Users\\leogu\\.julia\\environments\\v1.6\\Project.toml`\n",
      " \u001b[90m [429524aa] \u001b[39m\u001b[92m+ Optim v0.22.0\u001b[39m\n",
      "\u001b[32m\u001b[1m  No Changes\u001b[22m\u001b[39m to `C:\\Users\\leogu\\.julia\\environments\\v1.6\\Manifest.toml`\n"
     ]
    }
   ],
   "source": []
  },
  {
   "cell_type": "code",
   "execution_count": 3,
   "metadata": {},
   "outputs": [
    {
     "data": {
      "text/plain": [
       "f (generic function with 1 method)"
      ]
     },
     "execution_count": 3,
     "metadata": {},
     "output_type": "execute_result"
    }
   ],
   "source": [
    "function f(x)\n",
    "    return (1.0 - x[1])^2 + 100.0 * (x[2] - x[1]^2)^2\n",
    "end"
   ]
  },
  {
   "cell_type": "code",
   "execution_count": 36,
   "metadata": {},
   "outputs": [],
   "source": [
    "using Optim, NLSolversBase, Distributions, StatsBase, Extremes, Statistics"
   ]
  },
  {
   "cell_type": "code",
   "execution_count": 39,
   "metadata": {},
   "outputs": [
    {
     "data": {
      "text/plain": [
       "logL (generic function with 2 methods)"
      ]
     },
     "execution_count": 39,
     "metadata": {},
     "output_type": "execute_result"
    }
   ],
   "source": [
    "function logL(Y::Vector{Float64},μ::Real,σ::Real,ξ::Real)\n",
    "    G = GeneralizedExtremeValue(μ, σ, ξ)\n",
    "    return loglikelihood(G, Y)\n",
    "end"
   ]
  },
  {
   "cell_type": "code",
   "execution_count": 57,
   "metadata": {},
   "outputs": [
    {
     "data": {
      "text/plain": [
       "GEVparameters (generic function with 2 methods)"
      ]
     },
     "execution_count": 57,
     "metadata": {},
     "output_type": "execute_result"
    }
   ],
   "source": [
    "function GEVparameters(Y::Vector{Float64})\n",
    "    function f(p::Vector{Float64})\n",
    "        return -logL(Y, p[1], p[2], p[3])\n",
    "    end\n",
    "    \n",
    "    μ₀ = mean(Y)\n",
    "    σ₀ = std(Y)\n",
    "    ξ₀ = 0\n",
    "    p₀ = [μ₀, σ₀, ξ₀]\n",
    "    \n",
    "    res = optimize(f, p₀)\n",
    "    \n",
    "    if Optim.converged(res)\n",
    "         p = Optim.minimizer(res)\n",
    "    else\n",
    "        @warn \"The maximum likelihood algorithm did not find a solution. Maybe try with different initial values or with another method. The returned values are the initial values.\"\n",
    "        p = p₀\n",
    "    end\n",
    "    \n",
    "    return p\n",
    "end"
   ]
  },
  {
   "cell_type": "code",
   "execution_count": 58,
   "metadata": {},
   "outputs": [
    {
     "data": {
      "text/plain": [
       "3-element Vector{Float64}:\n",
       " 42.22565849775067\n",
       " 10.017784250169967\n",
       " -0.09163450812761938"
      ]
     },
     "execution_count": 58,
     "metadata": {},
     "output_type": "execute_result"
    }
   ],
   "source": [
    "GEVparameters([43, 54, 66, 32, 41.6])"
   ]
  },
  {
   "cell_type": "code",
   "execution_count": 2,
   "metadata": {},
   "outputs": [
    {
     "ename": "LoadError",
     "evalue": "ArgumentError: Package Gadfly not found in current path:\n- Run `import Pkg; Pkg.add(\"Gadfly\")` to install the Gadfly package.\n",
     "output_type": "error",
     "traceback": [
      "ArgumentError: Package Gadfly not found in current path:\n- Run `import Pkg; Pkg.add(\"Gadfly\")` to install the Gadfly package.\n",
      "",
      "Stacktrace:",
      " [1] require(into::Module, mod::Symbol)",
      "   @ Base .\\loading.jl:871",
      " [2] eval",
      "   @ .\\boot.jl:360 [inlined]",
      " [3] include_string(mapexpr::typeof(REPL.softscope), mod::Module, code::String, filename::String)",
      "   @ Base .\\loading.jl:1094"
     ]
    }
   ],
   "source": [
    "using Extremes, Dates, DataFrames, Distributions, Gadfly"
   ]
  },
  {
   "cell_type": "code",
   "execution_count": null,
   "metadata": {},
   "outputs": [],
   "source": []
  },
  {
   "cell_type": "code",
   "execution_count": null,
   "metadata": {},
   "outputs": [],
   "source": []
  },
  {
   "cell_type": "code",
   "execution_count": null,
   "metadata": {},
   "outputs": [],
   "source": []
  }
 ],
 "metadata": {
  "kernelspec": {
   "display_name": "Julia 1.6.1",
   "language": "julia",
   "name": "julia-1.6"
  },
  "language_info": {
   "file_extension": ".jl",
   "mimetype": "application/julia",
   "name": "julia",
   "version": "1.6.0"
  }
 },
 "nbformat": 4,
 "nbformat_minor": 4
}