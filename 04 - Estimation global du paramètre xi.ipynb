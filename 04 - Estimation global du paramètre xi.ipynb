{
 "cells": [
  {
   "cell_type": "markdown",
   "id": "427e1f2a",
   "metadata": {},
   "source": [
    "# 04 - Estimation globale du paramètre xi\n",
    "\n",
    "Dans ce notebook, nous allons construire un estimateur global pour le paramètre xi des GEV aux stations. Nous allons pour cela devoir construire une fonction à $2N+1$ paramètres, où $N$ est le nombre de stations : en effet, il faut estimer en même temps les paramètres $\\mu_{i}$, $\\phi_{i}$ et enfin $\\xi$.\n",
    "\n",
    "D'après notre précédente étude sur les corrélations des stations d'une même cellule, nous en sommes venus à la conclusion qu'il fallait mieux les concaténer, pour une même cellule. C'est donc ce que nous allons faire."
   ]
  },
  {
   "cell_type": "code",
   "execution_count": 1,
   "id": "c3223b33",
   "metadata": {},
   "outputs": [],
   "source": [
    "using CSV, DataFrames, StatsBase, Random\n",
    "\n",
    "using Distributions, Extremes, Optim\n",
    "\n",
    "using IDF\n",
    "\n",
    "import Plots"
   ]
  },
  {
   "cell_type": "code",
   "execution_count": 77,
   "id": "81b051a8",
   "metadata": {},
   "outputs": [
    {
     "data": {
      "text/plain": [
       "\"24 h\""
      ]
     },
     "execution_count": 77,
     "metadata": {},
     "output_type": "execute_result"
    }
   ],
   "source": [
    "PROVINCES = [\"NB\", \"NL\", \"NS\", \"ON\", \"PE\", \"QC\"]#provinces considerees\n",
    "#PROVINCES = [\"NB\"]\n",
    "\n",
    "DURATION = \"24 h\""
   ]
  },
  {
   "cell_type": "code",
   "execution_count": 78,
   "id": "d57d3dfc",
   "metadata": {},
   "outputs": [
    {
     "data": {
      "text/html": [
       "<table class=\"data-frame\"><thead><tr><th></th><th>Name</th><th>Province</th><th>ID</th><th>Lat</th><th>Lon</th><th>Elevation</th></tr><tr><th></th><th>String</th><th>String</th><th>String</th><th>Float64</th><th>Float64</th><th>Int64</th></tr></thead><tbody><p>10 rows × 6 columns</p><tr><th>1</th><td>BEECHWOOD</td><td>NB</td><td>8100512</td><td>46.53</td><td>-67.67</td><td>91</td></tr><tr><th>2</th><td>BELLEDUNE</td><td>NB</td><td>8100514</td><td>47.9</td><td>-65.83</td><td>7</td></tr><tr><th>3</th><td>BOUCTOUCHE CDA CS</td><td>NB</td><td>8100593</td><td>46.43</td><td>-64.77</td><td>35</td></tr><tr><th>4</th><td>CHARLO AUTO</td><td>NB</td><td>8100885</td><td>47.98</td><td>-66.33</td><td>42</td></tr><tr><th>5</th><td>MIRAMICHI RCS</td><td>NB</td><td>8100989</td><td>47.02</td><td>-65.47</td><td>33</td></tr><tr><th>6</th><td>EDMUNDSTON</td><td>NB</td><td>8101303</td><td>47.42</td><td>-68.32</td><td>154</td></tr><tr><th>7</th><td>FREDERICTON A</td><td>NB</td><td>8101500</td><td>45.87</td><td>-66.53</td><td>20</td></tr><tr><th>8</th><td>FREDERICTON CDA CS</td><td>NB</td><td>8101605</td><td>45.92</td><td>-66.62</td><td>35</td></tr><tr><th>9</th><td>MONCTON INTL A</td><td>NB</td><td>8103201</td><td>46.12</td><td>-64.68</td><td>70</td></tr><tr><th>10</th><td>ROYAL ROAD</td><td>NB</td><td>8104480</td><td>46.05</td><td>-66.72</td><td>115</td></tr></tbody></table>"
      ],
      "text/latex": [
       "\\begin{tabular}{r|cccccc}\n",
       "\t& Name & Province & ID & Lat & Lon & Elevation\\\\\n",
       "\t\\hline\n",
       "\t& String & String & String & Float64 & Float64 & Int64\\\\\n",
       "\t\\hline\n",
       "\t1 & BEECHWOOD & NB & 8100512 & 46.53 & -67.67 & 91 \\\\\n",
       "\t2 & BELLEDUNE & NB & 8100514 & 47.9 & -65.83 & 7 \\\\\n",
       "\t3 & BOUCTOUCHE CDA CS & NB & 8100593 & 46.43 & -64.77 & 35 \\\\\n",
       "\t4 & CHARLO AUTO & NB & 8100885 & 47.98 & -66.33 & 42 \\\\\n",
       "\t5 & MIRAMICHI RCS & NB & 8100989 & 47.02 & -65.47 & 33 \\\\\n",
       "\t6 & EDMUNDSTON & NB & 8101303 & 47.42 & -68.32 & 154 \\\\\n",
       "\t7 & FREDERICTON A & NB & 8101500 & 45.87 & -66.53 & 20 \\\\\n",
       "\t8 & FREDERICTON CDA CS & NB & 8101605 & 45.92 & -66.62 & 35 \\\\\n",
       "\t9 & MONCTON INTL A & NB & 8103201 & 46.12 & -64.68 & 70 \\\\\n",
       "\t10 & ROYAL ROAD & NB & 8104480 & 46.05 & -66.72 & 115 \\\\\n",
       "\\end{tabular}\n"
      ],
      "text/plain": [
       "10×6 DataFrame. Omitted printing of 1 columns\n",
       "│ Row │ Name               │ Province │ ID      │ Lat     │ Lon     │\n",
       "│     │ \u001b[90mString\u001b[39m             │ \u001b[90mString\u001b[39m   │ \u001b[90mString\u001b[39m  │ \u001b[90mFloat64\u001b[39m │ \u001b[90mFloat64\u001b[39m │\n",
       "├─────┼────────────────────┼──────────┼─────────┼─────────┼─────────┤\n",
       "│ 1   │ BEECHWOOD          │ NB       │ 8100512 │ 46.53   │ -67.67  │\n",
       "│ 2   │ BELLEDUNE          │ NB       │ 8100514 │ 47.9    │ -65.83  │\n",
       "│ 3   │ BOUCTOUCHE CDA CS  │ NB       │ 8100593 │ 46.43   │ -64.77  │\n",
       "│ 4   │ CHARLO AUTO        │ NB       │ 8100885 │ 47.98   │ -66.33  │\n",
       "│ 5   │ MIRAMICHI RCS      │ NB       │ 8100989 │ 47.02   │ -65.47  │\n",
       "│ 6   │ EDMUNDSTON         │ NB       │ 8101303 │ 47.42   │ -68.32  │\n",
       "│ 7   │ FREDERICTON A      │ NB       │ 8101500 │ 45.87   │ -66.53  │\n",
       "│ 8   │ FREDERICTON CDA CS │ NB       │ 8101605 │ 45.92   │ -66.62  │\n",
       "│ 9   │ MONCTON INTL A     │ NB       │ 8103201 │ 46.12   │ -64.68  │\n",
       "│ 10  │ ROYAL ROAD         │ NB       │ 8104480 │ 46.05   │ -66.72  │"
      ]
     },
     "execution_count": 78,
     "metadata": {},
     "output_type": "execute_result"
    }
   ],
   "source": [
    "station_list = load_data(\"station_list\")\n",
    "\n",
    "filter!(row -> row.Province ∈ PROVINCES , station_list)#on ne selectionne que les stations qui nous interessent\n",
    "\n",
    "first(station_list, 10)"
   ]
  },
  {
   "cell_type": "code",
   "execution_count": 4,
   "id": "3fbac215",
   "metadata": {},
   "outputs": [
    {
     "data": {
      "text/html": [
       "<table class=\"data-frame\"><thead><tr><th></th><th>Year</th><th>Duration</th><th>Pcp</th></tr><tr><th></th><th>Int64</th><th>Cat…</th><th>Float64</th></tr></thead><tbody><p>10 rows × 3 columns</p><tr><th>1</th><td>1959</td><td>5 min</td><td>9.7</td></tr><tr><th>2</th><td>1960</td><td>5 min</td><td>5.3</td></tr><tr><th>3</th><td>1961</td><td>5 min</td><td>7.4</td></tr><tr><th>4</th><td>1962</td><td>5 min</td><td>5.6</td></tr><tr><th>5</th><td>1963</td><td>5 min</td><td>3.6</td></tr><tr><th>6</th><td>1964</td><td>5 min</td><td>3.6</td></tr><tr><th>7</th><td>1965</td><td>5 min</td><td>11.7</td></tr><tr><th>8</th><td>1966</td><td>5 min</td><td>3.0</td></tr><tr><th>9</th><td>1967</td><td>5 min</td><td>7.9</td></tr><tr><th>10</th><td>1969</td><td>5 min</td><td>9.7</td></tr></tbody></table>"
      ],
      "text/latex": [
       "\\begin{tabular}{r|ccc}\n",
       "\t& Year & Duration & Pcp\\\\\n",
       "\t\\hline\n",
       "\t& Int64 & Cat… & Float64\\\\\n",
       "\t\\hline\n",
       "\t1 & 1959 & 5 min & 9.7 \\\\\n",
       "\t2 & 1960 & 5 min & 5.3 \\\\\n",
       "\t3 & 1961 & 5 min & 7.4 \\\\\n",
       "\t4 & 1962 & 5 min & 5.6 \\\\\n",
       "\t5 & 1963 & 5 min & 3.6 \\\\\n",
       "\t6 & 1964 & 5 min & 3.6 \\\\\n",
       "\t7 & 1965 & 5 min & 11.7 \\\\\n",
       "\t8 & 1966 & 5 min & 3.0 \\\\\n",
       "\t9 & 1967 & 5 min & 7.9 \\\\\n",
       "\t10 & 1969 & 5 min & 9.7 \\\\\n",
       "\\end{tabular}\n"
      ],
      "text/plain": [
       "10×3 DataFrame\n",
       "│ Row │ Year  │ Duration │ Pcp     │\n",
       "│     │ \u001b[90mInt64\u001b[39m │ \u001b[90mCat…\u001b[39m     │ \u001b[90mFloat64\u001b[39m │\n",
       "├─────┼───────┼──────────┼─────────┤\n",
       "│ 1   │ 1959  │ 5 min    │ 9.7     │\n",
       "│ 2   │ 1960  │ 5 min    │ 5.3     │\n",
       "│ 3   │ 1961  │ 5 min    │ 7.4     │\n",
       "│ 4   │ 1962  │ 5 min    │ 5.6     │\n",
       "│ 5   │ 1963  │ 5 min    │ 3.6     │\n",
       "│ 6   │ 1964  │ 5 min    │ 3.6     │\n",
       "│ 7   │ 1965  │ 5 min    │ 11.7    │\n",
       "│ 8   │ 1966  │ 5 min    │ 3.0     │\n",
       "│ 9   │ 1967  │ 5 min    │ 7.9     │\n",
       "│ 10  │ 1969  │ 5 min    │ 9.7     │"
      ]
     },
     "execution_count": 4,
     "metadata": {},
     "output_type": "execute_result"
    }
   ],
   "source": [
    "first(load_station(\"8100512\"), 10)#simple test"
   ]
  },
  {
   "cell_type": "markdown",
   "id": "8e86390f",
   "metadata": {},
   "source": [
    "Il s'agit maintenant de calculer la log-vraisemblance à estimer, qui devra donc moduler $2N+1$ paramètres. En notant respectivement $\\mu_{i}$ et $\\phi_{i}$ les paramètres de moyenne et de variance, nous avons donc, avec $(y_{ij})_{1\\leq j \\leq n_{i}}$ les données de la $i$-ème station :\n",
    "\n",
    "$$ l(y, \\theta) = \\sum_{i=1}^{N}\\sum_{j=1}^{n_{i}} \\ln(GEV(y_{ij}|\\mu_{i}, \\phi_{i}, \\xi)) = \\sum_{i=1}^{N} l(y_{i},(\\mu_{i}, \\phi_{i}, \\xi)) $$"
   ]
  },
  {
   "cell_type": "markdown",
   "id": "e681c087",
   "metadata": {},
   "source": [
    "Avant de tester brutalement avec toutes les stations d'un coup, on pourrait tester par cellules ce que cela donne. Commencons par les extraire :"
   ]
  },
  {
   "cell_type": "code",
   "execution_count": 6,
   "id": "8a42897f",
   "metadata": {},
   "outputs": [
    {
     "data": {
      "text/html": [
       "<table class=\"data-frame\"><thead><tr><th></th><th>Name</th><th>Province</th><th>ID</th><th>Lat</th><th>Lon</th><th>Elevation</th><th>GridCell</th></tr><tr><th></th><th>String</th><th>String</th><th>String</th><th>Float64</th><th>Float64</th><th>Int64</th><th>Int64</th></tr></thead><tbody><p>10 rows × 7 columns</p><tr><th>1</th><td>ROYAL ROAD</td><td>NB</td><td>8104480</td><td>46.05</td><td>-66.72</td><td>115</td><td>33632</td></tr><tr><th>2</th><td>ROYAL ROAD WEST</td><td>NB</td><td>8104482</td><td>46.08</td><td>-66.73</td><td>160</td><td>33632</td></tr><tr><th>3</th><td>PORT WELLER (AUT)</td><td>ON</td><td>6136699</td><td>43.25</td><td>-79.22</td><td>79</td><td>20197</td></tr><tr><th>4</th><td>ST CATHARINES A</td><td>ON</td><td>6137287</td><td>43.2</td><td>-79.17</td><td>97</td><td>20197</td></tr><tr><th>5</th><td>CAMBRIDGE GALT MOE</td><td>ON</td><td>6141095</td><td>43.33</td><td>-80.32</td><td>268</td><td>18645</td></tr><tr><th>6</th><td>PRESTON WPCP</td><td>ON</td><td>6146714</td><td>43.38</td><td>-80.35</td><td>272</td><td>18645</td></tr><tr><th>7</th><td>WATERLOO WELLINGTON A</td><td>ON</td><td>6149387</td><td>43.45</td><td>-80.38</td><td>317</td><td>18645</td></tr><tr><th>8</th><td>MAPLE</td><td>ON</td><td>6154950</td><td>43.87</td><td>-79.48</td><td>244</td><td>19620</td></tr><tr><th>9</th><td>TORONTO YORK MILLS</td><td>ON</td><td>615HHDF</td><td>43.75</td><td>-79.38</td><td>153</td><td>19620</td></tr><tr><th>10</th><td>TORONTO NORTH YORK</td><td>ON</td><td>615S001</td><td>43.78</td><td>-79.47</td><td>187</td><td>19620</td></tr></tbody></table>"
      ],
      "text/latex": [
       "\\begin{tabular}{r|ccccccc}\n",
       "\t& Name & Province & ID & Lat & Lon & Elevation & GridCell\\\\\n",
       "\t\\hline\n",
       "\t& String & String & String & Float64 & Float64 & Int64 & Int64\\\\\n",
       "\t\\hline\n",
       "\t1 & ROYAL ROAD & NB & 8104480 & 46.05 & -66.72 & 115 & 33632 \\\\\n",
       "\t2 & ROYAL ROAD WEST & NB & 8104482 & 46.08 & -66.73 & 160 & 33632 \\\\\n",
       "\t3 & PORT WELLER (AUT) & ON & 6136699 & 43.25 & -79.22 & 79 & 20197 \\\\\n",
       "\t4 & ST CATHARINES A & ON & 6137287 & 43.2 & -79.17 & 97 & 20197 \\\\\n",
       "\t5 & CAMBRIDGE GALT MOE & ON & 6141095 & 43.33 & -80.32 & 268 & 18645 \\\\\n",
       "\t6 & PRESTON WPCP & ON & 6146714 & 43.38 & -80.35 & 272 & 18645 \\\\\n",
       "\t7 & WATERLOO WELLINGTON A & ON & 6149387 & 43.45 & -80.38 & 317 & 18645 \\\\\n",
       "\t8 & MAPLE & ON & 6154950 & 43.87 & -79.48 & 244 & 19620 \\\\\n",
       "\t9 & TORONTO YORK MILLS & ON & 615HHDF & 43.75 & -79.38 & 153 & 19620 \\\\\n",
       "\t10 & TORONTO NORTH YORK & ON & 615S001 & 43.78 & -79.47 & 187 & 19620 \\\\\n",
       "\\end{tabular}\n"
      ],
      "text/plain": [
       "10×7 DataFrame. Omitted printing of 2 columns\n",
       "│ Row │ Name                  │ Province │ ID      │ Lat     │ Lon     │\n",
       "│     │ \u001b[90mString\u001b[39m                │ \u001b[90mString\u001b[39m   │ \u001b[90mString\u001b[39m  │ \u001b[90mFloat64\u001b[39m │ \u001b[90mFloat64\u001b[39m │\n",
       "├─────┼───────────────────────┼──────────┼─────────┼─────────┼─────────┤\n",
       "│ 1   │ ROYAL ROAD            │ NB       │ 8104480 │ 46.05   │ -66.72  │\n",
       "│ 2   │ ROYAL ROAD WEST       │ NB       │ 8104482 │ 46.08   │ -66.73  │\n",
       "│ 3   │ PORT WELLER (AUT)     │ ON       │ 6136699 │ 43.25   │ -79.22  │\n",
       "│ 4   │ ST CATHARINES A       │ ON       │ 6137287 │ 43.2    │ -79.17  │\n",
       "│ 5   │ CAMBRIDGE GALT MOE    │ ON       │ 6141095 │ 43.33   │ -80.32  │\n",
       "│ 6   │ PRESTON WPCP          │ ON       │ 6146714 │ 43.38   │ -80.35  │\n",
       "│ 7   │ WATERLOO WELLINGTON A │ ON       │ 6149387 │ 43.45   │ -80.38  │\n",
       "│ 8   │ MAPLE                 │ ON       │ 6154950 │ 43.87   │ -79.48  │\n",
       "│ 9   │ TORONTO YORK MILLS    │ ON       │ 615HHDF │ 43.75   │ -79.38  │\n",
       "│ 10  │ TORONTO NORTH YORK    │ ON       │ 615S001 │ 43.78   │ -79.47  │"
      ]
     },
     "execution_count": 6,
     "metadata": {},
     "output_type": "execute_result"
    }
   ],
   "source": [
    "same_cell = load_data(\"same_cell\")\n",
    "\n",
    "first(same_cell, 10)"
   ]
  },
  {
   "cell_type": "code",
   "execution_count": 7,
   "id": "365962b4",
   "metadata": {},
   "outputs": [
    {
     "data": {
      "text/plain": [
       "14-element Vector{Int64}:\n",
       " 33632\n",
       " 20197\n",
       " 18645\n",
       " 19620\n",
       " 19619\n",
       " 19813\n",
       " 19814\n",
       " 19621\n",
       " 28003\n",
       " 28002\n",
       " 25464\n",
       " 28572\n",
       " 26047\n",
       " 27434"
      ]
     },
     "execution_count": 7,
     "metadata": {},
     "output_type": "execute_result"
    }
   ],
   "source": [
    "cells = unique(same_cell[:, :GridCell])"
   ]
  },
  {
   "cell_type": "code",
   "execution_count": 61,
   "id": "0f9273e9",
   "metadata": {},
   "outputs": [
    {
     "data": {
      "text/plain": [
       "xi_gridcell (generic function with 1 method)"
      ]
     },
     "execution_count": 61,
     "metadata": {},
     "output_type": "execute_result"
    }
   ],
   "source": [
    "function xi_gridcell(GridCell::Int64)\n",
    "    stations = filter(row -> row[:GridCell] == GridCell, same_cell)\n",
    "    N = nrow(stations)\n",
    "    \n",
    "    # initialisation des parametres pour l'optimisation\n",
    "    μ = []\n",
    "    ϕ = []\n",
    "    \n",
    "    for i in 1:N\n",
    "        y = pcp(stations[i, :ID], DURATION)\n",
    "        append!(μ, mean(y))\n",
    "        append!(ϕ, log(std(y)))\n",
    "    end\n",
    "    \n",
    "    ξ = 0.0\n",
    "    \n",
    "    p₀ = Float64.([μ;ϕ;ξ])\n",
    "\n",
    "    \n",
    "    # definition de la fonction objectif\n",
    "    # elle correspond a la log-vraisemblance globale définie plus haut\n",
    "    function fobj(p::Vector{Float64})\n",
    "        μ = p[1:N]\n",
    "        ϕ = p[N+1:(2*N)]\n",
    "        ξ = p[2*N+1]\n",
    "\n",
    "        s=0\n",
    "        for i in 1:N\n",
    "            id = stations[i, :ID]\n",
    "            s -= logL(pcp(id, DURATION), μ[i], exp(ϕ[i]), ξ) # on met l'opposé de la log-vraisemblance\n",
    "        end\n",
    "\n",
    "        return s\n",
    "    end\n",
    "        \n",
    "    p = p₀\n",
    "    try\n",
    "        res = optimize(fobj, p₀)\n",
    "\n",
    "        if Optim.converged(res)\n",
    "            p = Optim.minimizer(res)\n",
    "        else\n",
    "            @warn \"The algorithm did not find a solution. Maybe try with different initial values or with another method. The returned values are the initial values.\"\n",
    "            p = p₀\n",
    "        end\n",
    "    catch\n",
    "        println(\"Error with the cell number\")\n",
    "    end\n",
    "    \n",
    "    return p\n",
    "end"
   ]
  },
  {
   "cell_type": "code",
   "execution_count": 63,
   "id": "36797b79",
   "metadata": {},
   "outputs": [
    {
     "name": "stdout",
     "output_type": "stream",
     "text": [
      "[48.829565157096845, 50.287583089785045, 2.5091186553695817, 2.413283679469214, 0.14609845653623607]\n",
      "[44.35098603523281, 43.7493843726084, 2.346316679951111, 2.4525850213671614, -0.03760520748727994]\n",
      "[48.42832230162551, 50.04331906154565, 45.39216305127042, 2.4391812119332683, 2.484676120016873, 2.5200091369007502, 0.07712823549998016]\n",
      "[40.58052681781729, 32.19308030421434, 39.8425736089628, 2.1694631866499505, 2.635758148802551, 2.3979862770620586, 0.16763289234068687]\n",
      "[41.105649679567456, 37.78852017526413, 2.320768210866288, 2.236615717917796, 0.1772713334494634]\n",
      "[39.72641405358362, 37.64235199223889, 37.24331627803654, 2.3906879856630727, 2.1196232423602885, 2.21582854515578, 0.09377329096171523]\n",
      "[39.48375259216612, 38.28886125049151, 2.0677309874160597, 1.9803808428574925, 0.07941146578639448]\n",
      "[39.72237666243866, 40.00309237264619, 2.534799155167997, 2.3504691053030142, 0.07751214153358901]\n",
      "[51.20282216510865, 53.29295114376827, 55.29778346055684, 55.9100393106775, 1.9241841707817273, 2.553519047604245, 3.094980284262836, 2.5358674393365566, -0.09300851514465738]\n",
      "[55.86979225383617, 53.200016846201024, 55.706057771735956, 2.7369999385048867, 2.7415272167713107, 2.623876822475072, -0.47465922705535235]\n",
      "[44.990150694461875, 45.153474512520134, 2.6086022901351926, 2.402866068633467, -0.09378483691347672]\n",
      "[42.58774122861772, 42.00670951504236, 2.283496392697372, 2.0654954290483083, 0.11398589869813945]\n",
      "[48.432151413181444, 43.332358211653606, 45.23050883713252, 2.4716032133621106, 2.415945597743346, 2.462022749909314, 0.08288091653303208]\n",
      "[39.54615452789157, 42.48336887270176, 2.33591773828142, 2.7429121870877635, -0.010747972510060141]\n"
     ]
    }
   ],
   "source": [
    "for i in 1:(length(cells))\n",
    "    println(xi_gridcell(cells[i]))\n",
    "end"
   ]
  },
  {
   "cell_type": "markdown",
   "id": "5777d619",
   "metadata": {},
   "source": [
    "Maintenant que cette opération fonctionne bien avec les cellules contenant plusieurs stations, effectuons le calcul pour l'ensemble des stations.\n",
    "\n",
    "D'après les recherches précédentes, nous allons donc considérer pour les cellules où il y a plusieurs stations, un agglomération sans plus d'affinement. Dans la suite du notebook, nous testerons à nouveau ce calcul avec une précision des cas multi-stations."
   ]
  },
  {
   "cell_type": "code",
   "execution_count": 64,
   "id": "724107c6",
   "metadata": {},
   "outputs": [
    {
     "data": {
      "text/plain": [
       "336"
      ]
     },
     "execution_count": 64,
     "metadata": {},
     "output_type": "execute_result"
    }
   ],
   "source": [
    "# rappel : nombre de stations total\n",
    "nrow(station_list)"
   ]
  },
  {
   "cell_type": "code",
   "execution_count": 83,
   "id": "731298cb",
   "metadata": {},
   "outputs": [
    {
     "data": {
      "text/plain": [
       "xi_global (generic function with 2 methods)"
      ]
     },
     "execution_count": 83,
     "metadata": {},
     "output_type": "execute_result"
    }
   ],
   "source": [
    "function xi_global(stations_df::DataFrame)\n",
    "    N = nrow(stations_df)\n",
    "\n",
    "    # initialisation des parametres\n",
    "    μ = []\n",
    "    ϕ = []\n",
    "\n",
    "    for i in 1:N\n",
    "        y = pcp(stations_df[i, :ID], DURATION)\n",
    "        append!(μ, mean(y))\n",
    "        append!(ϕ, log(std(y)))\n",
    "    end\n",
    "\n",
    "    ξ = 0.0\n",
    "\n",
    "    p₀ = Float64.([μ;ϕ;ξ])\n",
    "\n",
    "\n",
    "    # definition de la fonction objectif\n",
    "    # elle correspond a la log-vraisemblance globale définie plus haut\n",
    "    function fobj(p::Vector{Float64})\n",
    "        μ = p[1:N]\n",
    "        ϕ = p[N+1:(2*N)]\n",
    "        ξ = p[2*N+1]\n",
    "\n",
    "        s=0\n",
    "        for i in 1:N\n",
    "            id = stations_df[i, :ID]\n",
    "            s -= logL(pcp(id, DURATION), μ[i], exp(ϕ[i]), ξ) # on met l'opposé de la log-vraisemblance\n",
    "        end\n",
    "\n",
    "        return s\n",
    "    end\n",
    "\n",
    "    p = p₀\n",
    "    try\n",
    "        res = optimize(fobj, p₀)\n",
    "\n",
    "        if Optim.converged(res)\n",
    "            p = Optim.minimizer(res)\n",
    "        else\n",
    "            @warn \"The algorithm did not find a solution. Maybe try with different initial values or with another method. The returned values are the initial values.\"\n",
    "            p = p₀\n",
    "        end\n",
    "    catch\n",
    "        println(\"Error with the optimization\")\n",
    "    end\n",
    "\n",
    "    return p\n",
    "end"
   ]
  },
  {
   "cell_type": "code",
   "execution_count": 84,
   "id": "76f123a9",
   "metadata": {},
   "outputs": [
    {
     "name": "stderr",
     "output_type": "stream",
     "text": [
      "┌ Warning: The algorithm did not find a solution. Maybe try with different initial values or with another method. The returned values are the initial values.\n",
      "└ @ Main In[83]:42\n"
     ]
    },
    {
     "data": {
      "text/plain": [
       "673-element Vector{Float64}:\n",
       " 65.07000000000001\n",
       " 46.07222222222222\n",
       " 60.42352941176471\n",
       " 56.8235294117647\n",
       " 59.770270270270274\n",
       " 57.125\n",
       " 60.690909090909095\n",
       " 64.14230769230768\n",
       " 62.468656716417904\n",
       " 57.87692307692308\n",
       " 58.43333333333334\n",
       " 74.20500000000001\n",
       " 79.23414634146341\n",
       "  ⋮\n",
       "  2.4971582908595926\n",
       "  2.2505155731234727\n",
       "  2.611911582985783\n",
       "  2.47676473701447\n",
       "  2.5557560236037307\n",
       "  2.333751031523238\n",
       "  2.3126877727380033\n",
       "  2.509957210677259\n",
       "  2.3748898571119708\n",
       "  1.9682830066661798\n",
       "  2.6818143009863102\n",
       "  0.0"
      ]
     },
     "execution_count": 84,
     "metadata": {},
     "output_type": "execute_result"
    }
   ],
   "source": [
    "xi_global(station_list)"
   ]
  },
  {
   "cell_type": "markdown",
   "id": "b382ac6b",
   "metadata": {},
   "source": [
    "Comme l'optimisation semble ne pas converger du fait du trop grand nombre de stations, essayons par province séparément, pour des provinces ayant peu de stations :"
   ]
  },
  {
   "cell_type": "code",
   "execution_count": 80,
   "id": "197de283",
   "metadata": {},
   "outputs": [
    {
     "data": {
      "text/html": [
       "<table class=\"data-frame\"><thead><tr><th></th><th>Province</th><th>nrow</th></tr><tr><th></th><th>String</th><th>Int64</th></tr></thead><tbody><p>6 rows × 2 columns</p><tr><th>1</th><td>NB</td><td>15</td></tr><tr><th>2</th><td>NL</td><td>20</td></tr><tr><th>3</th><td>NS</td><td>16</td></tr><tr><th>4</th><td>ON</td><td>140</td></tr><tr><th>5</th><td>PE</td><td>3</td></tr><tr><th>6</th><td>QC</td><td>142</td></tr></tbody></table>"
      ],
      "text/latex": [
       "\\begin{tabular}{r|cc}\n",
       "\t& Province & nrow\\\\\n",
       "\t\\hline\n",
       "\t& String & Int64\\\\\n",
       "\t\\hline\n",
       "\t1 & NB & 15 \\\\\n",
       "\t2 & NL & 20 \\\\\n",
       "\t3 & NS & 16 \\\\\n",
       "\t4 & ON & 140 \\\\\n",
       "\t5 & PE & 3 \\\\\n",
       "\t6 & QC & 142 \\\\\n",
       "\\end{tabular}\n"
      ],
      "text/plain": [
       "6×2 DataFrame\n",
       "│ Row │ Province │ nrow  │\n",
       "│     │ \u001b[90mString\u001b[39m   │ \u001b[90mInt64\u001b[39m │\n",
       "├─────┼──────────┼───────┤\n",
       "│ 1   │ NB       │ 15    │\n",
       "│ 2   │ NL       │ 20    │\n",
       "│ 3   │ NS       │ 16    │\n",
       "│ 4   │ ON       │ 140   │\n",
       "│ 5   │ PE       │ 3     │\n",
       "│ 6   │ QC       │ 142   │"
      ]
     },
     "execution_count": 80,
     "metadata": {},
     "output_type": "execute_result"
    }
   ],
   "source": [
    "combine(groupby(station_list, :Province), nrow)"
   ]
  },
  {
   "cell_type": "markdown",
   "id": "635dcb7b",
   "metadata": {},
   "source": [
    "Testons donc avec l'île du Prince-Édouard, la province ayant le moins de stations (donc la plus à même de converger vers un résultat satisfaisant)"
   ]
  },
  {
   "cell_type": "code",
   "execution_count": 85,
   "id": "4f496327",
   "metadata": {},
   "outputs": [
    {
     "data": {
      "text/plain": [
       "7-element Vector{Float64}:\n",
       " 54.72352334247815\n",
       " 42.86725323886879\n",
       " 51.84510845287662\n",
       "  2.8808396405746035\n",
       "  2.4425503151658687\n",
       "  2.640542459739034\n",
       " -0.06798184896302174"
      ]
     },
     "execution_count": 85,
     "metadata": {},
     "output_type": "execute_result"
    }
   ],
   "source": [
    "df_PE = filter(row -> row.Province == \"PE\" , station_list)\n",
    "xi_global(df_PE)"
   ]
  },
  {
   "cell_type": "markdown",
   "id": "75029651",
   "metadata": {},
   "source": [
    "Testons donc pour le nouveau-Brunswick :"
   ]
  },
  {
   "cell_type": "code",
   "execution_count": 86,
   "id": "46a0c240",
   "metadata": {},
   "outputs": [
    {
     "name": "stderr",
     "output_type": "stream",
     "text": [
      "┌ Warning: The algorithm did not find a solution. Maybe try with different initial values or with another method. The returned values are the initial values.\n",
      "└ @ Main In[83]:42\n"
     ]
    },
    {
     "data": {
      "text/plain": [
       "31-element Vector{Float64}:\n",
       " 65.07000000000001\n",
       " 46.07222222222222\n",
       " 60.42352941176471\n",
       " 56.8235294117647\n",
       " 59.770270270270274\n",
       " 57.125\n",
       " 60.690909090909095\n",
       " 64.14230769230768\n",
       " 62.468656716417904\n",
       " 57.87692307692308\n",
       " 58.43333333333334\n",
       " 74.20500000000001\n",
       " 79.23414634146341\n",
       "  ⋮\n",
       "  3.1589837390035154\n",
       "  2.9246338982001756\n",
       "  3.4057757500185\n",
       "  2.981433350587477\n",
       "  3.1636504360702293\n",
       "  2.945388003370246\n",
       "  2.780429385751191\n",
       "  3.300971393315762\n",
       "  3.2552740933625315\n",
       "  2.6292454369441405\n",
       "  2.865249192860548\n",
       "  0.0"
      ]
     },
     "execution_count": 86,
     "metadata": {},
     "output_type": "execute_result"
    }
   ],
   "source": [
    "df_NB = filter(row -> row.Province == \"NB\" , station_list)\n",
    "xi_global(df_NB)"
   ]
  },
  {
   "cell_type": "markdown",
   "id": "88aeaf50",
   "metadata": {},
   "source": [
    "On observe que cela ne converge à nouveau pas. Testons pour la Nouvelle-Écosse : "
   ]
  },
  {
   "cell_type": "code",
   "execution_count": 87,
   "id": "90dd0fb8",
   "metadata": {},
   "outputs": [
    {
     "name": "stderr",
     "output_type": "stream",
     "text": [
      "┌ Warning: The algorithm did not find a solution. Maybe try with different initial values or with another method. The returned values are the initial values.\n",
      "└ @ Main In[83]:42\n"
     ]
    },
    {
     "data": {
      "text/plain": [
       "33-element Vector{Float64}:\n",
       " 57.74000000000001\n",
       " 71.13846153846154\n",
       " 60.76666666666667\n",
       " 75.80434782608695\n",
       " 77.25833333333333\n",
       " 88.19333333333334\n",
       " 61.38809523809524\n",
       " 67.5\n",
       " 72.62307692307694\n",
       " 78.1\n",
       " 71.15254237288136\n",
       " 65.54375\n",
       " 71.77169811320753\n",
       "  ⋮\n",
       "  3.3027103008700758\n",
       "  2.9415927082583866\n",
       "  2.938005024152091\n",
       "  3.0732652255850446\n",
       "  3.373245232356896\n",
       "  3.1935390216679025\n",
       "  2.6615861821636018\n",
       "  3.186242740430084\n",
       "  2.848603289893488\n",
       "  3.4793211906805364\n",
       "  2.829443919657416\n",
       "  0.0"
      ]
     },
     "execution_count": 87,
     "metadata": {},
     "output_type": "execute_result"
    }
   ],
   "source": [
    "df_NS = filter(row -> row.Province == \"NS\" , station_list)\n",
    "xi_global(df_NS)"
   ]
  }
 ],
 "metadata": {
  "kernelspec": {
   "display_name": "Julia 1.6.1",
   "language": "julia",
   "name": "julia-1.6"
  },
  "language_info": {
   "file_extension": ".jl",
   "mimetype": "application/julia",
   "name": "julia",
   "version": "1.6.1"
  }
 },
 "nbformat": 4,
 "nbformat_minor": 5
}
