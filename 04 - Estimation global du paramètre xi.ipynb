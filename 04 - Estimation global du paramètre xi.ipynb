{
 "cells": [
  {
   "cell_type": "markdown",
   "id": "427e1f2a",
   "metadata": {},
   "source": [
    "# 04 - Estimation globale du paramètre xi\n",
    "\n",
    "Dans ce notebook, nous allons construire un estimateur global pour le paramètre xi des GEV aux stations. Nous allons pour cela devoir construire une fonction à $2N+1$ paramètres, où $N$ est le nombre de stations : en effet, il faut estimer en même temps les paramètres $\\mu_{i}$, $\\phi_{i}$ et enfin $\\xi$.\n",
    "\n",
    "D'après notre précédente étude sur les corrélations des stations d'une même cellule, nous en sommes venus à la conclusion qu'il fallait mieux les concaténer, pour une même cellule. C'est donc ce que nous allons faire."
   ]
  },
  {
   "cell_type": "code",
   "execution_count": 1,
   "id": "c3223b33",
   "metadata": {},
   "outputs": [],
   "source": [
    "using CSV, DataFrames, StatsBase, Random\n",
    "\n",
    "using Distributions, Extremes, Optim\n",
    "\n",
    "using IDF\n",
    "\n",
    "import Plots"
   ]
  },
  {
   "cell_type": "code",
   "execution_count": 2,
   "id": "81b051a8",
   "metadata": {},
   "outputs": [
    {
     "data": {
      "text/plain": [
       "\"24 h\""
      ]
     },
     "execution_count": 2,
     "metadata": {},
     "output_type": "execute_result"
    }
   ],
   "source": [
    "PROVINCES = [\"NB\", \"NL\", \"NS\", \"ON\", \"PE\", \"QC\"]#provinces considerees\n",
    "\n",
    "DURATION = \"24 h\""
   ]
  },
  {
   "cell_type": "code",
   "execution_count": 3,
   "id": "d57d3dfc",
   "metadata": {},
   "outputs": [
    {
     "data": {
      "text/html": [
       "<table class=\"data-frame\"><thead><tr><th></th><th>Name</th><th>Province</th><th>ID</th><th>Lat</th><th>Lon</th><th>Elevation</th></tr><tr><th></th><th>String</th><th>String</th><th>String</th><th>Float64</th><th>Float64</th><th>Int64</th></tr></thead><tbody><p>10 rows × 6 columns</p><tr><th>1</th><td>BEECHWOOD</td><td>NB</td><td>8100512</td><td>46.53</td><td>-67.67</td><td>91</td></tr><tr><th>2</th><td>BELLEDUNE</td><td>NB</td><td>8100514</td><td>47.9</td><td>-65.83</td><td>7</td></tr><tr><th>3</th><td>BOUCTOUCHE CDA CS</td><td>NB</td><td>8100593</td><td>46.43</td><td>-64.77</td><td>35</td></tr><tr><th>4</th><td>CHARLO AUTO</td><td>NB</td><td>8100885</td><td>47.98</td><td>-66.33</td><td>42</td></tr><tr><th>5</th><td>MIRAMICHI RCS</td><td>NB</td><td>8100989</td><td>47.02</td><td>-65.47</td><td>33</td></tr><tr><th>6</th><td>EDMUNDSTON</td><td>NB</td><td>8101303</td><td>47.42</td><td>-68.32</td><td>154</td></tr><tr><th>7</th><td>FREDERICTON A</td><td>NB</td><td>8101500</td><td>45.87</td><td>-66.53</td><td>20</td></tr><tr><th>8</th><td>FREDERICTON CDA CS</td><td>NB</td><td>8101605</td><td>45.92</td><td>-66.62</td><td>35</td></tr><tr><th>9</th><td>MONCTON INTL A</td><td>NB</td><td>8103201</td><td>46.12</td><td>-64.68</td><td>70</td></tr><tr><th>10</th><td>ROYAL ROAD</td><td>NB</td><td>8104480</td><td>46.05</td><td>-66.72</td><td>115</td></tr></tbody></table>"
      ],
      "text/latex": [
       "\\begin{tabular}{r|cccccc}\n",
       "\t& Name & Province & ID & Lat & Lon & Elevation\\\\\n",
       "\t\\hline\n",
       "\t& String & String & String & Float64 & Float64 & Int64\\\\\n",
       "\t\\hline\n",
       "\t1 & BEECHWOOD & NB & 8100512 & 46.53 & -67.67 & 91 \\\\\n",
       "\t2 & BELLEDUNE & NB & 8100514 & 47.9 & -65.83 & 7 \\\\\n",
       "\t3 & BOUCTOUCHE CDA CS & NB & 8100593 & 46.43 & -64.77 & 35 \\\\\n",
       "\t4 & CHARLO AUTO & NB & 8100885 & 47.98 & -66.33 & 42 \\\\\n",
       "\t5 & MIRAMICHI RCS & NB & 8100989 & 47.02 & -65.47 & 33 \\\\\n",
       "\t6 & EDMUNDSTON & NB & 8101303 & 47.42 & -68.32 & 154 \\\\\n",
       "\t7 & FREDERICTON A & NB & 8101500 & 45.87 & -66.53 & 20 \\\\\n",
       "\t8 & FREDERICTON CDA CS & NB & 8101605 & 45.92 & -66.62 & 35 \\\\\n",
       "\t9 & MONCTON INTL A & NB & 8103201 & 46.12 & -64.68 & 70 \\\\\n",
       "\t10 & ROYAL ROAD & NB & 8104480 & 46.05 & -66.72 & 115 \\\\\n",
       "\\end{tabular}\n"
      ],
      "text/plain": [
       "10×6 DataFrame. Omitted printing of 1 columns\n",
       "│ Row │ Name               │ Province │ ID      │ Lat     │ Lon     │\n",
       "│     │ \u001b[90mString\u001b[39m             │ \u001b[90mString\u001b[39m   │ \u001b[90mString\u001b[39m  │ \u001b[90mFloat64\u001b[39m │ \u001b[90mFloat64\u001b[39m │\n",
       "├─────┼────────────────────┼──────────┼─────────┼─────────┼─────────┤\n",
       "│ 1   │ BEECHWOOD          │ NB       │ 8100512 │ 46.53   │ -67.67  │\n",
       "│ 2   │ BELLEDUNE          │ NB       │ 8100514 │ 47.9    │ -65.83  │\n",
       "│ 3   │ BOUCTOUCHE CDA CS  │ NB       │ 8100593 │ 46.43   │ -64.77  │\n",
       "│ 4   │ CHARLO AUTO        │ NB       │ 8100885 │ 47.98   │ -66.33  │\n",
       "│ 5   │ MIRAMICHI RCS      │ NB       │ 8100989 │ 47.02   │ -65.47  │\n",
       "│ 6   │ EDMUNDSTON         │ NB       │ 8101303 │ 47.42   │ -68.32  │\n",
       "│ 7   │ FREDERICTON A      │ NB       │ 8101500 │ 45.87   │ -66.53  │\n",
       "│ 8   │ FREDERICTON CDA CS │ NB       │ 8101605 │ 45.92   │ -66.62  │\n",
       "│ 9   │ MONCTON INTL A     │ NB       │ 8103201 │ 46.12   │ -64.68  │\n",
       "│ 10  │ ROYAL ROAD         │ NB       │ 8104480 │ 46.05   │ -66.72  │"
      ]
     },
     "execution_count": 3,
     "metadata": {},
     "output_type": "execute_result"
    }
   ],
   "source": [
    "station_list = load_data(\"station_list\")\n",
    "\n",
    "filter!(row -> row.Province ∈ PROVINCES , station_list)#on ne selectionne que les stations qui nous interessent\n",
    "\n",
    "first(station_list, 10)"
   ]
  },
  {
   "cell_type": "code",
   "execution_count": 4,
   "id": "3fbac215",
   "metadata": {},
   "outputs": [
    {
     "data": {
      "text/html": [
       "<table class=\"data-frame\"><thead><tr><th></th><th>Year</th><th>Duration</th><th>Pcp</th></tr><tr><th></th><th>Int64</th><th>Cat…</th><th>Float64</th></tr></thead><tbody><p>90 rows × 3 columns</p><tr><th>1</th><td>1959</td><td>5 min</td><td>9.7</td></tr><tr><th>2</th><td>1960</td><td>5 min</td><td>5.3</td></tr><tr><th>3</th><td>1961</td><td>5 min</td><td>7.4</td></tr><tr><th>4</th><td>1962</td><td>5 min</td><td>5.6</td></tr><tr><th>5</th><td>1963</td><td>5 min</td><td>3.6</td></tr><tr><th>6</th><td>1964</td><td>5 min</td><td>3.6</td></tr><tr><th>7</th><td>1965</td><td>5 min</td><td>11.7</td></tr><tr><th>8</th><td>1966</td><td>5 min</td><td>3.0</td></tr><tr><th>9</th><td>1967</td><td>5 min</td><td>7.9</td></tr><tr><th>10</th><td>1969</td><td>5 min</td><td>9.7</td></tr><tr><th>11</th><td>1959</td><td>10 min</td><td>10.9</td></tr><tr><th>12</th><td>1960</td><td>10 min</td><td>8.1</td></tr><tr><th>13</th><td>1961</td><td>10 min</td><td>9.9</td></tr><tr><th>14</th><td>1962</td><td>10 min</td><td>7.9</td></tr><tr><th>15</th><td>1963</td><td>10 min</td><td>7.1</td></tr><tr><th>16</th><td>1964</td><td>10 min</td><td>5.6</td></tr><tr><th>17</th><td>1965</td><td>10 min</td><td>20.8</td></tr><tr><th>18</th><td>1966</td><td>10 min</td><td>4.6</td></tr><tr><th>19</th><td>1967</td><td>10 min</td><td>10.2</td></tr><tr><th>20</th><td>1969</td><td>10 min</td><td>13.0</td></tr><tr><th>21</th><td>1959</td><td>15 min</td><td>12.2</td></tr><tr><th>22</th><td>1960</td><td>15 min</td><td>10.4</td></tr><tr><th>23</th><td>1961</td><td>15 min</td><td>12.2</td></tr><tr><th>24</th><td>1962</td><td>15 min</td><td>7.9</td></tr><tr><th>25</th><td>1963</td><td>15 min</td><td>10.7</td></tr><tr><th>26</th><td>1964</td><td>15 min</td><td>7.1</td></tr><tr><th>27</th><td>1965</td><td>15 min</td><td>24.6</td></tr><tr><th>28</th><td>1966</td><td>15 min</td><td>6.6</td></tr><tr><th>29</th><td>1967</td><td>15 min</td><td>10.7</td></tr><tr><th>30</th><td>1969</td><td>15 min</td><td>15.2</td></tr><tr><th>&vellip;</th><td>&vellip;</td><td>&vellip;</td><td>&vellip;</td></tr></tbody></table>"
      ],
      "text/latex": [
       "\\begin{tabular}{r|ccc}\n",
       "\t& Year & Duration & Pcp\\\\\n",
       "\t\\hline\n",
       "\t& Int64 & Cat… & Float64\\\\\n",
       "\t\\hline\n",
       "\t1 & 1959 & 5 min & 9.7 \\\\\n",
       "\t2 & 1960 & 5 min & 5.3 \\\\\n",
       "\t3 & 1961 & 5 min & 7.4 \\\\\n",
       "\t4 & 1962 & 5 min & 5.6 \\\\\n",
       "\t5 & 1963 & 5 min & 3.6 \\\\\n",
       "\t6 & 1964 & 5 min & 3.6 \\\\\n",
       "\t7 & 1965 & 5 min & 11.7 \\\\\n",
       "\t8 & 1966 & 5 min & 3.0 \\\\\n",
       "\t9 & 1967 & 5 min & 7.9 \\\\\n",
       "\t10 & 1969 & 5 min & 9.7 \\\\\n",
       "\t11 & 1959 & 10 min & 10.9 \\\\\n",
       "\t12 & 1960 & 10 min & 8.1 \\\\\n",
       "\t13 & 1961 & 10 min & 9.9 \\\\\n",
       "\t14 & 1962 & 10 min & 7.9 \\\\\n",
       "\t15 & 1963 & 10 min & 7.1 \\\\\n",
       "\t16 & 1964 & 10 min & 5.6 \\\\\n",
       "\t17 & 1965 & 10 min & 20.8 \\\\\n",
       "\t18 & 1966 & 10 min & 4.6 \\\\\n",
       "\t19 & 1967 & 10 min & 10.2 \\\\\n",
       "\t20 & 1969 & 10 min & 13.0 \\\\\n",
       "\t21 & 1959 & 15 min & 12.2 \\\\\n",
       "\t22 & 1960 & 15 min & 10.4 \\\\\n",
       "\t23 & 1961 & 15 min & 12.2 \\\\\n",
       "\t24 & 1962 & 15 min & 7.9 \\\\\n",
       "\t25 & 1963 & 15 min & 10.7 \\\\\n",
       "\t26 & 1964 & 15 min & 7.1 \\\\\n",
       "\t27 & 1965 & 15 min & 24.6 \\\\\n",
       "\t28 & 1966 & 15 min & 6.6 \\\\\n",
       "\t29 & 1967 & 15 min & 10.7 \\\\\n",
       "\t30 & 1969 & 15 min & 15.2 \\\\\n",
       "\t$\\dots$ & $\\dots$ & $\\dots$ & $\\dots$ \\\\\n",
       "\\end{tabular}\n"
      ],
      "text/plain": [
       "90×3 DataFrame\n",
       "│ Row │ Year  │ Duration │ Pcp     │\n",
       "│     │ \u001b[90mInt64\u001b[39m │ \u001b[90mCat…\u001b[39m     │ \u001b[90mFloat64\u001b[39m │\n",
       "├─────┼───────┼──────────┼─────────┤\n",
       "│ 1   │ 1959  │ 5 min    │ 9.7     │\n",
       "│ 2   │ 1960  │ 5 min    │ 5.3     │\n",
       "│ 3   │ 1961  │ 5 min    │ 7.4     │\n",
       "│ 4   │ 1962  │ 5 min    │ 5.6     │\n",
       "│ 5   │ 1963  │ 5 min    │ 3.6     │\n",
       "│ 6   │ 1964  │ 5 min    │ 3.6     │\n",
       "│ 7   │ 1965  │ 5 min    │ 11.7    │\n",
       "│ 8   │ 1966  │ 5 min    │ 3.0     │\n",
       "│ 9   │ 1967  │ 5 min    │ 7.9     │\n",
       "│ 10  │ 1969  │ 5 min    │ 9.7     │\n",
       "⋮\n",
       "│ 80  │ 1969  │ 12 h     │ 61.5    │\n",
       "│ 81  │ 1959  │ 24 h     │ 118.6   │\n",
       "│ 82  │ 1960  │ 24 h     │ 45.2    │\n",
       "│ 83  │ 1961  │ 24 h     │ 69.3    │\n",
       "│ 84  │ 1962  │ 24 h     │ 56.4    │\n",
       "│ 85  │ 1963  │ 24 h     │ 46.0    │\n",
       "│ 86  │ 1964  │ 24 h     │ 43.9    │\n",
       "│ 87  │ 1965  │ 24 h     │ 74.2    │\n",
       "│ 88  │ 1966  │ 24 h     │ 50.3    │\n",
       "│ 89  │ 1967  │ 24 h     │ 54.6    │\n",
       "│ 90  │ 1969  │ 24 h     │ 92.2    │"
      ]
     },
     "execution_count": 4,
     "metadata": {},
     "output_type": "execute_result"
    }
   ],
   "source": [
    "load_station(\"8100512\")"
   ]
  },
  {
   "cell_type": "code",
   "execution_count": null,
   "id": "2bbb2a83",
   "metadata": {},
   "outputs": [],
   "source": [
    "function f(p::Vector{:Float64}, N::Int64)\n",
    "    if length(p) != 2*N+1\n",
    "        error(\"The vector of parameters is not of the good length\")\n",
    "    end\n",
    "    \n",
    "    s=0\n",
    "    for i in 1:N\n",
    "        id = station_list[i, :ID]\n",
    "        s -= logL(pcp(id, DURATION), p[i], p[N+i], p[2*N+1])"
   ]
  }
 ],
 "metadata": {
  "kernelspec": {
   "display_name": "Julia 1.6.1",
   "language": "julia",
   "name": "julia-1.6"
  },
  "language_info": {
   "file_extension": ".jl",
   "mimetype": "application/julia",
   "name": "julia",
   "version": "1.6.1"
  }
 },
 "nbformat": 4,
 "nbformat_minor": 5
}
