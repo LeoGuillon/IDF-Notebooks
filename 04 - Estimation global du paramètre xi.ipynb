{
 "cells": [
  {
   "cell_type": "markdown",
   "id": "427e1f2a",
   "metadata": {},
   "source": [
    "# 04 - Estimation globale du paramètre xi\n",
    "\n",
    "Dans ce notebook, nous allons construire un estimateur global pour le paramètre xi des GEV aux stations. Nous allons pour cela devoir construire une fonction à $2N+1$ paramètres, où $N$ est le nombre de stations : en effet, il faut estimer en même temps les paramètres $\\mu_{i}$, $\\phi_{i}$ et enfin $\\xi$.\n",
    "\n",
    "D'après notre précédente étude sur les corrélations des stations d'une même cellule, nous en sommes venus à la conclusion qu'il fallait mieux les concaténer, pour une même cellule. C'est donc ce que nous allons faire."
   ]
  },
  {
   "cell_type": "code",
   "execution_count": 1,
   "id": "c3223b33",
   "metadata": {},
   "outputs": [],
   "source": [
    "using CSV, DataFrames, StatsBase, Random\n",
    "\n",
    "using Distributions, Extremes, Optim\n",
    "\n",
    "using IDF\n",
    "\n",
    "import Plots"
   ]
  },
  {
   "cell_type": "code",
   "execution_count": 2,
   "id": "81b051a8",
   "metadata": {},
   "outputs": [
    {
     "data": {
      "text/plain": [
       "\"24 h\""
      ]
     },
     "execution_count": 2,
     "metadata": {},
     "output_type": "execute_result"
    }
   ],
   "source": [
    "PROVINCES = [\"NB\", \"NL\", \"NS\", \"ON\", \"PE\", \"QC\"]#provinces considerees\n",
    "\n",
    "DURATION = \"24 h\""
   ]
  },
  {
   "cell_type": "code",
   "execution_count": 3,
   "id": "d57d3dfc",
   "metadata": {},
   "outputs": [
    {
     "data": {
      "text/html": [
       "<table class=\"data-frame\"><thead><tr><th></th><th>Name</th><th>Province</th><th>ID</th><th>Lat</th><th>Lon</th><th>Elevation</th></tr><tr><th></th><th>String</th><th>String</th><th>String</th><th>Float64</th><th>Float64</th><th>Int64</th></tr></thead><tbody><p>10 rows × 6 columns</p><tr><th>1</th><td>BEECHWOOD</td><td>NB</td><td>8100512</td><td>46.53</td><td>-67.67</td><td>91</td></tr><tr><th>2</th><td>BELLEDUNE</td><td>NB</td><td>8100514</td><td>47.9</td><td>-65.83</td><td>7</td></tr><tr><th>3</th><td>BOUCTOUCHE CDA CS</td><td>NB</td><td>8100593</td><td>46.43</td><td>-64.77</td><td>35</td></tr><tr><th>4</th><td>CHARLO AUTO</td><td>NB</td><td>8100885</td><td>47.98</td><td>-66.33</td><td>42</td></tr><tr><th>5</th><td>MIRAMICHI RCS</td><td>NB</td><td>8100989</td><td>47.02</td><td>-65.47</td><td>33</td></tr><tr><th>6</th><td>EDMUNDSTON</td><td>NB</td><td>8101303</td><td>47.42</td><td>-68.32</td><td>154</td></tr><tr><th>7</th><td>FREDERICTON A</td><td>NB</td><td>8101500</td><td>45.87</td><td>-66.53</td><td>20</td></tr><tr><th>8</th><td>FREDERICTON CDA CS</td><td>NB</td><td>8101605</td><td>45.92</td><td>-66.62</td><td>35</td></tr><tr><th>9</th><td>MONCTON INTL A</td><td>NB</td><td>8103201</td><td>46.12</td><td>-64.68</td><td>70</td></tr><tr><th>10</th><td>ROYAL ROAD</td><td>NB</td><td>8104480</td><td>46.05</td><td>-66.72</td><td>115</td></tr></tbody></table>"
      ],
      "text/latex": [
       "\\begin{tabular}{r|cccccc}\n",
       "\t& Name & Province & ID & Lat & Lon & Elevation\\\\\n",
       "\t\\hline\n",
       "\t& String & String & String & Float64 & Float64 & Int64\\\\\n",
       "\t\\hline\n",
       "\t1 & BEECHWOOD & NB & 8100512 & 46.53 & -67.67 & 91 \\\\\n",
       "\t2 & BELLEDUNE & NB & 8100514 & 47.9 & -65.83 & 7 \\\\\n",
       "\t3 & BOUCTOUCHE CDA CS & NB & 8100593 & 46.43 & -64.77 & 35 \\\\\n",
       "\t4 & CHARLO AUTO & NB & 8100885 & 47.98 & -66.33 & 42 \\\\\n",
       "\t5 & MIRAMICHI RCS & NB & 8100989 & 47.02 & -65.47 & 33 \\\\\n",
       "\t6 & EDMUNDSTON & NB & 8101303 & 47.42 & -68.32 & 154 \\\\\n",
       "\t7 & FREDERICTON A & NB & 8101500 & 45.87 & -66.53 & 20 \\\\\n",
       "\t8 & FREDERICTON CDA CS & NB & 8101605 & 45.92 & -66.62 & 35 \\\\\n",
       "\t9 & MONCTON INTL A & NB & 8103201 & 46.12 & -64.68 & 70 \\\\\n",
       "\t10 & ROYAL ROAD & NB & 8104480 & 46.05 & -66.72 & 115 \\\\\n",
       "\\end{tabular}\n"
      ],
      "text/plain": [
       "10×6 DataFrame. Omitted printing of 1 columns\n",
       "│ Row │ Name               │ Province │ ID      │ Lat     │ Lon     │\n",
       "│     │ \u001b[90mString\u001b[39m             │ \u001b[90mString\u001b[39m   │ \u001b[90mString\u001b[39m  │ \u001b[90mFloat64\u001b[39m │ \u001b[90mFloat64\u001b[39m │\n",
       "├─────┼────────────────────┼──────────┼─────────┼─────────┼─────────┤\n",
       "│ 1   │ BEECHWOOD          │ NB       │ 8100512 │ 46.53   │ -67.67  │\n",
       "│ 2   │ BELLEDUNE          │ NB       │ 8100514 │ 47.9    │ -65.83  │\n",
       "│ 3   │ BOUCTOUCHE CDA CS  │ NB       │ 8100593 │ 46.43   │ -64.77  │\n",
       "│ 4   │ CHARLO AUTO        │ NB       │ 8100885 │ 47.98   │ -66.33  │\n",
       "│ 5   │ MIRAMICHI RCS      │ NB       │ 8100989 │ 47.02   │ -65.47  │\n",
       "│ 6   │ EDMUNDSTON         │ NB       │ 8101303 │ 47.42   │ -68.32  │\n",
       "│ 7   │ FREDERICTON A      │ NB       │ 8101500 │ 45.87   │ -66.53  │\n",
       "│ 8   │ FREDERICTON CDA CS │ NB       │ 8101605 │ 45.92   │ -66.62  │\n",
       "│ 9   │ MONCTON INTL A     │ NB       │ 8103201 │ 46.12   │ -64.68  │\n",
       "│ 10  │ ROYAL ROAD         │ NB       │ 8104480 │ 46.05   │ -66.72  │"
      ]
     },
     "execution_count": 3,
     "metadata": {},
     "output_type": "execute_result"
    }
   ],
   "source": [
    "station_list = load_data(\"station_list\")\n",
    "\n",
    "filter!(row -> row.Province ∈ PROVINCES , station_list)#on ne selectionne que les stations qui nous interessent\n",
    "\n",
    "first(station_list, 10)"
   ]
  },
  {
   "cell_type": "code",
   "execution_count": 4,
   "id": "3fbac215",
   "metadata": {},
   "outputs": [
    {
     "data": {
      "text/html": [
       "<table class=\"data-frame\"><thead><tr><th></th><th>Year</th><th>Duration</th><th>Pcp</th></tr><tr><th></th><th>Int64</th><th>Cat…</th><th>Float64</th></tr></thead><tbody><p>10 rows × 3 columns</p><tr><th>1</th><td>1959</td><td>5 min</td><td>9.7</td></tr><tr><th>2</th><td>1960</td><td>5 min</td><td>5.3</td></tr><tr><th>3</th><td>1961</td><td>5 min</td><td>7.4</td></tr><tr><th>4</th><td>1962</td><td>5 min</td><td>5.6</td></tr><tr><th>5</th><td>1963</td><td>5 min</td><td>3.6</td></tr><tr><th>6</th><td>1964</td><td>5 min</td><td>3.6</td></tr><tr><th>7</th><td>1965</td><td>5 min</td><td>11.7</td></tr><tr><th>8</th><td>1966</td><td>5 min</td><td>3.0</td></tr><tr><th>9</th><td>1967</td><td>5 min</td><td>7.9</td></tr><tr><th>10</th><td>1969</td><td>5 min</td><td>9.7</td></tr></tbody></table>"
      ],
      "text/latex": [
       "\\begin{tabular}{r|ccc}\n",
       "\t& Year & Duration & Pcp\\\\\n",
       "\t\\hline\n",
       "\t& Int64 & Cat… & Float64\\\\\n",
       "\t\\hline\n",
       "\t1 & 1959 & 5 min & 9.7 \\\\\n",
       "\t2 & 1960 & 5 min & 5.3 \\\\\n",
       "\t3 & 1961 & 5 min & 7.4 \\\\\n",
       "\t4 & 1962 & 5 min & 5.6 \\\\\n",
       "\t5 & 1963 & 5 min & 3.6 \\\\\n",
       "\t6 & 1964 & 5 min & 3.6 \\\\\n",
       "\t7 & 1965 & 5 min & 11.7 \\\\\n",
       "\t8 & 1966 & 5 min & 3.0 \\\\\n",
       "\t9 & 1967 & 5 min & 7.9 \\\\\n",
       "\t10 & 1969 & 5 min & 9.7 \\\\\n",
       "\\end{tabular}\n"
      ],
      "text/plain": [
       "10×3 DataFrame\n",
       "│ Row │ Year  │ Duration │ Pcp     │\n",
       "│     │ \u001b[90mInt64\u001b[39m │ \u001b[90mCat…\u001b[39m     │ \u001b[90mFloat64\u001b[39m │\n",
       "├─────┼───────┼──────────┼─────────┤\n",
       "│ 1   │ 1959  │ 5 min    │ 9.7     │\n",
       "│ 2   │ 1960  │ 5 min    │ 5.3     │\n",
       "│ 3   │ 1961  │ 5 min    │ 7.4     │\n",
       "│ 4   │ 1962  │ 5 min    │ 5.6     │\n",
       "│ 5   │ 1963  │ 5 min    │ 3.6     │\n",
       "│ 6   │ 1964  │ 5 min    │ 3.6     │\n",
       "│ 7   │ 1965  │ 5 min    │ 11.7    │\n",
       "│ 8   │ 1966  │ 5 min    │ 3.0     │\n",
       "│ 9   │ 1967  │ 5 min    │ 7.9     │\n",
       "│ 10  │ 1969  │ 5 min    │ 9.7     │"
      ]
     },
     "execution_count": 4,
     "metadata": {},
     "output_type": "execute_result"
    }
   ],
   "source": [
    "first(load_station(\"8100512\"), 10)#simple test"
   ]
  },
  {
   "cell_type": "markdown",
   "id": "8e86390f",
   "metadata": {},
   "source": [
    "Il s'agit maintenant de calculer la log-vraisemblance à estimer, qui devra donc moduler $2N+1$ paramètres. En notant respectivement $\\mu_{i}$ et $\\phi_{i}$ les paramètres de moyenne et de variance, nous avons donc, avec $(y_{ij})_{1\\leq j \\leq n_{i}}$ les données de la $i$-ème station :\n",
    "\n",
    "$$ l(y, \\theta) = \\sum_{i=1}^{N}\\sum_{j=1}^{n_{i}} \\ln(GEV(y_{ij}|\\mu_{i}, \\phi_{i}, \\xi)) = \\sum_{i=1}^{N} l(y_{i},(\\mu_{i}, \\phi_{i}, \\xi)) $$"
   ]
  },
  {
   "cell_type": "code",
   "execution_count": 5,
   "id": "2bbb2a83",
   "metadata": {},
   "outputs": [
    {
     "data": {
      "text/plain": [
       "f (generic function with 1 method)"
      ]
     },
     "execution_count": 5,
     "metadata": {},
     "output_type": "execute_result"
    }
   ],
   "source": [
    "function f(p::Vector{:Float64})\n",
    "    N = div(p, 2)\n",
    "    \n",
    "    if p%2 == 0\n",
    "        error(\"vector of parameters must be odd long\")\n",
    "    end\n",
    "    \n",
    "    μ = p[1:N]\n",
    "    ϕ = p[N+1:(2*N)]\n",
    "    ξ = p[2*N+1]\n",
    "    \n",
    "    s=0\n",
    "    for i in 1:N\n",
    "        id = station_list[i, :ID]\n",
    "        s -= logL(pcp(id, DURATION), μ[i], ϕ[i], ξ) # on met l'opposé de la log-vraisemblance\n",
    "    end\n",
    "    \n",
    "    return s\n",
    "end"
   ]
  },
  {
   "cell_type": "markdown",
   "id": "e681c087",
   "metadata": {},
   "source": [
    "Avant de tester brutalement avec toutes les stations d'un coup, on pourrait tester par cellules ce que cela donne. Commencons par les extraire :"
   ]
  },
  {
   "cell_type": "code",
   "execution_count": 6,
   "id": "8a42897f",
   "metadata": {},
   "outputs": [
    {
     "data": {
      "text/html": [
       "<table class=\"data-frame\"><thead><tr><th></th><th>Name</th><th>Province</th><th>ID</th><th>Lat</th><th>Lon</th><th>Elevation</th><th>GridCell</th></tr><tr><th></th><th>String</th><th>String</th><th>String</th><th>Float64</th><th>Float64</th><th>Int64</th><th>Int64</th></tr></thead><tbody><p>10 rows × 7 columns</p><tr><th>1</th><td>ROYAL ROAD</td><td>NB</td><td>8104480</td><td>46.05</td><td>-66.72</td><td>115</td><td>33632</td></tr><tr><th>2</th><td>ROYAL ROAD WEST</td><td>NB</td><td>8104482</td><td>46.08</td><td>-66.73</td><td>160</td><td>33632</td></tr><tr><th>3</th><td>PORT WELLER (AUT)</td><td>ON</td><td>6136699</td><td>43.25</td><td>-79.22</td><td>79</td><td>20197</td></tr><tr><th>4</th><td>ST CATHARINES A</td><td>ON</td><td>6137287</td><td>43.2</td><td>-79.17</td><td>97</td><td>20197</td></tr><tr><th>5</th><td>CAMBRIDGE GALT MOE</td><td>ON</td><td>6141095</td><td>43.33</td><td>-80.32</td><td>268</td><td>18645</td></tr><tr><th>6</th><td>PRESTON WPCP</td><td>ON</td><td>6146714</td><td>43.38</td><td>-80.35</td><td>272</td><td>18645</td></tr><tr><th>7</th><td>WATERLOO WELLINGTON A</td><td>ON</td><td>6149387</td><td>43.45</td><td>-80.38</td><td>317</td><td>18645</td></tr><tr><th>8</th><td>MAPLE</td><td>ON</td><td>6154950</td><td>43.87</td><td>-79.48</td><td>244</td><td>19620</td></tr><tr><th>9</th><td>TORONTO YORK MILLS</td><td>ON</td><td>615HHDF</td><td>43.75</td><td>-79.38</td><td>153</td><td>19620</td></tr><tr><th>10</th><td>TORONTO NORTH YORK</td><td>ON</td><td>615S001</td><td>43.78</td><td>-79.47</td><td>187</td><td>19620</td></tr></tbody></table>"
      ],
      "text/latex": [
       "\\begin{tabular}{r|ccccccc}\n",
       "\t& Name & Province & ID & Lat & Lon & Elevation & GridCell\\\\\n",
       "\t\\hline\n",
       "\t& String & String & String & Float64 & Float64 & Int64 & Int64\\\\\n",
       "\t\\hline\n",
       "\t1 & ROYAL ROAD & NB & 8104480 & 46.05 & -66.72 & 115 & 33632 \\\\\n",
       "\t2 & ROYAL ROAD WEST & NB & 8104482 & 46.08 & -66.73 & 160 & 33632 \\\\\n",
       "\t3 & PORT WELLER (AUT) & ON & 6136699 & 43.25 & -79.22 & 79 & 20197 \\\\\n",
       "\t4 & ST CATHARINES A & ON & 6137287 & 43.2 & -79.17 & 97 & 20197 \\\\\n",
       "\t5 & CAMBRIDGE GALT MOE & ON & 6141095 & 43.33 & -80.32 & 268 & 18645 \\\\\n",
       "\t6 & PRESTON WPCP & ON & 6146714 & 43.38 & -80.35 & 272 & 18645 \\\\\n",
       "\t7 & WATERLOO WELLINGTON A & ON & 6149387 & 43.45 & -80.38 & 317 & 18645 \\\\\n",
       "\t8 & MAPLE & ON & 6154950 & 43.87 & -79.48 & 244 & 19620 \\\\\n",
       "\t9 & TORONTO YORK MILLS & ON & 615HHDF & 43.75 & -79.38 & 153 & 19620 \\\\\n",
       "\t10 & TORONTO NORTH YORK & ON & 615S001 & 43.78 & -79.47 & 187 & 19620 \\\\\n",
       "\\end{tabular}\n"
      ],
      "text/plain": [
       "10×7 DataFrame. Omitted printing of 2 columns\n",
       "│ Row │ Name                  │ Province │ ID      │ Lat     │ Lon     │\n",
       "│     │ \u001b[90mString\u001b[39m                │ \u001b[90mString\u001b[39m   │ \u001b[90mString\u001b[39m  │ \u001b[90mFloat64\u001b[39m │ \u001b[90mFloat64\u001b[39m │\n",
       "├─────┼───────────────────────┼──────────┼─────────┼─────────┼─────────┤\n",
       "│ 1   │ ROYAL ROAD            │ NB       │ 8104480 │ 46.05   │ -66.72  │\n",
       "│ 2   │ ROYAL ROAD WEST       │ NB       │ 8104482 │ 46.08   │ -66.73  │\n",
       "│ 3   │ PORT WELLER (AUT)     │ ON       │ 6136699 │ 43.25   │ -79.22  │\n",
       "│ 4   │ ST CATHARINES A       │ ON       │ 6137287 │ 43.2    │ -79.17  │\n",
       "│ 5   │ CAMBRIDGE GALT MOE    │ ON       │ 6141095 │ 43.33   │ -80.32  │\n",
       "│ 6   │ PRESTON WPCP          │ ON       │ 6146714 │ 43.38   │ -80.35  │\n",
       "│ 7   │ WATERLOO WELLINGTON A │ ON       │ 6149387 │ 43.45   │ -80.38  │\n",
       "│ 8   │ MAPLE                 │ ON       │ 6154950 │ 43.87   │ -79.48  │\n",
       "│ 9   │ TORONTO YORK MILLS    │ ON       │ 615HHDF │ 43.75   │ -79.38  │\n",
       "│ 10  │ TORONTO NORTH YORK    │ ON       │ 615S001 │ 43.78   │ -79.47  │"
      ]
     },
     "execution_count": 6,
     "metadata": {},
     "output_type": "execute_result"
    }
   ],
   "source": [
    "same_cell = load_data(\"same_cell\")\n",
    "\n",
    "first(same_cell, 10)"
   ]
  },
  {
   "cell_type": "code",
   "execution_count": 7,
   "id": "365962b4",
   "metadata": {},
   "outputs": [
    {
     "data": {
      "text/plain": [
       "14-element Vector{Int64}:\n",
       " 33632\n",
       " 20197\n",
       " 18645\n",
       " 19620\n",
       " 19619\n",
       " 19813\n",
       " 19814\n",
       " 19621\n",
       " 28003\n",
       " 28002\n",
       " 25464\n",
       " 28572\n",
       " 26047\n",
       " 27434"
      ]
     },
     "execution_count": 7,
     "metadata": {},
     "output_type": "execute_result"
    }
   ],
   "source": [
    "cells = unique(same_cell[:, :GridCell])"
   ]
  },
  {
   "cell_type": "code",
   "execution_count": 8,
   "id": "0f9273e9",
   "metadata": {},
   "outputs": [
    {
     "data": {
      "text/plain": [
       "xi_gridcell (generic function with 1 method)"
      ]
     },
     "execution_count": 8,
     "metadata": {},
     "output_type": "execute_result"
    }
   ],
   "source": [
    "function xi_gridcell(GridCell::Int64)\n",
    "    stations = filter(row -> row[:GridCell] == GridCell, same_cell)\n",
    "    N = nrow(stations)\n",
    "    \n",
    "    # initialisation des parametres pour l'optimisation\n",
    "    μ = []\n",
    "    ϕ = []\n",
    "    \n",
    "    for i in 1:N\n",
    "        y = pcp(stations[i, :ID], DURATION)\n",
    "        append!(μ, mean(y))\n",
    "        append!(ϕ, log(std(y)))\n",
    "    end\n",
    "    \n",
    "    ξ = 0\n",
    "    \n",
    "    p₀ = [μ;ϕ;ξ]\n",
    "    p = p₀\n",
    "    \n",
    "    #try \n",
    "        res = optimize(f, p₀, LBFGS())\n",
    "        \n",
    "        if Optim.converged(res)\n",
    "            p = Optim.minimizer(res)\n",
    "        else\n",
    "            @warn \"The maximum likelihood algorithm did not find a solution. Maybe try with different initial values or with another method. The returned values are the initial values.\"\n",
    "            p = p₀\n",
    "        end\n",
    "    #catch\n",
    "     #   println(\"Error with this vector\")\n",
    "    #end\n",
    "    \n",
    "    return p\n",
    "end"
   ]
  },
  {
   "cell_type": "code",
   "execution_count": 9,
   "id": "3470eefb",
   "metadata": {},
   "outputs": [
    {
     "ename": "LoadError",
     "evalue": "MethodError: no method matching zero(::Type{Any})\n\u001b[0mClosest candidates are:\n\u001b[0m  zero(::Type{Union{Missing, T}}) where T at missing.jl:105\n\u001b[0m  zero(\u001b[91m::Union{Type{P}, P}\u001b[39m) where P<:Dates.Period at /Users/julia/buildbot/worker/package_macos64/build/usr/share/julia/stdlib/v1.6/Dates/src/periods.jl:53\n\u001b[0m  zero(\u001b[91m::ForwardDiff.Partials\u001b[39m) at /Users/leo/.julia/packages/ForwardDiff/QOqCN/src/partials.jl:39\n\u001b[0m  ...",
     "output_type": "error",
     "traceback": [
      "MethodError: no method matching zero(::Type{Any})\n\u001b[0mClosest candidates are:\n\u001b[0m  zero(::Type{Union{Missing, T}}) where T at missing.jl:105\n\u001b[0m  zero(\u001b[91m::Union{Type{P}, P}\u001b[39m) where P<:Dates.Period at /Users/julia/buildbot/worker/package_macos64/build/usr/share/julia/stdlib/v1.6/Dates/src/periods.jl:53\n\u001b[0m  zero(\u001b[91m::ForwardDiff.Partials\u001b[39m) at /Users/leo/.julia/packages/ForwardDiff/QOqCN/src/partials.jl:39\n\u001b[0m  ...",
      "",
      "Stacktrace:",
      " [1] zero(#unused#::Type{Any})",
      "   @ Base ./missing.jl:106",
      " [2] promote_objtype(method::LBFGS{Nothing, LineSearches.InitialStatic{Float64}, LineSearches.HagerZhang{Float64, Base.RefValue{Bool}}, Optim.var\"#15#17\"}, x::Vector{Any}, autodiff::Symbol, inplace::Bool, f::Function)",
      "   @ Optim ~/.julia/packages/Optim/TNmSw/src/multivariate/optimize/interface.jl:40",
      " [3] optimize(f::Function, initial_x::Vector{Any}, method::LBFGS{Nothing, LineSearches.InitialStatic{Float64}, LineSearches.HagerZhang{Float64, Base.RefValue{Bool}}, Optim.var\"#15#17\"}, options::Optim.Options{Float64, Nothing}; inplace::Bool, autodiff::Symbol)",
      "   @ Optim ~/.julia/packages/Optim/TNmSw/src/multivariate/optimize/interface.jl:115",
      " [4] optimize(f::Function, initial_x::Vector{Any}, method::LBFGS{Nothing, LineSearches.InitialStatic{Float64}, LineSearches.HagerZhang{Float64, Base.RefValue{Bool}}, Optim.var\"#15#17\"}, options::Optim.Options{Float64, Nothing}) (repeats 2 times)",
      "   @ Optim ~/.julia/packages/Optim/TNmSw/src/multivariate/optimize/interface.jl:115",
      " [5] xi_gridcell(GridCell::Int64)",
      "   @ Main ./In[8]:21",
      " [6] top-level scope",
      "   @ ./In[9]:2",
      " [7] eval",
      "   @ ./boot.jl:360 [inlined]",
      " [8] include_string(mapexpr::typeof(REPL.softscope), mod::Module, code::String, filename::String)",
      "   @ Base ./loading.jl:1094"
     ]
    }
   ],
   "source": [
    "for i in cells\n",
    "    xi_gridcell(i)\n",
    "end"
   ]
  },
  {
   "cell_type": "code",
   "execution_count": null,
   "id": "f170a63b",
   "metadata": {},
   "outputs": [],
   "source": []
  }
 ],
 "metadata": {
  "kernelspec": {
   "display_name": "Julia 1.6.1",
   "language": "julia",
   "name": "julia-1.6"
  },
  "language_info": {
   "file_extension": ".jl",
   "mimetype": "application/julia",
   "name": "julia",
   "version": "1.6.1"
  }
 },
 "nbformat": 4,
 "nbformat_minor": 5
}
