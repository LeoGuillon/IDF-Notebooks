{
 "cells": [
  {
   "cell_type": "code",
   "execution_count": 8,
   "metadata": {},
   "outputs": [
    {
     "name": "stderr",
     "output_type": "stream",
     "text": [
      "\u001b[32m\u001b[1m    Updating\u001b[22m\u001b[39m registry at `C:\\Users\\leogu\\.julia\\registries\\General`\n",
      "\u001b[32m\u001b[1m    Updating\u001b[22m\u001b[39m git-repo `https://github.com/JuliaRegistries/General.git`\n"
     ]
    },
    {
     "ename": "LoadError",
     "evalue": "The following package names could not be resolved:\n * Requests (not found in project, manifest or registry)\n",
     "output_type": "error",
     "traceback": [
      "The following package names could not be resolved:\n * Requests (not found in project, manifest or registry)\n",
      "",
      "Stacktrace:",
      "  [1] pkgerror(msg::String)",
      "    @ Pkg.Types C:\\buildbot\\worker\\package_win64\\build\\usr\\share\\julia\\stdlib\\v1.6\\Pkg\\src\\Types.jl:55",
      "  [2] ensure_resolved(ctx::Pkg.Types.Context, pkgs::Vector{Pkg.Types.PackageSpec}; registry::Bool)",
      "    @ Pkg.Types C:\\buildbot\\worker\\package_win64\\build\\usr\\share\\julia\\stdlib\\v1.6\\Pkg\\src\\Types.jl:862",
      "  [3] add(ctx::Pkg.Types.Context, pkgs::Vector{Pkg.Types.PackageSpec}; preserve::Pkg.Types.PreserveLevel, platform::Base.BinaryPlatforms.Platform, kwargs::Base.Iterators.Pairs{Union{}, Union{}, Tuple{}, NamedTuple{(), Tuple{}}})",
      "    @ Pkg.API C:\\buildbot\\worker\\package_win64\\build\\usr\\share\\julia\\stdlib\\v1.6\\Pkg\\src\\API.jl:186",
      "  [4] add",
      "    @ C:\\buildbot\\worker\\package_win64\\build\\usr\\share\\julia\\stdlib\\v1.6\\Pkg\\src\\API.jl:148 [inlined]",
      "  [5] add(pkgs::Vector{Pkg.Types.PackageSpec}; kwargs::Base.Iterators.Pairs{Union{}, Union{}, Tuple{}, NamedTuple{(), Tuple{}}})",
      "    @ Pkg.API C:\\buildbot\\worker\\package_win64\\build\\usr\\share\\julia\\stdlib\\v1.6\\Pkg\\src\\API.jl:73",
      "  [6] add",
      "    @ C:\\buildbot\\worker\\package_win64\\build\\usr\\share\\julia\\stdlib\\v1.6\\Pkg\\src\\API.jl:72 [inlined]",
      "  [7] #add#21",
      "    @ C:\\buildbot\\worker\\package_win64\\build\\usr\\share\\julia\\stdlib\\v1.6\\Pkg\\src\\API.jl:70 [inlined]",
      "  [8] add",
      "    @ C:\\buildbot\\worker\\package_win64\\build\\usr\\share\\julia\\stdlib\\v1.6\\Pkg\\src\\API.jl:70 [inlined]",
      "  [9] #add#20",
      "    @ C:\\buildbot\\worker\\package_win64\\build\\usr\\share\\julia\\stdlib\\v1.6\\Pkg\\src\\API.jl:69 [inlined]",
      " [10] add(pkg::String)",
      "    @ Pkg.API C:\\buildbot\\worker\\package_win64\\build\\usr\\share\\julia\\stdlib\\v1.6\\Pkg\\src\\API.jl:69",
      " [11] top-level scope",
      "    @ In[8]:3",
      " [12] eval",
      "    @ .\\boot.jl:360 [inlined]",
      " [13] include_string(mapexpr::typeof(REPL.softscope), mod::Module, code::String, filename::String)",
      "    @ Base .\\loading.jl:1094"
     ]
    }
   ],
   "source": []
  },
  {
   "cell_type": "code",
   "execution_count": 5,
   "metadata": {},
   "outputs": [
    {
     "data": {
      "text/plain": [
       "3-element Vector{String}:\n",
       " \"oui\"\n",
       " \"non\"\n",
       " \"peut-etre\""
      ]
     },
     "execution_count": 5,
     "metadata": {},
     "output_type": "execute_result"
    }
   ],
   "source": [
    "tests = [\"oui\", \"non\", \"peut-etre\"]"
   ]
  },
  {
   "cell_type": "code",
   "execution_count": 6,
   "metadata": {},
   "outputs": [
    {
     "data": {
      "text/plain": [
       "4-element Vector{Any}:\n",
       " 1\n",
       " 2\n",
       " 3\n",
       "  \"soleil\""
      ]
     },
     "execution_count": 6,
     "metadata": {},
     "output_type": "execute_result"
    }
   ],
   "source": [
    "mixture = [1, 2, 3, \"soleil\"]"
   ]
  },
  {
   "cell_type": "code",
   "execution_count": 8,
   "metadata": {},
   "outputs": [
    {
     "data": {
      "text/plain": [
       "5-element Vector{Any}:\n",
       " 1\n",
       " 2\n",
       " 3\n",
       "  \"soleil\"\n",
       "  \"vu\""
      ]
     },
     "execution_count": 8,
     "metadata": {},
     "output_type": "execute_result"
    }
   ],
   "source": [
    "push!(mixture, \"vu\")"
   ]
  },
  {
   "cell_type": "code",
   "execution_count": 14,
   "metadata": {},
   "outputs": [
    {
     "name": "stdout",
     "output_type": "stream",
     "text": [
      "rieng\n"
     ]
    }
   ],
   "source": [
    "N = 11\n",
    "\n",
    "if (N%5 == 0) && (N%7 == 0)\n",
    "    println(\"Fizzbuzzle\")\n",
    "elseif N%5 == 0\n",
    "    println(\"Fizz\")\n",
    "\n",
    "elseif N%7 == 0\n",
    "    println(\"Buzzle\")\n",
    "            \n",
    "else\n",
    "    println(\"rieng\")\n",
    "end"
   ]
  },
  {
   "cell_type": "code",
   "execution_count": 17,
   "metadata": {},
   "outputs": [
    {
     "data": {
      "text/plain": [
       "cube (generic function with 1 method)"
      ]
     },
     "execution_count": 17,
     "metadata": {},
     "output_type": "execute_result"
    }
   ],
   "source": [
    "function cube(x)\n",
    "    return x^3\n",
    "end"
   ]
  },
  {
   "cell_type": "code",
   "execution_count": 18,
   "metadata": {},
   "outputs": [
    {
     "data": {
      "text/plain": [
       "10-element Vector{Int64}:\n",
       "    1\n",
       "    8\n",
       "   27\n",
       "   64\n",
       "  125\n",
       "  216\n",
       "  343\n",
       "  512\n",
       "  729\n",
       " 1000"
      ]
     },
     "execution_count": 18,
     "metadata": {},
     "output_type": "execute_result"
    }
   ],
   "source": [
    "map(cube, 1:10)\n",
    "cube.(1:10)#version avec broadcast, plus condensee non ?"
   ]
  },
  {
   "cell_type": "code",
   "execution_count": 23,
   "metadata": {},
   "outputs": [
    {
     "name": "stderr",
     "output_type": "stream",
     "text": [
      "\u001b[32m\u001b[1m    Updating\u001b[22m\u001b[39m registry at `C:\\Users\\leogu\\.julia\\registries\\General`\n",
      "\u001b[32m\u001b[1m    Updating\u001b[22m\u001b[39m git-repo `https://github.com/JuliaRegistries/General.git`\n",
      "\u001b[32m\u001b[1m   Resolving\u001b[22m\u001b[39m package versions...\n",
      "\u001b[32m\u001b[1m   Installed\u001b[22m\u001b[39m GR_jll ─────────────────────── v0.57.0+0\n",
      "\u001b[32m\u001b[1m   Installed\u001b[22m\u001b[39m xkbcommon_jll ──────────────── v0.9.1+5\n",
      "\u001b[32m\u001b[1m   Installed\u001b[22m\u001b[39m Xorg_xtrans_jll ────────────── v1.4.0+3\n",
      "\u001b[32m\u001b[1m   Installed\u001b[22m\u001b[39m LZO_jll ────────────────────── v2.10.0+3\n",
      "\u001b[32m\u001b[1m   Installed\u001b[22m\u001b[39m Libmount_jll ───────────────── v2.34.0+3\n",
      "\u001b[32m\u001b[1m   Installed\u001b[22m\u001b[39m NaNMath ────────────────────── v0.3.5\n",
      "\u001b[32m\u001b[1m   Installed\u001b[22m\u001b[39m HTTP ───────────────────────── v0.9.5\n",
      "\u001b[32m\u001b[1m   Installed\u001b[22m\u001b[39m Plots ──────────────────────── v1.11.2\n",
      "\u001b[32m\u001b[1m   Installed\u001b[22m\u001b[39m Cairo_jll ──────────────────── v1.16.0+6\n",
      "\u001b[32m\u001b[1m   Installed\u001b[22m\u001b[39m Opus_jll ───────────────────── v1.3.1+3\n",
      "\u001b[32m\u001b[1m   Installed\u001b[22m\u001b[39m URIs ───────────────────────── v1.2.0\n",
      "\u001b[32m\u001b[1m   Installed\u001b[22m\u001b[39m Libiconv_jll ───────────────── v1.16.0+7\n",
      "\u001b[32m\u001b[1m   Installed\u001b[22m\u001b[39m ColorTypes ─────────────────── v0.10.12\n",
      "\u001b[32m\u001b[1m   Installed\u001b[22m\u001b[39m Compat ─────────────────────── v3.26.0\n",
      "\u001b[32m\u001b[1m   Installed\u001b[22m\u001b[39m Xorg_libpthread_stubs_jll ──── v0.1.0+3\n",
      "\u001b[32m\u001b[1m   Installed\u001b[22m\u001b[39m StatsBase ──────────────────── v0.33.4\n",
      "\u001b[32m\u001b[1m   Installed\u001b[22m\u001b[39m Xorg_xcb_util_renderutil_jll ─ v0.3.9+1\n",
      "\u001b[32m\u001b[1m   Installed\u001b[22m\u001b[39m Measures ───────────────────── v0.3.1\n",
      "\u001b[32m\u001b[1m   Installed\u001b[22m\u001b[39m PlotUtils ──────────────────── v1.0.10\n",
      "\u001b[32m\u001b[1m   Installed\u001b[22m\u001b[39m Xorg_libXrandr_jll ─────────── v1.5.2+4\n",
      "\u001b[32m\u001b[1m   Installed\u001b[22m\u001b[39m Xorg_libXdmcp_jll ──────────── v1.1.3+4\n",
      "\u001b[32m\u001b[1m   Installed\u001b[22m\u001b[39m FFMPEG ─────────────────────── v0.4.0\n",
      "\u001b[32m\u001b[1m   Installed\u001b[22m\u001b[39m Libuuid_jll ────────────────── v2.34.0+7\n",
      "\u001b[32m\u001b[1m   Installed\u001b[22m\u001b[39m libvorbis_jll ──────────────── v1.3.6+6\n",
      "\u001b[32m\u001b[1m   Installed\u001b[22m\u001b[39m FixedPointNumbers ──────────── v0.8.4\n",
      "\u001b[32m\u001b[1m   Installed\u001b[22m\u001b[39m GLFW_jll ───────────────────── v3.3.3+0\n",
      "\u001b[32m\u001b[1m   Installed\u001b[22m\u001b[39m Requires ───────────────────── v1.1.3\n",
      "\u001b[32m\u001b[1m   Installed\u001b[22m\u001b[39m Wayland_protocols_jll ──────── v1.18.0+4\n",
      "\u001b[32m\u001b[1m   Installed\u001b[22m\u001b[39m Xorg_xcb_util_wm_jll ───────── v0.4.1+1\n",
      "\u001b[32m\u001b[1m   Installed\u001b[22m\u001b[39m Xorg_xcb_util_image_jll ────── v0.4.0+1\n",
      "\u001b[32m\u001b[1m   Installed\u001b[22m\u001b[39m DataAPI ────────────────────── v1.6.0\n",
      "\u001b[32m\u001b[1m   Installed\u001b[22m\u001b[39m Fontconfig_jll ─────────────── v2.13.1+14\n",
      "\u001b[32m\u001b[1m   Installed\u001b[22m\u001b[39m Pixman_jll ─────────────────── v0.40.0+0\n",
      "\u001b[32m\u001b[1m   Installed\u001b[22m\u001b[39m Showoff ────────────────────── v1.0.2\n",
      "\u001b[32m\u001b[1m   Installed\u001b[22m\u001b[39m libass_jll ─────────────────── v0.14.0+4\n",
      "\u001b[32m\u001b[1m   Installed\u001b[22m\u001b[39m LAME_jll ───────────────────── v3.100.0+3\n",
      "\u001b[32m\u001b[1m   Installed\u001b[22m\u001b[39m FreeType2_jll ──────────────── v2.10.1+5\n",
      "\u001b[32m\u001b[1m   Installed\u001b[22m\u001b[39m Ogg_jll ────────────────────── v1.3.4+2\n",
      "\u001b[32m\u001b[1m   Installed\u001b[22m\u001b[39m Tables ─────────────────────── v1.4.1\n",
      "\u001b[32m\u001b[1m   Installed\u001b[22m\u001b[39m Scratch ────────────────────── v1.0.3\n",
      "\u001b[32m\u001b[1m   Installed\u001b[22m\u001b[39m Libffi_jll ─────────────────── v3.2.1+4\n",
      "\u001b[32m\u001b[1m   Installed\u001b[22m\u001b[39m XML2_jll ───────────────────── v2.9.11+0\n",
      "\u001b[32m\u001b[1m   Installed\u001b[22m\u001b[39m MacroTools ─────────────────── v0.5.6\n",
      "\u001b[32m\u001b[1m   Installed\u001b[22m\u001b[39m Grisu ──────────────────────── v1.0.0\n",
      "\u001b[32m\u001b[1m   Installed\u001b[22m\u001b[39m PlotThemes ─────────────────── v2.0.1\n",
      "\u001b[32m\u001b[1m   Installed\u001b[22m\u001b[39m TableTraits ────────────────── v1.0.1\n",
      "\u001b[32m\u001b[1m   Installed\u001b[22m\u001b[39m Latexify ───────────────────── v0.14.12\n",
      "\u001b[32m\u001b[1m   Installed\u001b[22m\u001b[39m Contour ────────────────────── v0.5.7\n",
      "\u001b[32m\u001b[1m   Installed\u001b[22m\u001b[39m GR ─────────────────────────── v0.57.1\n",
      "\u001b[32m\u001b[1m   Installed\u001b[22m\u001b[39m Xorg_libXrender_jll ────────── v0.9.10+4\n",
      "\u001b[32m\u001b[1m   Installed\u001b[22m\u001b[39m Libgpg_error_jll ───────────── v1.36.0+3\n",
      "\u001b[32m\u001b[1m   Installed\u001b[22m\u001b[39m Qt5Base_jll ────────────────── v5.15.2+0\n",
      "\u001b[32m\u001b[1m   Installed\u001b[22m\u001b[39m DataValueInterfaces ────────── v1.0.0\n",
      "\u001b[32m\u001b[1m   Installed\u001b[22m\u001b[39m Xorg_libX11_jll ────────────── v1.6.9+4\n",
      "\u001b[32m\u001b[1m   Installed\u001b[22m\u001b[39m DataStructures ─────────────── v0.18.9\n",
      "\u001b[32m\u001b[1m   Installed\u001b[22m\u001b[39m Wayland_jll ────────────────── v1.17.0+4\n",
      "\u001b[32m\u001b[1m   Installed\u001b[22m\u001b[39m StructArrays ───────────────── v0.5.0\n",
      "\u001b[32m\u001b[1m   Installed\u001b[22m\u001b[39m RecipesBase ────────────────── v1.1.1\n",
      "\u001b[32m\u001b[1m   Installed\u001b[22m\u001b[39m LibVPX_jll ─────────────────── v1.9.0+1\n",
      "\u001b[32m\u001b[1m   Installed\u001b[22m\u001b[39m libfdk_aac_jll ─────────────── v0.1.6+4\n",
      "\u001b[32m\u001b[1m   Installed\u001b[22m\u001b[39m Missings ───────────────────── v0.4.5\n",
      "\u001b[32m\u001b[1m   Installed\u001b[22m\u001b[39m Reexport ───────────────────── v1.0.0\n",
      "\u001b[32m\u001b[1m   Installed\u001b[22m\u001b[39m Xorg_xcb_util_keysyms_jll ──── v0.4.0+1\n",
      "\u001b[32m\u001b[1m   Installed\u001b[22m\u001b[39m Xorg_libXi_jll ─────────────── v1.7.10+4\n",
      "\u001b[32m\u001b[1m   Installed\u001b[22m\u001b[39m Libglvnd_jll ───────────────── v1.3.0+3\n",
      "\u001b[32m\u001b[1m   Installed\u001b[22m\u001b[39m libpng_jll ─────────────────── v1.6.37+6\n",
      "\u001b[32m\u001b[1m   Installed\u001b[22m\u001b[39m Xorg_libXcursor_jll ────────── v1.2.0+4\n",
      "\u001b[32m\u001b[1m   Installed\u001b[22m\u001b[39m Xorg_libxkbfile_jll ────────── v1.1.0+4\n",
      "\u001b[32m\u001b[1m   Installed\u001b[22m\u001b[39m StaticArrays ───────────────── v1.1.0\n",
      "\u001b[32m\u001b[1m   Installed\u001b[22m\u001b[39m Libtiff_jll ────────────────── v4.1.0+2\n",
      "\u001b[32m\u001b[1m   Installed\u001b[22m\u001b[39m Expat_jll ──────────────────── v2.2.7+6\n",
      "\u001b[32m\u001b[1m   Installed\u001b[22m\u001b[39m FFMPEG_jll ─────────────────── v4.3.1+4\n",
      "\u001b[32m\u001b[1m   Installed\u001b[22m\u001b[39m LaTeXStrings ───────────────── v1.2.1\n",
      "\u001b[32m\u001b[1m   Installed\u001b[22m\u001b[39m EarCut_jll ─────────────────── v2.1.5+1\n",
      "\u001b[32m\u001b[1m   Installed\u001b[22m\u001b[39m Glib_jll ───────────────────── v2.59.0+4\n",
      "\u001b[32m\u001b[1m   Installed\u001b[22m\u001b[39m Xorg_libXext_jll ───────────── v1.3.4+4\n",
      "\u001b[32m\u001b[1m   Installed\u001b[22m\u001b[39m PCRE_jll ───────────────────── v8.42.0+4\n",
      "\u001b[32m\u001b[1m   Installed\u001b[22m\u001b[39m Xorg_libXinerama_jll ───────── v1.1.4+4\n",
      "\u001b[32m\u001b[1m   Installed\u001b[22m\u001b[39m Xorg_libXau_jll ────────────── v1.0.9+4\n",
      "\u001b[32m\u001b[1m   Installed\u001b[22m\u001b[39m x264_jll ───────────────────── v2020.7.14+2\n",
      "\u001b[32m\u001b[1m   Installed\u001b[22m\u001b[39m IterTools ──────────────────── v1.3.0\n",
      "\u001b[32m\u001b[1m   Installed\u001b[22m\u001b[39m OpenSSL_jll ────────────────── v1.1.1+6\n",
      "\u001b[32m\u001b[1m   Installed\u001b[22m\u001b[39m SortingAlgorithms ──────────── v0.3.1\n",
      "\u001b[32m\u001b[1m   Installed\u001b[22m\u001b[39m x265_jll ───────────────────── v3.0.0+3\n",
      "\u001b[32m\u001b[1m   Installed\u001b[22m\u001b[39m OrderedCollections ─────────── v1.4.0\n",
      "\u001b[32m\u001b[1m   Installed\u001b[22m\u001b[39m IteratorInterfaceExtensions ── v1.0.0\n",
      "\u001b[32m\u001b[1m   Installed\u001b[22m\u001b[39m Xorg_xcb_util_jll ──────────── v0.4.0+1\n",
      "\u001b[32m\u001b[1m   Installed\u001b[22m\u001b[39m Colors ─────────────────────── v0.12.6\n",
      "\u001b[32m\u001b[1m   Installed\u001b[22m\u001b[39m Bzip2_jll ──────────────────── v1.0.6+5\n",
      "\u001b[32m\u001b[1m   Installed\u001b[22m\u001b[39m JpegTurbo_jll ──────────────── v2.0.1+3\n",
      "\u001b[32m\u001b[1m   Installed\u001b[22m\u001b[39m Formatting ─────────────────── v0.4.2\n",
      "\u001b[32m\u001b[1m   Installed\u001b[22m\u001b[39m RecipesPipeline ────────────── v0.3.2\n",
      "\u001b[32m\u001b[1m   Installed\u001b[22m\u001b[39m FriBidi_jll ────────────────── v1.0.5+6\n",
      "\u001b[32m\u001b[1m   Installed\u001b[22m\u001b[39m GeometryBasics ─────────────── v0.3.12\n",
      "\u001b[32m\u001b[1m   Installed\u001b[22m\u001b[39m IniFile ────────────────────── v0.5.0\n",
      "\u001b[32m\u001b[1m   Installed\u001b[22m\u001b[39m Gettext_jll ────────────────── v0.20.1+7\n",
      "\u001b[32m\u001b[1m   Installed\u001b[22m\u001b[39m Xorg_libxcb_jll ────────────── v1.13.0+3\n",
      "\u001b[32m\u001b[1m   Installed\u001b[22m\u001b[39m Libgcrypt_jll ──────────────── v1.8.5+4\n",
      "\u001b[32m\u001b[1m   Installed\u001b[22m\u001b[39m Xorg_xkbcomp_jll ───────────── v1.4.2+4\n",
      "\u001b[32m\u001b[1m   Installed\u001b[22m\u001b[39m Zstd_jll ───────────────────── v1.4.8+0\n",
      "\u001b[32m\u001b[1m   Installed\u001b[22m\u001b[39m Adapt ──────────────────────── v3.2.0\n",
      "\u001b[32m\u001b[1m   Installed\u001b[22m\u001b[39m XSLT_jll ───────────────────── v1.1.33+4\n",
      "\u001b[32m\u001b[1m   Installed\u001b[22m\u001b[39m Xorg_libXfixes_jll ─────────── v5.0.3+4\n",
      "\u001b[32m\u001b[1m   Installed\u001b[22m\u001b[39m Xorg_xkeyboard_config_jll ──── v2.27.0+4\n",
      "\u001b[32m\u001b[1m   Installed\u001b[22m\u001b[39m ColorSchemes ───────────────── v3.11.0\n",
      "\u001b[32m\u001b[1m    Updating\u001b[22m\u001b[39m `C:\\Users\\leogu\\.julia\\environments\\v1.6\\Project.toml`\n",
      " \u001b[90m [91a5bcdd] \u001b[39m\u001b[92m+ Plots v1.11.2\u001b[39m\n",
      "\u001b[32m\u001b[1m    Updating\u001b[22m\u001b[39m `C:\\Users\\leogu\\.julia\\environments\\v1.6\\Manifest.toml`\n",
      " \u001b[90m [79e6a3ab] \u001b[39m\u001b[92m+ Adapt v3.2.0\u001b[39m\n",
      " \u001b[90m [35d6a980] \u001b[39m\u001b[92m+ ColorSchemes v3.11.0\u001b[39m\n",
      " \u001b[90m [3da002f7] \u001b[39m\u001b[92m+ ColorTypes v0.10.12\u001b[39m\n",
      " \u001b[90m [5ae59095] \u001b[39m\u001b[92m+ Colors v0.12.6\u001b[39m\n",
      " \u001b[90m [34da2185] \u001b[39m\u001b[92m+ Compat v3.26.0\u001b[39m\n",
      " \u001b[90m [d38c429a] \u001b[39m\u001b[92m+ Contour v0.5.7\u001b[39m\n"
     ]
    },
    {
     "name": "stderr",
     "output_type": "stream",
     "text": [
      " \u001b[90m [9a962f9c] \u001b[39m\u001b[92m+ DataAPI v1.6.0\u001b[39m\n",
      " \u001b[90m [864edb3b] \u001b[39m\u001b[92m+ DataStructures v0.18.9\u001b[39m\n",
      " \u001b[90m [e2d170a0] \u001b[39m\u001b[92m+ DataValueInterfaces v1.0.0\u001b[39m\n",
      " \u001b[90m [c87230d0] \u001b[39m\u001b[92m+ FFMPEG v0.4.0\u001b[39m\n",
      " \u001b[90m [53c48c17] \u001b[39m\u001b[92m+ FixedPointNumbers v0.8.4\u001b[39m\n",
      " \u001b[90m [59287772] \u001b[39m\u001b[92m+ Formatting v0.4.2\u001b[39m\n",
      " \u001b[90m [28b8d3ca] \u001b[39m\u001b[92m+ GR v0.57.1\u001b[39m\n",
      " \u001b[90m [5c1252a2] \u001b[39m\u001b[92m+ GeometryBasics v0.3.12\u001b[39m\n",
      " \u001b[90m [42e2da0e] \u001b[39m\u001b[92m+ Grisu v1.0.0\u001b[39m\n",
      " \u001b[90m [cd3eb016] \u001b[39m\u001b[92m+ HTTP v0.9.5\u001b[39m\n",
      " \u001b[90m [83e8ac13] \u001b[39m\u001b[92m+ IniFile v0.5.0\u001b[39m\n",
      " \u001b[90m [c8e1da08] \u001b[39m\u001b[92m+ IterTools v1.3.0\u001b[39m\n",
      " \u001b[90m [82899510] \u001b[39m\u001b[92m+ IteratorInterfaceExtensions v1.0.0\u001b[39m\n",
      " \u001b[90m [b964fa9f] \u001b[39m\u001b[92m+ LaTeXStrings v1.2.1\u001b[39m\n",
      " \u001b[90m [23fbe1c1] \u001b[39m\u001b[92m+ Latexify v0.14.12\u001b[39m\n",
      " \u001b[90m [1914dd2f] \u001b[39m\u001b[92m+ MacroTools v0.5.6\u001b[39m\n",
      " \u001b[90m [442fdcdd] \u001b[39m\u001b[92m+ Measures v0.3.1\u001b[39m\n",
      " \u001b[90m [e1d29d7a] \u001b[39m\u001b[92m+ Missings v0.4.5\u001b[39m\n",
      " \u001b[90m [77ba4419] \u001b[39m\u001b[92m+ NaNMath v0.3.5\u001b[39m\n",
      " \u001b[90m [bac558e1] \u001b[39m\u001b[92m+ OrderedCollections v1.4.0\u001b[39m\n",
      " \u001b[90m [ccf2f8ad] \u001b[39m\u001b[92m+ PlotThemes v2.0.1\u001b[39m\n",
      " \u001b[90m [995b91a9] \u001b[39m\u001b[92m+ PlotUtils v1.0.10\u001b[39m\n",
      " \u001b[90m [91a5bcdd] \u001b[39m\u001b[92m+ Plots v1.11.2\u001b[39m\n",
      " \u001b[90m [3cdcf5f2] \u001b[39m\u001b[92m+ RecipesBase v1.1.1\u001b[39m\n",
      " \u001b[90m [01d81517] \u001b[39m\u001b[92m+ RecipesPipeline v0.3.2\u001b[39m\n",
      " \u001b[90m [189a3867] \u001b[39m\u001b[92m+ Reexport v1.0.0\u001b[39m\n",
      " \u001b[90m [ae029012] \u001b[39m\u001b[92m+ Requires v1.1.3\u001b[39m\n",
      " \u001b[90m [6c6a2e73] \u001b[39m\u001b[92m+ Scratch v1.0.3\u001b[39m\n",
      " \u001b[90m [992d4aef] \u001b[39m\u001b[92m+ Showoff v1.0.2\u001b[39m\n",
      " \u001b[90m [a2af1166] \u001b[39m\u001b[92m+ SortingAlgorithms v0.3.1\u001b[39m\n",
      " \u001b[90m [90137ffa] \u001b[39m\u001b[92m+ StaticArrays v1.1.0\u001b[39m\n",
      " \u001b[90m [2913bbd2] \u001b[39m\u001b[92m+ StatsBase v0.33.4\u001b[39m\n",
      " \u001b[90m [09ab397b] \u001b[39m\u001b[92m+ StructArrays v0.5.0\u001b[39m\n",
      " \u001b[90m [3783bdb8] \u001b[39m\u001b[92m+ TableTraits v1.0.1\u001b[39m\n",
      " \u001b[90m [bd369af6] \u001b[39m\u001b[92m+ Tables v1.4.1\u001b[39m\n",
      " \u001b[90m [5c2747f8] \u001b[39m\u001b[92m+ URIs v1.2.0\u001b[39m\n",
      " \u001b[90m [6e34b625] \u001b[39m\u001b[92m+ Bzip2_jll v1.0.6+5\u001b[39m\n",
      " \u001b[90m [83423d85] \u001b[39m\u001b[92m+ Cairo_jll v1.16.0+6\u001b[39m\n",
      " \u001b[90m [5ae413db] \u001b[39m\u001b[92m+ EarCut_jll v2.1.5+1\u001b[39m\n",
      " \u001b[90m [2e619515] \u001b[39m\u001b[92m+ Expat_jll v2.2.7+6\u001b[39m\n",
      " \u001b[90m [b22a6f82] \u001b[39m\u001b[92m+ FFMPEG_jll v4.3.1+4\u001b[39m\n",
      " \u001b[90m [a3f928ae] \u001b[39m\u001b[92m+ Fontconfig_jll v2.13.1+14\u001b[39m\n",
      " \u001b[90m [d7e528f0] \u001b[39m\u001b[92m+ FreeType2_jll v2.10.1+5\u001b[39m\n",
      " \u001b[90m [559328eb] \u001b[39m\u001b[92m+ FriBidi_jll v1.0.5+6\u001b[39m\n",
      " \u001b[90m [0656b61e] \u001b[39m\u001b[92m+ GLFW_jll v3.3.3+0\u001b[39m\n",
      " \u001b[90m [d2c73de3] \u001b[39m\u001b[92m+ GR_jll v0.57.0+0\u001b[39m\n",
      " \u001b[90m [78b55507] \u001b[39m\u001b[92m+ Gettext_jll v0.20.1+7\u001b[39m\n",
      " \u001b[90m [7746bdde] \u001b[39m\u001b[92m+ Glib_jll v2.59.0+4\u001b[39m\n",
      " \u001b[90m [aacddb02] \u001b[39m\u001b[92m+ JpegTurbo_jll v2.0.1+3\u001b[39m\n",
      " \u001b[90m [c1c5ebd0] \u001b[39m\u001b[92m+ LAME_jll v3.100.0+3\u001b[39m\n",
      " \u001b[90m [dd4b983a] \u001b[39m\u001b[92m+ LZO_jll v2.10.0+3\u001b[39m\n",
      " \u001b[90m [dd192d2f] \u001b[39m\u001b[92m+ LibVPX_jll v1.9.0+1\u001b[39m\n",
      " \u001b[90m [e9f186c6] \u001b[39m\u001b[92m+ Libffi_jll v3.2.1+4\u001b[39m\n",
      " \u001b[90m [d4300ac3] \u001b[39m\u001b[92m+ Libgcrypt_jll v1.8.5+4\u001b[39m\n",
      " \u001b[90m [7e76a0d4] \u001b[39m\u001b[92m+ Libglvnd_jll v1.3.0+3\u001b[39m\n",
      " \u001b[90m [7add5ba3] \u001b[39m\u001b[92m+ Libgpg_error_jll v1.36.0+3\u001b[39m\n",
      " \u001b[90m [94ce4f54] \u001b[39m\u001b[92m+ Libiconv_jll v1.16.0+7\u001b[39m\n",
      " \u001b[90m [4b2f31a3] \u001b[39m\u001b[92m+ Libmount_jll v2.34.0+3\u001b[39m\n",
      " \u001b[90m [89763e89] \u001b[39m\u001b[92m+ Libtiff_jll v4.1.0+2\u001b[39m\n",
      " \u001b[90m [38a345b3] \u001b[39m\u001b[92m+ Libuuid_jll v2.34.0+7\u001b[39m\n",
      " \u001b[90m [e7412a2a] \u001b[39m\u001b[92m+ Ogg_jll v1.3.4+2\u001b[39m\n",
      " \u001b[90m [458c3c95] \u001b[39m\u001b[92m+ OpenSSL_jll v1.1.1+6\u001b[39m\n",
      " \u001b[90m [91d4177d] \u001b[39m\u001b[92m+ Opus_jll v1.3.1+3\u001b[39m\n",
      " \u001b[90m [2f80f16e] \u001b[39m\u001b[92m+ PCRE_jll v8.42.0+4\u001b[39m\n",
      " \u001b[90m [30392449] \u001b[39m\u001b[92m+ Pixman_jll v0.40.0+0\u001b[39m\n",
      " \u001b[90m [ea2cea3b] \u001b[39m\u001b[92m+ Qt5Base_jll v5.15.2+0\u001b[39m\n",
      " \u001b[90m [a2964d1f] \u001b[39m\u001b[92m+ Wayland_jll v1.17.0+4\u001b[39m\n",
      " \u001b[90m [2381bf8a] \u001b[39m\u001b[92m+ Wayland_protocols_jll v1.18.0+4\u001b[39m\n",
      " \u001b[90m [02c8fc9c] \u001b[39m\u001b[92m+ XML2_jll v2.9.11+0\u001b[39m\n",
      " \u001b[90m [aed1982a] \u001b[39m\u001b[92m+ XSLT_jll v1.1.33+4\u001b[39m\n",
      " \u001b[90m [4f6342f7] \u001b[39m\u001b[92m+ Xorg_libX11_jll v1.6.9+4\u001b[39m\n",
      " \u001b[90m [0c0b7dd1] \u001b[39m\u001b[92m+ Xorg_libXau_jll v1.0.9+4\u001b[39m\n",
      " \u001b[90m [935fb764] \u001b[39m\u001b[92m+ Xorg_libXcursor_jll v1.2.0+4\u001b[39m\n",
      " \u001b[90m [a3789734] \u001b[39m\u001b[92m+ Xorg_libXdmcp_jll v1.1.3+4\u001b[39m\n",
      " \u001b[90m [1082639a] \u001b[39m\u001b[92m+ Xorg_libXext_jll v1.3.4+4\u001b[39m\n",
      " \u001b[90m [d091e8ba] \u001b[39m\u001b[92m+ Xorg_libXfixes_jll v5.0.3+4\u001b[39m\n",
      " \u001b[90m [a51aa0fd] \u001b[39m\u001b[92m+ Xorg_libXi_jll v1.7.10+4\u001b[39m\n",
      " \u001b[90m [d1454406] \u001b[39m\u001b[92m+ Xorg_libXinerama_jll v1.1.4+4\u001b[39m\n",
      " \u001b[90m [ec84b674] \u001b[39m\u001b[92m+ Xorg_libXrandr_jll v1.5.2+4\u001b[39m\n",
      " \u001b[90m [ea2f1a96] \u001b[39m\u001b[92m+ Xorg_libXrender_jll v0.9.10+4\u001b[39m\n",
      " \u001b[90m [14d82f49] \u001b[39m\u001b[92m+ Xorg_libpthread_stubs_jll v0.1.0+3\u001b[39m\n",
      " \u001b[90m [c7cfdc94] \u001b[39m\u001b[92m+ Xorg_libxcb_jll v1.13.0+3\u001b[39m\n",
      " \u001b[90m [cc61e674] \u001b[39m\u001b[92m+ Xorg_libxkbfile_jll v1.1.0+4\u001b[39m\n",
      " \u001b[90m [12413925] \u001b[39m\u001b[92m+ Xorg_xcb_util_image_jll v0.4.0+1\u001b[39m\n",
      " \u001b[90m [2def613f] \u001b[39m\u001b[92m+ Xorg_xcb_util_jll v0.4.0+1\u001b[39m\n",
      " \u001b[90m [975044d2] \u001b[39m\u001b[92m+ Xorg_xcb_util_keysyms_jll v0.4.0+1\u001b[39m\n",
      " \u001b[90m [0d47668e] \u001b[39m\u001b[92m+ Xorg_xcb_util_renderutil_jll v0.3.9+1\u001b[39m\n",
      " \u001b[90m [c22f9ab0] \u001b[39m\u001b[92m+ Xorg_xcb_util_wm_jll v0.4.1+1\u001b[39m\n",
      " \u001b[90m [35661453] \u001b[39m\u001b[92m+ Xorg_xkbcomp_jll v1.4.2+4\u001b[39m\n",
      " \u001b[90m [33bec58e] \u001b[39m\u001b[92m+ Xorg_xkeyboard_config_jll v2.27.0+4\u001b[39m\n",
      " \u001b[90m [c5fb5394] \u001b[39m\u001b[92m+ Xorg_xtrans_jll v1.4.0+3\u001b[39m\n",
      " \u001b[90m [3161d3a3] \u001b[39m\u001b[92m+ Zstd_jll v1.4.8+0\u001b[39m\n",
      " \u001b[90m [0ac62f75] \u001b[39m\u001b[92m+ libass_jll v0.14.0+4\u001b[39m\n",
      " \u001b[90m [f638f0a6] \u001b[39m\u001b[92m+ libfdk_aac_jll v0.1.6+4\u001b[39m\n",
      " \u001b[90m [b53b4c65] \u001b[39m\u001b[92m+ libpng_jll v1.6.37+6\u001b[39m\n",
      " \u001b[90m [f27f6e37] \u001b[39m\u001b[92m+ libvorbis_jll v1.3.6+6\u001b[39m\n",
      " \u001b[90m [1270edf5] \u001b[39m\u001b[92m+ x264_jll v2020.7.14+2\u001b[39m\n",
      " \u001b[90m [dfaa095f] \u001b[39m\u001b[92m+ x265_jll v3.0.0+3\u001b[39m\n",
      " \u001b[90m [d8fb68d0] \u001b[39m\u001b[92m+ xkbcommon_jll v0.9.1+5\u001b[39m\n",
      " \u001b[90m [8bb1440f] \u001b[39m\u001b[92m+ DelimitedFiles\u001b[39m\n",
      " \u001b[90m [8ba89e20] \u001b[39m\u001b[92m+ Distributed\u001b[39m\n",
      " \u001b[90m [37e2e46d] \u001b[39m\u001b[92m+ LinearAlgebra\u001b[39m\n",
      " \u001b[90m [1a1011a3] \u001b[39m\u001b[92m+ SharedArrays\u001b[39m\n",
      " \u001b[90m [2f01184e] \u001b[39m\u001b[92m+ SparseArrays\u001b[39m\n",
      " \u001b[90m [10745b16] \u001b[39m\u001b[92m+ Statistics\u001b[39m\n",
      " \u001b[90m [e66e0078] \u001b[39m\u001b[92m+ CompilerSupportLibraries_jll\u001b[39m\n",
      "\u001b[32m\u001b[1m    Building\u001b[22m\u001b[39m GR → `C:\\Users\\leogu\\.julia\\scratchspaces\\44cfe95a-1eb2-52ea-b672-e2afdf69b78f\\f74b42150042d11a1d94badf27c6125867c7e9bd\\build.log`\n",
      "\u001b[32m\u001b[1mPrecompiling\u001b[22m\u001b[39m project...\n",
      "\u001b[32m  ✓ \u001b[39m\u001b[90mIteratorInterfaceExtensions\u001b[39m\n",
      "\u001b[32m  ✓ \u001b[39m\u001b[90mDataValueInterfaces\u001b[39m\n",
      "\u001b[32m  ✓ \u001b[39m\u001b[90mMeasures\u001b[39m\n",
      "\u001b[32m  ✓ \u001b[39m\u001b[90mOrderedCollections\u001b[39m\n",
      "\u001b[32m  ✓ \u001b[39m\u001b[90mURIs\u001b[39m\n",
      "\u001b[32m  ✓ \u001b[39m\u001b[90mScratch\u001b[39m\n",
      "\u001b[32m  ✓ \u001b[39m\u001b[90mCompilerSupportLibraries_jll\u001b[39m\n",
      "\u001b[32m  ✓ \u001b[39m\u001b[90mGrisu\u001b[39m\n",
      "\u001b[32m  ✓ \u001b[39m\u001b[90mNaNMath\u001b[39m\n",
      "\u001b[32m  ✓ \u001b[39m\u001b[90mDataAPI\u001b[39m\n",
      "\u001b[32m  ✓ \u001b[39m\u001b[90mRecipesBase\u001b[39m\n",
      "\u001b[32m  ✓ \u001b[39m\u001b[90mReexport\u001b[39m\n",
      "\u001b[32m  ✓ \u001b[39m\u001b[90mIterTools\u001b[39m\n",
      "\u001b[32m  ✓ \u001b[39m\u001b[90mRequires\u001b[39m\n",
      "\u001b[32m  ✓ \u001b[39m\u001b[90mFormatting\u001b[39m\n",
      "\u001b[32m  ✓ \u001b[39m\u001b[90mLZO_jll\u001b[39m\n",
      "\u001b[32m  ✓ \u001b[39m\u001b[90mPixman_jll\u001b[39m\n",
      "\u001b[32m  ✓ \u001b[39m\u001b[90mIniFile\u001b[39m\n",
      "\u001b[32m  ✓ \u001b[39m\u001b[90mFixedPointNumbers\u001b[39m\n",
      "\u001b[32m  ✓ \u001b[39m\u001b[90mCompat\u001b[39m\n",
      "\u001b[32m  ✓ \u001b[39m\u001b[90mMacroTools\u001b[39m\n",
      "\u001b[32m  ✓ \u001b[39m\u001b[90mAdapt\u001b[39m\n",
      "\u001b[32m  ✓ \u001b[39m\u001b[90mLaTeXStrings\u001b[39m\n",
      "\u001b[32m  ✓ \u001b[39m\u001b[90mBzip2_jll\u001b[39m\n",
      "\u001b[32m  ✓ \u001b[39m\u001b[90mLibgpg_error_jll\u001b[39m\n",
      "\u001b[32m  ✓ \u001b[39m\u001b[90mExpat_jll\u001b[39m\n",
      "\u001b[32m  ✓ \u001b[39m\u001b[90mXorg_libpthread_stubs_jll\u001b[39m\n",
      "\u001b[32m  ✓ \u001b[39m\u001b[90mx264_jll\u001b[39m\n",
      "\u001b[32m  ✓ \u001b[39m\u001b[90mXorg_libXau_jll\u001b[39m\n",
      "\u001b[32m  ✓ \u001b[39m\u001b[90mOpenSSL_jll\u001b[39m\n",
      "\u001b[32m  ✓ \u001b[39m\u001b[90mFriBidi_jll\u001b[39m\n",
      "\u001b[32m  ✓ \u001b[39m\u001b[90mLibVPX_jll\u001b[39m\n",
      "\u001b[32m  ✓ \u001b[39m\u001b[90mEarCut_jll\u001b[39m\n",
      "\u001b[32m  ✓ \u001b[39m\u001b[90mlibfdk_aac_jll\u001b[39m\n",
      "\u001b[32m  ✓ \u001b[39m\u001b[90mZstd_jll\u001b[39m\n",
      "\u001b[32m  ✓ \u001b[39m\u001b[90mOgg_jll\u001b[39m\n",
      "\u001b[32m  ✓ \u001b[39m\u001b[90mLibmount_jll\u001b[39m\n",
      "\u001b[32m  ✓ \u001b[39m\u001b[90mXorg_xtrans_jll\u001b[39m\n",
      "\u001b[32m  ✓ \u001b[39m\u001b[90mStaticArrays\u001b[39m\n",
      "\u001b[32m  ✓ \u001b[39m\u001b[90mJpegTurbo_jll\u001b[39m\n",
      "\u001b[32m  ✓ \u001b[39m\u001b[90mLAME_jll\u001b[39m\n",
      "\u001b[32m  ✓ \u001b[39m\u001b[90mLibffi_jll\u001b[39m\n",
      "\u001b[32m  ✓ \u001b[39m\u001b[90mPCRE_jll\u001b[39m\n",
      "\u001b[32m  ✓ \u001b[39m\u001b[90mOpus_jll\u001b[39m\n",
      "\u001b[32m  ✓ \u001b[39m\u001b[90mx265_jll\u001b[39m\n",
      "\u001b[32m  ✓ \u001b[39m\u001b[90mLibuuid_jll\u001b[39m\n",
      "\u001b[32m  ✓ \u001b[39m\u001b[90mXorg_libXdmcp_jll\u001b[39m\n",
      "\u001b[32m  ✓ \u001b[39m\u001b[90mShowoff\u001b[39m\n",
      "\u001b[32m  ✓ \u001b[39m\u001b[90mLibiconv_jll\u001b[39m\n",
      "\u001b[32m  ✓ \u001b[39m\u001b[90mTableTraits\u001b[39m\n",
      "\u001b[32m  ✓ \u001b[39m\u001b[90mlibpng_jll\u001b[39m\n",
      "\u001b[32m  ✓ \u001b[39m\u001b[90mMissings\u001b[39m\n",
      "\u001b[32m  ✓ \u001b[39m\u001b[90mFreeType2_jll\u001b[39m\n",
      "\u001b[32m  ✓ \u001b[39m\u001b[90mLatexify\u001b[39m\n",
      "\u001b[32m  ✓ \u001b[39m\u001b[90mHTTP\u001b[39m\n",
      "\u001b[32m  ✓ \u001b[39m\u001b[90mDataStructures\u001b[39m\n"
     ]
    },
    {
     "name": "stderr",
     "output_type": "stream",
     "text": [
      "\u001b[32m  ✓ \u001b[39m\u001b[90mLibgcrypt_jll\u001b[39m\n",
      "\u001b[32m  ✓ \u001b[39m\u001b[90mlibvorbis_jll\u001b[39m\n",
      "\u001b[32m  ✓ \u001b[39m\u001b[90mLibtiff_jll\u001b[39m\n",
      "\u001b[32m  ✓ \u001b[39m\u001b[90mContour\u001b[39m\n",
      "\u001b[32m  ✓ \u001b[39m\u001b[90mXML2_jll\u001b[39m\n",
      "\u001b[32m  ✓ \u001b[39m\u001b[90mTables\u001b[39m\n",
      "\u001b[32m  ✓ \u001b[39m\u001b[90mSortingAlgorithms\u001b[39m\n",
      "\u001b[32m  ✓ \u001b[39m\u001b[90mlibass_jll\u001b[39m\n",
      "\u001b[32m  ✓ \u001b[39m\u001b[90mWayland_jll\u001b[39m\n",
      "\u001b[32m  ✓ \u001b[39m\u001b[90mFontconfig_jll\u001b[39m\n",
      "\u001b[32m  ✓ \u001b[39m\u001b[90mXSLT_jll\u001b[39m\n",
      "\u001b[32m  ✓ \u001b[39m\u001b[90mStructArrays\u001b[39m\n",
      "\u001b[32m  ✓ \u001b[39m\u001b[90mGettext_jll\u001b[39m\n",
      "\u001b[32m  ✓ \u001b[39m\u001b[90mWayland_protocols_jll\u001b[39m\n",
      "\u001b[32m  ✓ \u001b[39m\u001b[90mStatsBase\u001b[39m\n",
      "\u001b[32m  ✓ \u001b[39m\u001b[90mXorg_libxcb_jll\u001b[39m\n",
      "\u001b[32m  ✓ \u001b[39m\u001b[90mFFMPEG_jll\u001b[39m\n",
      "\u001b[32m  ✓ \u001b[39m\u001b[90mXorg_xcb_util_jll\u001b[39m\n",
      "\u001b[32m  ✓ \u001b[39m\u001b[90mXorg_libX11_jll\u001b[39m\n",
      "\u001b[32m  ✓ \u001b[39m\u001b[90mGlib_jll\u001b[39m\n",
      "\u001b[32m  ✓ \u001b[39m\u001b[90mFFMPEG\u001b[39m\n",
      "\u001b[32m  ✓ \u001b[39m\u001b[90mXorg_xcb_util_wm_jll\u001b[39m\n",
      "\u001b[32m  ✓ \u001b[39m\u001b[90mXorg_xcb_util_image_jll\u001b[39m\n",
      "\u001b[32m  ✓ \u001b[39m\u001b[90mColorTypes\u001b[39m\n",
      "\u001b[32m  ✓ \u001b[39m\u001b[90mXorg_xcb_util_keysyms_jll\u001b[39m\n",
      "\u001b[32m  ✓ \u001b[39m\u001b[90mXorg_libxkbfile_jll\u001b[39m\n",
      "\u001b[32m  ✓ \u001b[39m\u001b[90mXorg_xcb_util_renderutil_jll\u001b[39m\n",
      "\u001b[32m  ✓ \u001b[39m\u001b[90mXorg_libXrender_jll\u001b[39m\n",
      "\u001b[32m  ✓ \u001b[39m\u001b[90mXorg_libXfixes_jll\u001b[39m\n",
      "\u001b[32m  ✓ \u001b[39m\u001b[90mXorg_libXext_jll\u001b[39m\n",
      "\u001b[32m  ✓ \u001b[39m\u001b[90mXorg_xkbcomp_jll\u001b[39m\n",
      "\u001b[32m  ✓ \u001b[39m\u001b[90mXorg_libXcursor_jll\u001b[39m\n",
      "\u001b[32m  ✓ \u001b[39m\u001b[90mXorg_libXrandr_jll\u001b[39m\n",
      "\u001b[32m  ✓ \u001b[39m\u001b[90mXorg_libXinerama_jll\u001b[39m\n",
      "\u001b[32m  ✓ \u001b[39m\u001b[90mGeometryBasics\u001b[39m\n",
      "\u001b[32m  ✓ \u001b[39m\u001b[90mXorg_libXi_jll\u001b[39m\n",
      "\u001b[32m  ✓ \u001b[39m\u001b[90mLibglvnd_jll\u001b[39m\n",
      "\u001b[32m  ✓ \u001b[39m\u001b[90mXorg_xkeyboard_config_jll\u001b[39m\n",
      "\u001b[32m  ✓ \u001b[39m\u001b[90mCairo_jll\u001b[39m\n",
      "\u001b[32m  ✓ \u001b[39m\u001b[90mColors\u001b[39m\n",
      "\u001b[32m  ✓ \u001b[39m\u001b[90mGLFW_jll\u001b[39m\n",
      "\u001b[32m  ✓ \u001b[39m\u001b[90mxkbcommon_jll\u001b[39m\n",
      "\u001b[32m  ✓ \u001b[39m\u001b[90mQt5Base_jll\u001b[39m\n",
      "\u001b[32m  ✓ \u001b[39m\u001b[90mGR_jll\u001b[39m\n",
      "\u001b[32m  ✓ \u001b[39m\u001b[90mGR\u001b[39m\n",
      "\u001b[32m  ✓ \u001b[39m\u001b[90mColorSchemes\u001b[39m\n",
      "\u001b[32m  ✓ \u001b[39m\u001b[90mPlotUtils\u001b[39m\n",
      "\u001b[32m  ✓ \u001b[39m\u001b[90mRecipesPipeline\u001b[39m\n",
      "\u001b[32m  ✓ \u001b[39m\u001b[90mPlotThemes\u001b[39m\n",
      "\u001b[32m  ✓ \u001b[39mPlots\n",
      "106 dependencies successfully precompiled in 78 seconds (14 already precompiled)\n"
     ]
    }
   ],
   "source": [
    "using Pkg\n",
    "Pkg.add(\"Plots\")\n",
    "using Plots"
   ]
  },
  {
   "cell_type": "code",
   "execution_count": 27,
   "metadata": {},
   "outputs": [
    {
     "data": {
      "text/plain": [
       "5-element Vector{Int64}:\n",
       " 2001\n",
       " 2002\n",
       " 2003\n",
       " 2004\n",
       " 2005"
      ]
     },
     "execution_count": 27,
     "metadata": {},
     "output_type": "execute_result"
    }
   ],
   "source": [
    "temp = [14.4, 15.2, 15.4, 16, 15.5]\n",
    "year = [2001, 2002, 2003, 2004, 2005]"
   ]
  },
  {
   "cell_type": "code",
   "execution_count": 31,
   "metadata": {},
   "outputs": [
    {
     "data": {
      "image/svg+xml": [
       "<?xml version=\"1.0\" encoding=\"utf-8\"?>\n",
       "<svg xmlns=\"http://www.w3.org/2000/svg\" xmlns:xlink=\"http://www.w3.org/1999/xlink\" width=\"600\" height=\"400\" viewBox=\"0 0 2400 1600\">\n",
       "<defs>\n",
       "  <clipPath id=\"clip130\">\n",
       "    <rect x=\"0\" y=\"0\" width=\"2400\" height=\"1600\"/>\n",
       "  </clipPath>\n",
       "</defs>\n",
       "<path clip-path=\"url(#clip130)\" d=\"\n",
       "M0 1600 L2400 1600 L2400 0 L0 0  Z\n",
       "  \" fill=\"#ffffff\" fill-rule=\"evenodd\" fill-opacity=\"1\"/>\n",
       "<defs>\n",
       "  <clipPath id=\"clip131\">\n",
       "    <rect x=\"480\" y=\"0\" width=\"1681\" height=\"1600\"/>\n",
       "  </clipPath>\n",
       "</defs>\n",
       "<path clip-path=\"url(#clip130)\" d=\"\n",
       "M247.459 1423.18 L2352.76 1423.18 L2352.76 47.2441 L247.459 47.2441  Z\n",
       "  \" fill=\"#ffffff\" fill-rule=\"evenodd\" fill-opacity=\"1\"/>\n",
       "<defs>\n",
       "  <clipPath id=\"clip132\">\n",
       "    <rect x=\"247\" y=\"47\" width=\"2106\" height=\"1377\"/>\n",
       "  </clipPath>\n",
       "</defs>\n",
       "<polyline clip-path=\"url(#clip132)\" style=\"stroke:#000000; stroke-width:2; stroke-opacity:0.1; fill:none\" points=\"\n",
       "  307.043,1423.18 307.043,47.2441 \n",
       "  \"/>\n",
       "<polyline clip-path=\"url(#clip132)\" style=\"stroke:#000000; stroke-width:2; stroke-opacity:0.1; fill:none\" points=\"\n",
       "  803.575,1423.18 803.575,47.2441 \n",
       "  \"/>\n",
       "<polyline clip-path=\"url(#clip132)\" style=\"stroke:#000000; stroke-width:2; stroke-opacity:0.1; fill:none\" points=\"\n",
       "  1300.11,1423.18 1300.11,47.2441 \n",
       "  \"/>\n",
       "<polyline clip-path=\"url(#clip132)\" style=\"stroke:#000000; stroke-width:2; stroke-opacity:0.1; fill:none\" points=\"\n",
       "  1796.64,1423.18 1796.64,47.2441 \n",
       "  \"/>\n",
       "<polyline clip-path=\"url(#clip132)\" style=\"stroke:#000000; stroke-width:2; stroke-opacity:0.1; fill:none\" points=\"\n",
       "  2293.17,1423.18 2293.17,47.2441 \n",
       "  \"/>\n",
       "<polyline clip-path=\"url(#clip130)\" style=\"stroke:#000000; stroke-width:4; stroke-opacity:1; fill:none\" points=\"\n",
       "  247.459,1423.18 2352.76,1423.18 \n",
       "  \"/>\n",
       "<polyline clip-path=\"url(#clip130)\" style=\"stroke:#000000; stroke-width:4; stroke-opacity:1; fill:none\" points=\"\n",
       "  307.043,1423.18 307.043,1406.67 \n",
       "  \"/>\n",
       "<polyline clip-path=\"url(#clip130)\" style=\"stroke:#000000; stroke-width:4; stroke-opacity:1; fill:none\" points=\"\n",
       "  803.575,1423.18 803.575,1406.67 \n",
       "  \"/>\n",
       "<polyline clip-path=\"url(#clip130)\" style=\"stroke:#000000; stroke-width:4; stroke-opacity:1; fill:none\" points=\"\n",
       "  1300.11,1423.18 1300.11,1406.67 \n",
       "  \"/>\n",
       "<polyline clip-path=\"url(#clip130)\" style=\"stroke:#000000; stroke-width:4; stroke-opacity:1; fill:none\" points=\"\n",
       "  1796.64,1423.18 1796.64,1406.67 \n",
       "  \"/>\n",
       "<polyline clip-path=\"url(#clip130)\" style=\"stroke:#000000; stroke-width:4; stroke-opacity:1; fill:none\" points=\"\n",
       "  2293.17,1423.18 2293.17,1406.67 \n",
       "  \"/>\n",
       "<path clip-path=\"url(#clip130)\" d=\"M 0 0 M256.267 1479.92 L272.587 1479.92 L272.587 1483.85 L250.642 1483.85 L250.642 1479.92 Q253.304 1477.16 257.888 1472.53 Q262.494 1467.88 263.675 1466.54 Q265.92 1464.01 266.8 1462.28 Q267.703 1460.52 267.703 1458.83 Q267.703 1456.07 265.758 1454.34 Q263.837 1452.6 260.735 1452.6 Q258.536 1452.6 256.082 1453.37 Q253.652 1454.13 250.874 1455.68 L250.874 1450.96 Q253.698 1449.82 256.152 1449.25 Q258.605 1448.67 260.642 1448.67 Q266.013 1448.67 269.207 1451.35 Q272.402 1454.04 272.402 1458.53 Q272.402 1460.66 271.591 1462.58 Q270.804 1464.48 268.698 1467.07 Q268.119 1467.74 265.017 1470.96 Q261.916 1474.15 256.267 1479.92 Z\" fill=\"#000000\" fill-rule=\"evenodd\" fill-opacity=\"1\" /><path clip-path=\"url(#clip130)\" d=\"M 0 0 M292.401 1452.37 Q288.79 1452.37 286.962 1455.94 Q285.156 1459.48 285.156 1466.61 Q285.156 1473.71 286.962 1477.28 Q288.79 1480.82 292.401 1480.82 Q296.036 1480.82 297.841 1477.28 Q299.67 1473.71 299.67 1466.61 Q299.67 1459.48 297.841 1455.94 Q296.036 1452.37 292.401 1452.37 M292.401 1448.67 Q298.212 1448.67 301.267 1453.27 Q304.346 1457.86 304.346 1466.61 Q304.346 1475.33 301.267 1479.94 Q298.212 1484.52 292.401 1484.52 Q286.591 1484.52 283.513 1479.94 Q280.457 1475.33 280.457 1466.61 Q280.457 1457.86 283.513 1453.27 Q286.591 1448.67 292.401 1448.67 Z\" fill=\"#000000\" fill-rule=\"evenodd\" fill-opacity=\"1\" /><path clip-path=\"url(#clip130)\" d=\"M 0 0 M322.563 1452.37 Q318.952 1452.37 317.124 1455.94 Q315.318 1459.48 315.318 1466.61 Q315.318 1473.71 317.124 1477.28 Q318.952 1480.82 322.563 1480.82 Q326.198 1480.82 328.003 1477.28 Q329.832 1473.71 329.832 1466.61 Q329.832 1459.48 328.003 1455.94 Q326.198 1452.37 322.563 1452.37 M322.563 1448.67 Q328.373 1448.67 331.429 1453.27 Q334.508 1457.86 334.508 1466.61 Q334.508 1475.33 331.429 1479.94 Q328.373 1484.52 322.563 1484.52 Q316.753 1484.52 313.675 1479.94 Q310.619 1475.33 310.619 1466.61 Q310.619 1457.86 313.675 1453.27 Q316.753 1448.67 322.563 1448.67 Z\" fill=\"#000000\" fill-rule=\"evenodd\" fill-opacity=\"1\" /><path clip-path=\"url(#clip130)\" d=\"M 0 0 M343.535 1479.92 L351.174 1479.92 L351.174 1453.55 L342.864 1455.22 L342.864 1450.96 L351.128 1449.29 L355.804 1449.29 L355.804 1479.92 L363.443 1479.92 L363.443 1483.85 L343.535 1483.85 L343.535 1479.92 Z\" fill=\"#000000\" fill-rule=\"evenodd\" fill-opacity=\"1\" /><path clip-path=\"url(#clip130)\" d=\"M 0 0 M752.985 1479.92 L769.304 1479.92 L769.304 1483.85 L747.36 1483.85 L747.36 1479.92 Q750.022 1477.16 754.605 1472.53 Q759.212 1467.88 760.392 1466.54 Q762.638 1464.01 763.517 1462.28 Q764.42 1460.52 764.42 1458.83 Q764.42 1456.07 762.476 1454.34 Q760.554 1452.6 757.453 1452.6 Q755.253 1452.6 752.8 1453.37 Q750.369 1454.13 747.591 1455.68 L747.591 1450.96 Q750.416 1449.82 752.869 1449.25 Q755.323 1448.67 757.36 1448.67 Q762.73 1448.67 765.925 1451.35 Q769.119 1454.04 769.119 1458.53 Q769.119 1460.66 768.309 1462.58 Q767.522 1464.48 765.415 1467.07 Q764.837 1467.74 761.735 1470.96 Q758.633 1474.15 752.985 1479.92 Z\" fill=\"#000000\" fill-rule=\"evenodd\" fill-opacity=\"1\" /><path clip-path=\"url(#clip130)\" d=\"M 0 0 M789.119 1452.37 Q785.508 1452.37 783.679 1455.94 Q781.874 1459.48 781.874 1466.61 Q781.874 1473.71 783.679 1477.28 Q785.508 1480.82 789.119 1480.82 Q792.753 1480.82 794.559 1477.28 Q796.387 1473.71 796.387 1466.61 Q796.387 1459.48 794.559 1455.94 Q792.753 1452.37 789.119 1452.37 M789.119 1448.67 Q794.929 1448.67 797.985 1453.27 Q801.063 1457.86 801.063 1466.61 Q801.063 1475.33 797.985 1479.94 Q794.929 1484.52 789.119 1484.52 Q783.309 1484.52 780.23 1479.94 Q777.175 1475.33 777.175 1466.61 Q777.175 1457.86 780.23 1453.27 Q783.309 1448.67 789.119 1448.67 Z\" fill=\"#000000\" fill-rule=\"evenodd\" fill-opacity=\"1\" /><path clip-path=\"url(#clip130)\" d=\"M 0 0 M819.281 1452.37 Q815.67 1452.37 813.841 1455.94 Q812.036 1459.48 812.036 1466.61 Q812.036 1473.71 813.841 1477.28 Q815.67 1480.82 819.281 1480.82 Q822.915 1480.82 824.721 1477.28 Q826.549 1473.71 826.549 1466.61 Q826.549 1459.48 824.721 1455.94 Q822.915 1452.37 819.281 1452.37 M819.281 1448.67 Q825.091 1448.67 828.147 1453.27 Q831.225 1457.86 831.225 1466.61 Q831.225 1475.33 828.147 1479.94 Q825.091 1484.52 819.281 1484.52 Q813.471 1484.52 810.392 1479.94 Q807.337 1475.33 807.337 1466.61 Q807.337 1457.86 810.392 1453.27 Q813.471 1448.67 819.281 1448.67 Z\" fill=\"#000000\" fill-rule=\"evenodd\" fill-opacity=\"1\" /><path clip-path=\"url(#clip130)\" d=\"M 0 0 M843.471 1479.92 L859.79 1479.92 L859.79 1483.85 L837.846 1483.85 L837.846 1479.92 Q840.508 1477.16 845.091 1472.53 Q849.697 1467.88 850.878 1466.54 Q853.123 1464.01 854.003 1462.28 Q854.906 1460.52 854.906 1458.83 Q854.906 1456.07 852.961 1454.34 Q851.04 1452.6 847.938 1452.6 Q845.739 1452.6 843.285 1453.37 Q840.855 1454.13 838.077 1455.68 L838.077 1450.96 Q840.901 1449.82 843.355 1449.25 Q845.809 1448.67 847.846 1448.67 Q853.216 1448.67 856.41 1451.35 Q859.605 1454.04 859.605 1458.53 Q859.605 1460.66 858.795 1462.58 Q858.008 1464.48 855.901 1467.07 Q855.322 1467.74 852.221 1470.96 Q849.119 1474.15 843.471 1479.92 Z\" fill=\"#000000\" fill-rule=\"evenodd\" fill-opacity=\"1\" /><path clip-path=\"url(#clip130)\" d=\"M 0 0 M1249.04 1479.92 L1265.36 1479.92 L1265.36 1483.85 L1243.42 1483.85 L1243.42 1479.92 Q1246.08 1477.16 1250.66 1472.53 Q1255.27 1467.88 1256.45 1466.54 Q1258.7 1464.01 1259.58 1462.28 Q1260.48 1460.52 1260.48 1458.83 Q1260.48 1456.07 1258.53 1454.34 Q1256.61 1452.6 1253.51 1452.6 Q1251.31 1452.6 1248.86 1453.37 Q1246.43 1454.13 1243.65 1455.68 L1243.65 1450.96 Q1246.47 1449.82 1248.93 1449.25 Q1251.38 1448.67 1253.42 1448.67 Q1258.79 1448.67 1261.98 1451.35 Q1265.18 1454.04 1265.18 1458.53 Q1265.18 1460.66 1264.37 1462.58 Q1263.58 1464.48 1261.47 1467.07 Q1260.89 1467.74 1257.79 1470.96 Q1254.69 1474.15 1249.04 1479.92 Z\" fill=\"#000000\" fill-rule=\"evenodd\" fill-opacity=\"1\" /><path clip-path=\"url(#clip130)\" d=\"M 0 0 M1285.18 1452.37 Q1281.57 1452.37 1279.74 1455.94 Q1277.93 1459.48 1277.93 1466.61 Q1277.93 1473.71 1279.74 1477.28 Q1281.57 1480.82 1285.18 1480.82 Q1288.81 1480.82 1290.62 1477.28 Q1292.45 1473.71 1292.45 1466.61 Q1292.45 1459.48 1290.62 1455.94 Q1288.81 1452.37 1285.18 1452.37 M1285.18 1448.67 Q1290.99 1448.67 1294.04 1453.27 Q1297.12 1457.86 1297.12 1466.61 Q1297.12 1475.33 1294.04 1479.94 Q1290.99 1484.52 1285.18 1484.52 Q1279.37 1484.52 1276.29 1479.94 Q1273.23 1475.33 1273.23 1466.61 Q1273.23 1457.86 1276.29 1453.27 Q1279.37 1448.67 1285.18 1448.67 Z\" fill=\"#000000\" fill-rule=\"evenodd\" fill-opacity=\"1\" /><path clip-path=\"url(#clip130)\" d=\"M 0 0 M1315.34 1452.37 Q1311.73 1452.37 1309.9 1455.94 Q1308.09 1459.48 1308.09 1466.61 Q1308.09 1473.71 1309.9 1477.28 Q1311.73 1480.82 1315.34 1480.82 Q1318.97 1480.82 1320.78 1477.28 Q1322.61 1473.71 1322.61 1466.61 Q1322.61 1459.48 1320.78 1455.94 Q1318.97 1452.37 1315.34 1452.37 M1315.34 1448.67 Q1321.15 1448.67 1324.2 1453.27 Q1327.28 1457.86 1327.28 1466.61 Q1327.28 1475.33 1324.2 1479.94 Q1321.15 1484.52 1315.34 1484.52 Q1309.53 1484.52 1306.45 1479.94 Q1303.39 1475.33 1303.39 1466.61 Q1303.39 1457.86 1306.45 1453.27 Q1309.53 1448.67 1315.34 1448.67 Z\" fill=\"#000000\" fill-rule=\"evenodd\" fill-opacity=\"1\" /><path clip-path=\"url(#clip130)\" d=\"M 0 0 M1349.67 1465.22 Q1353.02 1465.94 1354.9 1468.2 Q1356.8 1470.47 1356.8 1473.81 Q1356.8 1478.92 1353.28 1481.72 Q1349.76 1484.52 1343.28 1484.52 Q1341.1 1484.52 1338.79 1484.08 Q1336.5 1483.67 1334.04 1482.81 L1334.04 1478.3 Q1335.99 1479.43 1338.3 1480.01 Q1340.62 1480.59 1343.14 1480.59 Q1347.54 1480.59 1349.83 1478.85 Q1352.14 1477.12 1352.14 1473.81 Q1352.14 1470.75 1349.99 1469.04 Q1347.86 1467.3 1344.04 1467.3 L1340.01 1467.3 L1340.01 1463.46 L1344.23 1463.46 Q1347.68 1463.46 1349.51 1462.09 Q1351.33 1460.7 1351.33 1458.11 Q1351.33 1455.45 1349.44 1454.04 Q1347.56 1452.6 1344.04 1452.6 Q1342.12 1452.6 1339.92 1453.02 Q1337.72 1453.44 1335.08 1454.31 L1335.08 1450.15 Q1337.75 1449.41 1340.06 1449.04 Q1342.4 1448.67 1344.46 1448.67 Q1349.78 1448.67 1352.88 1451.1 Q1355.99 1453.5 1355.99 1457.63 Q1355.99 1460.5 1354.34 1462.49 Q1352.7 1464.45 1349.67 1465.22 Z\" fill=\"#000000\" fill-rule=\"evenodd\" fill-opacity=\"1\" /><path clip-path=\"url(#clip130)\" d=\"M 0 0 M1745.01 1479.92 L1761.33 1479.92 L1761.33 1483.85 L1739.38 1483.85 L1739.38 1479.92 Q1742.05 1477.16 1746.63 1472.53 Q1751.23 1467.88 1752.42 1466.54 Q1754.66 1464.01 1755.54 1462.28 Q1756.44 1460.52 1756.44 1458.83 Q1756.44 1456.07 1754.5 1454.34 Q1752.58 1452.6 1749.48 1452.6 Q1747.28 1452.6 1744.82 1453.37 Q1742.39 1454.13 1739.61 1455.68 L1739.61 1450.96 Q1742.44 1449.82 1744.89 1449.25 Q1747.35 1448.67 1749.38 1448.67 Q1754.75 1448.67 1757.95 1451.35 Q1761.14 1454.04 1761.14 1458.53 Q1761.14 1460.66 1760.33 1462.58 Q1759.54 1464.48 1757.44 1467.07 Q1756.86 1467.74 1753.76 1470.96 Q1750.66 1474.15 1745.01 1479.92 Z\" fill=\"#000000\" fill-rule=\"evenodd\" fill-opacity=\"1\" /><path clip-path=\"url(#clip130)\" d=\"M 0 0 M1781.14 1452.37 Q1777.53 1452.37 1775.7 1455.94 Q1773.9 1459.48 1773.9 1466.61 Q1773.9 1473.71 1775.7 1477.28 Q1777.53 1480.82 1781.14 1480.82 Q1784.78 1480.82 1786.58 1477.28 Q1788.41 1473.71 1788.41 1466.61 Q1788.41 1459.48 1786.58 1455.94 Q1784.78 1452.37 1781.14 1452.37 M1781.14 1448.67 Q1786.95 1448.67 1790.01 1453.27 Q1793.09 1457.86 1793.09 1466.61 Q1793.09 1475.33 1790.01 1479.94 Q1786.95 1484.52 1781.14 1484.52 Q1775.33 1484.52 1772.25 1479.94 Q1769.2 1475.33 1769.2 1466.61 Q1769.2 1457.86 1772.25 1453.27 Q1775.33 1448.67 1781.14 1448.67 Z\" fill=\"#000000\" fill-rule=\"evenodd\" fill-opacity=\"1\" /><path clip-path=\"url(#clip130)\" d=\"M 0 0 M1811.3 1452.37 Q1807.69 1452.37 1805.86 1455.94 Q1804.06 1459.48 1804.06 1466.61 Q1804.06 1473.71 1805.86 1477.28 Q1807.69 1480.82 1811.3 1480.82 Q1814.94 1480.82 1816.74 1477.28 Q1818.57 1473.71 1818.57 1466.61 Q1818.57 1459.48 1816.74 1455.94 Q1814.94 1452.37 1811.3 1452.37 M1811.3 1448.67 Q1817.11 1448.67 1820.17 1453.27 Q1823.25 1457.86 1823.25 1466.61 Q1823.25 1475.33 1820.17 1479.94 Q1817.11 1484.52 1811.3 1484.52 Q1805.49 1484.52 1802.42 1479.94 Q1799.36 1475.33 1799.36 1466.61 Q1799.36 1457.86 1802.42 1453.27 Q1805.49 1448.67 1811.3 1448.67 Z\" fill=\"#000000\" fill-rule=\"evenodd\" fill-opacity=\"1\" /><path clip-path=\"url(#clip130)\" d=\"M 0 0 M1844.31 1453.37 L1832.51 1471.81 L1844.31 1471.81 L1844.31 1453.37 M1843.09 1449.29 L1848.97 1449.29 L1848.97 1471.81 L1853.9 1471.81 L1853.9 1475.7 L1848.97 1475.7 L1848.97 1483.85 L1844.31 1483.85 L1844.31 1475.7 L1828.71 1475.7 L1828.71 1471.19 L1843.09 1449.29 Z\" fill=\"#000000\" fill-rule=\"evenodd\" fill-opacity=\"1\" /><path clip-path=\"url(#clip130)\" d=\"M 0 0 M2242.28 1479.92 L2258.6 1479.92 L2258.6 1483.85 L2236.66 1483.85 L2236.66 1479.92 Q2239.32 1477.16 2243.9 1472.53 Q2248.51 1467.88 2249.69 1466.54 Q2251.93 1464.01 2252.81 1462.28 Q2253.72 1460.52 2253.72 1458.83 Q2253.72 1456.07 2251.77 1454.34 Q2249.85 1452.6 2246.75 1452.6 Q2244.55 1452.6 2242.1 1453.37 Q2239.67 1454.13 2236.89 1455.68 L2236.89 1450.96 Q2239.71 1449.82 2242.17 1449.25 Q2244.62 1448.67 2246.66 1448.67 Q2252.03 1448.67 2255.22 1451.35 Q2258.42 1454.04 2258.42 1458.53 Q2258.42 1460.66 2257.61 1462.58 Q2256.82 1464.48 2254.71 1467.07 Q2254.13 1467.74 2251.03 1470.96 Q2247.93 1474.15 2242.28 1479.92 Z\" fill=\"#000000\" fill-rule=\"evenodd\" fill-opacity=\"1\" /><path clip-path=\"url(#clip130)\" d=\"M 0 0 M2278.42 1452.37 Q2274.8 1452.37 2272.98 1455.94 Q2271.17 1459.48 2271.17 1466.61 Q2271.17 1473.71 2272.98 1477.28 Q2274.8 1480.82 2278.42 1480.82 Q2282.05 1480.82 2283.85 1477.28 Q2285.68 1473.71 2285.68 1466.61 Q2285.68 1459.48 2283.85 1455.94 Q2282.05 1452.37 2278.42 1452.37 M2278.42 1448.67 Q2284.23 1448.67 2287.28 1453.27 Q2290.36 1457.86 2290.36 1466.61 Q2290.36 1475.33 2287.28 1479.94 Q2284.23 1484.52 2278.42 1484.52 Q2272.61 1484.52 2269.53 1479.94 Q2266.47 1475.33 2266.47 1466.61 Q2266.47 1457.86 2269.53 1453.27 Q2272.61 1448.67 2278.42 1448.67 Z\" fill=\"#000000\" fill-rule=\"evenodd\" fill-opacity=\"1\" /><path clip-path=\"url(#clip130)\" d=\"M 0 0 M2308.58 1452.37 Q2304.97 1452.37 2303.14 1455.94 Q2301.33 1459.48 2301.33 1466.61 Q2301.33 1473.71 2303.14 1477.28 Q2304.97 1480.82 2308.58 1480.82 Q2312.21 1480.82 2314.02 1477.28 Q2315.85 1473.71 2315.85 1466.61 Q2315.85 1459.48 2314.02 1455.94 Q2312.21 1452.37 2308.58 1452.37 M2308.58 1448.67 Q2314.39 1448.67 2317.44 1453.27 Q2320.52 1457.86 2320.52 1466.61 Q2320.52 1475.33 2317.44 1479.94 Q2314.39 1484.52 2308.58 1484.52 Q2302.77 1484.52 2299.69 1479.94 Q2296.63 1475.33 2296.63 1466.61 Q2296.63 1457.86 2299.69 1453.27 Q2302.77 1448.67 2308.58 1448.67 Z\" fill=\"#000000\" fill-rule=\"evenodd\" fill-opacity=\"1\" /><path clip-path=\"url(#clip130)\" d=\"M 0 0 M2328.79 1449.29 L2347.14 1449.29 L2347.14 1453.23 L2333.07 1453.23 L2333.07 1461.7 Q2334.09 1461.35 2335.1 1461.19 Q2336.12 1461 2337.14 1461 Q2342.93 1461 2346.31 1464.18 Q2349.69 1467.35 2349.69 1472.76 Q2349.69 1478.34 2346.22 1481.44 Q2342.74 1484.52 2336.42 1484.52 Q2334.25 1484.52 2331.98 1484.15 Q2329.73 1483.78 2327.33 1483.04 L2327.33 1478.34 Q2329.41 1479.48 2331.63 1480.03 Q2333.85 1480.59 2336.33 1480.59 Q2340.34 1480.59 2342.67 1478.48 Q2345.01 1476.38 2345.01 1472.76 Q2345.01 1469.15 2342.67 1467.05 Q2340.34 1464.94 2336.33 1464.94 Q2334.46 1464.94 2332.58 1465.36 Q2330.73 1465.77 2328.79 1466.65 L2328.79 1449.29 Z\" fill=\"#000000\" fill-rule=\"evenodd\" fill-opacity=\"1\" /><path clip-path=\"url(#clip130)\" d=\"M 0 0 M1247.4 1571.35 Q1244.92 1577.72 1242.56 1579.66 Q1240.21 1581.6 1236.26 1581.6 L1231.58 1581.6 L1231.58 1576.7 L1235.02 1576.7 Q1237.44 1576.7 1238.77 1575.56 Q1240.11 1574.41 1241.73 1570.14 L1242.78 1567.47 L1228.37 1532.4 L1234.57 1532.4 L1245.71 1560.28 L1256.85 1532.4 L1263.06 1532.4 L1247.4 1571.35 Z\" fill=\"#000000\" fill-rule=\"evenodd\" fill-opacity=\"1\" /><path clip-path=\"url(#clip130)\" d=\"M 0 0 M1301.64 1548.76 L1301.64 1551.62 L1274.71 1551.62 Q1275.09 1557.67 1278.34 1560.85 Q1281.61 1564 1287.44 1564 Q1290.81 1564 1293.96 1563.17 Q1297.15 1562.35 1300.27 1560.69 L1300.27 1566.23 Q1297.12 1567.57 1293.81 1568.27 Q1290.5 1568.97 1287.09 1568.97 Q1278.56 1568.97 1273.56 1564 Q1268.6 1559.04 1268.6 1550.57 Q1268.6 1541.82 1273.31 1536.69 Q1278.05 1531.54 1286.07 1531.54 Q1293.26 1531.54 1297.43 1536.18 Q1301.64 1540.8 1301.64 1548.76 M1295.78 1547.04 Q1295.71 1542.23 1293.07 1539.37 Q1290.46 1536.5 1286.13 1536.5 Q1281.23 1536.5 1278.27 1539.27 Q1275.34 1542.04 1274.9 1547.07 L1295.78 1547.04 Z\" fill=\"#000000\" fill-rule=\"evenodd\" fill-opacity=\"1\" /><path clip-path=\"url(#clip130)\" d=\"M 0 0 M1327.45 1550.12 Q1320.35 1550.12 1317.61 1551.75 Q1314.88 1553.37 1314.88 1557.29 Q1314.88 1560.4 1316.91 1562.25 Q1318.98 1564.07 1322.51 1564.07 Q1327.38 1564.07 1330.31 1560.63 Q1333.27 1557.16 1333.27 1551.43 L1333.27 1550.12 L1327.45 1550.12 M1339.13 1547.71 L1339.13 1568.04 L1333.27 1568.04 L1333.27 1562.63 Q1331.27 1565.88 1328.28 1567.44 Q1325.28 1568.97 1320.95 1568.97 Q1315.48 1568.97 1312.23 1565.91 Q1309.02 1562.82 1309.02 1557.67 Q1309.02 1551.65 1313.03 1548.6 Q1317.07 1545.54 1325.06 1545.54 L1333.27 1545.54 L1333.27 1544.97 Q1333.27 1540.93 1330.6 1538.73 Q1327.96 1536.5 1323.15 1536.5 Q1320.1 1536.5 1317.2 1537.23 Q1314.3 1537.97 1311.63 1539.43 L1311.63 1534.02 Q1314.84 1532.78 1317.87 1532.17 Q1320.89 1531.54 1323.76 1531.54 Q1331.49 1531.54 1335.31 1535.55 Q1339.13 1539.56 1339.13 1547.71 Z\" fill=\"#000000\" fill-rule=\"evenodd\" fill-opacity=\"1\" /><path clip-path=\"url(#clip130)\" d=\"M 0 0 M1371.85 1537.87 Q1370.86 1537.3 1369.68 1537.04 Q1368.54 1536.76 1367.14 1536.76 Q1362.17 1536.76 1359.5 1540 Q1356.86 1543.22 1356.86 1549.27 L1356.86 1568.04 L1350.97 1568.04 L1350.97 1532.4 L1356.86 1532.4 L1356.86 1537.93 Q1358.7 1534.69 1361.66 1533.13 Q1364.62 1531.54 1368.86 1531.54 Q1369.46 1531.54 1370.19 1531.63 Q1370.93 1531.7 1371.82 1531.85 L1371.85 1537.87 Z\" fill=\"#000000\" fill-rule=\"evenodd\" fill-opacity=\"1\" /><polyline clip-path=\"url(#clip132)\" style=\"stroke:#000000; stroke-width:2; stroke-opacity:0.1; fill:none\" points=\"\n",
       "  247.459,1303.11 2352.76,1303.11 \n",
       "  \"/>\n",
       "<polyline clip-path=\"url(#clip132)\" style=\"stroke:#000000; stroke-width:2; stroke-opacity:0.1; fill:none\" points=\"\n",
       "  247.459,897.469 2352.76,897.469 \n",
       "  \"/>\n",
       "<polyline clip-path=\"url(#clip132)\" style=\"stroke:#000000; stroke-width:2; stroke-opacity:0.1; fill:none\" points=\"\n",
       "  247.459,491.827 2352.76,491.827 \n",
       "  \"/>\n",
       "<polyline clip-path=\"url(#clip132)\" style=\"stroke:#000000; stroke-width:2; stroke-opacity:0.1; fill:none\" points=\"\n",
       "  247.459,86.1857 2352.76,86.1857 \n",
       "  \"/>\n",
       "<polyline clip-path=\"url(#clip130)\" style=\"stroke:#000000; stroke-width:4; stroke-opacity:1; fill:none\" points=\"\n",
       "  247.459,1423.18 247.459,47.2441 \n",
       "  \"/>\n",
       "<polyline clip-path=\"url(#clip130)\" style=\"stroke:#000000; stroke-width:4; stroke-opacity:1; fill:none\" points=\"\n",
       "  247.459,1303.11 272.722,1303.11 \n",
       "  \"/>\n",
       "<polyline clip-path=\"url(#clip130)\" style=\"stroke:#000000; stroke-width:4; stroke-opacity:1; fill:none\" points=\"\n",
       "  247.459,897.469 272.722,897.469 \n",
       "  \"/>\n",
       "<polyline clip-path=\"url(#clip130)\" style=\"stroke:#000000; stroke-width:4; stroke-opacity:1; fill:none\" points=\"\n",
       "  247.459,491.827 272.722,491.827 \n",
       "  \"/>\n",
       "<polyline clip-path=\"url(#clip130)\" style=\"stroke:#000000; stroke-width:4; stroke-opacity:1; fill:none\" points=\"\n",
       "  247.459,86.1857 272.722,86.1857 \n",
       "  \"/>\n",
       "<path clip-path=\"url(#clip130)\" d=\"M 0 0 M115.927 1316.45 L123.566 1316.45 L123.566 1290.09 L115.256 1291.76 L115.256 1287.5 L123.519 1285.83 L128.195 1285.83 L128.195 1316.45 L135.834 1316.45 L135.834 1320.39 L115.927 1320.39 L115.927 1316.45 Z\" fill=\"#000000\" fill-rule=\"evenodd\" fill-opacity=\"1\" /><path clip-path=\"url(#clip130)\" d=\"M 0 0 M158.126 1289.9 L146.32 1308.35 L158.126 1308.35 L158.126 1289.9 M156.899 1285.83 L162.778 1285.83 L162.778 1308.35 L167.709 1308.35 L167.709 1312.24 L162.778 1312.24 L162.778 1320.39 L158.126 1320.39 L158.126 1312.24 L142.524 1312.24 L142.524 1307.73 L156.899 1285.83 Z\" fill=\"#000000\" fill-rule=\"evenodd\" fill-opacity=\"1\" /><path clip-path=\"url(#clip130)\" d=\"M 0 0 M175.44 1314.51 L180.325 1314.51 L180.325 1320.39 L175.44 1320.39 L175.44 1314.51 Z\" fill=\"#000000\" fill-rule=\"evenodd\" fill-opacity=\"1\" /><path clip-path=\"url(#clip130)\" d=\"M 0 0 M190.556 1285.83 L208.912 1285.83 L208.912 1289.77 L194.838 1289.77 L194.838 1298.24 Q195.857 1297.89 196.875 1297.73 Q197.894 1297.54 198.912 1297.54 Q204.699 1297.54 208.079 1300.71 Q211.459 1303.89 211.459 1309.3 Q211.459 1314.88 207.987 1317.98 Q204.514 1321.06 198.195 1321.06 Q196.019 1321.06 193.75 1320.69 Q191.505 1320.32 189.098 1319.58 L189.098 1314.88 Q191.181 1316.02 193.403 1316.57 Q195.625 1317.13 198.102 1317.13 Q202.107 1317.13 204.445 1315.02 Q206.783 1312.91 206.783 1309.3 Q206.783 1305.69 204.445 1303.58 Q202.107 1301.48 198.102 1301.48 Q196.227 1301.48 194.352 1301.89 Q192.5 1302.31 190.556 1303.19 L190.556 1285.83 Z\" fill=\"#000000\" fill-rule=\"evenodd\" fill-opacity=\"1\" /><path clip-path=\"url(#clip130)\" d=\"M 0 0 M114.931 910.813 L122.57 910.813 L122.57 884.448 L114.26 886.114 L114.26 881.855 L122.524 880.189 L127.2 880.189 L127.2 910.813 L134.839 910.813 L134.839 914.749 L114.931 914.749 L114.931 910.813 Z\" fill=\"#000000\" fill-rule=\"evenodd\" fill-opacity=\"1\" /><path clip-path=\"url(#clip130)\" d=\"M 0 0 M144.329 880.189 L162.686 880.189 L162.686 884.124 L148.612 884.124 L148.612 892.596 Q149.63 892.249 150.649 892.087 Q151.667 891.901 152.686 891.901 Q158.473 891.901 161.852 895.073 Q165.232 898.244 165.232 903.661 Q165.232 909.239 161.76 912.341 Q158.288 915.42 151.968 915.42 Q149.792 915.42 147.524 915.049 Q145.279 914.679 142.871 913.938 L142.871 909.239 Q144.954 910.374 147.177 910.929 Q149.399 911.485 151.876 911.485 Q155.88 911.485 158.218 909.378 Q160.556 907.272 160.556 903.661 Q160.556 900.05 158.218 897.943 Q155.88 895.837 151.876 895.837 Q150.001 895.837 148.126 896.253 Q146.274 896.67 144.329 897.55 L144.329 880.189 Z\" fill=\"#000000\" fill-rule=\"evenodd\" fill-opacity=\"1\" /><path clip-path=\"url(#clip130)\" d=\"M 0 0 M174.445 908.869 L179.329 908.869 L179.329 914.749 L174.445 914.749 L174.445 908.869 Z\" fill=\"#000000\" fill-rule=\"evenodd\" fill-opacity=\"1\" /><path clip-path=\"url(#clip130)\" d=\"M 0 0 M199.514 883.267 Q195.903 883.267 194.075 886.832 Q192.269 890.374 192.269 897.503 Q192.269 904.61 194.075 908.175 Q195.903 911.716 199.514 911.716 Q203.149 911.716 204.954 908.175 Q206.783 904.61 206.783 897.503 Q206.783 890.374 204.954 886.832 Q203.149 883.267 199.514 883.267 M199.514 879.564 Q205.324 879.564 208.38 884.17 Q211.459 888.753 211.459 897.503 Q211.459 906.23 208.38 910.837 Q205.324 915.42 199.514 915.42 Q193.704 915.42 190.625 910.837 Q187.57 906.23 187.57 897.503 Q187.57 888.753 190.625 884.17 Q193.704 879.564 199.514 879.564 Z\" fill=\"#000000\" fill-rule=\"evenodd\" fill-opacity=\"1\" /><path clip-path=\"url(#clip130)\" d=\"M 0 0 M115.927 505.172 L123.566 505.172 L123.566 478.806 L115.256 480.473 L115.256 476.214 L123.519 474.547 L128.195 474.547 L128.195 505.172 L135.834 505.172 L135.834 509.107 L115.927 509.107 L115.927 505.172 Z\" fill=\"#000000\" fill-rule=\"evenodd\" fill-opacity=\"1\" /><path clip-path=\"url(#clip130)\" d=\"M 0 0 M145.325 474.547 L163.681 474.547 L163.681 478.482 L149.607 478.482 L149.607 486.954 Q150.626 486.607 151.644 486.445 Q152.663 486.26 153.681 486.26 Q159.468 486.26 162.848 489.431 Q166.227 492.603 166.227 498.019 Q166.227 503.598 162.755 506.7 Q159.283 509.778 152.964 509.778 Q150.788 509.778 148.519 509.408 Q146.274 509.038 143.866 508.297 L143.866 503.598 Q145.95 504.732 148.172 505.288 Q150.394 505.843 152.871 505.843 Q156.876 505.843 159.214 503.737 Q161.552 501.63 161.552 498.019 Q161.552 494.408 159.214 492.302 Q156.876 490.195 152.871 490.195 Q150.996 490.195 149.121 490.612 Q147.269 491.029 145.325 491.908 L145.325 474.547 Z\" fill=\"#000000\" fill-rule=\"evenodd\" fill-opacity=\"1\" /><path clip-path=\"url(#clip130)\" d=\"M 0 0 M175.44 503.228 L180.325 503.228 L180.325 509.107 L175.44 509.107 L175.44 503.228 Z\" fill=\"#000000\" fill-rule=\"evenodd\" fill-opacity=\"1\" /><path clip-path=\"url(#clip130)\" d=\"M 0 0 M190.556 474.547 L208.912 474.547 L208.912 478.482 L194.838 478.482 L194.838 486.954 Q195.857 486.607 196.875 486.445 Q197.894 486.26 198.912 486.26 Q204.699 486.26 208.079 489.431 Q211.459 492.603 211.459 498.019 Q211.459 503.598 207.987 506.7 Q204.514 509.778 198.195 509.778 Q196.019 509.778 193.75 509.408 Q191.505 509.038 189.098 508.297 L189.098 503.598 Q191.181 504.732 193.403 505.288 Q195.625 505.843 198.102 505.843 Q202.107 505.843 204.445 503.737 Q206.783 501.63 206.783 498.019 Q206.783 494.408 204.445 492.302 Q202.107 490.195 198.102 490.195 Q196.227 490.195 194.352 490.612 Q192.5 491.029 190.556 491.908 L190.556 474.547 Z\" fill=\"#000000\" fill-rule=\"evenodd\" fill-opacity=\"1\" /><path clip-path=\"url(#clip130)\" d=\"M 0 0 M114.931 99.5305 L122.57 99.5305 L122.57 73.1649 L114.26 74.8316 L114.26 70.5723 L122.524 68.9057 L127.2 68.9057 L127.2 99.5305 L134.839 99.5305 L134.839 103.466 L114.931 103.466 L114.931 99.5305 Z\" fill=\"#000000\" fill-rule=\"evenodd\" fill-opacity=\"1\" /><path clip-path=\"url(#clip130)\" d=\"M 0 0 M154.862 84.3223 Q151.714 84.3223 149.862 86.475 Q148.033 88.6278 148.033 92.3778 Q148.033 96.1046 149.862 98.2805 Q151.714 100.433 154.862 100.433 Q158.01 100.433 159.839 98.2805 Q161.69 96.1046 161.69 92.3778 Q161.69 88.6278 159.839 86.475 Q158.01 84.3223 154.862 84.3223 M164.144 69.6696 L164.144 73.9288 Q162.385 73.0955 160.579 72.6557 Q158.797 72.2158 157.038 72.2158 Q152.408 72.2158 149.954 75.3408 Q147.524 78.4658 147.177 84.7852 Q148.542 82.7713 150.603 81.7065 Q152.663 80.6186 155.14 80.6186 Q160.348 80.6186 163.357 83.7899 Q166.39 86.938 166.39 92.3778 Q166.39 97.7018 163.241 100.919 Q160.093 104.137 154.862 104.137 Q148.866 104.137 145.695 99.5537 Q142.524 94.9472 142.524 86.2204 Q142.524 78.026 146.413 73.1649 Q150.302 68.2807 156.853 68.2807 Q158.612 68.2807 160.394 68.6279 Q162.2 68.9751 164.144 69.6696 Z\" fill=\"#000000\" fill-rule=\"evenodd\" fill-opacity=\"1\" /><path clip-path=\"url(#clip130)\" d=\"M 0 0 M174.445 97.5861 L179.329 97.5861 L179.329 103.466 L174.445 103.466 L174.445 97.5861 Z\" fill=\"#000000\" fill-rule=\"evenodd\" fill-opacity=\"1\" /><path clip-path=\"url(#clip130)\" d=\"M 0 0 M199.514 71.9844 Q195.903 71.9844 194.075 75.5492 Q192.269 79.0908 192.269 86.2204 Q192.269 93.3268 194.075 96.8916 Q195.903 100.433 199.514 100.433 Q203.149 100.433 204.954 96.8916 Q206.783 93.3268 206.783 86.2204 Q206.783 79.0908 204.954 75.5492 Q203.149 71.9844 199.514 71.9844 M199.514 68.2807 Q205.324 68.2807 208.38 72.8871 Q211.459 77.4704 211.459 86.2204 Q211.459 94.9472 208.38 99.5537 Q205.324 104.137 199.514 104.137 Q193.704 104.137 190.625 99.5537 Q187.57 94.9472 187.57 86.2204 Q187.57 77.4704 190.625 72.8871 Q193.704 68.2807 199.514 68.2807 Z\" fill=\"#000000\" fill-rule=\"evenodd\" fill-opacity=\"1\" /><path clip-path=\"url(#clip130)\" d=\"M 0 0 M57.2247 1159.49 L44.4614 1159.49 L44.4614 1169.99 L39.1779 1169.99 L39.1779 1153.12 L59.58 1153.12 Q62.2218 1156.84 63.5904 1161.33 Q64.9272 1165.82 64.9272 1170.91 Q64.9272 1182.05 58.4342 1188.35 Q51.9093 1194.63 40.2919 1194.63 Q28.6427 1194.63 22.1496 1188.35 Q15.6248 1182.05 15.6248 1170.91 Q15.6248 1166.27 16.7706 1162.1 Q17.9164 1157.89 20.1444 1154.36 L26.9876 1154.36 Q23.9639 1157.93 22.4361 1161.94 Q20.9083 1165.95 20.9083 1170.37 Q20.9083 1179.09 25.7781 1183.49 Q30.6479 1187.85 40.2919 1187.85 Q49.9041 1187.85 54.7739 1183.49 Q59.6436 1179.09 59.6436 1170.37 Q59.6436 1166.97 59.0707 1164.29 Q58.466 1161.62 57.2247 1159.49 Z\" fill=\"#000000\" fill-rule=\"evenodd\" fill-opacity=\"1\" /><path clip-path=\"url(#clip130)\" d=\"M 0 0 M14.479 1141.63 L14.479 1135.77 L64.0042 1135.77 L64.0042 1141.63 L14.479 1141.63 Z\" fill=\"#000000\" fill-rule=\"evenodd\" fill-opacity=\"1\" /><path clip-path=\"url(#clip130)\" d=\"M 0 0 M32.4621 1109.71 Q32.4621 1114.42 36.1542 1117.15 Q39.8145 1119.89 46.212 1119.89 Q52.6095 1119.89 56.3017 1117.19 Q59.9619 1114.45 59.9619 1109.71 Q59.9619 1105.03 56.2698 1102.29 Q52.5777 1099.55 46.212 1099.55 Q39.8781 1099.55 36.186 1102.29 Q32.4621 1105.03 32.4621 1109.71 M27.4968 1109.71 Q27.4968 1102.07 32.4621 1097.71 Q37.4273 1093.35 46.212 1093.35 Q54.9649 1093.35 59.9619 1097.71 Q64.9272 1102.07 64.9272 1109.71 Q64.9272 1117.38 59.9619 1121.74 Q54.9649 1126.07 46.212 1126.07 Q37.4273 1126.07 32.4621 1121.74 Q27.4968 1117.38 27.4968 1109.71 Z\" fill=\"#000000\" fill-rule=\"evenodd\" fill-opacity=\"1\" /><path clip-path=\"url(#clip130)\" d=\"M 0 0 M46.212 1058.05 Q39.7508 1058.05 36.0905 1060.72 Q32.3984 1063.36 32.3984 1068.01 Q32.3984 1072.66 36.0905 1075.33 Q39.7508 1077.97 46.212 1077.97 Q52.6732 1077.97 56.3653 1075.33 Q60.0256 1072.66 60.0256 1068.01 Q60.0256 1063.36 56.3653 1060.72 Q52.6732 1058.05 46.212 1058.05 M33.7671 1077.97 Q30.5842 1076.13 29.0564 1073.33 Q27.4968 1070.49 27.4968 1066.58 Q27.4968 1060.09 32.6531 1056.04 Q37.8093 1051.97 46.212 1051.97 Q54.6147 1051.97 59.771 1056.04 Q64.9272 1060.09 64.9272 1066.58 Q64.9272 1070.49 63.3994 1073.33 Q61.8398 1076.13 58.657 1077.97 L64.0042 1077.97 L64.0042 1083.86 L14.479 1083.86 L14.479 1077.97 L33.7671 1077.97 Z\" fill=\"#000000\" fill-rule=\"evenodd\" fill-opacity=\"1\" /><path clip-path=\"url(#clip130)\" d=\"M 0 0 M46.0847 1026.06 Q46.0847 1033.16 47.7079 1035.9 Q49.3312 1038.63 53.2461 1038.63 Q56.3653 1038.63 58.2114 1036.6 Q60.0256 1034.53 60.0256 1030.99 Q60.0256 1026.12 56.5881 1023.2 Q53.1188 1020.24 47.3897 1020.24 L46.0847 1020.24 L46.0847 1026.06 M43.6657 1014.38 L64.0042 1014.38 L64.0042 1020.24 L58.5933 1020.24 Q61.8398 1022.24 63.3994 1025.23 Q64.9272 1028.23 64.9272 1032.55 Q64.9272 1038.03 61.8716 1041.28 Q58.7843 1044.49 53.6281 1044.49 Q47.6125 1044.49 44.5569 1040.48 Q41.5014 1036.44 41.5014 1028.45 L41.5014 1020.24 L40.9285 1020.24 Q36.8862 1020.24 34.6901 1022.91 Q32.4621 1025.55 32.4621 1030.36 Q32.4621 1033.41 33.1941 1036.31 Q33.9262 1039.21 35.3903 1041.88 L29.9795 1041.88 Q28.7381 1038.67 28.1334 1035.64 Q27.4968 1032.62 27.4968 1029.75 Q27.4968 1022.02 31.5072 1018.2 Q35.5176 1014.38 43.6657 1014.38 Z\" fill=\"#000000\" fill-rule=\"evenodd\" fill-opacity=\"1\" /><path clip-path=\"url(#clip130)\" d=\"M 0 0 M14.479 1002.32 L14.479 996.461 L64.0042 996.461 L64.0042 1002.32 L14.479 1002.32 Z\" fill=\"#000000\" fill-rule=\"evenodd\" fill-opacity=\"1\" /><path clip-path=\"url(#clip130)\" d=\"M 0 0 M46.0847 947.285 Q46.0847 954.383 47.7079 957.121 Q49.3312 959.858 53.2461 959.858 Q56.3653 959.858 58.2114 957.821 Q60.0256 955.752 60.0256 952.219 Q60.0256 947.349 56.5881 944.421 Q53.1188 941.461 47.3897 941.461 L46.0847 941.461 L46.0847 947.285 M43.6657 935.604 L64.0042 935.604 L64.0042 941.461 L58.5933 941.461 Q61.8398 943.466 63.3994 946.458 Q64.9272 949.45 64.9272 953.779 Q64.9272 959.253 61.8716 962.5 Q58.7843 965.714 53.6281 965.714 Q47.6125 965.714 44.5569 961.704 Q41.5014 957.662 41.5014 949.673 L41.5014 941.461 L40.9285 941.461 Q36.8862 941.461 34.6901 944.134 Q32.4621 946.776 32.4621 951.582 Q32.4621 954.638 33.1941 957.534 Q33.9262 960.431 35.3903 963.104 L29.9795 963.104 Q28.7381 959.89 28.1334 956.866 Q27.4968 953.842 27.4968 950.978 Q27.4968 943.243 31.5072 939.424 Q35.5176 935.604 43.6657 935.604 Z\" fill=\"#000000\" fill-rule=\"evenodd\" fill-opacity=\"1\" /><path clip-path=\"url(#clip130)\" d=\"M 0 0 M28.3562 927.743 L28.3562 921.536 L58.275 910.396 L28.3562 899.256 L28.3562 893.05 L64.0042 906.418 L64.0042 914.375 L28.3562 927.743 Z\" fill=\"#000000\" fill-rule=\"evenodd\" fill-opacity=\"1\" /><path clip-path=\"url(#clip130)\" d=\"M 0 0 M44.7161 854.473 L47.5806 854.473 L47.5806 881.4 Q53.6281 881.018 56.8109 877.772 Q59.9619 874.494 59.9619 868.669 Q59.9619 865.295 59.1344 862.144 Q58.3069 858.961 56.6518 855.842 L62.1899 855.842 Q63.5267 858.993 64.227 862.303 Q64.9272 865.613 64.9272 869.019 Q64.9272 877.549 59.9619 882.546 Q54.9967 887.511 46.5303 887.511 Q37.7774 887.511 32.6531 882.801 Q27.4968 878.058 27.4968 870.038 Q27.4968 862.844 32.1438 858.675 Q36.7589 854.473 44.7161 854.473 M42.9973 860.33 Q38.1912 860.394 35.3266 863.035 Q32.4621 865.645 32.4621 869.974 Q32.4621 874.876 35.2312 877.836 Q38.0002 880.764 43.0292 881.209 L42.9973 860.33 Z\" fill=\"#000000\" fill-rule=\"evenodd\" fill-opacity=\"1\" /><path clip-path=\"url(#clip130)\" d=\"M 0 0 M33.8307 824.205 Q33.2578 825.191 33.0032 826.369 Q32.7167 827.515 32.7167 828.915 Q32.7167 833.88 35.9632 836.554 Q39.1779 839.196 45.2253 839.196 L64.0042 839.196 L64.0042 845.084 L28.3562 845.084 L28.3562 839.196 L33.8944 839.196 Q30.6479 837.35 29.0883 834.39 Q27.4968 831.43 27.4968 827.196 Q27.4968 826.592 27.5923 825.86 Q27.656 825.128 27.8151 824.236 L33.8307 824.205 Z\" fill=\"#000000\" fill-rule=\"evenodd\" fill-opacity=\"1\" /><path clip-path=\"url(#clip130)\" d=\"M 0 0 M46.0847 801.861 Q46.0847 808.959 47.7079 811.696 Q49.3312 814.433 53.2461 814.433 Q56.3653 814.433 58.2114 812.396 Q60.0256 810.327 60.0256 806.794 Q60.0256 801.925 56.5881 798.996 Q53.1188 796.036 47.3897 796.036 L46.0847 796.036 L46.0847 801.861 M43.6657 790.18 L64.0042 790.18 L64.0042 796.036 L58.5933 796.036 Q61.8398 798.041 63.3994 801.033 Q64.9272 804.025 64.9272 808.354 Q64.9272 813.828 61.8716 817.075 Q58.7843 820.29 53.6281 820.29 Q47.6125 820.29 44.5569 816.279 Q41.5014 812.237 41.5014 804.248 L41.5014 796.036 L40.9285 796.036 Q36.8862 796.036 34.6901 798.71 Q32.4621 801.352 32.4621 806.158 Q32.4621 809.213 33.1941 812.11 Q33.9262 815.006 35.3903 817.68 L29.9795 817.68 Q28.7381 814.465 28.1334 811.441 Q27.4968 808.418 27.4968 805.553 Q27.4968 797.819 31.5072 793.999 Q35.5176 790.18 43.6657 790.18 Z\" fill=\"#000000\" fill-rule=\"evenodd\" fill-opacity=\"1\" /><path clip-path=\"url(#clip130)\" d=\"M 0 0 M45.7664 754.659 Q39.4007 754.659 35.8996 757.301 Q32.3984 759.911 32.3984 764.653 Q32.3984 769.364 35.8996 772.006 Q39.4007 774.616 45.7664 774.616 Q52.1003 774.616 55.6014 772.006 Q59.1026 769.364 59.1026 764.653 Q59.1026 759.911 55.6014 757.301 Q52.1003 754.659 45.7664 754.659 M59.58 748.803 Q68.683 748.803 73.1071 752.845 Q77.5631 756.887 77.5631 765.226 Q77.5631 768.314 77.0857 771.051 Q76.6401 773.788 75.6852 776.366 L69.9879 776.366 Q71.3884 773.788 72.0568 771.274 Q72.7252 768.759 72.7252 766.149 Q72.7252 760.388 69.7015 757.524 Q66.7096 754.659 60.6303 754.659 L57.7339 754.659 Q60.885 756.473 62.4446 759.306 Q64.0042 762.139 64.0042 766.086 Q64.0042 772.642 59.0071 776.653 Q54.01 780.663 45.7664 780.663 Q37.491 780.663 32.4939 776.653 Q27.4968 772.642 27.4968 766.086 Q27.4968 762.139 29.0564 759.306 Q30.616 756.473 33.7671 754.659 L28.3562 754.659 L28.3562 748.803 L59.58 748.803 Z\" fill=\"#000000\" fill-rule=\"evenodd\" fill-opacity=\"1\" /><path clip-path=\"url(#clip130)\" d=\"M 0 0 M44.7161 706.248 L47.5806 706.248 L47.5806 733.175 Q53.6281 732.793 56.8109 729.546 Q59.9619 726.268 59.9619 720.444 Q59.9619 717.07 59.1344 713.919 Q58.3069 710.736 56.6518 707.617 L62.1899 707.617 Q63.5267 710.768 64.227 714.078 Q64.9272 717.388 64.9272 720.794 Q64.9272 729.324 59.9619 734.321 Q54.9967 739.286 46.5303 739.286 Q37.7774 739.286 32.6531 734.575 Q27.4968 729.833 27.4968 721.812 Q27.4968 714.619 32.1438 710.449 Q36.7589 706.248 44.7161 706.248 M42.9973 712.104 Q38.1912 712.168 35.3266 714.81 Q32.4621 717.42 32.4621 721.748 Q32.4621 726.65 35.2312 729.61 Q38.0002 732.538 43.0292 732.984 L42.9973 712.104 Z\" fill=\"#000000\" fill-rule=\"evenodd\" fill-opacity=\"1\" /><path clip-path=\"url(#clip130)\" d=\"M 0 0 M18.2347 670.123 L28.3562 670.123 L28.3562 658.06 L32.9077 658.06 L32.9077 670.123 L52.2594 670.123 Q56.6199 670.123 57.8613 668.945 Q59.1026 667.735 59.1026 664.075 L59.1026 658.06 L64.0042 658.06 L64.0042 664.075 Q64.0042 670.855 61.4897 673.433 Q58.9434 676.011 52.2594 676.011 L32.9077 676.011 L32.9077 680.308 L28.3562 680.308 L28.3562 676.011 L18.2347 676.011 L18.2347 670.123 Z\" fill=\"#000000\" fill-rule=\"evenodd\" fill-opacity=\"1\" /><path clip-path=\"url(#clip130)\" d=\"M 0 0 M44.7161 619.865 L47.5806 619.865 L47.5806 646.792 Q53.6281 646.41 56.8109 643.164 Q59.9619 639.886 59.9619 634.061 Q59.9619 630.687 59.1344 627.536 Q58.3069 624.353 56.6518 621.234 L62.1899 621.234 Q63.5267 624.385 64.227 627.695 Q64.9272 631.005 64.9272 634.411 Q64.9272 642.941 59.9619 647.938 Q54.9967 652.903 46.5303 652.903 Q37.7774 652.903 32.6531 648.193 Q27.4968 643.45 27.4968 635.43 Q27.4968 628.236 32.1438 624.067 Q36.7589 619.865 44.7161 619.865 M42.9973 625.722 Q38.1912 625.785 35.3266 628.427 Q32.4621 631.037 32.4621 635.366 Q32.4621 640.267 35.2312 643.228 Q38.0002 646.156 43.0292 646.601 L42.9973 625.722 Z\" fill=\"#000000\" fill-rule=\"evenodd\" fill-opacity=\"1\" /><path clip-path=\"url(#clip130)\" d=\"M 0 0 M35.1993 582.499 Q31.2526 580.302 29.3747 577.247 Q27.4968 574.191 27.4968 570.054 Q27.4968 564.484 31.4117 561.46 Q35.2948 558.436 42.4881 558.436 L64.0042 558.436 L64.0042 564.325 L42.679 564.325 Q37.5546 564.325 35.072 566.139 Q32.5894 567.953 32.5894 571.677 Q32.5894 576.228 35.6131 578.87 Q38.6368 581.512 43.8567 581.512 L64.0042 581.512 L64.0042 587.4 L42.679 587.4 Q37.5228 587.4 35.072 589.214 Q32.5894 591.029 32.5894 594.816 Q32.5894 599.304 35.6449 601.946 Q38.6686 604.588 43.8567 604.588 L64.0042 604.588 L64.0042 610.476 L28.3562 610.476 L28.3562 604.588 L33.8944 604.588 Q30.616 602.582 29.0564 599.782 Q27.4968 596.981 27.4968 593.129 Q27.4968 589.246 29.4702 586.541 Q31.4436 583.804 35.1993 582.499 Z\" fill=\"#000000\" fill-rule=\"evenodd\" fill-opacity=\"1\" /><path clip-path=\"url(#clip130)\" d=\"M 0 0 M58.657 541.09 L77.5631 541.09 L77.5631 546.978 L28.3562 546.978 L28.3562 541.09 L33.7671 541.09 Q30.5842 539.244 29.0564 536.443 Q27.4968 533.61 27.4968 529.695 Q27.4968 523.202 32.6531 519.16 Q37.8093 515.086 46.212 515.086 Q54.6147 515.086 59.771 519.16 Q64.9272 523.202 64.9272 529.695 Q64.9272 533.61 63.3994 536.443 Q61.8398 539.244 58.657 541.09 M46.212 521.165 Q39.7508 521.165 36.0905 523.839 Q32.3984 526.48 32.3984 531.127 Q32.3984 535.774 36.0905 538.448 Q39.7508 541.09 46.212 541.09 Q52.6732 541.09 56.3653 538.448 Q60.0256 535.774 60.0256 531.127 Q60.0256 526.48 56.3653 523.839 Q52.6732 521.165 46.212 521.165 Z\" fill=\"#000000\" fill-rule=\"evenodd\" fill-opacity=\"1\" /><path clip-path=\"url(#clip130)\" d=\"M 0 0 M44.7161 474.886 L47.5806 474.886 L47.5806 501.813 Q53.6281 501.431 56.8109 498.185 Q59.9619 494.907 59.9619 489.082 Q59.9619 485.708 59.1344 482.557 Q58.3069 479.374 56.6518 476.255 L62.1899 476.255 Q63.5267 479.406 64.227 482.716 Q64.9272 486.026 64.9272 489.432 Q64.9272 497.962 59.9619 502.959 Q54.9967 507.924 46.5303 507.924 Q37.7774 507.924 32.6531 503.214 Q27.4968 498.471 27.4968 490.451 Q27.4968 483.257 32.1438 479.088 Q36.7589 474.886 44.7161 474.886 M42.9973 480.743 Q38.1912 480.807 35.3266 483.448 Q32.4621 486.058 32.4621 490.387 Q32.4621 495.288 35.2312 498.249 Q38.0002 501.177 43.0292 501.622 L42.9973 480.743 Z\" fill=\"#000000\" fill-rule=\"evenodd\" fill-opacity=\"1\" /><path clip-path=\"url(#clip130)\" d=\"M 0 0 M33.8307 444.617 Q33.2578 445.604 33.0032 446.782 Q32.7167 447.928 32.7167 449.328 Q32.7167 454.293 35.9632 456.967 Q39.1779 459.609 45.2253 459.609 L64.0042 459.609 L64.0042 465.497 L28.3562 465.497 L28.3562 459.609 L33.8944 459.609 Q30.6479 457.763 29.0883 454.803 Q27.4968 451.843 27.4968 447.609 Q27.4968 447.005 27.5923 446.273 Q27.656 445.54 27.8151 444.649 L33.8307 444.617 Z\" fill=\"#000000\" fill-rule=\"evenodd\" fill-opacity=\"1\" /><path clip-path=\"url(#clip130)\" d=\"M 0 0 M46.0847 422.274 Q46.0847 429.372 47.7079 432.109 Q49.3312 434.846 53.2461 434.846 Q56.3653 434.846 58.2114 432.809 Q60.0256 430.74 60.0256 427.207 Q60.0256 422.337 56.5881 419.409 Q53.1188 416.449 47.3897 416.449 L46.0847 416.449 L46.0847 422.274 M43.6657 410.593 L64.0042 410.593 L64.0042 416.449 L58.5933 416.449 Q61.8398 418.454 63.3994 421.446 Q64.9272 424.438 64.9272 428.767 Q64.9272 434.241 61.8716 437.488 Q58.7843 440.703 53.6281 440.703 Q47.6125 440.703 44.5569 436.692 Q41.5014 432.65 41.5014 424.661 L41.5014 416.449 L40.9285 416.449 Q36.8862 416.449 34.6901 419.123 Q32.4621 421.765 32.4621 426.571 Q32.4621 429.626 33.1941 432.523 Q33.9262 435.419 35.3903 438.093 L29.9795 438.093 Q28.7381 434.878 28.1334 431.854 Q27.4968 428.831 27.4968 425.966 Q27.4968 418.232 31.5072 414.412 Q35.5176 410.593 43.6657 410.593 Z\" fill=\"#000000\" fill-rule=\"evenodd\" fill-opacity=\"1\" /><path clip-path=\"url(#clip130)\" d=\"M 0 0 M18.2347 392.737 L28.3562 392.737 L28.3562 380.674 L32.9077 380.674 L32.9077 392.737 L52.2594 392.737 Q56.6199 392.737 57.8613 391.559 Q59.1026 390.35 59.1026 386.69 L59.1026 380.674 L64.0042 380.674 L64.0042 386.69 Q64.0042 393.469 61.4897 396.047 Q58.9434 398.625 52.2594 398.625 L32.9077 398.625 L32.9077 402.922 L28.3562 402.922 L28.3562 398.625 L18.2347 398.625 L18.2347 392.737 Z\" fill=\"#000000\" fill-rule=\"evenodd\" fill-opacity=\"1\" /><path clip-path=\"url(#clip130)\" d=\"M 0 0 M49.9359 373.576 L28.3562 373.576 L28.3562 367.72 L49.7131 367.72 Q54.7739 367.72 57.3202 365.746 Q59.8346 363.773 59.8346 359.826 Q59.8346 355.084 56.8109 352.347 Q53.7872 349.577 48.5673 349.577 L28.3562 349.577 L28.3562 343.721 L64.0042 343.721 L64.0042 349.577 L58.5296 349.577 Q61.7762 351.71 63.3676 354.543 Q64.9272 357.344 64.9272 361.068 Q64.9272 367.21 61.1078 370.393 Q57.2883 373.576 49.9359 373.576 M27.4968 358.84 L27.4968 358.84 Z\" fill=\"#000000\" fill-rule=\"evenodd\" fill-opacity=\"1\" /><path clip-path=\"url(#clip130)\" d=\"M 0 0 M33.8307 311.001 Q33.2578 311.988 33.0032 313.166 Q32.7167 314.311 32.7167 315.712 Q32.7167 320.677 35.9632 323.351 Q39.1779 325.993 45.2253 325.993 L64.0042 325.993 L64.0042 331.881 L28.3562 331.881 L28.3562 325.993 L33.8944 325.993 Q30.6479 324.146 29.0883 321.186 Q27.4968 318.226 27.4968 313.993 Q27.4968 313.388 27.5923 312.656 Q27.656 311.924 27.8151 311.033 L33.8307 311.001 Z\" fill=\"#000000\" fill-rule=\"evenodd\" fill-opacity=\"1\" /><path clip-path=\"url(#clip130)\" d=\"M 0 0 M44.7161 275.799 L47.5806 275.799 L47.5806 302.726 Q53.6281 302.344 56.8109 299.097 Q59.9619 295.819 59.9619 289.994 Q59.9619 286.621 59.1344 283.47 Q58.3069 280.287 56.6518 277.168 L62.1899 277.168 Q63.5267 280.319 64.227 283.629 Q64.9272 286.939 64.9272 290.345 Q64.9272 298.875 59.9619 303.872 Q54.9967 308.837 46.5303 308.837 Q37.7774 308.837 32.6531 304.126 Q27.4968 299.384 27.4968 291.363 Q27.4968 284.17 32.1438 280 Q36.7589 275.799 44.7161 275.799 M42.9973 281.655 Q38.1912 281.719 35.3266 284.361 Q32.4621 286.971 32.4621 291.299 Q32.4621 296.201 35.2312 299.161 Q38.0002 302.089 43.0292 302.535 L42.9973 281.655 Z\" fill=\"#000000\" fill-rule=\"evenodd\" fill-opacity=\"1\" /><polyline clip-path=\"url(#clip132)\" style=\"stroke:#009af9; stroke-width:4; stroke-opacity:1; fill:none\" points=\"\n",
       "  307.043,1384.24 803.575,735.212 1300.11,572.955 1796.64,86.1857 2293.17,491.827 \n",
       "  \"/>\n",
       "<circle clip-path=\"url(#clip132)\" cx=\"307.043\" cy=\"1384.24\" r=\"14\" fill=\"#e26f46\" fill-rule=\"evenodd\" fill-opacity=\"1\" stroke=\"#000000\" stroke-opacity=\"1\" stroke-width=\"3.2\"/>\n",
       "<circle clip-path=\"url(#clip132)\" cx=\"803.575\" cy=\"735.212\" r=\"14\" fill=\"#e26f46\" fill-rule=\"evenodd\" fill-opacity=\"1\" stroke=\"#000000\" stroke-opacity=\"1\" stroke-width=\"3.2\"/>\n",
       "<circle clip-path=\"url(#clip132)\" cx=\"1300.11\" cy=\"572.955\" r=\"14\" fill=\"#e26f46\" fill-rule=\"evenodd\" fill-opacity=\"1\" stroke=\"#000000\" stroke-opacity=\"1\" stroke-width=\"3.2\"/>\n",
       "<circle clip-path=\"url(#clip132)\" cx=\"1796.64\" cy=\"86.1857\" r=\"14\" fill=\"#e26f46\" fill-rule=\"evenodd\" fill-opacity=\"1\" stroke=\"#000000\" stroke-opacity=\"1\" stroke-width=\"3.2\"/>\n",
       "<circle clip-path=\"url(#clip132)\" cx=\"2293.17\" cy=\"491.827\" r=\"14\" fill=\"#e26f46\" fill-rule=\"evenodd\" fill-opacity=\"1\" stroke=\"#000000\" stroke-opacity=\"1\" stroke-width=\"3.2\"/>\n",
       "<path clip-path=\"url(#clip130)\" d=\"\n",
       "M1754.47 274.549 L2282.58 274.549 L2282.58 93.1086 L1754.47 93.1086  Z\n",
       "  \" fill=\"#ffffff\" fill-rule=\"evenodd\" fill-opacity=\"1\"/>\n",
       "<polyline clip-path=\"url(#clip130)\" style=\"stroke:#000000; stroke-width:4; stroke-opacity:1; fill:none\" points=\"\n",
       "  1754.47,274.549 2282.58,274.549 2282.58,93.1086 1754.47,93.1086 1754.47,274.549 \n",
       "  \"/>\n",
       "<polyline clip-path=\"url(#clip130)\" style=\"stroke:#009af9; stroke-width:4; stroke-opacity:1; fill:none\" points=\"\n",
       "  1777.86,153.589 1918.21,153.589 \n",
       "  \"/>\n",
       "<path clip-path=\"url(#clip130)\" d=\"M 0 0 M1949.01 137.582 L1949.01 144.943 L1957.79 144.943 L1957.79 148.253 L1949.01 148.253 L1949.01 162.327 Q1949.01 165.498 1949.87 166.401 Q1950.75 167.304 1953.41 167.304 L1957.79 167.304 L1957.79 170.869 L1953.41 170.869 Q1948.48 170.869 1946.61 169.04 Q1944.73 167.188 1944.73 162.327 L1944.73 148.253 L1941.61 148.253 L1941.61 144.943 L1944.73 144.943 L1944.73 137.582 L1949.01 137.582 Z\" fill=\"#000000\" fill-rule=\"evenodd\" fill-opacity=\"1\" /><path clip-path=\"url(#clip130)\" d=\"M 0 0 M1985.56 156.841 L1985.56 158.924 L1965.98 158.924 Q1966.26 163.322 1968.62 165.637 Q1971 167.929 1975.24 167.929 Q1977.69 167.929 1979.99 167.327 Q1982.3 166.725 1984.57 165.521 L1984.57 169.549 Q1982.28 170.521 1979.87 171.031 Q1977.46 171.54 1974.99 171.54 Q1968.78 171.54 1965.15 167.929 Q1961.54 164.318 1961.54 158.16 Q1961.54 151.795 1964.96 148.068 Q1968.41 144.318 1974.25 144.318 Q1979.48 144.318 1982.51 147.697 Q1985.56 151.054 1985.56 156.841 M1981.31 155.591 Q1981.26 152.096 1979.34 150.012 Q1977.44 147.929 1974.29 147.929 Q1970.73 147.929 1968.57 149.943 Q1966.44 151.957 1966.12 155.614 L1981.31 155.591 Z\" fill=\"#000000\" fill-rule=\"evenodd\" fill-opacity=\"1\" /><path clip-path=\"url(#clip130)\" d=\"M 0 0 M2012.74 149.92 Q2014.34 147.049 2016.56 145.684 Q2018.78 144.318 2021.79 144.318 Q2025.84 144.318 2028.04 147.165 Q2030.24 149.989 2030.24 155.221 L2030.24 170.869 L2025.96 170.869 L2025.96 155.359 Q2025.96 151.633 2024.64 149.827 Q2023.32 148.022 2020.61 148.022 Q2017.3 148.022 2015.38 150.221 Q2013.46 152.42 2013.46 156.216 L2013.46 170.869 L2009.18 170.869 L2009.18 155.359 Q2009.18 151.609 2007.86 149.827 Q2006.54 148.022 2003.78 148.022 Q2000.52 148.022 1998.6 150.244 Q1996.68 152.443 1996.68 156.216 L1996.68 170.869 L1992.39 170.869 L1992.39 144.943 L1996.68 144.943 L1996.68 148.971 Q1998.13 146.586 2000.17 145.452 Q2002.21 144.318 2005.01 144.318 Q2007.83 144.318 2009.8 145.753 Q2011.79 147.188 2012.74 149.92 Z\" fill=\"#000000\" fill-rule=\"evenodd\" fill-opacity=\"1\" /><path clip-path=\"url(#clip130)\" d=\"M 0 0 M2042.86 166.98 L2042.86 180.73 L2038.57 180.73 L2038.57 144.943 L2042.86 144.943 L2042.86 148.878 Q2044.2 146.563 2046.24 145.452 Q2048.3 144.318 2051.14 144.318 Q2055.87 144.318 2058.81 148.068 Q2061.77 151.818 2061.77 157.929 Q2061.77 164.04 2058.81 167.79 Q2055.87 171.54 2051.14 171.54 Q2048.3 171.54 2046.24 170.429 Q2044.2 169.295 2042.86 166.98 M2057.35 157.929 Q2057.35 153.23 2055.4 150.568 Q2053.48 147.883 2050.1 147.883 Q2046.72 147.883 2044.78 150.568 Q2042.86 153.23 2042.86 157.929 Q2042.86 162.628 2044.78 165.313 Q2046.72 167.975 2050.1 167.975 Q2053.48 167.975 2055.4 165.313 Q2057.35 162.628 2057.35 157.929 Z\" fill=\"#000000\" fill-rule=\"evenodd\" fill-opacity=\"1\" /><path clip-path=\"url(#clip130)\" d=\"M 0 0 M2091 156.841 L2091 158.924 L2071.42 158.924 Q2071.7 163.322 2074.06 165.637 Q2076.44 167.929 2080.68 167.929 Q2083.13 167.929 2085.43 167.327 Q2087.74 166.725 2090.01 165.521 L2090.01 169.549 Q2087.72 170.521 2085.31 171.031 Q2082.9 171.54 2080.43 171.54 Q2074.22 171.54 2070.59 167.929 Q2066.98 164.318 2066.98 158.16 Q2066.98 151.795 2070.4 148.068 Q2073.85 144.318 2079.68 144.318 Q2084.92 144.318 2087.95 147.697 Q2091 151.054 2091 156.841 M2086.74 155.591 Q2086.7 152.096 2084.78 150.012 Q2082.88 147.929 2079.73 147.929 Q2076.17 147.929 2074.01 149.943 Q2071.88 151.957 2071.56 155.614 L2086.74 155.591 Z\" fill=\"#000000\" fill-rule=\"evenodd\" fill-opacity=\"1\" /><path clip-path=\"url(#clip130)\" d=\"M 0 0 M2113.02 148.924 Q2112.3 148.508 2111.44 148.322 Q2110.61 148.114 2109.59 148.114 Q2105.98 148.114 2104.04 150.475 Q2102.12 152.813 2102.12 157.211 L2102.12 170.869 L2097.83 170.869 L2097.83 144.943 L2102.12 144.943 L2102.12 148.971 Q2103.46 146.609 2105.61 145.475 Q2107.76 144.318 2110.84 144.318 Q2111.28 144.318 2111.81 144.387 Q2112.35 144.434 2112.99 144.549 L2113.02 148.924 Z\" fill=\"#000000\" fill-rule=\"evenodd\" fill-opacity=\"1\" /><path clip-path=\"url(#clip130)\" d=\"M 0 0 M2129.27 157.836 Q2124.11 157.836 2122.12 159.017 Q2120.12 160.197 2120.12 163.045 Q2120.12 165.313 2121.61 166.656 Q2123.11 167.975 2125.68 167.975 Q2129.22 167.975 2131.35 165.475 Q2133.5 162.952 2133.5 158.785 L2133.5 157.836 L2129.27 157.836 M2137.76 156.077 L2137.76 170.869 L2133.5 170.869 L2133.5 166.933 Q2132.05 169.295 2129.87 170.429 Q2127.69 171.54 2124.55 171.54 Q2120.56 171.54 2118.2 169.318 Q2115.87 167.072 2115.87 163.322 Q2115.87 158.947 2118.78 156.725 Q2121.72 154.503 2127.53 154.503 L2133.5 154.503 L2133.5 154.086 Q2133.5 151.147 2131.56 149.549 Q2129.64 147.929 2126.14 147.929 Q2123.92 147.929 2121.81 148.461 Q2119.71 148.994 2117.76 150.059 L2117.76 146.123 Q2120.1 145.221 2122.3 144.781 Q2124.5 144.318 2126.58 144.318 Q2132.21 144.318 2134.99 147.234 Q2137.76 150.151 2137.76 156.077 Z\" fill=\"#000000\" fill-rule=\"evenodd\" fill-opacity=\"1\" /><path clip-path=\"url(#clip130)\" d=\"M 0 0 M2150.75 137.582 L2150.75 144.943 L2159.52 144.943 L2159.52 148.253 L2150.75 148.253 L2150.75 162.327 Q2150.75 165.498 2151.61 166.401 Q2152.49 167.304 2155.15 167.304 L2159.52 167.304 L2159.52 170.869 L2155.15 170.869 Q2150.22 170.869 2148.34 169.04 Q2146.47 167.188 2146.47 162.327 L2146.47 148.253 L2143.34 148.253 L2143.34 144.943 L2146.47 144.943 L2146.47 137.582 L2150.75 137.582 Z\" fill=\"#000000\" fill-rule=\"evenodd\" fill-opacity=\"1\" /><path clip-path=\"url(#clip130)\" d=\"M 0 0 M2164.68 160.637 L2164.68 144.943 L2168.94 144.943 L2168.94 160.475 Q2168.94 164.156 2170.38 166.008 Q2171.81 167.836 2174.68 167.836 Q2178.13 167.836 2180.12 165.637 Q2182.14 163.438 2182.14 159.642 L2182.14 144.943 L2186.4 144.943 L2186.4 170.869 L2182.14 170.869 L2182.14 166.887 Q2180.59 169.248 2178.53 170.406 Q2176.49 171.54 2173.78 171.54 Q2169.31 171.54 2167 168.762 Q2164.68 165.984 2164.68 160.637 M2175.4 144.318 L2175.4 144.318 Z\" fill=\"#000000\" fill-rule=\"evenodd\" fill-opacity=\"1\" /><path clip-path=\"url(#clip130)\" d=\"M 0 0 M2210.19 148.924 Q2209.48 148.508 2208.62 148.322 Q2207.79 148.114 2206.77 148.114 Q2203.16 148.114 2201.21 150.475 Q2199.29 152.813 2199.29 157.211 L2199.29 170.869 L2195.01 170.869 L2195.01 144.943 L2199.29 144.943 L2199.29 148.971 Q2200.63 146.609 2202.79 145.475 Q2204.94 144.318 2208.02 144.318 Q2208.46 144.318 2208.99 144.387 Q2209.52 144.434 2210.17 144.549 L2210.19 148.924 Z\" fill=\"#000000\" fill-rule=\"evenodd\" fill-opacity=\"1\" /><path clip-path=\"url(#clip130)\" d=\"M 0 0 M2235.79 156.841 L2235.79 158.924 L2216.21 158.924 Q2216.49 163.322 2218.85 165.637 Q2221.23 167.929 2225.47 167.929 Q2227.92 167.929 2230.22 167.327 Q2232.53 166.725 2234.8 165.521 L2234.8 169.549 Q2232.51 170.521 2230.1 171.031 Q2227.69 171.54 2225.22 171.54 Q2219.01 171.54 2215.38 167.929 Q2211.77 164.318 2211.77 158.16 Q2211.77 151.795 2215.19 148.068 Q2218.64 144.318 2224.48 144.318 Q2229.71 144.318 2232.74 147.697 Q2235.79 151.054 2235.79 156.841 M2231.54 155.591 Q2231.49 152.096 2229.57 150.012 Q2227.67 147.929 2224.52 147.929 Q2220.96 147.929 2218.8 149.943 Q2216.67 151.957 2216.35 155.614 L2231.54 155.591 Z\" fill=\"#000000\" fill-rule=\"evenodd\" fill-opacity=\"1\" /><circle clip-path=\"url(#clip130)\" cx=\"1848.04\" cy=\"214.069\" r=\"23\" fill=\"#e26f46\" fill-rule=\"evenodd\" fill-opacity=\"1\" stroke=\"#000000\" stroke-opacity=\"1\" stroke-width=\"5.12\"/>\n",
       "<path clip-path=\"url(#clip130)\" d=\"M 0 0 M1945.89 227.46 L1945.89 241.21 L1941.61 241.21 L1941.61 205.423 L1945.89 205.423 L1945.89 209.358 Q1947.23 207.043 1949.27 205.932 Q1951.33 204.798 1954.18 204.798 Q1958.9 204.798 1961.84 208.548 Q1964.8 212.298 1964.8 218.409 Q1964.8 224.52 1961.84 228.27 Q1958.9 232.02 1954.18 232.02 Q1951.33 232.02 1949.27 230.909 Q1947.23 229.775 1945.89 227.46 M1960.38 218.409 Q1960.38 213.71 1958.44 211.048 Q1956.51 208.363 1953.13 208.363 Q1949.75 208.363 1947.81 211.048 Q1945.89 213.71 1945.89 218.409 Q1945.89 223.108 1947.81 225.793 Q1949.75 228.455 1953.13 228.455 Q1956.51 228.455 1958.44 225.793 Q1960.38 223.108 1960.38 218.409 Z\" fill=\"#000000\" fill-rule=\"evenodd\" fill-opacity=\"1\" /><path clip-path=\"url(#clip130)\" d=\"M 0 0 M1981.91 208.409 Q1978.48 208.409 1976.49 211.094 Q1974.5 213.756 1974.5 218.409 Q1974.5 223.062 1976.47 225.747 Q1978.46 228.409 1981.91 228.409 Q1985.31 228.409 1987.3 225.724 Q1989.29 223.038 1989.29 218.409 Q1989.29 213.802 1987.3 211.117 Q1985.31 208.409 1981.91 208.409 M1981.91 204.798 Q1987.46 204.798 1990.63 208.409 Q1993.81 212.02 1993.81 218.409 Q1993.81 224.775 1990.63 228.409 Q1987.46 232.02 1981.91 232.02 Q1976.33 232.02 1973.16 228.409 Q1970.01 224.775 1970.01 218.409 Q1970.01 212.02 1973.16 208.409 Q1976.33 204.798 1981.91 204.798 Z\" fill=\"#000000\" fill-rule=\"evenodd\" fill-opacity=\"1\" /><path clip-path=\"url(#clip130)\" d=\"M 0 0 M2000.87 205.423 L2005.12 205.423 L2005.12 231.349 L2000.87 231.349 L2000.87 205.423 M2000.87 195.33 L2005.12 195.33 L2005.12 200.724 L2000.87 200.724 L2000.87 195.33 Z\" fill=\"#000000\" fill-rule=\"evenodd\" fill-opacity=\"1\" /><path clip-path=\"url(#clip130)\" d=\"M 0 0 M2035.59 215.701 L2035.59 231.349 L2031.33 231.349 L2031.33 215.839 Q2031.33 212.159 2029.89 210.33 Q2028.46 208.502 2025.59 208.502 Q2022.14 208.502 2020.15 210.701 Q2018.16 212.9 2018.16 216.696 L2018.16 231.349 L2013.87 231.349 L2013.87 205.423 L2018.16 205.423 L2018.16 209.451 Q2019.68 207.113 2021.75 205.955 Q2023.83 204.798 2026.54 204.798 Q2031 204.798 2033.3 207.576 Q2035.59 210.33 2035.59 215.701 Z\" fill=\"#000000\" fill-rule=\"evenodd\" fill-opacity=\"1\" /><path clip-path=\"url(#clip130)\" d=\"M 0 0 M2048.3 198.062 L2048.3 205.423 L2057.07 205.423 L2057.07 208.733 L2048.3 208.733 L2048.3 222.807 Q2048.3 225.978 2049.15 226.881 Q2050.03 227.784 2052.69 227.784 L2057.07 227.784 L2057.07 231.349 L2052.69 231.349 Q2047.76 231.349 2045.89 229.52 Q2044.01 227.668 2044.01 222.807 L2044.01 208.733 L2040.89 208.733 L2040.89 205.423 L2044.01 205.423 L2044.01 198.062 L2048.3 198.062 Z\" fill=\"#000000\" fill-rule=\"evenodd\" fill-opacity=\"1\" /></svg>\n"
      ]
     },
     "execution_count": 31,
     "metadata": {},
     "output_type": "execute_result"
    }
   ],
   "source": [
    "plot(year, temp, label = \"temperature\")\n",
    "scatter!(year, temp, label = \"point\")\n",
    "xlabel!(\"year\")\n",
    "ylabel!(\"Global average temperature\")"
   ]
  },
  {
   "cell_type": "code",
   "execution_count": 41,
   "metadata": {},
   "outputs": [
    {
     "name": "stderr",
     "output_type": "stream",
     "text": [
      "\u001b[32m\u001b[1m   Resolving\u001b[22m\u001b[39m package versions...\n",
      "\u001b[32m\u001b[1m  No Changes\u001b[22m\u001b[39m to `C:\\Users\\leogu\\.julia\\environments\\v1.6\\Project.toml`\n",
      "\u001b[32m\u001b[1m  No Changes\u001b[22m\u001b[39m to `C:\\Users\\leogu\\.julia\\environments\\v1.6\\Manifest.toml`\n",
      "┌ Info: Installing matplotlib via the Conda matplotlib package...\n",
      "└ @ PyCall C:\\Users\\leogu\\.julia\\packages\\PyCall\\tqyST\\src\\PyCall.jl:708\n",
      "┌ Info: Running `conda install -y matplotlib` in root environment\n",
      "└ @ Conda C:\\Users\\leogu\\.julia\\packages\\Conda\\tJJuN\\src\\Conda.jl:128\n"
     ]
    },
    {
     "name": "stdout",
     "output_type": "stream",
     "text": [
      "Collecting package metadata (current_repodata.json): ...working... done\n",
      "Solving environment: ...working... \n",
      "Warning: 2 possible package resolutions (only showing differing packages):\n",
      "  - defaults/win-64::libtiff-4.1.0-h56a325e_1, defaults/win-64::zstd-1.4.9-h19a0ad4_0\n",
      "  - defaults/win-64::libtiff-4.2.0-hd0e1b90_0, defaults/win-64::zstd-1.4.5-h04227a9_0done\n",
      "\n",
      "## Package Plan ##\n",
      "\n",
      "  environment location: C:\\Users\\leogu\\.julia\\conda\\3\n",
      "\n",
      "  added / updated specs:\n",
      "    - matplotlib\n",
      "\n",
      "\n",
      "The following packages will be downloaded:\n",
      "\n",
      "    package                    |            build\n",
      "    ---------------------------|-----------------\n",
      "    cycler-0.10.0              |           py38_0          14 KB\n",
      "    freetype-2.10.4            |       hd328e21_0         466 KB\n",
      "    icu-58.2                   |       ha925a31_3         9.4 MB\n",
      "    jpeg-9b                    |       hb83a4c4_2         245 KB\n",
      "    kiwisolver-1.3.1           |   py38hd77b12b_0          52 KB\n",
      "    libpng-1.6.37              |       h2a8f88b_0         333 KB\n",
      "    libtiff-4.1.0              |       h56a325e_1         739 KB\n",
      "    lz4-c-1.9.3                |       h2bbff1b_0         131 KB\n",
      "    matplotlib-3.3.4           |   py38haa95532_0          27 KB\n",
      "    matplotlib-base-3.3.4      |   py38h49ac443_0         5.1 MB\n",
      "    olefile-0.46               |             py_0          33 KB\n",
      "    pillow-8.1.2               |   py38h4fa10fc_0         665 KB\n",
      "    pyparsing-2.4.7            |     pyhd3eb1b0_0          59 KB\n",
      "    pyqt-5.9.2                 |   py38ha925a31_4         3.2 MB\n",
      "    python-dateutil-2.8.1      |     pyhd3eb1b0_0         221 KB\n",
      "    qt-5.9.7                   |   vc14h73c81de_0        72.5 MB\n",
      "    sip-4.19.13                |   py38ha925a31_0         262 KB\n",
      "    tk-8.6.10                  |       he774522_0         2.7 MB\n",
      "    tornado-6.1                |   py38h2bbff1b_0         612 KB\n",
      "    xz-5.2.5                   |       h62dcd97_0         244 KB\n",
      "    zstd-1.4.9                 |       h19a0ad4_0         478 KB\n",
      "    ------------------------------------------------------------\n",
      "                                           Total:        97.4 MB\n",
      "\n",
      "The following NEW packages will be INSTALLED:\n",
      "\n",
      "  cycler             pkgs/main/win-64::cycler-0.10.0-py38_0\n",
      "  freetype           pkgs/main/win-64::freetype-2.10.4-hd328e21_0\n",
      "  icu                pkgs/main/win-64::icu-58.2-ha925a31_3\n",
      "  jpeg               pkgs/main/win-64::jpeg-9b-hb83a4c4_2\n",
      "  kiwisolver         pkgs/main/win-64::kiwisolver-1.3.1-py38hd77b12b_0\n",
      "  libpng             pkgs/main/win-64::libpng-1.6.37-h2a8f88b_0\n",
      "  libtiff            pkgs/main/win-64::libtiff-4.1.0-h56a325e_1\n",
      "  lz4-c              pkgs/main/win-64::lz4-c-1.9.3-h2bbff1b_0\n",
      "  matplotlib         pkgs/main/win-64::matplotlib-3.3.4-py38haa95532_0\n",
      "  matplotlib-base    pkgs/main/win-64::matplotlib-base-3.3.4-py38h49ac443_0\n",
      "  olefile            pkgs/main/noarch::olefile-0.46-py_0\n",
      "  pillow             pkgs/main/win-64::pillow-8.1.2-py38h4fa10fc_0\n",
      "  pyparsing          pkgs/main/noarch::pyparsing-2.4.7-pyhd3eb1b0_0\n",
      "  pyqt               pkgs/main/win-64::pyqt-5.9.2-py38ha925a31_4\n",
      "  python-dateutil    pkgs/main/noarch::python-dateutil-2.8.1-pyhd3eb1b0_0\n",
      "  qt                 pkgs/main/win-64::qt-5.9.7-vc14h73c81de_0\n",
      "  sip                pkgs/main/win-64::sip-4.19.13-py38ha925a31_0\n",
      "  tk                 pkgs/main/win-64::tk-8.6.10-he774522_0\n",
      "  tornado            pkgs/main/win-64::tornado-6.1-py38h2bbff1b_0\n",
      "  xz                 pkgs/main/win-64::xz-5.2.5-h62dcd97_0\n",
      "  zstd               pkgs/main/win-64::zstd-1.4.9-h19a0ad4_0\n",
      "\n",
      "\n",
      "\n",
      "Downloading and Extracting Packages\n",
      "olefile-0.46         | 33 KB     | ########## | 100% \n",
      "pyqt-5.9.2           | 3.2 MB    | ########## | 100% \n",
      "qt-5.9.7             | 72.5 MB   | ########## | 100% \n",
      "libpng-1.6.37        | 333 KB    | ########## | 100% \n",
      "python-dateutil-2.8. | 221 KB    | ########## | 100% \n",
      "tk-8.6.10            | 2.7 MB    | ########## | 100% \n",
      "matplotlib-base-3.3. | 5.1 MB    | ########## | 100% \n",
      "xz-5.2.5             | 244 KB    | ########## | 100% \n",
      "matplotlib-3.3.4     | 27 KB     | ########## | 100% \n",
      "sip-4.19.13          | 262 KB    | ########## | 100% \n",
      "libtiff-4.1.0        | 739 KB    | ########## | 100% \n",
      "lz4-c-1.9.3          | 131 KB    | ########## | 100% \n",
      "tornado-6.1          | 612 KB    | ########## | 100% \n",
      "zstd-1.4.9           | 478 KB    | ########## | 100% \n",
      "jpeg-9b              | 245 KB    | ########## | 100% \n",
      "kiwisolver-1.3.1     | 52 KB     | ########## | 100% \n",
      "icu-58.2             | 9.4 MB    | ########## | 100% \n",
      "pyparsing-2.4.7      | 59 KB     | ########## | 100% \n",
      "cycler-0.10.0        | 14 KB     | ########## | 100% \n",
      "freetype-2.10.4      | 466 KB    | ########## | 100% \n",
      "pillow-8.1.2         | 665 KB    | ########## | 100% \n",
      "Preparing transaction: ...working... done\n",
      "Verifying transaction: ...working... done\n",
      "Executing transaction: ...working... done\n"
     ]
    },
    {
     "data": {
      "text/plain": [
       "Plots.PyPlotBackend()"
      ]
     },
     "execution_count": 41,
     "metadata": {},
     "output_type": "execute_result"
    }
   ],
   "source": [
    "Pkg.add(\"PyPlot\")\n",
    "pyplot()"
   ]
  },
  {
   "cell_type": "code",
   "execution_count": 48,
   "metadata": {},
   "outputs": [
    {
     "data": {
      "image/png": "[encoded data removed]"
     },
     "execution_count": 48,
     "metadata": {},
     "output_type": "execute_result"
    }
   ],
   "source": []
  },
  {
   "cell_type": "code",
   "execution_count": 5,
   "metadata": {},
   "outputs": [
    {
     "name": "stdout",
     "output_type": "stream",
     "text": [
      "3.05\n",
      "1.8556220879622374\n"
     ]
    }
   ],
   "source": [
    "using Statistics\n",
    "Y = [1, 3, 5.5, 2.7]\n",
    "\n",
    "println(mean(Y))\n",
    "println(std(Y))"
   ]
  },
  {
   "cell_type": "code",
   "execution_count": 6,
   "metadata": {},
   "outputs": [
    {
     "ename": "LoadError",
     "evalue": "ArgumentError: Package Requests not found in current path:\n- Run `import Pkg; Pkg.add(\"Requests\")` to install the Requests package.\n",
     "output_type": "error",
     "traceback": [
      "ArgumentError: Package Requests not found in current path:\n- Run `import Pkg; Pkg.add(\"Requests\")` to install the Requests package.\n",
      "",
      "Stacktrace:",
      " [1] require(into::Module, mod::Symbol)",
      "   @ Base .\\loading.jl:871",
      " [2] eval",
      "   @ .\\boot.jl:360 [inlined]",
      " [3] include_string(mapexpr::typeof(REPL.softscope), mod::Module, code::String, filename::String)",
      "   @ Base .\\loading.jl:1094"
     ]
    }
   ],
   "source": [
    "using Requests"
   ]
  },
  {
   "cell_type": "code",
   "execution_count": 1,
   "metadata": {},
   "outputs": [
    {
     "data": {
      "text/plain": [
       "fib (generic function with 1 method)"
      ]
     },
     "execution_count": 1,
     "metadata": {},
     "output_type": "execute_result"
    }
   ],
   "source": [
    "function fib()\n",
    "    a = 0\n",
    "    produce(a)\n",
    "    b = 1 \n",
    "    produce(b)\n",
    "    while(true)\n",
    "        a, b = b, a+b\n",
    "        produce(b)\n",
    "    end\n",
    "end"
   ]
  },
  {
   "cell_type": "code",
   "execution_count": 2,
   "metadata": {},
   "outputs": [
    {
     "data": {
      "text/plain": [
       "Task (runnable) @0x0000000073b02bd0"
      ]
     },
     "execution_count": 2,
     "metadata": {},
     "output_type": "execute_result"
    }
   ],
   "source": []
  },
  {
   "cell_type": "code",
   "execution_count": 3,
   "metadata": {},
   "outputs": [
    {
     "ename": "LoadError",
     "evalue": "UndefVarError: consume not defined",
     "output_type": "error",
     "traceback": [
      "UndefVarError: consume not defined",
      "",
      "Stacktrace:",
      " [1] top-level scope",
      "   @ In[3]:1",
      " [2] eval",
      "   @ .\\boot.jl:360 [inlined]",
      " [3] include_string(mapexpr::typeof(REPL.softscope), mod::Module, code::String, filename::String)",
      "   @ Base .\\loading.jl:1094"
     ]
    }
   ],
   "source": []
  },
  {
   "cell_type": "code",
   "execution_count": 2,
   "metadata": {},
   "outputs": [
    {
     "data": {
      "text/plain": [
       "3-element Vector{Int64}:\n",
       " 1\n",
       " 3\n",
       " 5"
      ]
     },
     "execution_count": 2,
     "metadata": {},
     "output_type": "execute_result"
    }
   ],
   "source": [
    "t = [1, 3, 5]"
   ]
  },
  {
   "cell_type": "code",
   "execution_count": 5,
   "metadata": {},
   "outputs": [
    {
     "data": {
      "text/plain": [
       "6.907755278982138"
      ]
     },
     "execution_count": 5,
     "metadata": {},
     "output_type": "execute_result"
    }
   ],
   "source": [
    "3log(10)"
   ]
  },
  {
   "cell_type": "code",
   "execution_count": 6,
   "metadata": {},
   "outputs": [
    {
     "data": {
      "text/plain": [
       "\"ef\""
      ]
     },
     "execution_count": 6,
     "metadata": {},
     "output_type": "execute_result"
    }
   ],
   "source": [
    "\"e\"*\"f\""
   ]
  },
  {
   "cell_type": "code",
   "execution_count": 1,
   "metadata": {},
   "outputs": [],
   "source": [
    "mutable struct Agent\n",
    "    id::Int\n",
    "    x::Float64\n",
    "    y::Float64\n",
    "    times_moved::Int\n",
    "end "
   ]
  },
  {
   "cell_type": "code",
   "execution_count": 3,
   "metadata": {},
   "outputs": [
    {
     "data": {
      "text/plain": [
       "move! (generic function with 1 method)"
      ]
     },
     "execution_count": 3,
     "metadata": {},
     "output_type": "execute_result"
    }
   ],
   "source": [
    "function move!(agent::Agent)\n",
    "    angle = rand()*2π\n",
    "    agent.x += cos(angle)\n",
    "    agent.y += sin(angle)\n",
    "    agent.times_moved += 1\n",
    "end"
   ]
  },
  {
   "cell_type": "code",
   "execution_count": 6,
   "metadata": {},
   "outputs": [
    {
     "data": {
      "text/plain": [
       "10-element Vector{Float64}:\n",
       " 0.8487250138879778\n",
       " 0.5650938571178907\n",
       " 0.034253062284502755\n",
       " 0.23353432370199068\n",
       " 0.914165158318119\n",
       " 0.6338346572459155\n",
       " 0.5591112650378105\n",
       " 0.41011064312294265\n",
       " 0.5110310245889043\n",
       " 0.4557899585056757"
      ]
     },
     "execution_count": 6,
     "metadata": {},
     "output_type": "execute_result"
    }
   ],
   "source": [
    "u = rand(10)"
   ]
  },
  {
   "cell_type": "code",
   "execution_count": 9,
   "metadata": {},
   "outputs": [
    {
     "data": {
      "text/plain": [
       "0.6338346572459155"
      ]
     },
     "execution_count": 9,
     "metadata": {},
     "output_type": "execute_result"
    }
   ],
   "source": [
    "rand(u)"
   ]
  }
 ],
 "metadata": {
  "kernelspec": {
   "display_name": "Julia 1.6.1",
   "language": "julia",
   "name": "julia-1.6"
  },
  "language_info": {
   "file_extension": ".jl",
   "mimetype": "application/julia",
   "name": "julia",
   "version": "1.6.1"
  }
 },
 "nbformat": 4,
 "nbformat_minor": 4
}
