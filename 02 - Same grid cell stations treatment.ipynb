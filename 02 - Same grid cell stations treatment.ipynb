{
 "cells": [
  {
   "cell_type": "code",
   "execution_count": 1,
   "metadata": {},
   "outputs": [],
   "source": [
    "using CSV, DataFrames, Distributions, Random, StatsBase, LinearAlgebra, SparseArrays\n",
    "using Extremes, Dates, Gadfly, GMRF\n",
    "using Optim\n",
    "\n",
    "import Plots #pour faire des graphiques"
   ]
  },
  {
   "cell_type": "code",
   "execution_count": 2,
   "metadata": {},
   "outputs": [
    {
     "data": {
      "text/plain": [
       "\"24 h\""
      ]
     },
     "execution_count": 2,
     "metadata": {},
     "output_type": "execute_result"
    }
   ],
   "source": [
    "PROVINCES = [\"NB\", \"NL\", \"NS\", \"ON\", \"PE\", \"QC\"]#provinces considerees\n",
    "\n",
    "DURATION = \"24 h\""
   ]
  },
  {
   "cell_type": "code",
   "execution_count": 3,
   "metadata": {},
   "outputs": [
    {
     "data": {
      "text/html": [
       "<table class=\"data-frame\"><thead><tr><th></th><th>Name</th><th>Province</th><th>ID</th><th>Lat</th><th>Lon</th><th>Elevation</th></tr><tr><th></th><th>String</th><th>String</th><th>String</th><th>Float64</th><th>Float64</th><th>Int64</th></tr></thead><tbody><p>10 rows × 6 columns</p><tr><th>1</th><td>BEECHWOOD</td><td>NB</td><td>8100512</td><td>46.53</td><td>-67.67</td><td>91</td></tr><tr><th>2</th><td>BELLEDUNE</td><td>NB</td><td>8100514</td><td>47.9</td><td>-65.83</td><td>7</td></tr><tr><th>3</th><td>BOUCTOUCHE CDA CS</td><td>NB</td><td>8100593</td><td>46.43</td><td>-64.77</td><td>35</td></tr><tr><th>4</th><td>CHARLO AUTO</td><td>NB</td><td>8100885</td><td>47.98</td><td>-66.33</td><td>42</td></tr><tr><th>5</th><td>MIRAMICHI RCS</td><td>NB</td><td>8100989</td><td>47.02</td><td>-65.47</td><td>33</td></tr><tr><th>6</th><td>EDMUNDSTON</td><td>NB</td><td>8101303</td><td>47.42</td><td>-68.32</td><td>154</td></tr><tr><th>7</th><td>FREDERICTON A</td><td>NB</td><td>8101500</td><td>45.87</td><td>-66.53</td><td>20</td></tr><tr><th>8</th><td>FREDERICTON CDA CS</td><td>NB</td><td>8101605</td><td>45.92</td><td>-66.62</td><td>35</td></tr><tr><th>9</th><td>MONCTON INTL A</td><td>NB</td><td>8103201</td><td>46.12</td><td>-64.68</td><td>70</td></tr><tr><th>10</th><td>ROYAL ROAD</td><td>NB</td><td>8104480</td><td>46.05</td><td>-66.72</td><td>115</td></tr></tbody></table>"
      ],
      "text/latex": [
       "\\begin{tabular}{r|cccccc}\n",
       "\t& Name & Province & ID & Lat & Lon & Elevation\\\\\n",
       "\t\\hline\n",
       "\t& String & String & String & Float64 & Float64 & Int64\\\\\n",
       "\t\\hline\n",
       "\t1 & BEECHWOOD & NB & 8100512 & 46.53 & -67.67 & 91 \\\\\n",
       "\t2 & BELLEDUNE & NB & 8100514 & 47.9 & -65.83 & 7 \\\\\n",
       "\t3 & BOUCTOUCHE CDA CS & NB & 8100593 & 46.43 & -64.77 & 35 \\\\\n",
       "\t4 & CHARLO AUTO & NB & 8100885 & 47.98 & -66.33 & 42 \\\\\n",
       "\t5 & MIRAMICHI RCS & NB & 8100989 & 47.02 & -65.47 & 33 \\\\\n",
       "\t6 & EDMUNDSTON & NB & 8101303 & 47.42 & -68.32 & 154 \\\\\n",
       "\t7 & FREDERICTON A & NB & 8101500 & 45.87 & -66.53 & 20 \\\\\n",
       "\t8 & FREDERICTON CDA CS & NB & 8101605 & 45.92 & -66.62 & 35 \\\\\n",
       "\t9 & MONCTON INTL A & NB & 8103201 & 46.12 & -64.68 & 70 \\\\\n",
       "\t10 & ROYAL ROAD & NB & 8104480 & 46.05 & -66.72 & 115 \\\\\n",
       "\\end{tabular}\n"
      ],
      "text/plain": [
       "10×6 DataFrame. Omitted printing of 1 columns\n",
       "│ Row │ Name               │ Province │ ID      │ Lat     │ Lon     │\n",
       "│     │ \u001b[90mString\u001b[39m             │ \u001b[90mString\u001b[39m   │ \u001b[90mString\u001b[39m  │ \u001b[90mFloat64\u001b[39m │ \u001b[90mFloat64\u001b[39m │\n",
       "├─────┼────────────────────┼──────────┼─────────┼─────────┼─────────┤\n",
       "│ 1   │ BEECHWOOD          │ NB       │ 8100512 │ 46.53   │ -67.67  │\n",
       "│ 2   │ BELLEDUNE          │ NB       │ 8100514 │ 47.9    │ -65.83  │\n",
       "│ 3   │ BOUCTOUCHE CDA CS  │ NB       │ 8100593 │ 46.43   │ -64.77  │\n",
       "│ 4   │ CHARLO AUTO        │ NB       │ 8100885 │ 47.98   │ -66.33  │\n",
       "│ 5   │ MIRAMICHI RCS      │ NB       │ 8100989 │ 47.02   │ -65.47  │\n",
       "│ 6   │ EDMUNDSTON         │ NB       │ 8101303 │ 47.42   │ -68.32  │\n",
       "│ 7   │ FREDERICTON A      │ NB       │ 8101500 │ 45.87   │ -66.53  │\n",
       "│ 8   │ FREDERICTON CDA CS │ NB       │ 8101605 │ 45.92   │ -66.62  │\n",
       "│ 9   │ MONCTON INTL A     │ NB       │ 8103201 │ 46.12   │ -64.68  │\n",
       "│ 10  │ ROYAL ROAD         │ NB       │ 8104480 │ 46.05   │ -66.72  │"
      ]
     },
     "execution_count": 3,
     "metadata": {},
     "output_type": "execute_result"
    }
   ],
   "source": [
    "station_list = CSV.read(\"dat/_station_list.csv\", DataFrame)\n",
    "\n",
    "filter!(row -> row.Province ∈ PROVINCES , station_list)#on ne selectionne que les stations qui nous interessent\n",
    "\n",
    "first(station_list, 10)"
   ]
  },
  {
   "cell_type": "code",
   "execution_count": 4,
   "metadata": {},
   "outputs": [
    {
     "data": {
      "text/plain": [
       "load_station (generic function with 1 method)"
      ]
     },
     "execution_count": 4,
     "metadata": {},
     "output_type": "execute_result"
    }
   ],
   "source": [
    "function load_station(station_id::String)\n",
    "    path = \"dat/\"*station_id*\".csv\"\n",
    "    \n",
    "    df = CSV.read(path, DataFrame)\n",
    "    rename!(df,:Année => :Year)\n",
    "    \n",
    "    #on met le tableau sous forme tidy (cf cheat sheet de R)\n",
    "    df_reshape = stack(df, Not(:Year); variable_name=:Duration, value_name=:Pcp)\n",
    "    dropmissing!(df_reshape,:Pcp)\n",
    "    \n",
    "    return df_reshape\n",
    "end"
   ]
  },
  {
   "cell_type": "code",
   "execution_count": 5,
   "metadata": {},
   "outputs": [
    {
     "data": {
      "text/html": [
       "<table class=\"data-frame\"><thead><tr><th></th><th>StationName</th><th>StationID</th><th>Year</th><th>Duration</th><th>Pcp</th></tr><tr><th></th><th>String</th><th>String</th><th>Int64</th><th>String</th><th>Float64</th></tr></thead><tbody><p>10 rows × 5 columns</p><tr><th>1</th><td>BEECHWOOD</td><td>8100512</td><td>1959</td><td>24 h</td><td>118.6</td></tr><tr><th>2</th><td>BEECHWOOD</td><td>8100512</td><td>1960</td><td>24 h</td><td>45.2</td></tr><tr><th>3</th><td>BEECHWOOD</td><td>8100512</td><td>1961</td><td>24 h</td><td>69.3</td></tr><tr><th>4</th><td>BEECHWOOD</td><td>8100512</td><td>1962</td><td>24 h</td><td>56.4</td></tr><tr><th>5</th><td>BEECHWOOD</td><td>8100512</td><td>1963</td><td>24 h</td><td>46.0</td></tr><tr><th>6</th><td>BEECHWOOD</td><td>8100512</td><td>1964</td><td>24 h</td><td>43.9</td></tr><tr><th>7</th><td>BEECHWOOD</td><td>8100512</td><td>1965</td><td>24 h</td><td>74.2</td></tr><tr><th>8</th><td>BEECHWOOD</td><td>8100512</td><td>1966</td><td>24 h</td><td>50.3</td></tr><tr><th>9</th><td>BEECHWOOD</td><td>8100512</td><td>1967</td><td>24 h</td><td>54.6</td></tr><tr><th>10</th><td>BEECHWOOD</td><td>8100512</td><td>1969</td><td>24 h</td><td>92.2</td></tr></tbody></table>"
      ],
      "text/latex": [
       "\\begin{tabular}{r|ccccc}\n",
       "\t& StationName & StationID & Year & Duration & Pcp\\\\\n",
       "\t\\hline\n",
       "\t& String & String & Int64 & String & Float64\\\\\n",
       "\t\\hline\n",
       "\t1 & BEECHWOOD & 8100512 & 1959 & 24 h & 118.6 \\\\\n",
       "\t2 & BEECHWOOD & 8100512 & 1960 & 24 h & 45.2 \\\\\n",
       "\t3 & BEECHWOOD & 8100512 & 1961 & 24 h & 69.3 \\\\\n",
       "\t4 & BEECHWOOD & 8100512 & 1962 & 24 h & 56.4 \\\\\n",
       "\t5 & BEECHWOOD & 8100512 & 1963 & 24 h & 46.0 \\\\\n",
       "\t6 & BEECHWOOD & 8100512 & 1964 & 24 h & 43.9 \\\\\n",
       "\t7 & BEECHWOOD & 8100512 & 1965 & 24 h & 74.2 \\\\\n",
       "\t8 & BEECHWOOD & 8100512 & 1966 & 24 h & 50.3 \\\\\n",
       "\t9 & BEECHWOOD & 8100512 & 1967 & 24 h & 54.6 \\\\\n",
       "\t10 & BEECHWOOD & 8100512 & 1969 & 24 h & 92.2 \\\\\n",
       "\\end{tabular}\n"
      ],
      "text/plain": [
       "10×5 DataFrame\n",
       "│ Row │ StationName │ StationID │ Year  │ Duration │ Pcp     │\n",
       "│     │ \u001b[90mString\u001b[39m      │ \u001b[90mString\u001b[39m    │ \u001b[90mInt64\u001b[39m │ \u001b[90mString\u001b[39m   │ \u001b[90mFloat64\u001b[39m │\n",
       "├─────┼─────────────┼───────────┼───────┼──────────┼─────────┤\n",
       "│ 1   │ BEECHWOOD   │ 8100512   │ 1959  │ 24 h     │ 118.6   │\n",
       "│ 2   │ BEECHWOOD   │ 8100512   │ 1960  │ 24 h     │ 45.2    │\n",
       "│ 3   │ BEECHWOOD   │ 8100512   │ 1961  │ 24 h     │ 69.3    │\n",
       "│ 4   │ BEECHWOOD   │ 8100512   │ 1962  │ 24 h     │ 56.4    │\n",
       "│ 5   │ BEECHWOOD   │ 8100512   │ 1963  │ 24 h     │ 46.0    │\n",
       "│ 6   │ BEECHWOOD   │ 8100512   │ 1964  │ 24 h     │ 43.9    │\n",
       "│ 7   │ BEECHWOOD   │ 8100512   │ 1965  │ 24 h     │ 74.2    │\n",
       "│ 8   │ BEECHWOOD   │ 8100512   │ 1966  │ 24 h     │ 50.3    │\n",
       "│ 9   │ BEECHWOOD   │ 8100512   │ 1967  │ 24 h     │ 54.6    │\n",
       "│ 10  │ BEECHWOOD   │ 8100512   │ 1969  │ 24 h     │ 92.2    │"
      ]
     },
     "execution_count": 5,
     "metadata": {},
     "output_type": "execute_result"
    }
   ],
   "source": [
    "dat = DataFrame(StationName = String[],\n",
    "                StationID = String[],\n",
    "                Year = Int64[],\n",
    "                Duration = String[],\n",
    "                Pcp = Float64[])\n",
    "\n",
    "for i in 1:(nrow(station_list))\n",
    "    df = load_station(station_list[i,:ID])\n",
    "    df[!, :StationName] .= station_list[i,:Name]\n",
    "    df[!, :StationID] .= station_list[i, :ID]\n",
    "    append!(dat, df)\n",
    "end\n",
    "\n",
    "filter!(row -> row[:Duration] == DURATION, dat)\n",
    "first(dat, 10)"
   ]
  },
  {
   "cell_type": "code",
   "execution_count": 6,
   "metadata": {},
   "outputs": [
    {
     "data": {
      "text/html": [
       "<table class=\"data-frame\"><thead><tr><th></th><th>Lat</th><th>Lon</th><th>meanPcp</th></tr><tr><th></th><th>Float64</th><th>Float64</th><th>Float64</th></tr></thead><tbody><p>10 rows × 3 columns</p><tr><th>1</th><td>42.4558</td><td>-94.9948</td><td>2.41792</td></tr><tr><th>2</th><td>42.5658</td><td>-94.9909</td><td>2.42233</td></tr><tr><th>3</th><td>42.6758</td><td>-94.987</td><td>2.41666</td></tr><tr><th>4</th><td>42.7857</td><td>-94.9832</td><td>2.46305</td></tr><tr><th>5</th><td>42.8957</td><td>-94.9792</td><td>2.47048</td></tr><tr><th>6</th><td>43.0057</td><td>-94.9753</td><td>2.46087</td></tr><tr><th>7</th><td>43.1156</td><td>-94.9714</td><td>2.44305</td></tr><tr><th>8</th><td>43.2256</td><td>-94.9674</td><td>2.40051</td></tr><tr><th>9</th><td>43.3355</td><td>-94.9634</td><td>2.39468</td></tr><tr><th>10</th><td>43.4455</td><td>-94.9595</td><td>2.34912</td></tr></tbody></table>"
      ],
      "text/latex": [
       "\\begin{tabular}{r|ccc}\n",
       "\t& Lat & Lon & meanPcp\\\\\n",
       "\t\\hline\n",
       "\t& Float64 & Float64 & Float64\\\\\n",
       "\t\\hline\n",
       "\t1 & 42.4558 & -94.9948 & 2.41792 \\\\\n",
       "\t2 & 42.5658 & -94.9909 & 2.42233 \\\\\n",
       "\t3 & 42.6758 & -94.987 & 2.41666 \\\\\n",
       "\t4 & 42.7857 & -94.9832 & 2.46305 \\\\\n",
       "\t5 & 42.8957 & -94.9792 & 2.47048 \\\\\n",
       "\t6 & 43.0057 & -94.9753 & 2.46087 \\\\\n",
       "\t7 & 43.1156 & -94.9714 & 2.44305 \\\\\n",
       "\t8 & 43.2256 & -94.9674 & 2.40051 \\\\\n",
       "\t9 & 43.3355 & -94.9634 & 2.39468 \\\\\n",
       "\t10 & 43.4455 & -94.9595 & 2.34912 \\\\\n",
       "\\end{tabular}\n"
      ],
      "text/plain": [
       "10×3 DataFrame\n",
       "│ Row │ Lat     │ Lon      │ meanPcp │\n",
       "│     │ \u001b[90mFloat64\u001b[39m │ \u001b[90mFloat64\u001b[39m  │ \u001b[90mFloat64\u001b[39m │\n",
       "├─────┼─────────┼──────────┼─────────┤\n",
       "│ 1   │ 42.4558 │ -94.9948 │ 2.41792 │\n",
       "│ 2   │ 42.5658 │ -94.9909 │ 2.42233 │\n",
       "│ 3   │ 42.6758 │ -94.987  │ 2.41666 │\n",
       "│ 4   │ 42.7857 │ -94.9832 │ 2.46305 │\n",
       "│ 5   │ 42.8957 │ -94.9792 │ 2.47048 │\n",
       "│ 6   │ 43.0057 │ -94.9753 │ 2.46087 │\n",
       "│ 7   │ 43.1156 │ -94.9714 │ 2.44305 │\n",
       "│ 8   │ 43.2256 │ -94.9674 │ 2.40051 │\n",
       "│ 9   │ 43.3355 │ -94.9634 │ 2.39468 │\n",
       "│ 10  │ 43.4455 │ -94.9595 │ 2.34912 │"
      ]
     },
     "execution_count": 6,
     "metadata": {},
     "output_type": "execute_result"
    }
   ],
   "source": [
    "crcm = CSV.read(\"dat/CROQmeanPcp.csv\", DataFrame)\n",
    "\n",
    "lat = reshape(crcm[:,1],300,300)\n",
    "lon = reshape(crcm[:,2],300,300)\n",
    "pcp = reshape(crcm[:,3],300,300)\n",
    "\n",
    "latlim = [60, 253];\n",
    "lonlim = [20, 270];\n",
    "\n",
    "lat = lat[latlim[1]:latlim[2],lonlim[1]:lonlim[2]]\n",
    "lon = lon[latlim[1]:latlim[2],lonlim[1]:lonlim[2]]\n",
    "pcp = pcp[latlim[1]:latlim[2],lonlim[1]:lonlim[2]]\n",
    "\n",
    "m₁, m₂ = size(lat)\n",
    "m = m₁*m₂\n",
    "\n",
    "griddedCovariate = DataFrame(Lat = vec(lat), Lon = vec(lon), meanPcp = vec(pcp))\n",
    "first(griddedCovariate,10)"
   ]
  },
  {
   "cell_type": "code",
   "execution_count": 7,
   "metadata": {},
   "outputs": [
    {
     "data": {
      "text/plain": [
       "nnsearch (generic function with 2 methods)"
      ]
     },
     "execution_count": 7,
     "metadata": {},
     "output_type": "execute_result"
    }
   ],
   "source": [
    "function nnsearch(X::Matrix{<:Real}, point::Vector{<:Real})\n",
    "\n",
    "    d = X .- point\n",
    "    d² = dropdims(sum(d.^2,dims=1),dims=1)\n",
    "\n",
    "    # Find the index of the minimum\n",
    "    ind = argmin(d²)\n",
    "\n",
    "    return ind\n",
    "\n",
    "end\n",
    "\n",
    "function nnsearch(X::Matrix{<:Real}, points::Matrix{<:Real})\n",
    "\n",
    "    nPoints = size(points,2)\n",
    "    ind = zeros(Int64,nPoints)\n",
    "\n",
    "    for i=1:nPoints\n",
    "        ind[i] = nnsearch(X,points[:,i])\n",
    "    end\n",
    "\n",
    "    return ind\n",
    "\n",
    "end\n",
    "\n"
   ]
  },
  {
   "cell_type": "code",
   "execution_count": 8,
   "metadata": {},
   "outputs": [
    {
     "data": {
      "text/html": [
       "<table class=\"data-frame\"><thead><tr><th></th><th>Name</th><th>Province</th><th>ID</th><th>Lat</th><th>Lon</th><th>Elevation</th><th>GridCell</th></tr><tr><th></th><th>String</th><th>String</th><th>String</th><th>Float64</th><th>Float64</th><th>Int64</th><th>Int64</th></tr></thead><tbody><p>10 rows × 7 columns</p><tr><th>1</th><td>BEECHWOOD</td><td>NB</td><td>8100512</td><td>46.53</td><td>-67.67</td><td>91</td><td>32276</td></tr><tr><th>2</th><td>BELLEDUNE</td><td>NB</td><td>8100514</td><td>47.9</td><td>-65.83</td><td>7</td><td>33455</td></tr><tr><th>3</th><td>BOUCTOUCHE CDA CS</td><td>NB</td><td>8100593</td><td>46.43</td><td>-64.77</td><td>35</td><td>35580</td></tr><tr><th>4</th><td>CHARLO AUTO</td><td>NB</td><td>8100885</td><td>47.98</td><td>-66.33</td><td>42</td><td>32873</td></tr><tr><th>5</th><td>MIRAMICHI RCS</td><td>NB</td><td>8100989</td><td>47.02</td><td>-65.47</td><td>33</td><td>34419</td></tr><tr><th>6</th><td>EDMUNDSTON</td><td>NB</td><td>8101303</td><td>47.42</td><td>-68.32</td><td>154</td><td>30924</td></tr><tr><th>7</th><td>FREDERICTON A</td><td>NB</td><td>8101500</td><td>45.87</td><td>-66.53</td><td>20</td><td>34019</td></tr><tr><th>8</th><td>FREDERICTON CDA CS</td><td>NB</td><td>8101605</td><td>45.92</td><td>-66.62</td><td>35</td><td>33825</td></tr><tr><th>9</th><td>MONCTON INTL A</td><td>NB</td><td>8103201</td><td>46.12</td><td>-64.68</td><td>70</td><td>35965</td></tr><tr><th>10</th><td>ROYAL ROAD</td><td>NB</td><td>8104480</td><td>46.05</td><td>-66.72</td><td>115</td><td>33632</td></tr></tbody></table>"
      ],
      "text/latex": [
       "\\begin{tabular}{r|ccccccc}\n",
       "\t& Name & Province & ID & Lat & Lon & Elevation & GridCell\\\\\n",
       "\t\\hline\n",
       "\t& String & String & String & Float64 & Float64 & Int64 & Int64\\\\\n",
       "\t\\hline\n",
       "\t1 & BEECHWOOD & NB & 8100512 & 46.53 & -67.67 & 91 & 32276 \\\\\n",
       "\t2 & BELLEDUNE & NB & 8100514 & 47.9 & -65.83 & 7 & 33455 \\\\\n",
       "\t3 & BOUCTOUCHE CDA CS & NB & 8100593 & 46.43 & -64.77 & 35 & 35580 \\\\\n",
       "\t4 & CHARLO AUTO & NB & 8100885 & 47.98 & -66.33 & 42 & 32873 \\\\\n",
       "\t5 & MIRAMICHI RCS & NB & 8100989 & 47.02 & -65.47 & 33 & 34419 \\\\\n",
       "\t6 & EDMUNDSTON & NB & 8101303 & 47.42 & -68.32 & 154 & 30924 \\\\\n",
       "\t7 & FREDERICTON A & NB & 8101500 & 45.87 & -66.53 & 20 & 34019 \\\\\n",
       "\t8 & FREDERICTON CDA CS & NB & 8101605 & 45.92 & -66.62 & 35 & 33825 \\\\\n",
       "\t9 & MONCTON INTL A & NB & 8103201 & 46.12 & -64.68 & 70 & 35965 \\\\\n",
       "\t10 & ROYAL ROAD & NB & 8104480 & 46.05 & -66.72 & 115 & 33632 \\\\\n",
       "\\end{tabular}\n"
      ],
      "text/plain": [
       "10×7 DataFrame. Omitted printing of 2 columns\n",
       "│ Row │ Name               │ Province │ ID      │ Lat     │ Lon     │\n",
       "│     │ \u001b[90mString\u001b[39m             │ \u001b[90mString\u001b[39m   │ \u001b[90mString\u001b[39m  │ \u001b[90mFloat64\u001b[39m │ \u001b[90mFloat64\u001b[39m │\n",
       "├─────┼────────────────────┼──────────┼─────────┼─────────┼─────────┤\n",
       "│ 1   │ BEECHWOOD          │ NB       │ 8100512 │ 46.53   │ -67.67  │\n",
       "│ 2   │ BELLEDUNE          │ NB       │ 8100514 │ 47.9    │ -65.83  │\n",
       "│ 3   │ BOUCTOUCHE CDA CS  │ NB       │ 8100593 │ 46.43   │ -64.77  │\n",
       "│ 4   │ CHARLO AUTO        │ NB       │ 8100885 │ 47.98   │ -66.33  │\n",
       "│ 5   │ MIRAMICHI RCS      │ NB       │ 8100989 │ 47.02   │ -65.47  │\n",
       "│ 6   │ EDMUNDSTON         │ NB       │ 8101303 │ 47.42   │ -68.32  │\n",
       "│ 7   │ FREDERICTON A      │ NB       │ 8101500 │ 45.87   │ -66.53  │\n",
       "│ 8   │ FREDERICTON CDA CS │ NB       │ 8101605 │ 45.92   │ -66.62  │\n",
       "│ 9   │ MONCTON INTL A     │ NB       │ 8103201 │ 46.12   │ -64.68  │\n",
       "│ 10  │ ROYAL ROAD         │ NB       │ 8104480 │ 46.05   │ -66.72  │"
      ]
     },
     "execution_count": 8,
     "metadata": {},
     "output_type": "execute_result"
    }
   ],
   "source": [
    "stationLocation = collect([station_list[:,:Lat] station_list[:,:Lon]]')\n",
    "gridCoords = collect([griddedCovariate[:,:Lat] griddedCovariate[:,:Lon]]')\n",
    "\n",
    "V = nnsearch(gridCoords,stationLocation)\n",
    "station_list[!,:GridCell] = V\n",
    "first(station_list,10)"
   ]
  },
  {
   "cell_type": "code",
   "execution_count": 9,
   "metadata": {},
   "outputs": [
    {
     "data": {
      "text/plain": [
       "14-element Vector{Int64}:\n",
       " 33632\n",
       " 20197\n",
       " 18645\n",
       " 19620\n",
       " 19619\n",
       " 19813\n",
       " 19814\n",
       " 19621\n",
       " 28003\n",
       " 28002\n",
       " 25464\n",
       " 28572\n",
       " 26047\n",
       " 27434"
      ]
     },
     "execution_count": 9,
     "metadata": {},
     "output_type": "execute_result"
    }
   ],
   "source": [
    "records = Int64[]\n",
    "\n",
    "for v in unique(V)\n",
    "    ids = findall(v .== V)\n",
    "    if length(ids) > 1\n",
    "        push!(records, v)\n",
    "    end\n",
    "end\n",
    "\n",
    "records"
   ]
  },
  {
   "cell_type": "code",
   "execution_count": 27,
   "metadata": {},
   "outputs": [
    {
     "data": {
      "text/html": [
       "<table class=\"data-frame\"><thead><tr><th></th><th>Name</th><th>Province</th><th>ID</th><th>Lat</th><th>Lon</th><th>Elevation</th><th>GridCell</th></tr><tr><th></th><th>String</th><th>String</th><th>String</th><th>Float64</th><th>Float64</th><th>Int64</th><th>Int64</th></tr></thead><tbody><p>10 rows × 7 columns</p><tr><th>1</th><td>ROYAL ROAD</td><td>NB</td><td>8104480</td><td>46.05</td><td>-66.72</td><td>115</td><td>33632</td></tr><tr><th>2</th><td>ROYAL ROAD WEST</td><td>NB</td><td>8104482</td><td>46.08</td><td>-66.73</td><td>160</td><td>33632</td></tr><tr><th>3</th><td>PORT WELLER (AUT)</td><td>ON</td><td>6136699</td><td>43.25</td><td>-79.22</td><td>79</td><td>20197</td></tr><tr><th>4</th><td>ST CATHARINES A</td><td>ON</td><td>6137287</td><td>43.2</td><td>-79.17</td><td>97</td><td>20197</td></tr><tr><th>5</th><td>CAMBRIDGE GALT MOE</td><td>ON</td><td>6141095</td><td>43.33</td><td>-80.32</td><td>268</td><td>18645</td></tr><tr><th>6</th><td>PRESTON WPCP</td><td>ON</td><td>6146714</td><td>43.38</td><td>-80.35</td><td>272</td><td>18645</td></tr><tr><th>7</th><td>WATERLOO WELLINGTON A</td><td>ON</td><td>6149387</td><td>43.45</td><td>-80.38</td><td>317</td><td>18645</td></tr><tr><th>8</th><td>MAPLE</td><td>ON</td><td>6154950</td><td>43.87</td><td>-79.48</td><td>244</td><td>19620</td></tr><tr><th>9</th><td>TORONTO YORK MILLS</td><td>ON</td><td>615HHDF</td><td>43.75</td><td>-79.38</td><td>153</td><td>19620</td></tr><tr><th>10</th><td>TORONTO NORTH YORK</td><td>ON</td><td>615S001</td><td>43.78</td><td>-79.47</td><td>187</td><td>19620</td></tr></tbody></table>"
      ],
      "text/latex": [
       "\\begin{tabular}{r|ccccccc}\n",
       "\t& Name & Province & ID & Lat & Lon & Elevation & GridCell\\\\\n",
       "\t\\hline\n",
       "\t& String & String & String & Float64 & Float64 & Int64 & Int64\\\\\n",
       "\t\\hline\n",
       "\t1 & ROYAL ROAD & NB & 8104480 & 46.05 & -66.72 & 115 & 33632 \\\\\n",
       "\t2 & ROYAL ROAD WEST & NB & 8104482 & 46.08 & -66.73 & 160 & 33632 \\\\\n",
       "\t3 & PORT WELLER (AUT) & ON & 6136699 & 43.25 & -79.22 & 79 & 20197 \\\\\n",
       "\t4 & ST CATHARINES A & ON & 6137287 & 43.2 & -79.17 & 97 & 20197 \\\\\n",
       "\t5 & CAMBRIDGE GALT MOE & ON & 6141095 & 43.33 & -80.32 & 268 & 18645 \\\\\n",
       "\t6 & PRESTON WPCP & ON & 6146714 & 43.38 & -80.35 & 272 & 18645 \\\\\n",
       "\t7 & WATERLOO WELLINGTON A & ON & 6149387 & 43.45 & -80.38 & 317 & 18645 \\\\\n",
       "\t8 & MAPLE & ON & 6154950 & 43.87 & -79.48 & 244 & 19620 \\\\\n",
       "\t9 & TORONTO YORK MILLS & ON & 615HHDF & 43.75 & -79.38 & 153 & 19620 \\\\\n",
       "\t10 & TORONTO NORTH YORK & ON & 615S001 & 43.78 & -79.47 & 187 & 19620 \\\\\n",
       "\\end{tabular}\n"
      ],
      "text/plain": [
       "10×7 DataFrame. Omitted printing of 2 columns\n",
       "│ Row │ Name                  │ Province │ ID      │ Lat     │ Lon     │\n",
       "│     │ \u001b[90mString\u001b[39m                │ \u001b[90mString\u001b[39m   │ \u001b[90mString\u001b[39m  │ \u001b[90mFloat64\u001b[39m │ \u001b[90mFloat64\u001b[39m │\n",
       "├─────┼───────────────────────┼──────────┼─────────┼─────────┼─────────┤\n",
       "│ 1   │ ROYAL ROAD            │ NB       │ 8104480 │ 46.05   │ -66.72  │\n",
       "│ 2   │ ROYAL ROAD WEST       │ NB       │ 8104482 │ 46.08   │ -66.73  │\n",
       "│ 3   │ PORT WELLER (AUT)     │ ON       │ 6136699 │ 43.25   │ -79.22  │\n",
       "│ 4   │ ST CATHARINES A       │ ON       │ 6137287 │ 43.2    │ -79.17  │\n",
       "│ 5   │ CAMBRIDGE GALT MOE    │ ON       │ 6141095 │ 43.33   │ -80.32  │\n",
       "│ 6   │ PRESTON WPCP          │ ON       │ 6146714 │ 43.38   │ -80.35  │\n",
       "│ 7   │ WATERLOO WELLINGTON A │ ON       │ 6149387 │ 43.45   │ -80.38  │\n",
       "│ 8   │ MAPLE                 │ ON       │ 6154950 │ 43.87   │ -79.48  │\n",
       "│ 9   │ TORONTO YORK MILLS    │ ON       │ 615HHDF │ 43.75   │ -79.38  │\n",
       "│ 10  │ TORONTO NORTH YORK    │ ON       │ 615S001 │ 43.78   │ -79.47  │"
      ]
     },
     "execution_count": 27,
     "metadata": {},
     "output_type": "execute_result"
    }
   ],
   "source": [
    "station_near = DataFrame(Name = String[],\n",
    "                        Province = String[],\n",
    "                        ID = String[],\n",
    "                        Lat = Float64[],\n",
    "                        Lon = Float64[],\n",
    "                        Elevation = Int64[],\n",
    "                        GridCell = Int64[])\n",
    "\n",
    "for cell in records\n",
    "    ids = findall(cell .== V)\n",
    "    for i in ids\n",
    "        df = DataFrame(station_list[i,:])\n",
    "        append!(station_near, df)\n",
    "    end\n",
    "end\n",
    "\n",
    "CSV.write(\"results/same_cell.csv\", station_near)\n",
    "first(station_near, 10)"
   ]
  },
  {
   "cell_type": "code",
   "execution_count": 23,
   "metadata": {},
   "outputs": [
    {
     "data": {
      "text/html": [
       "<table class=\"data-frame\"><thead><tr><th></th><th>Name</th><th>Province</th><th>ID</th><th>Lat</th><th>Lon</th><th>Elevation</th><th>GridCell</th></tr><tr><th></th><th>String</th><th>String</th><th>String</th><th>Float64</th><th>Float64</th><th>Int64</th><th>Int64</th></tr></thead><tbody><p>1 rows × 7 columns</p><tr><th>1</th><td>ROYAL ROAD</td><td>NB</td><td>8104480</td><td>46.05</td><td>-66.72</td><td>115</td><td>33632</td></tr></tbody></table>"
      ],
      "text/latex": [
       "\\begin{tabular}{r|ccccccc}\n",
       "\t& Name & Province & ID & Lat & Lon & Elevation & GridCell\\\\\n",
       "\t\\hline\n",
       "\t& String & String & String & Float64 & Float64 & Int64 & Int64\\\\\n",
       "\t\\hline\n",
       "\t1 & ROYAL ROAD & NB & 8104480 & 46.05 & -66.72 & 115 & 33632 \\\\\n",
       "\\end{tabular}\n"
      ],
      "text/plain": [
       "1×7 DataFrame. Omitted printing of 1 columns\n",
       "│ Row │ Name       │ Province │ ID      │ Lat     │ Lon     │ Elevation │\n",
       "│     │ \u001b[90mString\u001b[39m     │ \u001b[90mString\u001b[39m   │ \u001b[90mString\u001b[39m  │ \u001b[90mFloat64\u001b[39m │ \u001b[90mFloat64\u001b[39m │ \u001b[90mInt64\u001b[39m     │\n",
       "├─────┼────────────┼──────────┼─────────┼─────────┼─────────┼───────────┤\n",
       "│ 1   │ ROYAL ROAD │ NB       │ 8104480 │ 46.05   │ -66.72  │ 115       │"
      ]
     },
     "execution_count": 23,
     "metadata": {},
     "output_type": "execute_result"
    }
   ],
   "source": [
    "DataFrame(station_list[10,:])"
   ]
  },
  {
   "cell_type": "code",
   "execution_count": 28,
   "metadata": {},
   "outputs": [
    {
     "data": {
      "text/plain": [
       "336"
      ]
     },
     "execution_count": 28,
     "metadata": {},
     "output_type": "execute_result"
    }
   ],
   "source": [
    "nrow(station_list)"
   ]
  }
 ],
 "metadata": {
  "kernelspec": {
   "display_name": "Julia 1.6.1",
   "language": "julia",
   "name": "julia-1.6"
  },
  "language_info": {
   "file_extension": ".jl",
   "mimetype": "application/julia",
   "name": "julia",
   "version": "1.6.1"
  }
 },
 "nbformat": 4,
 "nbformat_minor": 4
}
